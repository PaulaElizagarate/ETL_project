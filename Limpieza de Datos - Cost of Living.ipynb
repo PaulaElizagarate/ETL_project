{
 "cells": [
  {
   "cell_type": "markdown",
   "id": "91807db7",
   "metadata": {},
   "source": [
    "# Most Polluted Countries - Limpieza de Datos"
   ]
  },
  {
   "cell_type": "markdown",
   "id": "7ab3f51c",
   "metadata": {},
   "source": [
    "### · Antes de empezar... "
   ]
  },
  {
   "cell_type": "markdown",
   "id": "38ccd52a",
   "metadata": {},
   "source": [
    "1. Para gestionar los Dataframes:"
   ]
  },
  {
   "cell_type": "code",
   "execution_count": 2,
   "id": "9aebe025",
   "metadata": {},
   "outputs": [],
   "source": [
    "#Para mi doc de Pipeline:\n",
    "import suport as sp\n",
    "\n",
    "import pandas as pd\n",
    "import numpy as np\n",
    "import matplotlib.pyplot as plt\n",
    "import seaborn as sns\n",
    "import plotly.express as px\n",
    "from collections import Counter\n",
    "from fuzzywuzzy import process, fuzz\n",
    "import pickle"
   ]
  },
  {
   "cell_type": "markdown",
   "id": "7f5250c0",
   "metadata": {},
   "source": [
    "###  · Carga de CSVs"
   ]
  },
  {
   "cell_type": "markdown",
   "id": "06b7b1b4",
   "metadata": {},
   "source": [
    "Empezamos cargando datos CSV procedentes de Kaggle con la información de los países y las ciudades más contaminadas desde 2017 hasta 2021. "
   ]
  },
  {
   "cell_type": "code",
   "execution_count": 43,
   "id": "0069ae03",
   "metadata": {
    "scrolled": true
   },
   "outputs": [
    {
     "data": {
      "text/html": [
       "<div>\n",
       "<style scoped>\n",
       "    .dataframe tbody tr th:only-of-type {\n",
       "        vertical-align: middle;\n",
       "    }\n",
       "\n",
       "    .dataframe tbody tr th {\n",
       "        vertical-align: top;\n",
       "    }\n",
       "\n",
       "    .dataframe thead th {\n",
       "        text-align: right;\n",
       "    }\n",
       "</style>\n",
       "<table border=\"1\" class=\"dataframe\">\n",
       "  <thead>\n",
       "    <tr style=\"text-align: right;\">\n",
       "      <th></th>\n",
       "      <th>Unnamed: 0</th>\n",
       "      <th>countries</th>\n",
       "      <th>cost_living_index</th>\n",
       "    </tr>\n",
       "  </thead>\n",
       "  <tbody>\n",
       "    <tr>\n",
       "      <th>0</th>\n",
       "      <td>0</td>\n",
       "      <td>Bermuda</td>\n",
       "      <td>146.2</td>\n",
       "    </tr>\n",
       "    <tr>\n",
       "      <th>1</th>\n",
       "      <td>1</td>\n",
       "      <td>Switzerland</td>\n",
       "      <td>122.1</td>\n",
       "    </tr>\n",
       "    <tr>\n",
       "      <th>2</th>\n",
       "      <td>2</td>\n",
       "      <td>Iceland</td>\n",
       "      <td>111.7</td>\n",
       "    </tr>\n",
       "    <tr>\n",
       "      <th>3</th>\n",
       "      <td>3</td>\n",
       "      <td>Norway</td>\n",
       "      <td>106.3</td>\n",
       "    </tr>\n",
       "    <tr>\n",
       "      <th>4</th>\n",
       "      <td>4</td>\n",
       "      <td>Bahamas</td>\n",
       "      <td>104.0</td>\n",
       "    </tr>\n",
       "  </tbody>\n",
       "</table>\n",
       "</div>"
      ],
      "text/plain": [
       "   Unnamed: 0    countries  cost_living_index\n",
       "0           0      Bermuda              146.2\n",
       "1           1  Switzerland              122.1\n",
       "2           2      Iceland              111.7\n",
       "3           3       Norway              106.3\n",
       "4           4      Bahamas              104.0"
      ]
     },
     "execution_count": 43,
     "metadata": {},
     "output_type": "execute_result"
    }
   ],
   "source": [
    "cof17= pd.read_csv(\"datos/cof/costliving_2017.csv\")\n",
    "cof17.head(5)"
   ]
  },
  {
   "cell_type": "code",
   "execution_count": 44,
   "id": "cbb9d227",
   "metadata": {
    "scrolled": false
   },
   "outputs": [
    {
     "data": {
      "text/plain": [
       "0        0\n",
       "1        1\n",
       "2        2\n",
       "3        3\n",
       "4        4\n",
       "      ... \n",
       "116    116\n",
       "117    117\n",
       "118    118\n",
       "119    119\n",
       "120    120\n",
       "Name: Unnamed: 0, Length: 121, dtype: int64"
      ]
     },
     "execution_count": 44,
     "metadata": {},
     "output_type": "execute_result"
    }
   ],
   "source": [
    "cof17[\"Unnamed: 0\"]"
   ]
  },
  {
   "cell_type": "code",
   "execution_count": 54,
   "id": "cdba5762",
   "metadata": {},
   "outputs": [],
   "source": [
    "col17= [\"countries\", \"cost_living_index\"]"
   ]
  },
  {
   "cell_type": "code",
   "execution_count": 55,
   "id": "1d2fb338",
   "metadata": {
    "scrolled": false
   },
   "outputs": [
    {
     "data": {
      "text/html": [
       "<div>\n",
       "<style scoped>\n",
       "    .dataframe tbody tr th:only-of-type {\n",
       "        vertical-align: middle;\n",
       "    }\n",
       "\n",
       "    .dataframe tbody tr th {\n",
       "        vertical-align: top;\n",
       "    }\n",
       "\n",
       "    .dataframe thead th {\n",
       "        text-align: right;\n",
       "    }\n",
       "</style>\n",
       "<table border=\"1\" class=\"dataframe\">\n",
       "  <thead>\n",
       "    <tr style=\"text-align: right;\">\n",
       "      <th></th>\n",
       "      <th>countries</th>\n",
       "      <th>cost_living_index</th>\n",
       "    </tr>\n",
       "  </thead>\n",
       "  <tbody>\n",
       "    <tr>\n",
       "      <th>0</th>\n",
       "      <td>bermuda</td>\n",
       "      <td>146.2</td>\n",
       "    </tr>\n",
       "    <tr>\n",
       "      <th>1</th>\n",
       "      <td>switzerland</td>\n",
       "      <td>122.1</td>\n",
       "    </tr>\n",
       "    <tr>\n",
       "      <th>2</th>\n",
       "      <td>iceland</td>\n",
       "      <td>111.7</td>\n",
       "    </tr>\n",
       "    <tr>\n",
       "      <th>3</th>\n",
       "      <td>norway</td>\n",
       "      <td>106.3</td>\n",
       "    </tr>\n",
       "    <tr>\n",
       "      <th>4</th>\n",
       "      <td>bahamas</td>\n",
       "      <td>104.0</td>\n",
       "    </tr>\n",
       "    <tr>\n",
       "      <th>...</th>\n",
       "      <td>...</td>\n",
       "      <td>...</td>\n",
       "    </tr>\n",
       "    <tr>\n",
       "      <th>116</th>\n",
       "      <td>georgia</td>\n",
       "      <td>27.4</td>\n",
       "    </tr>\n",
       "    <tr>\n",
       "      <th>117</th>\n",
       "      <td>pakistan</td>\n",
       "      <td>27.2</td>\n",
       "    </tr>\n",
       "    <tr>\n",
       "      <th>118</th>\n",
       "      <td>ukraine</td>\n",
       "      <td>26.2</td>\n",
       "    </tr>\n",
       "    <tr>\n",
       "      <th>119</th>\n",
       "      <td>india</td>\n",
       "      <td>25.1</td>\n",
       "    </tr>\n",
       "    <tr>\n",
       "      <th>120</th>\n",
       "      <td>egypt</td>\n",
       "      <td>22.4</td>\n",
       "    </tr>\n",
       "  </tbody>\n",
       "</table>\n",
       "<p>121 rows × 2 columns</p>\n",
       "</div>"
      ],
      "text/plain": [
       "       countries  cost_living_index\n",
       "0        bermuda              146.2\n",
       "1    switzerland              122.1\n",
       "2        iceland              111.7\n",
       "3         norway              106.3\n",
       "4        bahamas              104.0\n",
       "..           ...                ...\n",
       "116      georgia               27.4\n",
       "117     pakistan               27.2\n",
       "118      ukraine               26.2\n",
       "119        india               25.1\n",
       "120        egypt               22.4\n",
       "\n",
       "[121 rows x 2 columns]"
      ]
     },
     "execution_count": 55,
     "metadata": {},
     "output_type": "execute_result"
    }
   ],
   "source": [
    "cof17= cof17[col17]\n",
    "cof17"
   ]
  },
  {
   "cell_type": "code",
   "execution_count": 47,
   "id": "0ee42776",
   "metadata": {},
   "outputs": [],
   "source": [
    "def minusculas (x):\n",
    "    x= [i.lower() for i in x]\n",
    "    return(x)"
   ]
  },
  {
   "cell_type": "code",
   "execution_count": 48,
   "id": "74ad067a",
   "metadata": {
    "scrolled": true
   },
   "outputs": [],
   "source": [
    "cof17[\"countries\"]= minusculas(cof17[\"countries\"])"
   ]
  },
  {
   "cell_type": "code",
   "execution_count": 96,
   "id": "2dd762a3",
   "metadata": {},
   "outputs": [],
   "source": [
    "year=[\"2017\"]\n",
    "\n",
    "year17= year*len(cof17[\"countries\"])"
   ]
  },
  {
   "cell_type": "code",
   "execution_count": 100,
   "id": "a3d79442",
   "metadata": {},
   "outputs": [],
   "source": [
    "cof17[\"year\"]= year17\n",
    "\n",
    "cof17[\"year\"]= pd.to_numeric(cof17[\"year\"])"
   ]
  },
  {
   "cell_type": "code",
   "execution_count": 102,
   "id": "dfe1fc0f",
   "metadata": {
    "scrolled": true
   },
   "outputs": [
    {
     "data": {
      "text/html": [
       "<div>\n",
       "<style scoped>\n",
       "    .dataframe tbody tr th:only-of-type {\n",
       "        vertical-align: middle;\n",
       "    }\n",
       "\n",
       "    .dataframe tbody tr th {\n",
       "        vertical-align: top;\n",
       "    }\n",
       "\n",
       "    .dataframe thead th {\n",
       "        text-align: right;\n",
       "    }\n",
       "</style>\n",
       "<table border=\"1\" class=\"dataframe\">\n",
       "  <thead>\n",
       "    <tr style=\"text-align: right;\">\n",
       "      <th></th>\n",
       "      <th>countries</th>\n",
       "      <th>cost_living_index</th>\n",
       "      <th>year</th>\n",
       "    </tr>\n",
       "  </thead>\n",
       "  <tbody>\n",
       "    <tr>\n",
       "      <th>0</th>\n",
       "      <td>bermuda</td>\n",
       "      <td>146.2</td>\n",
       "      <td>2017</td>\n",
       "    </tr>\n",
       "    <tr>\n",
       "      <th>1</th>\n",
       "      <td>switzerland</td>\n",
       "      <td>122.1</td>\n",
       "      <td>2017</td>\n",
       "    </tr>\n",
       "    <tr>\n",
       "      <th>2</th>\n",
       "      <td>iceland</td>\n",
       "      <td>111.7</td>\n",
       "      <td>2017</td>\n",
       "    </tr>\n",
       "    <tr>\n",
       "      <th>3</th>\n",
       "      <td>norway</td>\n",
       "      <td>106.3</td>\n",
       "      <td>2017</td>\n",
       "    </tr>\n",
       "    <tr>\n",
       "      <th>4</th>\n",
       "      <td>bahamas</td>\n",
       "      <td>104.0</td>\n",
       "      <td>2017</td>\n",
       "    </tr>\n",
       "    <tr>\n",
       "      <th>...</th>\n",
       "      <td>...</td>\n",
       "      <td>...</td>\n",
       "      <td>...</td>\n",
       "    </tr>\n",
       "    <tr>\n",
       "      <th>116</th>\n",
       "      <td>georgia</td>\n",
       "      <td>27.4</td>\n",
       "      <td>2017</td>\n",
       "    </tr>\n",
       "    <tr>\n",
       "      <th>117</th>\n",
       "      <td>pakistan</td>\n",
       "      <td>27.2</td>\n",
       "      <td>2017</td>\n",
       "    </tr>\n",
       "    <tr>\n",
       "      <th>118</th>\n",
       "      <td>ukraine</td>\n",
       "      <td>26.2</td>\n",
       "      <td>2017</td>\n",
       "    </tr>\n",
       "    <tr>\n",
       "      <th>119</th>\n",
       "      <td>india</td>\n",
       "      <td>25.1</td>\n",
       "      <td>2017</td>\n",
       "    </tr>\n",
       "    <tr>\n",
       "      <th>120</th>\n",
       "      <td>egypt</td>\n",
       "      <td>22.4</td>\n",
       "      <td>2017</td>\n",
       "    </tr>\n",
       "  </tbody>\n",
       "</table>\n",
       "<p>121 rows × 3 columns</p>\n",
       "</div>"
      ],
      "text/plain": [
       "       countries  cost_living_index  year\n",
       "0        bermuda              146.2  2017\n",
       "1    switzerland              122.1  2017\n",
       "2        iceland              111.7  2017\n",
       "3         norway              106.3  2017\n",
       "4        bahamas              104.0  2017\n",
       "..           ...                ...   ...\n",
       "116      georgia               27.4  2017\n",
       "117     pakistan               27.2  2017\n",
       "118      ukraine               26.2  2017\n",
       "119        india               25.1  2017\n",
       "120        egypt               22.4  2017\n",
       "\n",
       "[121 rows x 3 columns]"
      ]
     },
     "execution_count": 102,
     "metadata": {},
     "output_type": "execute_result"
    }
   ],
   "source": [
    "#control de información\n",
    "#cof17.info()\n",
    "#cof17"
   ]
  },
  {
   "cell_type": "markdown",
   "id": "17e8c4b2",
   "metadata": {},
   "source": [
    "Una vez limpio nuestro DataFrame de coste de vida referente al año 2017, procedemos a limpiar el resto de años:"
   ]
  },
  {
   "cell_type": "markdown",
   "id": "464a4d3c",
   "metadata": {},
   "source": [
    "#### 2018 "
   ]
  },
  {
   "cell_type": "code",
   "execution_count": 103,
   "id": "c45c2ef1",
   "metadata": {
    "scrolled": true
   },
   "outputs": [
    {
     "data": {
      "text/html": [
       "<div>\n",
       "<style scoped>\n",
       "    .dataframe tbody tr th:only-of-type {\n",
       "        vertical-align: middle;\n",
       "    }\n",
       "\n",
       "    .dataframe tbody tr th {\n",
       "        vertical-align: top;\n",
       "    }\n",
       "\n",
       "    .dataframe thead th {\n",
       "        text-align: right;\n",
       "    }\n",
       "</style>\n",
       "<table border=\"1\" class=\"dataframe\">\n",
       "  <thead>\n",
       "    <tr style=\"text-align: right;\">\n",
       "      <th></th>\n",
       "      <th>Unnamed: 0</th>\n",
       "      <th>countries</th>\n",
       "      <th>cost_living_index</th>\n",
       "    </tr>\n",
       "  </thead>\n",
       "  <tbody>\n",
       "    <tr>\n",
       "      <th>0</th>\n",
       "      <td>0</td>\n",
       "      <td>Bermuda</td>\n",
       "      <td>144.9</td>\n",
       "    </tr>\n",
       "    <tr>\n",
       "      <th>1</th>\n",
       "      <td>1</td>\n",
       "      <td>Switzerland</td>\n",
       "      <td>131.4</td>\n",
       "    </tr>\n",
       "    <tr>\n",
       "      <th>2</th>\n",
       "      <td>2</td>\n",
       "      <td>Iceland</td>\n",
       "      <td>124.0</td>\n",
       "    </tr>\n",
       "    <tr>\n",
       "      <th>3</th>\n",
       "      <td>3</td>\n",
       "      <td>Norway</td>\n",
       "      <td>113.7</td>\n",
       "    </tr>\n",
       "    <tr>\n",
       "      <th>4</th>\n",
       "      <td>4</td>\n",
       "      <td>Bahamas</td>\n",
       "      <td>100.7</td>\n",
       "    </tr>\n",
       "  </tbody>\n",
       "</table>\n",
       "</div>"
      ],
      "text/plain": [
       "   Unnamed: 0    countries  cost_living_index\n",
       "0           0      Bermuda              144.9\n",
       "1           1  Switzerland              131.4\n",
       "2           2      Iceland              124.0\n",
       "3           3       Norway              113.7\n",
       "4           4      Bahamas              100.7"
      ]
     },
     "execution_count": 103,
     "metadata": {},
     "output_type": "execute_result"
    }
   ],
   "source": [
    "cof18= pd.read_csv(\"datos/cof/costliving_2018.csv\")\n",
    "cof18.head(5)"
   ]
  },
  {
   "cell_type": "code",
   "execution_count": 104,
   "id": "17b34f82",
   "metadata": {},
   "outputs": [],
   "source": [
    "col18= [\"countries\", \"cost_living_index\"]\n",
    "cof18= cof18[col18]"
   ]
  },
  {
   "cell_type": "code",
   "execution_count": 105,
   "id": "b52c26ec",
   "metadata": {},
   "outputs": [],
   "source": [
    "cof18[\"countries\"]= minusculas(cof18[\"countries\"])"
   ]
  },
  {
   "cell_type": "code",
   "execution_count": 106,
   "id": "b18215b0",
   "metadata": {},
   "outputs": [],
   "source": [
    "year=[\"2018\"]\n",
    "\n",
    "year18= year*len(cof18[\"countries\"])"
   ]
  },
  {
   "cell_type": "code",
   "execution_count": 107,
   "id": "213f44e2",
   "metadata": {},
   "outputs": [],
   "source": [
    "cof18[\"year\"]= year18\n",
    "\n",
    "cof18[\"year\"]= pd.to_numeric(cof18[\"year\"])"
   ]
  },
  {
   "cell_type": "code",
   "execution_count": 110,
   "id": "6303b67b",
   "metadata": {
    "scrolled": false
   },
   "outputs": [
    {
     "name": "stdout",
     "output_type": "stream",
     "text": [
      "<class 'pandas.core.frame.DataFrame'>\n",
      "RangeIndex: 115 entries, 0 to 114\n",
      "Data columns (total 3 columns):\n",
      " #   Column             Non-Null Count  Dtype  \n",
      "---  ------             --------------  -----  \n",
      " 0   countries          115 non-null    object \n",
      " 1   cost_living_index  115 non-null    float64\n",
      " 2   year               115 non-null    int64  \n",
      "dtypes: float64(1), int64(1), object(1)\n",
      "memory usage: 2.8+ KB\n"
     ]
    },
    {
     "data": {
      "text/html": [
       "<div>\n",
       "<style scoped>\n",
       "    .dataframe tbody tr th:only-of-type {\n",
       "        vertical-align: middle;\n",
       "    }\n",
       "\n",
       "    .dataframe tbody tr th {\n",
       "        vertical-align: top;\n",
       "    }\n",
       "\n",
       "    .dataframe thead th {\n",
       "        text-align: right;\n",
       "    }\n",
       "</style>\n",
       "<table border=\"1\" class=\"dataframe\">\n",
       "  <thead>\n",
       "    <tr style=\"text-align: right;\">\n",
       "      <th></th>\n",
       "      <th>countries</th>\n",
       "      <th>cost_living_index</th>\n",
       "      <th>year</th>\n",
       "    </tr>\n",
       "  </thead>\n",
       "  <tbody>\n",
       "    <tr>\n",
       "      <th>0</th>\n",
       "      <td>bermuda</td>\n",
       "      <td>144.9</td>\n",
       "      <td>2018</td>\n",
       "    </tr>\n",
       "    <tr>\n",
       "      <th>1</th>\n",
       "      <td>switzerland</td>\n",
       "      <td>131.4</td>\n",
       "      <td>2018</td>\n",
       "    </tr>\n",
       "    <tr>\n",
       "      <th>2</th>\n",
       "      <td>iceland</td>\n",
       "      <td>124.0</td>\n",
       "      <td>2018</td>\n",
       "    </tr>\n",
       "    <tr>\n",
       "      <th>3</th>\n",
       "      <td>norway</td>\n",
       "      <td>113.7</td>\n",
       "      <td>2018</td>\n",
       "    </tr>\n",
       "    <tr>\n",
       "      <th>4</th>\n",
       "      <td>bahamas</td>\n",
       "      <td>100.7</td>\n",
       "      <td>2018</td>\n",
       "    </tr>\n",
       "  </tbody>\n",
       "</table>\n",
       "</div>"
      ],
      "text/plain": [
       "     countries  cost_living_index  year\n",
       "0      bermuda              144.9  2018\n",
       "1  switzerland              131.4  2018\n",
       "2      iceland              124.0  2018\n",
       "3       norway              113.7  2018\n",
       "4      bahamas              100.7  2018"
      ]
     },
     "execution_count": 110,
     "metadata": {},
     "output_type": "execute_result"
    }
   ],
   "source": [
    "#Control de información\n",
    "#cof18.info()\n",
    "#cof18.head(5)"
   ]
  },
  {
   "cell_type": "markdown",
   "id": "ccd3426b",
   "metadata": {},
   "source": [
    "#### 2019 "
   ]
  },
  {
   "cell_type": "code",
   "execution_count": 111,
   "id": "5c7b09bc",
   "metadata": {},
   "outputs": [
    {
     "data": {
      "text/html": [
       "<div>\n",
       "<style scoped>\n",
       "    .dataframe tbody tr th:only-of-type {\n",
       "        vertical-align: middle;\n",
       "    }\n",
       "\n",
       "    .dataframe tbody tr th {\n",
       "        vertical-align: top;\n",
       "    }\n",
       "\n",
       "    .dataframe thead th {\n",
       "        text-align: right;\n",
       "    }\n",
       "</style>\n",
       "<table border=\"1\" class=\"dataframe\">\n",
       "  <thead>\n",
       "    <tr style=\"text-align: right;\">\n",
       "      <th></th>\n",
       "      <th>Unnamed: 0</th>\n",
       "      <th>countries</th>\n",
       "      <th>cost_living_index</th>\n",
       "    </tr>\n",
       "  </thead>\n",
       "  <tbody>\n",
       "    <tr>\n",
       "      <th>0</th>\n",
       "      <td>0</td>\n",
       "      <td>Switzerland</td>\n",
       "      <td>121.2</td>\n",
       "    </tr>\n",
       "    <tr>\n",
       "      <th>1</th>\n",
       "      <td>1</td>\n",
       "      <td>Iceland</td>\n",
       "      <td>101.9</td>\n",
       "    </tr>\n",
       "    <tr>\n",
       "      <th>2</th>\n",
       "      <td>2</td>\n",
       "      <td>Norway</td>\n",
       "      <td>101.0</td>\n",
       "    </tr>\n",
       "    <tr>\n",
       "      <th>3</th>\n",
       "      <td>3</td>\n",
       "      <td>Bahamas</td>\n",
       "      <td>92.4</td>\n",
       "    </tr>\n",
       "    <tr>\n",
       "      <th>4</th>\n",
       "      <td>4</td>\n",
       "      <td>Luxembourg</td>\n",
       "      <td>86.1</td>\n",
       "    </tr>\n",
       "  </tbody>\n",
       "</table>\n",
       "</div>"
      ],
      "text/plain": [
       "   Unnamed: 0    countries  cost_living_index\n",
       "0           0  Switzerland              121.2\n",
       "1           1      Iceland              101.9\n",
       "2           2       Norway              101.0\n",
       "3           3      Bahamas               92.4\n",
       "4           4   Luxembourg               86.1"
      ]
     },
     "execution_count": 111,
     "metadata": {},
     "output_type": "execute_result"
    }
   ],
   "source": [
    "cof19= pd.read_csv(\"datos/cof/costliving_2019.csv\")\n",
    "cof19.head(5)"
   ]
  },
  {
   "cell_type": "code",
   "execution_count": 112,
   "id": "6f15e295",
   "metadata": {},
   "outputs": [],
   "source": [
    "col19= [\"countries\", \"cost_living_index\"]\n",
    "cof19= cof19[col19]"
   ]
  },
  {
   "cell_type": "code",
   "execution_count": 113,
   "id": "4b44edbc",
   "metadata": {},
   "outputs": [],
   "source": [
    "cof19[\"countries\"]= minusculas(cof19[\"countries\"])"
   ]
  },
  {
   "cell_type": "code",
   "execution_count": 114,
   "id": "24017d6c",
   "metadata": {},
   "outputs": [],
   "source": [
    "year=[\"2019\"]\n",
    "\n",
    "year19= year*len(cof19[\"countries\"])"
   ]
  },
  {
   "cell_type": "code",
   "execution_count": 115,
   "id": "b304f243",
   "metadata": {},
   "outputs": [],
   "source": [
    "cof19[\"year\"]= year19\n",
    "\n",
    "cof19[\"year\"]= pd.to_numeric(cof19[\"year\"])"
   ]
  },
  {
   "cell_type": "code",
   "execution_count": 116,
   "id": "6734d0d3",
   "metadata": {},
   "outputs": [
    {
     "name": "stdout",
     "output_type": "stream",
     "text": [
      "<class 'pandas.core.frame.DataFrame'>\n",
      "RangeIndex: 119 entries, 0 to 118\n",
      "Data columns (total 3 columns):\n",
      " #   Column             Non-Null Count  Dtype  \n",
      "---  ------             --------------  -----  \n",
      " 0   countries          119 non-null    object \n",
      " 1   cost_living_index  119 non-null    float64\n",
      " 2   year               119 non-null    int64  \n",
      "dtypes: float64(1), int64(1), object(1)\n",
      "memory usage: 2.9+ KB\n"
     ]
    },
    {
     "data": {
      "text/html": [
       "<div>\n",
       "<style scoped>\n",
       "    .dataframe tbody tr th:only-of-type {\n",
       "        vertical-align: middle;\n",
       "    }\n",
       "\n",
       "    .dataframe tbody tr th {\n",
       "        vertical-align: top;\n",
       "    }\n",
       "\n",
       "    .dataframe thead th {\n",
       "        text-align: right;\n",
       "    }\n",
       "</style>\n",
       "<table border=\"1\" class=\"dataframe\">\n",
       "  <thead>\n",
       "    <tr style=\"text-align: right;\">\n",
       "      <th></th>\n",
       "      <th>countries</th>\n",
       "      <th>cost_living_index</th>\n",
       "      <th>year</th>\n",
       "    </tr>\n",
       "  </thead>\n",
       "  <tbody>\n",
       "    <tr>\n",
       "      <th>0</th>\n",
       "      <td>switzerland</td>\n",
       "      <td>121.2</td>\n",
       "      <td>2019</td>\n",
       "    </tr>\n",
       "    <tr>\n",
       "      <th>1</th>\n",
       "      <td>iceland</td>\n",
       "      <td>101.9</td>\n",
       "      <td>2019</td>\n",
       "    </tr>\n",
       "    <tr>\n",
       "      <th>2</th>\n",
       "      <td>norway</td>\n",
       "      <td>101.0</td>\n",
       "      <td>2019</td>\n",
       "    </tr>\n",
       "    <tr>\n",
       "      <th>3</th>\n",
       "      <td>bahamas</td>\n",
       "      <td>92.4</td>\n",
       "      <td>2019</td>\n",
       "    </tr>\n",
       "    <tr>\n",
       "      <th>4</th>\n",
       "      <td>luxembourg</td>\n",
       "      <td>86.1</td>\n",
       "      <td>2019</td>\n",
       "    </tr>\n",
       "  </tbody>\n",
       "</table>\n",
       "</div>"
      ],
      "text/plain": [
       "     countries  cost_living_index  year\n",
       "0  switzerland              121.2  2019\n",
       "1      iceland              101.9  2019\n",
       "2       norway              101.0  2019\n",
       "3      bahamas               92.4  2019\n",
       "4   luxembourg               86.1  2019"
      ]
     },
     "execution_count": 116,
     "metadata": {},
     "output_type": "execute_result"
    }
   ],
   "source": [
    "#Control de información\n",
    "cof19.info()\n",
    "cof19.head(5)"
   ]
  },
  {
   "cell_type": "markdown",
   "id": "478e095d",
   "metadata": {},
   "source": [
    "#### 2020"
   ]
  },
  {
   "cell_type": "code",
   "execution_count": 117,
   "id": "4024e4ba",
   "metadata": {},
   "outputs": [
    {
     "data": {
      "text/html": [
       "<div>\n",
       "<style scoped>\n",
       "    .dataframe tbody tr th:only-of-type {\n",
       "        vertical-align: middle;\n",
       "    }\n",
       "\n",
       "    .dataframe tbody tr th {\n",
       "        vertical-align: top;\n",
       "    }\n",
       "\n",
       "    .dataframe thead th {\n",
       "        text-align: right;\n",
       "    }\n",
       "</style>\n",
       "<table border=\"1\" class=\"dataframe\">\n",
       "  <thead>\n",
       "    <tr style=\"text-align: right;\">\n",
       "      <th></th>\n",
       "      <th>Unnamed: 0</th>\n",
       "      <th>countries</th>\n",
       "      <th>cost_living_index</th>\n",
       "    </tr>\n",
       "  </thead>\n",
       "  <tbody>\n",
       "    <tr>\n",
       "      <th>0</th>\n",
       "      <td>0</td>\n",
       "      <td>Switzerland</td>\n",
       "      <td>121.2</td>\n",
       "    </tr>\n",
       "    <tr>\n",
       "      <th>1</th>\n",
       "      <td>1</td>\n",
       "      <td>Iceland</td>\n",
       "      <td>101.9</td>\n",
       "    </tr>\n",
       "    <tr>\n",
       "      <th>2</th>\n",
       "      <td>2</td>\n",
       "      <td>Norway</td>\n",
       "      <td>101.0</td>\n",
       "    </tr>\n",
       "    <tr>\n",
       "      <th>3</th>\n",
       "      <td>3</td>\n",
       "      <td>Bahamas</td>\n",
       "      <td>92.4</td>\n",
       "    </tr>\n",
       "    <tr>\n",
       "      <th>4</th>\n",
       "      <td>4</td>\n",
       "      <td>Luxembourg</td>\n",
       "      <td>86.1</td>\n",
       "    </tr>\n",
       "  </tbody>\n",
       "</table>\n",
       "</div>"
      ],
      "text/plain": [
       "   Unnamed: 0    countries  cost_living_index\n",
       "0           0  Switzerland              121.2\n",
       "1           1      Iceland              101.9\n",
       "2           2       Norway              101.0\n",
       "3           3      Bahamas               92.4\n",
       "4           4   Luxembourg               86.1"
      ]
     },
     "execution_count": 117,
     "metadata": {},
     "output_type": "execute_result"
    }
   ],
   "source": [
    "cof20= pd.read_csv(\"datos/cof/costliving_2019.csv\")\n",
    "cof20.head(5)"
   ]
  },
  {
   "cell_type": "code",
   "execution_count": 118,
   "id": "05e28c37",
   "metadata": {},
   "outputs": [],
   "source": [
    "col20= [\"countries\", \"cost_living_index\"]\n",
    "cof20= cof20[col20]"
   ]
  },
  {
   "cell_type": "code",
   "execution_count": 119,
   "id": "4fad2b70",
   "metadata": {},
   "outputs": [],
   "source": [
    "cof20[\"countries\"]= minusculas(cof20[\"countries\"])"
   ]
  },
  {
   "cell_type": "code",
   "execution_count": 120,
   "id": "e102b2cf",
   "metadata": {},
   "outputs": [],
   "source": [
    "year=[\"2020\"]\n",
    "\n",
    "year20= year*len(cof20[\"countries\"])"
   ]
  },
  {
   "cell_type": "code",
   "execution_count": 124,
   "id": "3a31bc99",
   "metadata": {},
   "outputs": [],
   "source": [
    "cof20[\"year\"]= year20\n",
    "\n",
    "cof20[\"year\"]= pd.to_numeric(cof20[\"year\"])"
   ]
  },
  {
   "cell_type": "code",
   "execution_count": 125,
   "id": "78b7539c",
   "metadata": {},
   "outputs": [
    {
     "name": "stdout",
     "output_type": "stream",
     "text": [
      "<class 'pandas.core.frame.DataFrame'>\n",
      "RangeIndex: 119 entries, 0 to 118\n",
      "Data columns (total 3 columns):\n",
      " #   Column             Non-Null Count  Dtype  \n",
      "---  ------             --------------  -----  \n",
      " 0   countries          119 non-null    object \n",
      " 1   cost_living_index  119 non-null    float64\n",
      " 2   year               119 non-null    int64  \n",
      "dtypes: float64(1), int64(1), object(1)\n",
      "memory usage: 2.9+ KB\n"
     ]
    },
    {
     "data": {
      "text/html": [
       "<div>\n",
       "<style scoped>\n",
       "    .dataframe tbody tr th:only-of-type {\n",
       "        vertical-align: middle;\n",
       "    }\n",
       "\n",
       "    .dataframe tbody tr th {\n",
       "        vertical-align: top;\n",
       "    }\n",
       "\n",
       "    .dataframe thead th {\n",
       "        text-align: right;\n",
       "    }\n",
       "</style>\n",
       "<table border=\"1\" class=\"dataframe\">\n",
       "  <thead>\n",
       "    <tr style=\"text-align: right;\">\n",
       "      <th></th>\n",
       "      <th>countries</th>\n",
       "      <th>cost_living_index</th>\n",
       "      <th>year</th>\n",
       "    </tr>\n",
       "  </thead>\n",
       "  <tbody>\n",
       "    <tr>\n",
       "      <th>0</th>\n",
       "      <td>switzerland</td>\n",
       "      <td>121.2</td>\n",
       "      <td>2020</td>\n",
       "    </tr>\n",
       "    <tr>\n",
       "      <th>1</th>\n",
       "      <td>iceland</td>\n",
       "      <td>101.9</td>\n",
       "      <td>2020</td>\n",
       "    </tr>\n",
       "    <tr>\n",
       "      <th>2</th>\n",
       "      <td>norway</td>\n",
       "      <td>101.0</td>\n",
       "      <td>2020</td>\n",
       "    </tr>\n",
       "    <tr>\n",
       "      <th>3</th>\n",
       "      <td>bahamas</td>\n",
       "      <td>92.4</td>\n",
       "      <td>2020</td>\n",
       "    </tr>\n",
       "    <tr>\n",
       "      <th>4</th>\n",
       "      <td>luxembourg</td>\n",
       "      <td>86.1</td>\n",
       "      <td>2020</td>\n",
       "    </tr>\n",
       "  </tbody>\n",
       "</table>\n",
       "</div>"
      ],
      "text/plain": [
       "     countries  cost_living_index  year\n",
       "0  switzerland              121.2  2020\n",
       "1      iceland              101.9  2020\n",
       "2       norway              101.0  2020\n",
       "3      bahamas               92.4  2020\n",
       "4   luxembourg               86.1  2020"
      ]
     },
     "execution_count": 125,
     "metadata": {},
     "output_type": "execute_result"
    }
   ],
   "source": [
    "#Control de información\n",
    "cof20.info()\n",
    "cof20.head(5)"
   ]
  },
  {
   "cell_type": "markdown",
   "id": "4f6c2407",
   "metadata": {},
   "source": [
    "#### 2021 "
   ]
  },
  {
   "cell_type": "code",
   "execution_count": 123,
   "id": "712649f4",
   "metadata": {},
   "outputs": [
    {
     "data": {
      "text/html": [
       "<div>\n",
       "<style scoped>\n",
       "    .dataframe tbody tr th:only-of-type {\n",
       "        vertical-align: middle;\n",
       "    }\n",
       "\n",
       "    .dataframe tbody tr th {\n",
       "        vertical-align: top;\n",
       "    }\n",
       "\n",
       "    .dataframe thead th {\n",
       "        text-align: right;\n",
       "    }\n",
       "</style>\n",
       "<table border=\"1\" class=\"dataframe\">\n",
       "  <thead>\n",
       "    <tr style=\"text-align: right;\">\n",
       "      <th></th>\n",
       "      <th>Unnamed: 0</th>\n",
       "      <th>countries</th>\n",
       "      <th>cost_living_index</th>\n",
       "    </tr>\n",
       "  </thead>\n",
       "  <tbody>\n",
       "    <tr>\n",
       "      <th>0</th>\n",
       "      <td>0</td>\n",
       "      <td>Bermuda</td>\n",
       "      <td>145.1</td>\n",
       "    </tr>\n",
       "    <tr>\n",
       "      <th>1</th>\n",
       "      <td>1</td>\n",
       "      <td>Switzerland</td>\n",
       "      <td>131.7</td>\n",
       "    </tr>\n",
       "    <tr>\n",
       "      <th>2</th>\n",
       "      <td>2</td>\n",
       "      <td>Norway</td>\n",
       "      <td>106.1</td>\n",
       "    </tr>\n",
       "    <tr>\n",
       "      <th>3</th>\n",
       "      <td>3</td>\n",
       "      <td>Iceland</td>\n",
       "      <td>96.8</td>\n",
       "    </tr>\n",
       "    <tr>\n",
       "      <th>4</th>\n",
       "      <td>4</td>\n",
       "      <td>Denmark</td>\n",
       "      <td>91.7</td>\n",
       "    </tr>\n",
       "  </tbody>\n",
       "</table>\n",
       "</div>"
      ],
      "text/plain": [
       "   Unnamed: 0    countries  cost_living_index\n",
       "0           0      Bermuda              145.1\n",
       "1           1  Switzerland              131.7\n",
       "2           2       Norway              106.1\n",
       "3           3      Iceland               96.8\n",
       "4           4      Denmark               91.7"
      ]
     },
     "execution_count": 123,
     "metadata": {},
     "output_type": "execute_result"
    }
   ],
   "source": [
    "cof21= pd.read_csv(\"datos/cof/costliving_2021.csv\")\n",
    "cof21.head(5)"
   ]
  },
  {
   "cell_type": "code",
   "execution_count": 126,
   "id": "7932d6a5",
   "metadata": {},
   "outputs": [],
   "source": [
    "col21= [\"countries\", \"cost_living_index\"]\n",
    "cof21= cof21[col21]"
   ]
  },
  {
   "cell_type": "code",
   "execution_count": 127,
   "id": "937b9b10",
   "metadata": {},
   "outputs": [],
   "source": [
    "cof21[\"countries\"]= minusculas(cof21[\"countries\"])"
   ]
  },
  {
   "cell_type": "code",
   "execution_count": 128,
   "id": "73b8b3fc",
   "metadata": {},
   "outputs": [],
   "source": [
    "year=[\"2021\"]\n",
    "\n",
    "year21= year*len(cof21[\"countries\"])"
   ]
  },
  {
   "cell_type": "code",
   "execution_count": 129,
   "id": "de63aad4",
   "metadata": {},
   "outputs": [],
   "source": [
    "cof21[\"year\"]= year21\n",
    "\n",
    "cof21[\"year\"]= pd.to_numeric(cof21[\"year\"])"
   ]
  },
  {
   "cell_type": "code",
   "execution_count": 130,
   "id": "fb3678c8",
   "metadata": {},
   "outputs": [
    {
     "name": "stdout",
     "output_type": "stream",
     "text": [
      "<class 'pandas.core.frame.DataFrame'>\n",
      "RangeIndex: 138 entries, 0 to 137\n",
      "Data columns (total 3 columns):\n",
      " #   Column             Non-Null Count  Dtype  \n",
      "---  ------             --------------  -----  \n",
      " 0   countries          138 non-null    object \n",
      " 1   cost_living_index  138 non-null    float64\n",
      " 2   year               138 non-null    int64  \n",
      "dtypes: float64(1), int64(1), object(1)\n",
      "memory usage: 3.4+ KB\n"
     ]
    },
    {
     "data": {
      "text/html": [
       "<div>\n",
       "<style scoped>\n",
       "    .dataframe tbody tr th:only-of-type {\n",
       "        vertical-align: middle;\n",
       "    }\n",
       "\n",
       "    .dataframe tbody tr th {\n",
       "        vertical-align: top;\n",
       "    }\n",
       "\n",
       "    .dataframe thead th {\n",
       "        text-align: right;\n",
       "    }\n",
       "</style>\n",
       "<table border=\"1\" class=\"dataframe\">\n",
       "  <thead>\n",
       "    <tr style=\"text-align: right;\">\n",
       "      <th></th>\n",
       "      <th>countries</th>\n",
       "      <th>cost_living_index</th>\n",
       "      <th>year</th>\n",
       "    </tr>\n",
       "  </thead>\n",
       "  <tbody>\n",
       "    <tr>\n",
       "      <th>0</th>\n",
       "      <td>bermuda</td>\n",
       "      <td>145.1</td>\n",
       "      <td>2021</td>\n",
       "    </tr>\n",
       "    <tr>\n",
       "      <th>1</th>\n",
       "      <td>switzerland</td>\n",
       "      <td>131.7</td>\n",
       "      <td>2021</td>\n",
       "    </tr>\n",
       "    <tr>\n",
       "      <th>2</th>\n",
       "      <td>norway</td>\n",
       "      <td>106.1</td>\n",
       "      <td>2021</td>\n",
       "    </tr>\n",
       "    <tr>\n",
       "      <th>3</th>\n",
       "      <td>iceland</td>\n",
       "      <td>96.8</td>\n",
       "      <td>2021</td>\n",
       "    </tr>\n",
       "    <tr>\n",
       "      <th>4</th>\n",
       "      <td>denmark</td>\n",
       "      <td>91.7</td>\n",
       "      <td>2021</td>\n",
       "    </tr>\n",
       "  </tbody>\n",
       "</table>\n",
       "</div>"
      ],
      "text/plain": [
       "     countries  cost_living_index  year\n",
       "0      bermuda              145.1  2021\n",
       "1  switzerland              131.7  2021\n",
       "2       norway              106.1  2021\n",
       "3      iceland               96.8  2021\n",
       "4      denmark               91.7  2021"
      ]
     },
     "execution_count": 130,
     "metadata": {},
     "output_type": "execute_result"
    }
   ],
   "source": [
    "#Control de información\n",
    "cof21.info()\n",
    "cof21.head(5)"
   ]
  },
  {
   "cell_type": "code",
   "execution_count": 131,
   "id": "e1e0f4d0",
   "metadata": {},
   "outputs": [],
   "source": [
    "costevida_total= pd.concat([cof17, cof18, cof19, cof20, cof21], axis=0, ignore_index = True)"
   ]
  },
  {
   "cell_type": "code",
   "execution_count": 132,
   "id": "55eca835",
   "metadata": {},
   "outputs": [],
   "source": [
    "costevida_total.to_csv('coste_vida_total.csv')"
   ]
  }
 ],
 "metadata": {
  "kernelspec": {
   "display_name": "Bootcamp",
   "language": "python",
   "name": "bootcamp"
  },
  "language_info": {
   "codemirror_mode": {
    "name": "ipython",
    "version": 3
   },
   "file_extension": ".py",
   "mimetype": "text/x-python",
   "name": "python",
   "nbconvert_exporter": "python",
   "pygments_lexer": "ipython3",
   "version": "3.9.13"
  }
 },
 "nbformat": 4,
 "nbformat_minor": 5
}
