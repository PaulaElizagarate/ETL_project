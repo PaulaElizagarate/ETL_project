{
 "cells": [
  {
   "cell_type": "markdown",
   "id": "91807db7",
   "metadata": {},
   "source": [
    "# Most Polluted Countries - Limpieza de Datos"
   ]
  },
  {
   "cell_type": "markdown",
   "id": "7ab3f51c",
   "metadata": {},
   "source": [
    "### · Antes de empezar... "
   ]
  },
  {
   "cell_type": "markdown",
   "id": "38ccd52a",
   "metadata": {},
   "source": [
    "1. Para gestionar los Dataframes:"
   ]
  },
  {
   "cell_type": "code",
   "execution_count": 2,
   "id": "bcf73093",
   "metadata": {},
   "outputs": [
    {
     "name": "stderr",
     "output_type": "stream",
     "text": [
      "/Users/paulaelizagarate/opt/anaconda3/envs/Bootcamp/lib/python3.9/site-packages/fuzzywuzzy/fuzz.py:11: UserWarning: Using slow pure-python SequenceMatcher. Install python-Levenshtein to remove this warning\n",
      "  warnings.warn('Using slow pure-python SequenceMatcher. Install python-Levenshtein to remove this warning')\n"
     ]
    }
   ],
   "source": [
    "import pandas as pd\n",
    "import numpy as np\n",
    "import matplotlib.pyplot as plt\n",
    "import seaborn as sns\n",
    "import plotly.express as px\n",
    "from collections import Counter\n",
    "from fuzzywuzzy import process, fuzz\n",
    "import pickle"
   ]
  },
  {
   "cell_type": "code",
   "execution_count": 3,
   "id": "6df9eeb5",
   "metadata": {},
   "outputs": [],
   "source": [
    "#Regex\n",
    "import re"
   ]
  },
  {
   "cell_type": "markdown",
   "id": "7f5250c0",
   "metadata": {},
   "source": [
    "###  · Carga de CSVs"
   ]
  },
  {
   "cell_type": "markdown",
   "id": "06b7b1b4",
   "metadata": {},
   "source": [
    "Empezamos cargando datos CSV procedentes de Kaggle con la información de los países y las ciudades más contaminadas desde 2017 hasta 2021. "
   ]
  },
  {
   "cell_type": "code",
   "execution_count": 4,
   "id": "c02fe811",
   "metadata": {
    "scrolled": false
   },
   "outputs": [
    {
     "data": {
      "text/html": [
       "<div>\n",
       "<style scoped>\n",
       "    .dataframe tbody tr th:only-of-type {\n",
       "        vertical-align: middle;\n",
       "    }\n",
       "\n",
       "    .dataframe tbody tr th {\n",
       "        vertical-align: top;\n",
       "    }\n",
       "\n",
       "    .dataframe thead th {\n",
       "        text-align: right;\n",
       "    }\n",
       "</style>\n",
       "<table border=\"1\" class=\"dataframe\">\n",
       "  <thead>\n",
       "    <tr style=\"text-align: right;\">\n",
       "      <th></th>\n",
       "      <th>Country/Region</th>\n",
       "      <th>2021</th>\n",
       "      <th>2020</th>\n",
       "      <th>2019</th>\n",
       "      <th>2018</th>\n",
       "      <th>Population</th>\n",
       "    </tr>\n",
       "    <tr>\n",
       "      <th>Rank</th>\n",
       "      <th></th>\n",
       "      <th></th>\n",
       "      <th></th>\n",
       "      <th></th>\n",
       "      <th></th>\n",
       "      <th></th>\n",
       "    </tr>\n",
       "  </thead>\n",
       "  <tbody>\n",
       "    <tr>\n",
       "      <th>1</th>\n",
       "      <td>Bangladesh</td>\n",
       "      <td>76.9</td>\n",
       "      <td>77.1</td>\n",
       "      <td>83.3</td>\n",
       "      <td>97.1</td>\n",
       "      <td>164,689,383</td>\n",
       "    </tr>\n",
       "    <tr>\n",
       "      <th>2</th>\n",
       "      <td>Chad</td>\n",
       "      <td>75.9</td>\n",
       "      <td>-</td>\n",
       "      <td>-</td>\n",
       "      <td>-</td>\n",
       "      <td>16,425,859</td>\n",
       "    </tr>\n",
       "  </tbody>\n",
       "</table>\n",
       "</div>"
      ],
      "text/plain": [
       "     Country/Region  2021  2020  2019  2018   Population\n",
       "Rank                                                    \n",
       "1        Bangladesh  76.9  77.1  83.3  97.1  164,689,383\n",
       "2              Chad  75.9     -     -     -   16,425,859"
      ]
     },
     "execution_count": 4,
     "metadata": {},
     "output_type": "execute_result"
    }
   ],
   "source": [
    "df_pcountries = pd.read_csv(\"datos/AIR QUALITY INDEX- top countries.csv\", index_col = 0 )\n",
    "df_pcountries.head(2)"
   ]
  },
  {
   "cell_type": "code",
   "execution_count": 5,
   "id": "dde2ea52",
   "metadata": {
    "scrolled": false
   },
   "outputs": [],
   "source": [
    "#df_pcountries.values"
   ]
  },
  {
   "cell_type": "code",
   "execution_count": 6,
   "id": "c223e191",
   "metadata": {
    "scrolled": true
   },
   "outputs": [
    {
     "data": {
      "text/html": [
       "<div>\n",
       "<style scoped>\n",
       "    .dataframe tbody tr th:only-of-type {\n",
       "        vertical-align: middle;\n",
       "    }\n",
       "\n",
       "    .dataframe tbody tr th {\n",
       "        vertical-align: top;\n",
       "    }\n",
       "\n",
       "    .dataframe thead th {\n",
       "        text-align: right;\n",
       "    }\n",
       "</style>\n",
       "<table border=\"1\" class=\"dataframe\">\n",
       "  <thead>\n",
       "    <tr style=\"text-align: right;\">\n",
       "      <th></th>\n",
       "      <th>City</th>\n",
       "      <th>2021</th>\n",
       "      <th>JAN(2021)</th>\n",
       "      <th>FEB(2021)</th>\n",
       "      <th>MAR(2021)</th>\n",
       "      <th>APR(2021)</th>\n",
       "      <th>MAY(2021)</th>\n",
       "      <th>JUN(2021)</th>\n",
       "      <th>JUL(2021)</th>\n",
       "      <th>AUG(2021)</th>\n",
       "      <th>SEP(2021)</th>\n",
       "      <th>OCT(2021)</th>\n",
       "      <th>NOV(2021)</th>\n",
       "      <th>DEC(2021)</th>\n",
       "      <th>2020</th>\n",
       "      <th>2019</th>\n",
       "      <th>2018</th>\n",
       "      <th>2017</th>\n",
       "    </tr>\n",
       "    <tr>\n",
       "      <th>Rank</th>\n",
       "      <th></th>\n",
       "      <th></th>\n",
       "      <th></th>\n",
       "      <th></th>\n",
       "      <th></th>\n",
       "      <th></th>\n",
       "      <th></th>\n",
       "      <th></th>\n",
       "      <th></th>\n",
       "      <th></th>\n",
       "      <th></th>\n",
       "      <th></th>\n",
       "      <th></th>\n",
       "      <th></th>\n",
       "      <th></th>\n",
       "      <th></th>\n",
       "      <th></th>\n",
       "      <th></th>\n",
       "    </tr>\n",
       "  </thead>\n",
       "  <tbody>\n",
       "    <tr>\n",
       "      <th>1</th>\n",
       "      <td>Bhiwadi, India</td>\n",
       "      <td>106.2</td>\n",
       "      <td>145.8</td>\n",
       "      <td>129.8</td>\n",
       "      <td>120.2</td>\n",
       "      <td>125.7</td>\n",
       "      <td>86.5</td>\n",
       "      <td>95.9</td>\n",
       "      <td>55.6</td>\n",
       "      <td>55.4</td>\n",
       "      <td>37.1</td>\n",
       "      <td>91.1</td>\n",
       "      <td>188.6</td>\n",
       "      <td>136.6</td>\n",
       "      <td>95.5</td>\n",
       "      <td>83.4</td>\n",
       "      <td>125.4</td>\n",
       "      <td>-</td>\n",
       "    </tr>\n",
       "    <tr>\n",
       "      <th>2</th>\n",
       "      <td>Ghaziabad, India</td>\n",
       "      <td>102.0</td>\n",
       "      <td>199.9</td>\n",
       "      <td>172.2</td>\n",
       "      <td>97.8</td>\n",
       "      <td>86.3</td>\n",
       "      <td>52.9</td>\n",
       "      <td>47.2</td>\n",
       "      <td>35.3</td>\n",
       "      <td>37.6</td>\n",
       "      <td>30.8</td>\n",
       "      <td>89.7</td>\n",
       "      <td>218.3</td>\n",
       "      <td>163</td>\n",
       "      <td>106.6</td>\n",
       "      <td>110.2</td>\n",
       "      <td>135.2</td>\n",
       "      <td>144.6</td>\n",
       "    </tr>\n",
       "  </tbody>\n",
       "</table>\n",
       "</div>"
      ],
      "text/plain": [
       "                  City   2021 JAN(2021) FEB(2021) MAR(2021) APR(2021)  \\\n",
       "Rank                                                                    \n",
       "1       Bhiwadi, India  106.2     145.8     129.8     120.2     125.7   \n",
       "2     Ghaziabad, India  102.0     199.9     172.2      97.8      86.3   \n",
       "\n",
       "     MAY(2021) JUN(2021) JUL(2021) AUG(2021) SEP(2021) OCT(2021) NOV(2021)  \\\n",
       "Rank                                                                         \n",
       "1         86.5      95.9      55.6      55.4      37.1      91.1     188.6   \n",
       "2         52.9      47.2      35.3      37.6      30.8      89.7     218.3   \n",
       "\n",
       "     DEC(2021)   2020   2019   2018   2017  \n",
       "Rank                                        \n",
       "1        136.6   95.5   83.4  125.4      -  \n",
       "2          163  106.6  110.2  135.2  144.6  "
      ]
     },
     "execution_count": 6,
     "metadata": {},
     "output_type": "execute_result"
    }
   ],
   "source": [
    "df_pcities = pd.read_csv(\"datos/AIR QUALITY INDEX (by cities) - IQAir.csv\", index_col = 0 )\n",
    "df_pcities.head(2)"
   ]
  },
  {
   "cell_type": "markdown",
   "id": "20874ee3",
   "metadata": {},
   "source": [
    "A continuación, cargamos nuestros CSVs con los datos scrapeados acerca de la natalidad en el mismo periodo. "
   ]
  },
  {
   "cell_type": "code",
   "execution_count": 7,
   "id": "c905a4ed",
   "metadata": {
    "scrolled": false
   },
   "outputs": [
    {
     "data": {
      "text/html": [
       "<div>\n",
       "<style scoped>\n",
       "    .dataframe tbody tr th:only-of-type {\n",
       "        vertical-align: middle;\n",
       "    }\n",
       "\n",
       "    .dataframe tbody tr th {\n",
       "        vertical-align: top;\n",
       "    }\n",
       "\n",
       "    .dataframe thead th {\n",
       "        text-align: right;\n",
       "    }\n",
       "</style>\n",
       "<table border=\"1\" class=\"dataframe\">\n",
       "  <thead>\n",
       "    <tr style=\"text-align: right;\">\n",
       "      <th></th>\n",
       "      <th>0</th>\n",
       "    </tr>\n",
       "  </thead>\n",
       "  <tbody>\n",
       "    <tr>\n",
       "      <th>1</th>\n",
       "      <td>España [+] 2017 393.181 202.478 190.703 8,41‰ ...</td>\n",
       "    </tr>\n",
       "    <tr>\n",
       "      <th>2</th>\n",
       "      <td>Alemania [+] 2017 784.901 402.517 382.384 9,50...</td>\n",
       "    </tr>\n",
       "    <tr>\n",
       "      <th>3</th>\n",
       "      <td>Reino Unido [+] 2017 754.754 387.030 367.724 1...</td>\n",
       "    </tr>\n",
       "    <tr>\n",
       "      <th>4</th>\n",
       "      <td>Francia [+] 2017 770.045 394.058 375.987 11,50...</td>\n",
       "    </tr>\n",
       "    <tr>\n",
       "      <th>5</th>\n",
       "      <td>Italia [+] 2017 458.151 235.733 222.418 7,60‰ ...</td>\n",
       "    </tr>\n",
       "  </tbody>\n",
       "</table>\n",
       "</div>"
      ],
      "text/plain": [
       "                                                   0\n",
       "1  España [+] 2017 393.181 202.478 190.703 8,41‰ ...\n",
       "2  Alemania [+] 2017 784.901 402.517 382.384 9,50...\n",
       "3  Reino Unido [+] 2017 754.754 387.030 367.724 1...\n",
       "4  Francia [+] 2017 770.045 394.058 375.987 11,50...\n",
       "5  Italia [+] 2017 458.151 235.733 222.418 7,60‰ ..."
      ]
     },
     "execution_count": 7,
     "metadata": {},
     "output_type": "execute_result"
    }
   ],
   "source": [
    "df_n17= pd.read_csv(\"datos/natalidad/natalidad2017.csv\" ,  index_col = 0)\n",
    "df_n17.head(5)"
   ]
  },
  {
   "cell_type": "code",
   "execution_count": 8,
   "id": "c6af184d",
   "metadata": {},
   "outputs": [
    {
     "data": {
      "text/html": [
       "<div>\n",
       "<style scoped>\n",
       "    .dataframe tbody tr th:only-of-type {\n",
       "        vertical-align: middle;\n",
       "    }\n",
       "\n",
       "    .dataframe tbody tr th {\n",
       "        vertical-align: top;\n",
       "    }\n",
       "\n",
       "    .dataframe thead th {\n",
       "        text-align: right;\n",
       "    }\n",
       "</style>\n",
       "<table border=\"1\" class=\"dataframe\">\n",
       "  <thead>\n",
       "    <tr style=\"text-align: right;\">\n",
       "      <th></th>\n",
       "      <th>0</th>\n",
       "    </tr>\n",
       "  </thead>\n",
       "  <tbody>\n",
       "    <tr>\n",
       "      <th>1</th>\n",
       "      <td>España [+] 2018 372.777 191.569 181.208 7,94‰ ...</td>\n",
       "    </tr>\n",
       "    <tr>\n",
       "      <th>2</th>\n",
       "      <td>Alemania [+] 2018 787.523 404.052 383.471 9,50...</td>\n",
       "    </tr>\n",
       "    <tr>\n",
       "      <th>3</th>\n",
       "      <td>Reino Unido [+] 2018 730.918 375.379 355.539 1...</td>\n",
       "    </tr>\n",
       "    <tr>\n",
       "      <th>4</th>\n",
       "      <td>Francia [+] 2018 759.199 388.944 370.255 11,30...</td>\n",
       "    </tr>\n",
       "    <tr>\n",
       "      <th>5</th>\n",
       "      <td>Italia [+] 2018 439.747 226.217 213.530 7,30‰ ...</td>\n",
       "    </tr>\n",
       "  </tbody>\n",
       "</table>\n",
       "</div>"
      ],
      "text/plain": [
       "                                                   0\n",
       "1  España [+] 2018 372.777 191.569 181.208 7,94‰ ...\n",
       "2  Alemania [+] 2018 787.523 404.052 383.471 9,50...\n",
       "3  Reino Unido [+] 2018 730.918 375.379 355.539 1...\n",
       "4  Francia [+] 2018 759.199 388.944 370.255 11,30...\n",
       "5  Italia [+] 2018 439.747 226.217 213.530 7,30‰ ..."
      ]
     },
     "execution_count": 8,
     "metadata": {},
     "output_type": "execute_result"
    }
   ],
   "source": [
    "df_n18= pd.read_csv(\"datos/natalidad/natalidad2018.csv\" ,  index_col = 0)\n",
    "df_n18.head(5)"
   ]
  },
  {
   "cell_type": "code",
   "execution_count": 9,
   "id": "c18e212c",
   "metadata": {},
   "outputs": [
    {
     "data": {
      "text/html": [
       "<div>\n",
       "<style scoped>\n",
       "    .dataframe tbody tr th:only-of-type {\n",
       "        vertical-align: middle;\n",
       "    }\n",
       "\n",
       "    .dataframe tbody tr th {\n",
       "        vertical-align: top;\n",
       "    }\n",
       "\n",
       "    .dataframe thead th {\n",
       "        text-align: right;\n",
       "    }\n",
       "</style>\n",
       "<table border=\"1\" class=\"dataframe\">\n",
       "  <thead>\n",
       "    <tr style=\"text-align: right;\">\n",
       "      <th></th>\n",
       "      <th>0</th>\n",
       "    </tr>\n",
       "  </thead>\n",
       "  <tbody>\n",
       "    <tr>\n",
       "      <th>1</th>\n",
       "      <td>España [+] 2019 360.617 185.523 175.094 7,62‰ ...</td>\n",
       "    </tr>\n",
       "    <tr>\n",
       "      <th>2</th>\n",
       "      <td>Alemania [+] 2019 778.090 399.292 378.798 9,40...</td>\n",
       "    </tr>\n",
       "    <tr>\n",
       "      <th>3</th>\n",
       "      <td>Reino Unido [+] 2019 712.699 375.379 355.539 1...</td>\n",
       "    </tr>\n",
       "    <tr>\n",
       "      <th>4</th>\n",
       "      <td>Francia [+] 2019 754.008 385.340 368.668 11,20...</td>\n",
       "    </tr>\n",
       "    <tr>\n",
       "      <th>5</th>\n",
       "      <td>Italia [+] 2019 420.084 215.387 204.697 7,00‰ ...</td>\n",
       "    </tr>\n",
       "  </tbody>\n",
       "</table>\n",
       "</div>"
      ],
      "text/plain": [
       "                                                   0\n",
       "1  España [+] 2019 360.617 185.523 175.094 7,62‰ ...\n",
       "2  Alemania [+] 2019 778.090 399.292 378.798 9,40...\n",
       "3  Reino Unido [+] 2019 712.699 375.379 355.539 1...\n",
       "4  Francia [+] 2019 754.008 385.340 368.668 11,20...\n",
       "5  Italia [+] 2019 420.084 215.387 204.697 7,00‰ ..."
      ]
     },
     "execution_count": 9,
     "metadata": {},
     "output_type": "execute_result"
    }
   ],
   "source": [
    "df_n19= pd.read_csv(\"datos/natalidad/natalidad2019.csv\" ,  index_col = 0)\n",
    "df_n19.head(5)"
   ]
  },
  {
   "cell_type": "code",
   "execution_count": 10,
   "id": "c309ee85",
   "metadata": {},
   "outputs": [
    {
     "data": {
      "text/html": [
       "<div>\n",
       "<style scoped>\n",
       "    .dataframe tbody tr th:only-of-type {\n",
       "        vertical-align: middle;\n",
       "    }\n",
       "\n",
       "    .dataframe tbody tr th {\n",
       "        vertical-align: top;\n",
       "    }\n",
       "\n",
       "    .dataframe thead th {\n",
       "        text-align: right;\n",
       "    }\n",
       "</style>\n",
       "<table border=\"1\" class=\"dataframe\">\n",
       "  <thead>\n",
       "    <tr style=\"text-align: right;\">\n",
       "      <th></th>\n",
       "      <th>0</th>\n",
       "    </tr>\n",
       "  </thead>\n",
       "  <tbody>\n",
       "    <tr>\n",
       "      <th>1</th>\n",
       "      <td>España [+] 2020 341.315 174.842 166.473 7,19‰ ...</td>\n",
       "    </tr>\n",
       "    <tr>\n",
       "      <th>2</th>\n",
       "      <td>Alemania [+] 2020 773.144 397.385 375.759 9,30...</td>\n",
       "    </tr>\n",
       "    <tr>\n",
       "      <th>3</th>\n",
       "      <td>Reino Unido [+] 2020 712.699 375.379 355.539 1...</td>\n",
       "    </tr>\n",
       "    <tr>\n",
       "      <th>4</th>\n",
       "      <td>Francia [+] 2020 735.775 376.187 359.588 10,90...</td>\n",
       "    </tr>\n",
       "    <tr>\n",
       "      <th>5</th>\n",
       "      <td>Italia [+] 2020 404.892 208.431 196.461 6,80‰ ...</td>\n",
       "    </tr>\n",
       "  </tbody>\n",
       "</table>\n",
       "</div>"
      ],
      "text/plain": [
       "                                                   0\n",
       "1  España [+] 2020 341.315 174.842 166.473 7,19‰ ...\n",
       "2  Alemania [+] 2020 773.144 397.385 375.759 9,30...\n",
       "3  Reino Unido [+] 2020 712.699 375.379 355.539 1...\n",
       "4  Francia [+] 2020 735.775 376.187 359.588 10,90...\n",
       "5  Italia [+] 2020 404.892 208.431 196.461 6,80‰ ..."
      ]
     },
     "execution_count": 10,
     "metadata": {},
     "output_type": "execute_result"
    }
   ],
   "source": [
    "df_n20= pd.read_csv(\"datos/natalidad/natalidad2020.csv\" ,  index_col = 0)\n",
    "df_n20.head(5)"
   ]
  },
  {
   "cell_type": "code",
   "execution_count": 11,
   "id": "aafd03c3",
   "metadata": {
    "scrolled": false
   },
   "outputs": [
    {
     "data": {
      "text/html": [
       "<div>\n",
       "<style scoped>\n",
       "    .dataframe tbody tr th:only-of-type {\n",
       "        vertical-align: middle;\n",
       "    }\n",
       "\n",
       "    .dataframe tbody tr th {\n",
       "        vertical-align: top;\n",
       "    }\n",
       "\n",
       "    .dataframe thead th {\n",
       "        text-align: right;\n",
       "    }\n",
       "</style>\n",
       "<table border=\"1\" class=\"dataframe\">\n",
       "  <thead>\n",
       "    <tr style=\"text-align: right;\">\n",
       "      <th></th>\n",
       "      <th>0</th>\n",
       "    </tr>\n",
       "  </thead>\n",
       "  <tbody>\n",
       "    <tr>\n",
       "      <th>1</th>\n",
       "      <td>España [+] 2021 337.380 174.148 163.232 7,12‰ ...</td>\n",
       "    </tr>\n",
       "    <tr>\n",
       "      <th>2</th>\n",
       "      <td>Alemania [+] 2021 795.492 397.385 375.759 9,60...</td>\n",
       "    </tr>\n",
       "    <tr>\n",
       "      <th>3</th>\n",
       "      <td>Reino Unido [+] 2020 712.699 375.379 355.539 1...</td>\n",
       "    </tr>\n",
       "    <tr>\n",
       "      <th>4</th>\n",
       "      <td>Francia [+] 2021 738.594 376.187 359.588 10,90...</td>\n",
       "    </tr>\n",
       "    <tr>\n",
       "      <th>5</th>\n",
       "      <td>Italia [+] 2021 399.431 208.431 196.461 6,80‰ ...</td>\n",
       "    </tr>\n",
       "  </tbody>\n",
       "</table>\n",
       "</div>"
      ],
      "text/plain": [
       "                                                   0\n",
       "1  España [+] 2021 337.380 174.148 163.232 7,12‰ ...\n",
       "2  Alemania [+] 2021 795.492 397.385 375.759 9,60...\n",
       "3  Reino Unido [+] 2020 712.699 375.379 355.539 1...\n",
       "4  Francia [+] 2021 738.594 376.187 359.588 10,90...\n",
       "5  Italia [+] 2021 399.431 208.431 196.461 6,80‰ ..."
      ]
     },
     "execution_count": 11,
     "metadata": {},
     "output_type": "execute_result"
    }
   ],
   "source": [
    "df_n21= pd.read_csv(\"datos/natalidad/natalidad2021.csv\" ,  index_col = 0)\n",
    "df_n21.head(5)"
   ]
  },
  {
   "cell_type": "markdown",
   "id": "30955019",
   "metadata": {},
   "source": [
    "### · Limpieza Datos Scrapeados "
   ]
  },
  {
   "cell_type": "code",
   "execution_count": 12,
   "id": "4c9f5f25",
   "metadata": {
    "scrolled": false
   },
   "outputs": [
    {
     "data": {
      "text/html": [
       "<div>\n",
       "<style scoped>\n",
       "    .dataframe tbody tr th:only-of-type {\n",
       "        vertical-align: middle;\n",
       "    }\n",
       "\n",
       "    .dataframe tbody tr th {\n",
       "        vertical-align: top;\n",
       "    }\n",
       "\n",
       "    .dataframe thead th {\n",
       "        text-align: right;\n",
       "    }\n",
       "</style>\n",
       "<table border=\"1\" class=\"dataframe\">\n",
       "  <thead>\n",
       "    <tr style=\"text-align: right;\">\n",
       "      <th></th>\n",
       "      <th>0</th>\n",
       "    </tr>\n",
       "  </thead>\n",
       "  <tbody>\n",
       "    <tr>\n",
       "      <th>1</th>\n",
       "      <td>España [+] 2017 393.181 202.478 190.703 8,41‰ ...</td>\n",
       "    </tr>\n",
       "    <tr>\n",
       "      <th>2</th>\n",
       "      <td>Alemania [+] 2017 784.901 402.517 382.384 9,50...</td>\n",
       "    </tr>\n",
       "    <tr>\n",
       "      <th>3</th>\n",
       "      <td>Reino Unido [+] 2017 754.754 387.030 367.724 1...</td>\n",
       "    </tr>\n",
       "    <tr>\n",
       "      <th>4</th>\n",
       "      <td>Francia [+] 2017 770.045 394.058 375.987 11,50...</td>\n",
       "    </tr>\n",
       "    <tr>\n",
       "      <th>5</th>\n",
       "      <td>Italia [+] 2017 458.151 235.733 222.418 7,60‰ ...</td>\n",
       "    </tr>\n",
       "    <tr>\n",
       "      <th>...</th>\n",
       "      <td>...</td>\n",
       "    </tr>\n",
       "    <tr>\n",
       "      <th>189</th>\n",
       "      <td>Samoa [+] 2017 24,69‰ 3,93 -1,26%</td>\n",
       "    </tr>\n",
       "    <tr>\n",
       "      <th>190</th>\n",
       "      <td>Yemen [+] 2017 31,04‰ 3,89 -2,60%</td>\n",
       "    </tr>\n",
       "    <tr>\n",
       "      <th>191</th>\n",
       "      <td>Sudáfrica [+] 2017 20,91‰ 2,43 -1,10%</td>\n",
       "    </tr>\n",
       "    <tr>\n",
       "      <th>192</th>\n",
       "      <td>Zambia [+] 2017 36,70‰ 4,72 -1,99%</td>\n",
       "    </tr>\n",
       "    <tr>\n",
       "      <th>193</th>\n",
       "      <td>Zimbabue [+] 2017 31,73‰ 3,71 -2,55%</td>\n",
       "    </tr>\n",
       "  </tbody>\n",
       "</table>\n",
       "<p>193 rows × 1 columns</p>\n",
       "</div>"
      ],
      "text/plain": [
       "                                                     0\n",
       "1    España [+] 2017 393.181 202.478 190.703 8,41‰ ...\n",
       "2    Alemania [+] 2017 784.901 402.517 382.384 9,50...\n",
       "3    Reino Unido [+] 2017 754.754 387.030 367.724 1...\n",
       "4    Francia [+] 2017 770.045 394.058 375.987 11,50...\n",
       "5    Italia [+] 2017 458.151 235.733 222.418 7,60‰ ...\n",
       "..                                                 ...\n",
       "189                  Samoa [+] 2017 24,69‰ 3,93 -1,26%\n",
       "190                  Yemen [+] 2017 31,04‰ 3,89 -2,60%\n",
       "191              Sudáfrica [+] 2017 20,91‰ 2,43 -1,10%\n",
       "192                 Zambia [+] 2017 36,70‰ 4,72 -1,99%\n",
       "193               Zimbabue [+] 2017 31,73‰ 3,71 -2,55%\n",
       "\n",
       "[193 rows x 1 columns]"
      ]
     },
     "execution_count": 12,
     "metadata": {},
     "output_type": "execute_result"
    }
   ],
   "source": [
    "df_n17"
   ]
  },
  {
   "cell_type": "markdown",
   "id": "92333d03",
   "metadata": {},
   "source": [
    "Empezaremos por limpiar el grueso de nuestros datos, discriminando los países. La decisión de hacerlo de esta manera es porque el split de la mayoría de información lo haremos por espacios y en los países no es válido ya que muchos tienen nombre compuesto."
   ]
  },
  {
   "cell_type": "code",
   "execution_count": 13,
   "id": "c22a4ed8",
   "metadata": {
    "scrolled": false
   },
   "outputs": [
    {
     "data": {
      "text/html": [
       "<div>\n",
       "<style scoped>\n",
       "    .dataframe tbody tr th:only-of-type {\n",
       "        vertical-align: middle;\n",
       "    }\n",
       "\n",
       "    .dataframe tbody tr th {\n",
       "        vertical-align: top;\n",
       "    }\n",
       "\n",
       "    .dataframe thead th {\n",
       "        text-align: right;\n",
       "    }\n",
       "</style>\n",
       "<table border=\"1\" class=\"dataframe\">\n",
       "  <thead>\n",
       "    <tr style=\"text-align: right;\">\n",
       "      <th></th>\n",
       "      <th>0</th>\n",
       "      <th>1</th>\n",
       "    </tr>\n",
       "  </thead>\n",
       "  <tbody>\n",
       "    <tr>\n",
       "      <th>1</th>\n",
       "      <td>España</td>\n",
       "      <td>+] 2017 393.181 202.478 190.703 8,41‰ 1,31 -1,92%</td>\n",
       "    </tr>\n",
       "    <tr>\n",
       "      <th>2</th>\n",
       "      <td>Alemania</td>\n",
       "      <td>+] 2017 784.901 402.517 382.384 9,50‰ 1,57 -1,88%</td>\n",
       "    </tr>\n",
       "    <tr>\n",
       "      <th>3</th>\n",
       "      <td>Reino Unido</td>\n",
       "      <td>+] 2017 754.754 387.030 367.724 11,40‰ 1,74 -2...</td>\n",
       "    </tr>\n",
       "    <tr>\n",
       "      <th>4</th>\n",
       "      <td>Francia</td>\n",
       "      <td>+] 2017 770.045 394.058 375.987 11,50‰ 1,89 -1...</td>\n",
       "    </tr>\n",
       "    <tr>\n",
       "      <th>5</th>\n",
       "      <td>Italia</td>\n",
       "      <td>+] 2017 458.151 235.733 222.418 7,60‰ 1,32 -1,49%</td>\n",
       "    </tr>\n",
       "    <tr>\n",
       "      <th>...</th>\n",
       "      <td>...</td>\n",
       "      <td>...</td>\n",
       "    </tr>\n",
       "    <tr>\n",
       "      <th>189</th>\n",
       "      <td>Samoa</td>\n",
       "      <td>+] 2017 24,69‰ 3,93 -1,26%</td>\n",
       "    </tr>\n",
       "    <tr>\n",
       "      <th>190</th>\n",
       "      <td>Yemen</td>\n",
       "      <td>+] 2017 31,04‰ 3,89 -2,60%</td>\n",
       "    </tr>\n",
       "    <tr>\n",
       "      <th>191</th>\n",
       "      <td>Sudáfrica</td>\n",
       "      <td>+] 2017 20,91‰ 2,43 -1,10%</td>\n",
       "    </tr>\n",
       "    <tr>\n",
       "      <th>192</th>\n",
       "      <td>Zambia</td>\n",
       "      <td>+] 2017 36,70‰ 4,72 -1,99%</td>\n",
       "    </tr>\n",
       "    <tr>\n",
       "      <th>193</th>\n",
       "      <td>Zimbabue</td>\n",
       "      <td>+] 2017 31,73‰ 3,71 -2,55%</td>\n",
       "    </tr>\n",
       "  </tbody>\n",
       "</table>\n",
       "<p>193 rows × 2 columns</p>\n",
       "</div>"
      ],
      "text/plain": [
       "               0                                                  1\n",
       "1         España  +] 2017 393.181 202.478 190.703 8,41‰ 1,31 -1,92%\n",
       "2       Alemania  +] 2017 784.901 402.517 382.384 9,50‰ 1,57 -1,88%\n",
       "3    Reino Unido  +] 2017 754.754 387.030 367.724 11,40‰ 1,74 -2...\n",
       "4        Francia  +] 2017 770.045 394.058 375.987 11,50‰ 1,89 -1...\n",
       "5         Italia  +] 2017 458.151 235.733 222.418 7,60‰ 1,32 -1,49%\n",
       "..           ...                                                ...\n",
       "189        Samoa                         +] 2017 24,69‰ 3,93 -1,26%\n",
       "190        Yemen                         +] 2017 31,04‰ 3,89 -2,60%\n",
       "191    Sudáfrica                         +] 2017 20,91‰ 2,43 -1,10%\n",
       "192       Zambia                         +] 2017 36,70‰ 4,72 -1,99%\n",
       "193     Zimbabue                         +] 2017 31,73‰ 3,71 -2,55%\n",
       "\n",
       "[193 rows x 2 columns]"
      ]
     },
     "execution_count": 13,
     "metadata": {},
     "output_type": "execute_result"
    }
   ],
   "source": [
    "df_n17= df_n17[\"0\"].str.split(\"\\s\\[\", regex= True, expand=True)\n",
    "df_n17"
   ]
  },
  {
   "cell_type": "markdown",
   "id": "811fbc0a",
   "metadata": {},
   "source": [
    "Para hacer la división del grueso de datos, crearemos un diccionario. Aprovecharemos que la estructura de los datos extraídos es fija para realizar el almacenamiento en el mismo. Lo primero es conocer la longitud de los diferentes paquetes de información, para crear los condicionales de los que dependerá este almacenamiento. En aquellos datos que no estén informados, con el objetivo de mantener la estructura, introduciremos un valor nulo. Este diccionario será nuestro puente para los DataFrames finales. "
   ]
  },
  {
   "cell_type": "code",
   "execution_count": 14,
   "id": "dc09890f",
   "metadata": {},
   "outputs": [],
   "source": [
    "lon=[]\n",
    "\n",
    "for i in df_n17[1]:\n",
    "    lon.append(len(i.split()))"
   ]
  },
  {
   "cell_type": "code",
   "execution_count": 15,
   "id": "3e19fd72",
   "metadata": {
    "scrolled": true
   },
   "outputs": [
    {
     "data": {
      "text/plain": [
       "[8, 8, 8, 8, 8]"
      ]
     },
     "execution_count": 15,
     "metadata": {},
     "output_type": "execute_result"
    }
   ],
   "source": [
    "lon[:5]"
   ]
  },
  {
   "cell_type": "code",
   "execution_count": 16,
   "id": "fe7e5ad3",
   "metadata": {
    "scrolled": true
   },
   "outputs": [
    {
     "name": "stdout",
     "output_type": "stream",
     "text": [
      "{8, 5, 6, 7}\n"
     ]
    }
   ],
   "source": [
    "numeros_unicos = set(lon)\n",
    "\n",
    "print(numeros_unicos)"
   ]
  },
  {
   "cell_type": "code",
   "execution_count": 17,
   "id": "72d1d010",
   "metadata": {
    "scrolled": false
   },
   "outputs": [],
   "source": [
    "#lon.index(7)"
   ]
  },
  {
   "cell_type": "markdown",
   "id": "ee8dde17",
   "metadata": {},
   "source": [
    "Una vez sabemos la longitud de nuestros distintos paquetes de datos, empezamos con la creación del diccionario:"
   ]
  },
  {
   "cell_type": "code",
   "execution_count": 18,
   "id": "4348f539",
   "metadata": {
    "scrolled": false
   },
   "outputs": [],
   "source": [
    "nat2017 = {\n",
    "    \"year\": [],\n",
    "    \"born\": [],\n",
    "    \"male_born\": [],\n",
    "    \"female_born\":[],\n",
    "    \"birth_rate\": [],\n",
    "    \"fertility_rate\":[],\n",
    "    \"variation\":[]\n",
    "            }\n",
    "\n",
    "data_list = df_n17[1]\n",
    "\n",
    "for data in data_list:\n",
    "    \n",
    "    a = data.split()\n",
    "    \n",
    "    if len(a)== 8:\n",
    "        nat2017[\"year\"].append(str(a[1]))\n",
    "        nat2017[\"born\"].append(str(a[2]))\n",
    "        nat2017[\"male_born\"].append(str(a[3]))\n",
    "        nat2017[\"female_born\"].append(str(a[4]))\n",
    "        nat2017[\"birth_rate\"].append(str(a[5]))\n",
    "        nat2017[\"fertility_rate\"].append(str(a[6]))\n",
    "        nat2017[\"variation\"].append(str(a[7]))\n",
    "    \n",
    "    if len(a)== 7:\n",
    "        nat2017[\"year\"].append(str(a[1]))\n",
    "        nat2017[\"born\"].append(str(a[2]))\n",
    "        nat2017[\"male_born\"].append(str(a[3]))\n",
    "        nat2017[\"female_born\"].append(str(a[4]))\n",
    "        nat2017[\"birth_rate\"].append(str(a[5]))\n",
    "        nat2017[\"fertility_rate\"].append(str(a[6]))\n",
    "        nat2017[\"variation\"].append(np.nan)    \n",
    "            \n",
    "    if len(a)== 6:\n",
    "        nat2017[\"year\"].append(str(a[1]))\n",
    "        nat2017[\"born\"].append(str(a[2]))\n",
    "        nat2017[\"male_born\"].append(np.nan)\n",
    "        nat2017[\"female_born\"].append(np.nan)\n",
    "        nat2017[\"birth_rate\"].append(str(a[3]))\n",
    "        nat2017[\"fertility_rate\"].append(str(a[4]))\n",
    "        nat2017[\"variation\"].append(str(a[5]))\n",
    "            \n",
    "    if len(a)== 5:\n",
    "        nat2017[\"year\"].append(str(a[1]))\n",
    "        nat2017[\"born\"].append(np.nan)\n",
    "        nat2017[\"male_born\"].append(np.nan)\n",
    "        nat2017[\"female_born\"].append(np.nan)\n",
    "        nat2017[\"birth_rate\"].append(str(a[2]))\n",
    "        nat2017[\"fertility_rate\"].append(str(a[3]))\n",
    "        nat2017[\"variation\"].append(str(a[4]))\n",
    "            "
   ]
  },
  {
   "cell_type": "code",
   "execution_count": 19,
   "id": "34c05ee0",
   "metadata": {
    "scrolled": true
   },
   "outputs": [
    {
     "data": {
      "text/plain": [
       "193"
      ]
     },
     "execution_count": 19,
     "metadata": {},
     "output_type": "execute_result"
    }
   ],
   "source": [
    "#control\n",
    "len(nat2017[\"year\"])"
   ]
  },
  {
   "cell_type": "markdown",
   "id": "0881a960",
   "metadata": {},
   "source": [
    "Una vez finalizado nuestro diccionario con el grueso de datos, debemos hacer la limpieza de la columna países. La limpieza se basará en eliminar espacios o \"y\" en los nombres, en su lugar pondremos \"_\": "
   ]
  },
  {
   "cell_type": "code",
   "execution_count": 20,
   "id": "d6a79227",
   "metadata": {
    "scrolled": true
   },
   "outputs": [
    {
     "data": {
      "text/plain": [
       "array(['España', 'Alemania', 'Reino Unido', 'Francia', 'Italia'],\n",
       "      dtype=object)"
      ]
     },
     "execution_count": 20,
     "metadata": {},
     "output_type": "execute_result"
    }
   ],
   "source": [
    "df_n17[0].unique()[:5]"
   ]
  },
  {
   "cell_type": "code",
   "execution_count": 21,
   "id": "6d44372c",
   "metadata": {
    "scrolled": false
   },
   "outputs": [
    {
     "data": {
      "text/plain": [
       "array(['España', 'Alemania', 'Reino Unido', 'Francia', 'Italia'],\n",
       "      dtype=object)"
      ]
     },
     "execution_count": 21,
     "metadata": {},
     "output_type": "execute_result"
    }
   ],
   "source": [
    "df_n17[0] = df_n17[0].apply(lambda x: str(x).replace(\" y \",\"_\"))\n",
    "df_n17[0].unique()[:5]"
   ]
  },
  {
   "cell_type": "code",
   "execution_count": 22,
   "id": "b17e9fe8",
   "metadata": {
    "scrolled": false
   },
   "outputs": [
    {
     "data": {
      "text/plain": [
       "array(['España', 'Alemania', 'Reino_Unido', 'Francia', 'Italia'],\n",
       "      dtype=object)"
      ]
     },
     "execution_count": 22,
     "metadata": {},
     "output_type": "execute_result"
    }
   ],
   "source": [
    "df_n17[0] = df_n17[0].apply(lambda x: str(x).replace(\" \",\"_\"))\n",
    "df_n17[0].unique()[:5]"
   ]
  },
  {
   "cell_type": "markdown",
   "id": "226afc2b",
   "metadata": {},
   "source": [
    "Ya disponemos de los países limpios por lo que están listos para ser unidos al resto del diccionario. Esto nos formará uno de nuestros cinco DataFrames finales. Haremos un diccionario con los países limpios, que después zipearemos con la información de nuestro anterior diccionario:"
   ]
  },
  {
   "cell_type": "code",
   "execution_count": 23,
   "id": "ee382417",
   "metadata": {},
   "outputs": [],
   "source": [
    "paises17={\n",
    "        \"country\": []\n",
    "            }\n",
    "\n",
    "for i in df_n17[0]:\n",
    "    \n",
    "    paises17[\"country\"].append(i)"
   ]
  },
  {
   "cell_type": "code",
   "execution_count": 24,
   "id": "e68707f5",
   "metadata": {
    "scrolled": true
   },
   "outputs": [],
   "source": [
    "#paises17"
   ]
  },
  {
   "cell_type": "code",
   "execution_count": 25,
   "id": "bbdfa0bf",
   "metadata": {
    "scrolled": false
   },
   "outputs": [],
   "source": [
    "union17 = list(zip(paises17[\"country\"], nat2017[\"year\"], nat2017[\"born\"], nat2017[\"male_born\"], nat2017[\"female_born\"], nat2017[\"birth_rate\"], nat2017[\"fertility_rate\"] , nat2017[\"variation\"]))"
   ]
  },
  {
   "cell_type": "markdown",
   "id": "7d81c87a",
   "metadata": {},
   "source": [
    "###### *PUNTO DE CONTROL* 📍\n",
    "Necesario para reseteo DataFrame"
   ]
  },
  {
   "cell_type": "code",
   "execution_count": 34,
   "id": "91cdcc5a",
   "metadata": {
    "scrolled": true
   },
   "outputs": [
    {
     "data": {
      "text/html": [
       "<div>\n",
       "<style scoped>\n",
       "    .dataframe tbody tr th:only-of-type {\n",
       "        vertical-align: middle;\n",
       "    }\n",
       "\n",
       "    .dataframe tbody tr th {\n",
       "        vertical-align: top;\n",
       "    }\n",
       "\n",
       "    .dataframe thead th {\n",
       "        text-align: right;\n",
       "    }\n",
       "</style>\n",
       "<table border=\"1\" class=\"dataframe\">\n",
       "  <thead>\n",
       "    <tr style=\"text-align: right;\">\n",
       "      <th></th>\n",
       "      <th>0</th>\n",
       "      <th>1</th>\n",
       "      <th>2</th>\n",
       "      <th>3</th>\n",
       "      <th>4</th>\n",
       "      <th>5</th>\n",
       "      <th>6</th>\n",
       "      <th>7</th>\n",
       "    </tr>\n",
       "  </thead>\n",
       "  <tbody>\n",
       "    <tr>\n",
       "      <th>0</th>\n",
       "      <td>España</td>\n",
       "      <td>2017</td>\n",
       "      <td>393.181</td>\n",
       "      <td>202.478</td>\n",
       "      <td>190.703</td>\n",
       "      <td>8,41‰</td>\n",
       "      <td>1,31</td>\n",
       "      <td>-1,92%</td>\n",
       "    </tr>\n",
       "    <tr>\n",
       "      <th>1</th>\n",
       "      <td>Alemania</td>\n",
       "      <td>2017</td>\n",
       "      <td>784.901</td>\n",
       "      <td>402.517</td>\n",
       "      <td>382.384</td>\n",
       "      <td>9,50‰</td>\n",
       "      <td>1,57</td>\n",
       "      <td>-1,88%</td>\n",
       "    </tr>\n",
       "    <tr>\n",
       "      <th>2</th>\n",
       "      <td>Reino_Unido</td>\n",
       "      <td>2017</td>\n",
       "      <td>754.754</td>\n",
       "      <td>387.030</td>\n",
       "      <td>367.724</td>\n",
       "      <td>11,40‰</td>\n",
       "      <td>1,74</td>\n",
       "      <td>-2,79%</td>\n",
       "    </tr>\n",
       "    <tr>\n",
       "      <th>3</th>\n",
       "      <td>Francia</td>\n",
       "      <td>2017</td>\n",
       "      <td>770.045</td>\n",
       "      <td>394.058</td>\n",
       "      <td>375.987</td>\n",
       "      <td>11,50‰</td>\n",
       "      <td>1,89</td>\n",
       "      <td>-1,56%</td>\n",
       "    </tr>\n",
       "    <tr>\n",
       "      <th>4</th>\n",
       "      <td>Italia</td>\n",
       "      <td>2017</td>\n",
       "      <td>458.151</td>\n",
       "      <td>235.733</td>\n",
       "      <td>222.418</td>\n",
       "      <td>7,60‰</td>\n",
       "      <td>1,32</td>\n",
       "      <td>-1,49%</td>\n",
       "    </tr>\n",
       "    <tr>\n",
       "      <th>...</th>\n",
       "      <td>...</td>\n",
       "      <td>...</td>\n",
       "      <td>...</td>\n",
       "      <td>...</td>\n",
       "      <td>...</td>\n",
       "      <td>...</td>\n",
       "      <td>...</td>\n",
       "      <td>...</td>\n",
       "    </tr>\n",
       "    <tr>\n",
       "      <th>188</th>\n",
       "      <td>Samoa</td>\n",
       "      <td>2017</td>\n",
       "      <td>NaN</td>\n",
       "      <td>NaN</td>\n",
       "      <td>NaN</td>\n",
       "      <td>24,69‰</td>\n",
       "      <td>3,93</td>\n",
       "      <td>-1,26%</td>\n",
       "    </tr>\n",
       "    <tr>\n",
       "      <th>189</th>\n",
       "      <td>Yemen</td>\n",
       "      <td>2017</td>\n",
       "      <td>NaN</td>\n",
       "      <td>NaN</td>\n",
       "      <td>NaN</td>\n",
       "      <td>31,04‰</td>\n",
       "      <td>3,89</td>\n",
       "      <td>-2,60%</td>\n",
       "    </tr>\n",
       "    <tr>\n",
       "      <th>190</th>\n",
       "      <td>Sudáfrica</td>\n",
       "      <td>2017</td>\n",
       "      <td>NaN</td>\n",
       "      <td>NaN</td>\n",
       "      <td>NaN</td>\n",
       "      <td>20,91‰</td>\n",
       "      <td>2,43</td>\n",
       "      <td>-1,10%</td>\n",
       "    </tr>\n",
       "    <tr>\n",
       "      <th>191</th>\n",
       "      <td>Zambia</td>\n",
       "      <td>2017</td>\n",
       "      <td>NaN</td>\n",
       "      <td>NaN</td>\n",
       "      <td>NaN</td>\n",
       "      <td>36,70‰</td>\n",
       "      <td>4,72</td>\n",
       "      <td>-1,99%</td>\n",
       "    </tr>\n",
       "    <tr>\n",
       "      <th>192</th>\n",
       "      <td>Zimbabue</td>\n",
       "      <td>2017</td>\n",
       "      <td>NaN</td>\n",
       "      <td>NaN</td>\n",
       "      <td>NaN</td>\n",
       "      <td>31,73‰</td>\n",
       "      <td>3,71</td>\n",
       "      <td>-2,55%</td>\n",
       "    </tr>\n",
       "  </tbody>\n",
       "</table>\n",
       "<p>193 rows × 8 columns</p>\n",
       "</div>"
      ],
      "text/plain": [
       "               0     1        2        3        4       5     6       7\n",
       "0         España  2017  393.181  202.478  190.703   8,41‰  1,31  -1,92%\n",
       "1       Alemania  2017  784.901  402.517  382.384   9,50‰  1,57  -1,88%\n",
       "2    Reino_Unido  2017  754.754  387.030  367.724  11,40‰  1,74  -2,79%\n",
       "3        Francia  2017  770.045  394.058  375.987  11,50‰  1,89  -1,56%\n",
       "4         Italia  2017  458.151  235.733  222.418   7,60‰  1,32  -1,49%\n",
       "..           ...   ...      ...      ...      ...     ...   ...     ...\n",
       "188        Samoa  2017      NaN      NaN      NaN  24,69‰  3,93  -1,26%\n",
       "189        Yemen  2017      NaN      NaN      NaN  31,04‰  3,89  -2,60%\n",
       "190    Sudáfrica  2017      NaN      NaN      NaN  20,91‰  2,43  -1,10%\n",
       "191       Zambia  2017      NaN      NaN      NaN  36,70‰  4,72  -1,99%\n",
       "192     Zimbabue  2017      NaN      NaN      NaN  31,73‰  3,71  -2,55%\n",
       "\n",
       "[193 rows x 8 columns]"
      ]
     },
     "execution_count": 34,
     "metadata": {},
     "output_type": "execute_result"
    }
   ],
   "source": [
    "n17= pd.DataFrame(union17)\n",
    "n17"
   ]
  },
  {
   "cell_type": "code",
   "execution_count": 27,
   "id": "fbcb6a74",
   "metadata": {
    "scrolled": true
   },
   "outputs": [
    {
     "name": "stdout",
     "output_type": "stream",
     "text": [
      "<class 'pandas.core.frame.DataFrame'>\n",
      "RangeIndex: 193 entries, 0 to 192\n",
      "Data columns (total 8 columns):\n",
      " #   Column  Non-Null Count  Dtype \n",
      "---  ------  --------------  ----- \n",
      " 0   0       193 non-null    object\n",
      " 1   1       193 non-null    object\n",
      " 2   2       55 non-null     object\n",
      " 3   3       51 non-null     object\n",
      " 4   4       51 non-null     object\n",
      " 5   5       193 non-null    object\n",
      " 6   6       193 non-null    object\n",
      " 7   7       192 non-null    object\n",
      "dtypes: object(8)\n",
      "memory usage: 12.2+ KB\n"
     ]
    },
    {
     "data": {
      "text/plain": [
       "0      0\n",
       "1      0\n",
       "2    138\n",
       "3    142\n",
       "4    142\n",
       "5      0\n",
       "6      0\n",
       "7      1\n",
       "dtype: int64"
      ]
     },
     "execution_count": 27,
     "metadata": {},
     "output_type": "execute_result"
    }
   ],
   "source": [
    "#control\n",
    "n17.info()\n",
    "n17.isnull().sum()"
   ]
  },
  {
   "cell_type": "markdown",
   "id": "2aaf0bfe",
   "metadata": {},
   "source": [
    "Nuestro siguiente paso será dar nombre a las columnas:"
   ]
  },
  {
   "cell_type": "code",
   "execution_count": 28,
   "id": "48a93e09",
   "metadata": {
    "scrolled": false
   },
   "outputs": [
    {
     "data": {
      "text/plain": [
       "RangeIndex(start=0, stop=8, step=1)"
      ]
     },
     "execution_count": 28,
     "metadata": {},
     "output_type": "execute_result"
    }
   ],
   "source": [
    "n17.columns"
   ]
  },
  {
   "cell_type": "code",
   "execution_count": 35,
   "id": "7543e9f5",
   "metadata": {
    "scrolled": true
   },
   "outputs": [
    {
     "name": "stderr",
     "output_type": "stream",
     "text": [
      "/var/folders/8l/zm2f15815wb7zxjgwnj0zkjh0000gn/T/ipykernel_1064/526978396.py:1: FutureWarning: DataFrame.set_axis 'inplace' keyword is deprecated and will be removed in a future version. Use `obj = obj.set_axis(..., copy=False)` instead\n",
      "  n17.set_axis([\"country\", \"year\", \"born\", \"male_born\", \"female_born\", \"birth_rate\", \"fertility_rate\", \"variation\"], axis=1, inplace=True)\n"
     ]
    }
   ],
   "source": [
    "n17.set_axis([\"country\", \"year\", \"born\", \"male_born\", \"female_born\", \"birth_rate\", \"fertility_rate\", \"variation\"], axis=1, inplace=True)"
   ]
  },
  {
   "cell_type": "markdown",
   "id": "cc2bee4b",
   "metadata": {},
   "source": [
    "El siguiente paso será gestionar los tipos de datos que tenemos. Nos interesa tener la mayor cantidad de datos numéricos posibles:"
   ]
  },
  {
   "cell_type": "code",
   "execution_count": 36,
   "id": "3c29895d",
   "metadata": {
    "scrolled": true
   },
   "outputs": [],
   "source": [
    "n17[\"year\"]= n17[\"year\"].astype(\"int\")"
   ]
  },
  {
   "cell_type": "code",
   "execution_count": 32,
   "id": "3927f9d2",
   "metadata": {
    "scrolled": true
   },
   "outputs": [],
   "source": [
    "n17[\"born\"].fillna(\"\", inplace= True)"
   ]
  },
  {
   "cell_type": "code",
   "execution_count": 37,
   "id": "c6938781",
   "metadata": {},
   "outputs": [
    {
     "data": {
      "text/plain": [
       "country           object\n",
       "year               int64\n",
       "born              object\n",
       "male_born         object\n",
       "female_born       object\n",
       "birth_rate        object\n",
       "fertility_rate    object\n",
       "variation         object\n",
       "dtype: object"
      ]
     },
     "execution_count": 37,
     "metadata": {},
     "output_type": "execute_result"
    }
   ],
   "source": [
    "n17.dtypes"
   ]
  },
  {
   "cell_type": "code",
   "execution_count": 40,
   "id": "aeaca66d",
   "metadata": {},
   "outputs": [
    {
     "name": "stderr",
     "output_type": "stream",
     "text": [
      "/var/folders/8l/zm2f15815wb7zxjgwnj0zkjh0000gn/T/ipykernel_1064/2687544233.py:1: FutureWarning: The default value of regex will change from True to False in a future version. In addition, single character regular expressions will *not* be treated as literal strings when regex=True.\n",
      "  n17[\"born\"] = n17[\"born\"].str.replace(\".\", \"\")\n"
     ]
    }
   ],
   "source": [
    "n17[\"born\"] = n17[\"born\"].str.replace(\".\", \"\")"
   ]
  },
  {
   "cell_type": "code",
   "execution_count": 41,
   "id": "bc7d3094",
   "metadata": {},
   "outputs": [
    {
     "data": {
      "text/plain": [
       "country           object\n",
       "year               int64\n",
       "born              object\n",
       "male_born         object\n",
       "female_born       object\n",
       "birth_rate        object\n",
       "fertility_rate    object\n",
       "variation         object\n",
       "dtype: object"
      ]
     },
     "execution_count": 41,
     "metadata": {},
     "output_type": "execute_result"
    }
   ],
   "source": [
    "n17.dtypes"
   ]
  },
  {
   "cell_type": "code",
   "execution_count": 43,
   "id": "0aa030ec",
   "metadata": {},
   "outputs": [],
   "source": [
    "n17[\"born\"] = pd.to_numeric(n17[\"born\"])"
   ]
  },
  {
   "cell_type": "code",
   "execution_count": 44,
   "id": "2b4156eb",
   "metadata": {},
   "outputs": [
    {
     "data": {
      "text/plain": [
       "country            object\n",
       "year                int64\n",
       "born              float64\n",
       "male_born          object\n",
       "female_born        object\n",
       "birth_rate         object\n",
       "fertility_rate     object\n",
       "variation          object\n",
       "dtype: object"
      ]
     },
     "execution_count": 44,
     "metadata": {},
     "output_type": "execute_result"
    }
   ],
   "source": [
    "n17.dtypes"
   ]
  },
  {
   "cell_type": "code",
   "execution_count": 33,
   "id": "0e241b9b",
   "metadata": {
    "scrolled": false
   },
   "outputs": [
    {
     "ename": "ValueError",
     "evalue": "could not convert string to float: '2.234.039'",
     "output_type": "error",
     "traceback": [
      "\u001b[0;31m---------------------------------------------------------------------------\u001b[0m",
      "\u001b[0;31mValueError\u001b[0m                                Traceback (most recent call last)",
      "Cell \u001b[0;32mIn [33], line 1\u001b[0m\n\u001b[0;32m----> 1\u001b[0m \u001b[43mn17\u001b[49m\u001b[43m[\u001b[49m\u001b[38;5;124;43m\"\u001b[39;49m\u001b[38;5;124;43mborn\u001b[39;49m\u001b[38;5;124;43m\"\u001b[39;49m\u001b[43m]\u001b[49m\u001b[38;5;241;43m.\u001b[39;49m\u001b[43mastype\u001b[49m\u001b[43m(\u001b[49m\u001b[38;5;124;43m\"\u001b[39;49m\u001b[38;5;124;43mfloat\u001b[39;49m\u001b[38;5;124;43m\"\u001b[39;49m\u001b[43m)\u001b[49m\n",
      "File \u001b[0;32m~/opt/anaconda3/envs/Bootcamp/lib/python3.9/site-packages/pandas/core/generic.py:6240\u001b[0m, in \u001b[0;36mNDFrame.astype\u001b[0;34m(self, dtype, copy, errors)\u001b[0m\n\u001b[1;32m   6233\u001b[0m     results \u001b[38;5;241m=\u001b[39m [\n\u001b[1;32m   6234\u001b[0m         \u001b[38;5;28mself\u001b[39m\u001b[38;5;241m.\u001b[39miloc[:, i]\u001b[38;5;241m.\u001b[39mastype(dtype, copy\u001b[38;5;241m=\u001b[39mcopy)\n\u001b[1;32m   6235\u001b[0m         \u001b[38;5;28;01mfor\u001b[39;00m i \u001b[38;5;129;01min\u001b[39;00m \u001b[38;5;28mrange\u001b[39m(\u001b[38;5;28mlen\u001b[39m(\u001b[38;5;28mself\u001b[39m\u001b[38;5;241m.\u001b[39mcolumns))\n\u001b[1;32m   6236\u001b[0m     ]\n\u001b[1;32m   6238\u001b[0m \u001b[38;5;28;01melse\u001b[39;00m:\n\u001b[1;32m   6239\u001b[0m     \u001b[38;5;66;03m# else, only a single dtype is given\u001b[39;00m\n\u001b[0;32m-> 6240\u001b[0m     new_data \u001b[38;5;241m=\u001b[39m \u001b[38;5;28;43mself\u001b[39;49m\u001b[38;5;241;43m.\u001b[39;49m\u001b[43m_mgr\u001b[49m\u001b[38;5;241;43m.\u001b[39;49m\u001b[43mastype\u001b[49m\u001b[43m(\u001b[49m\u001b[43mdtype\u001b[49m\u001b[38;5;241;43m=\u001b[39;49m\u001b[43mdtype\u001b[49m\u001b[43m,\u001b[49m\u001b[43m \u001b[49m\u001b[43mcopy\u001b[49m\u001b[38;5;241;43m=\u001b[39;49m\u001b[43mcopy\u001b[49m\u001b[43m,\u001b[49m\u001b[43m \u001b[49m\u001b[43merrors\u001b[49m\u001b[38;5;241;43m=\u001b[39;49m\u001b[43merrors\u001b[49m\u001b[43m)\u001b[49m\n\u001b[1;32m   6241\u001b[0m     \u001b[38;5;28;01mreturn\u001b[39;00m \u001b[38;5;28mself\u001b[39m\u001b[38;5;241m.\u001b[39m_constructor(new_data)\u001b[38;5;241m.\u001b[39m__finalize__(\u001b[38;5;28mself\u001b[39m, method\u001b[38;5;241m=\u001b[39m\u001b[38;5;124m\"\u001b[39m\u001b[38;5;124mastype\u001b[39m\u001b[38;5;124m\"\u001b[39m)\n\u001b[1;32m   6243\u001b[0m \u001b[38;5;66;03m# GH 33113: handle empty frame or series\u001b[39;00m\n",
      "File \u001b[0;32m~/opt/anaconda3/envs/Bootcamp/lib/python3.9/site-packages/pandas/core/internals/managers.py:445\u001b[0m, in \u001b[0;36mBaseBlockManager.astype\u001b[0;34m(self, dtype, copy, errors)\u001b[0m\n\u001b[1;32m    444\u001b[0m \u001b[38;5;28;01mdef\u001b[39;00m \u001b[38;5;21mastype\u001b[39m(\u001b[38;5;28mself\u001b[39m: T, dtype, copy: \u001b[38;5;28mbool\u001b[39m \u001b[38;5;241m=\u001b[39m \u001b[38;5;28;01mFalse\u001b[39;00m, errors: \u001b[38;5;28mstr\u001b[39m \u001b[38;5;241m=\u001b[39m \u001b[38;5;124m\"\u001b[39m\u001b[38;5;124mraise\u001b[39m\u001b[38;5;124m\"\u001b[39m) \u001b[38;5;241m-\u001b[39m\u001b[38;5;241m>\u001b[39m T:\n\u001b[0;32m--> 445\u001b[0m     \u001b[38;5;28;01mreturn\u001b[39;00m \u001b[38;5;28;43mself\u001b[39;49m\u001b[38;5;241;43m.\u001b[39;49m\u001b[43mapply\u001b[49m\u001b[43m(\u001b[49m\u001b[38;5;124;43m\"\u001b[39;49m\u001b[38;5;124;43mastype\u001b[39;49m\u001b[38;5;124;43m\"\u001b[39;49m\u001b[43m,\u001b[49m\u001b[43m \u001b[49m\u001b[43mdtype\u001b[49m\u001b[38;5;241;43m=\u001b[39;49m\u001b[43mdtype\u001b[49m\u001b[43m,\u001b[49m\u001b[43m \u001b[49m\u001b[43mcopy\u001b[49m\u001b[38;5;241;43m=\u001b[39;49m\u001b[43mcopy\u001b[49m\u001b[43m,\u001b[49m\u001b[43m \u001b[49m\u001b[43merrors\u001b[49m\u001b[38;5;241;43m=\u001b[39;49m\u001b[43merrors\u001b[49m\u001b[43m)\u001b[49m\n",
      "File \u001b[0;32m~/opt/anaconda3/envs/Bootcamp/lib/python3.9/site-packages/pandas/core/internals/managers.py:347\u001b[0m, in \u001b[0;36mBaseBlockManager.apply\u001b[0;34m(self, f, align_keys, ignore_failures, **kwargs)\u001b[0m\n\u001b[1;32m    345\u001b[0m         applied \u001b[38;5;241m=\u001b[39m b\u001b[38;5;241m.\u001b[39mapply(f, \u001b[38;5;241m*\u001b[39m\u001b[38;5;241m*\u001b[39mkwargs)\n\u001b[1;32m    346\u001b[0m     \u001b[38;5;28;01melse\u001b[39;00m:\n\u001b[0;32m--> 347\u001b[0m         applied \u001b[38;5;241m=\u001b[39m \u001b[38;5;28;43mgetattr\u001b[39;49m\u001b[43m(\u001b[49m\u001b[43mb\u001b[49m\u001b[43m,\u001b[49m\u001b[43m \u001b[49m\u001b[43mf\u001b[49m\u001b[43m)\u001b[49m\u001b[43m(\u001b[49m\u001b[38;5;241;43m*\u001b[39;49m\u001b[38;5;241;43m*\u001b[39;49m\u001b[43mkwargs\u001b[49m\u001b[43m)\u001b[49m\n\u001b[1;32m    348\u001b[0m \u001b[38;5;28;01mexcept\u001b[39;00m (\u001b[38;5;167;01mTypeError\u001b[39;00m, \u001b[38;5;167;01mNotImplementedError\u001b[39;00m):\n\u001b[1;32m    349\u001b[0m     \u001b[38;5;28;01mif\u001b[39;00m \u001b[38;5;129;01mnot\u001b[39;00m ignore_failures:\n",
      "File \u001b[0;32m~/opt/anaconda3/envs/Bootcamp/lib/python3.9/site-packages/pandas/core/internals/blocks.py:526\u001b[0m, in \u001b[0;36mBlock.astype\u001b[0;34m(self, dtype, copy, errors)\u001b[0m\n\u001b[1;32m    508\u001b[0m \u001b[38;5;124;03m\"\"\"\u001b[39;00m\n\u001b[1;32m    509\u001b[0m \u001b[38;5;124;03mCoerce to the new dtype.\u001b[39;00m\n\u001b[1;32m    510\u001b[0m \n\u001b[0;32m   (...)\u001b[0m\n\u001b[1;32m    522\u001b[0m \u001b[38;5;124;03mBlock\u001b[39;00m\n\u001b[1;32m    523\u001b[0m \u001b[38;5;124;03m\"\"\"\u001b[39;00m\n\u001b[1;32m    524\u001b[0m values \u001b[38;5;241m=\u001b[39m \u001b[38;5;28mself\u001b[39m\u001b[38;5;241m.\u001b[39mvalues\n\u001b[0;32m--> 526\u001b[0m new_values \u001b[38;5;241m=\u001b[39m \u001b[43mastype_array_safe\u001b[49m\u001b[43m(\u001b[49m\u001b[43mvalues\u001b[49m\u001b[43m,\u001b[49m\u001b[43m \u001b[49m\u001b[43mdtype\u001b[49m\u001b[43m,\u001b[49m\u001b[43m \u001b[49m\u001b[43mcopy\u001b[49m\u001b[38;5;241;43m=\u001b[39;49m\u001b[43mcopy\u001b[49m\u001b[43m,\u001b[49m\u001b[43m \u001b[49m\u001b[43merrors\u001b[49m\u001b[38;5;241;43m=\u001b[39;49m\u001b[43merrors\u001b[49m\u001b[43m)\u001b[49m\n\u001b[1;32m    528\u001b[0m new_values \u001b[38;5;241m=\u001b[39m maybe_coerce_values(new_values)\n\u001b[1;32m    529\u001b[0m newb \u001b[38;5;241m=\u001b[39m \u001b[38;5;28mself\u001b[39m\u001b[38;5;241m.\u001b[39mmake_block(new_values)\n",
      "File \u001b[0;32m~/opt/anaconda3/envs/Bootcamp/lib/python3.9/site-packages/pandas/core/dtypes/astype.py:299\u001b[0m, in \u001b[0;36mastype_array_safe\u001b[0;34m(values, dtype, copy, errors)\u001b[0m\n\u001b[1;32m    296\u001b[0m     \u001b[38;5;28;01mreturn\u001b[39;00m values\u001b[38;5;241m.\u001b[39mcopy()\n\u001b[1;32m    298\u001b[0m \u001b[38;5;28;01mtry\u001b[39;00m:\n\u001b[0;32m--> 299\u001b[0m     new_values \u001b[38;5;241m=\u001b[39m \u001b[43mastype_array\u001b[49m\u001b[43m(\u001b[49m\u001b[43mvalues\u001b[49m\u001b[43m,\u001b[49m\u001b[43m \u001b[49m\u001b[43mdtype\u001b[49m\u001b[43m,\u001b[49m\u001b[43m \u001b[49m\u001b[43mcopy\u001b[49m\u001b[38;5;241;43m=\u001b[39;49m\u001b[43mcopy\u001b[49m\u001b[43m)\u001b[49m\n\u001b[1;32m    300\u001b[0m \u001b[38;5;28;01mexcept\u001b[39;00m (\u001b[38;5;167;01mValueError\u001b[39;00m, \u001b[38;5;167;01mTypeError\u001b[39;00m):\n\u001b[1;32m    301\u001b[0m     \u001b[38;5;66;03m# e.g. astype_nansafe can fail on object-dtype of strings\u001b[39;00m\n\u001b[1;32m    302\u001b[0m     \u001b[38;5;66;03m#  trying to convert to float\u001b[39;00m\n\u001b[1;32m    303\u001b[0m     \u001b[38;5;28;01mif\u001b[39;00m errors \u001b[38;5;241m==\u001b[39m \u001b[38;5;124m\"\u001b[39m\u001b[38;5;124mignore\u001b[39m\u001b[38;5;124m\"\u001b[39m:\n",
      "File \u001b[0;32m~/opt/anaconda3/envs/Bootcamp/lib/python3.9/site-packages/pandas/core/dtypes/astype.py:230\u001b[0m, in \u001b[0;36mastype_array\u001b[0;34m(values, dtype, copy)\u001b[0m\n\u001b[1;32m    227\u001b[0m     values \u001b[38;5;241m=\u001b[39m values\u001b[38;5;241m.\u001b[39mastype(dtype, copy\u001b[38;5;241m=\u001b[39mcopy)\n\u001b[1;32m    229\u001b[0m \u001b[38;5;28;01melse\u001b[39;00m:\n\u001b[0;32m--> 230\u001b[0m     values \u001b[38;5;241m=\u001b[39m \u001b[43mastype_nansafe\u001b[49m\u001b[43m(\u001b[49m\u001b[43mvalues\u001b[49m\u001b[43m,\u001b[49m\u001b[43m \u001b[49m\u001b[43mdtype\u001b[49m\u001b[43m,\u001b[49m\u001b[43m \u001b[49m\u001b[43mcopy\u001b[49m\u001b[38;5;241;43m=\u001b[39;49m\u001b[43mcopy\u001b[49m\u001b[43m)\u001b[49m\n\u001b[1;32m    232\u001b[0m \u001b[38;5;66;03m# in pandas we don't store numpy str dtypes, so convert to object\u001b[39;00m\n\u001b[1;32m    233\u001b[0m \u001b[38;5;28;01mif\u001b[39;00m \u001b[38;5;28misinstance\u001b[39m(dtype, np\u001b[38;5;241m.\u001b[39mdtype) \u001b[38;5;129;01mand\u001b[39;00m \u001b[38;5;28missubclass\u001b[39m(values\u001b[38;5;241m.\u001b[39mdtype\u001b[38;5;241m.\u001b[39mtype, \u001b[38;5;28mstr\u001b[39m):\n",
      "File \u001b[0;32m~/opt/anaconda3/envs/Bootcamp/lib/python3.9/site-packages/pandas/core/dtypes/astype.py:170\u001b[0m, in \u001b[0;36mastype_nansafe\u001b[0;34m(arr, dtype, copy, skipna)\u001b[0m\n\u001b[1;32m    166\u001b[0m     \u001b[38;5;28;01mraise\u001b[39;00m \u001b[38;5;167;01mValueError\u001b[39;00m(msg)\n\u001b[1;32m    168\u001b[0m \u001b[38;5;28;01mif\u001b[39;00m copy \u001b[38;5;129;01mor\u001b[39;00m is_object_dtype(arr\u001b[38;5;241m.\u001b[39mdtype) \u001b[38;5;129;01mor\u001b[39;00m is_object_dtype(dtype):\n\u001b[1;32m    169\u001b[0m     \u001b[38;5;66;03m# Explicit copy, or required since NumPy can't view from / to object.\u001b[39;00m\n\u001b[0;32m--> 170\u001b[0m     \u001b[38;5;28;01mreturn\u001b[39;00m \u001b[43marr\u001b[49m\u001b[38;5;241;43m.\u001b[39;49m\u001b[43mastype\u001b[49m\u001b[43m(\u001b[49m\u001b[43mdtype\u001b[49m\u001b[43m,\u001b[49m\u001b[43m \u001b[49m\u001b[43mcopy\u001b[49m\u001b[38;5;241;43m=\u001b[39;49m\u001b[38;5;28;43;01mTrue\u001b[39;49;00m\u001b[43m)\u001b[49m\n\u001b[1;32m    172\u001b[0m \u001b[38;5;28;01mreturn\u001b[39;00m arr\u001b[38;5;241m.\u001b[39mastype(dtype, copy\u001b[38;5;241m=\u001b[39mcopy)\n",
      "\u001b[0;31mValueError\u001b[0m: could not convert string to float: '2.234.039'"
     ]
    }
   ],
   "source": [
    "n17[\"born\"].astype(\"float\")"
   ]
  },
  {
   "cell_type": "code",
   "execution_count": 213,
   "id": "0c5b5942",
   "metadata": {
    "scrolled": true
   },
   "outputs": [
    {
     "name": "stdout",
     "output_type": "stream",
     "text": [
      "<class 'pandas.core.frame.DataFrame'>\n",
      "RangeIndex: 193 entries, 0 to 192\n",
      "Data columns (total 8 columns):\n",
      " #   Column          Non-Null Count  Dtype \n",
      "---  ------          --------------  ----- \n",
      " 0   country         193 non-null    object\n",
      " 1   year            193 non-null    int64 \n",
      " 2   born            193 non-null    object\n",
      " 3   male_born       51 non-null     object\n",
      " 4   female_born     51 non-null     object\n",
      " 5   birth_rate      193 non-null    object\n",
      " 6   fertility_rate  193 non-null    object\n",
      " 7   variation       192 non-null    object\n",
      "dtypes: int64(1), object(7)\n",
      "memory usage: 12.2+ KB\n"
     ]
    }
   ],
   "source": [
    "n17.info()"
   ]
  },
  {
   "cell_type": "code",
   "execution_count": 198,
   "id": "a907d4ba",
   "metadata": {
    "scrolled": false
   },
   "outputs": [
    {
     "data": {
      "text/html": [
       "<div>\n",
       "<style scoped>\n",
       "    .dataframe tbody tr th:only-of-type {\n",
       "        vertical-align: middle;\n",
       "    }\n",
       "\n",
       "    .dataframe tbody tr th {\n",
       "        vertical-align: top;\n",
       "    }\n",
       "\n",
       "    .dataframe thead th {\n",
       "        text-align: right;\n",
       "    }\n",
       "</style>\n",
       "<table border=\"1\" class=\"dataframe\">\n",
       "  <thead>\n",
       "    <tr style=\"text-align: right;\">\n",
       "      <th></th>\n",
       "      <th>country</th>\n",
       "      <th>year</th>\n",
       "      <th>born</th>\n",
       "      <th>male_born</th>\n",
       "      <th>female_born</th>\n",
       "      <th>birth_rate</th>\n",
       "      <th>fertility_rate</th>\n",
       "      <th>variation</th>\n",
       "    </tr>\n",
       "  </thead>\n",
       "  <tbody>\n",
       "    <tr>\n",
       "      <th>0</th>\n",
       "      <td>España</td>\n",
       "      <td>2017</td>\n",
       "      <td>393.181</td>\n",
       "      <td>202.478</td>\n",
       "      <td>190.703</td>\n",
       "      <td>8,41‰</td>\n",
       "      <td>1,31</td>\n",
       "      <td>-1,92%</td>\n",
       "    </tr>\n",
       "    <tr>\n",
       "      <th>1</th>\n",
       "      <td>Alemania</td>\n",
       "      <td>2017</td>\n",
       "      <td>784.901</td>\n",
       "      <td>402.517</td>\n",
       "      <td>382.384</td>\n",
       "      <td>9,50‰</td>\n",
       "      <td>1,57</td>\n",
       "      <td>-1,88%</td>\n",
       "    </tr>\n",
       "    <tr>\n",
       "      <th>2</th>\n",
       "      <td>Reino_Unido</td>\n",
       "      <td>2017</td>\n",
       "      <td>754.754</td>\n",
       "      <td>387.030</td>\n",
       "      <td>367.724</td>\n",
       "      <td>11,40‰</td>\n",
       "      <td>1,74</td>\n",
       "      <td>-2,79%</td>\n",
       "    </tr>\n",
       "    <tr>\n",
       "      <th>3</th>\n",
       "      <td>Francia</td>\n",
       "      <td>2017</td>\n",
       "      <td>770.045</td>\n",
       "      <td>394.058</td>\n",
       "      <td>375.987</td>\n",
       "      <td>11,50‰</td>\n",
       "      <td>1,89</td>\n",
       "      <td>-1,56%</td>\n",
       "    </tr>\n",
       "    <tr>\n",
       "      <th>4</th>\n",
       "      <td>Italia</td>\n",
       "      <td>2017</td>\n",
       "      <td>458.151</td>\n",
       "      <td>235.733</td>\n",
       "      <td>222.418</td>\n",
       "      <td>7,60‰</td>\n",
       "      <td>1,32</td>\n",
       "      <td>-1,49%</td>\n",
       "    </tr>\n",
       "    <tr>\n",
       "      <th>...</th>\n",
       "      <td>...</td>\n",
       "      <td>...</td>\n",
       "      <td>...</td>\n",
       "      <td>...</td>\n",
       "      <td>...</td>\n",
       "      <td>...</td>\n",
       "      <td>...</td>\n",
       "      <td>...</td>\n",
       "    </tr>\n",
       "    <tr>\n",
       "      <th>188</th>\n",
       "      <td>Samoa</td>\n",
       "      <td>2017</td>\n",
       "      <td></td>\n",
       "      <td>NaN</td>\n",
       "      <td>NaN</td>\n",
       "      <td>24,69‰</td>\n",
       "      <td>3,93</td>\n",
       "      <td>-1,26%</td>\n",
       "    </tr>\n",
       "    <tr>\n",
       "      <th>189</th>\n",
       "      <td>Yemen</td>\n",
       "      <td>2017</td>\n",
       "      <td></td>\n",
       "      <td>NaN</td>\n",
       "      <td>NaN</td>\n",
       "      <td>31,04‰</td>\n",
       "      <td>3,89</td>\n",
       "      <td>-2,60%</td>\n",
       "    </tr>\n",
       "    <tr>\n",
       "      <th>190</th>\n",
       "      <td>Sudáfrica</td>\n",
       "      <td>2017</td>\n",
       "      <td></td>\n",
       "      <td>NaN</td>\n",
       "      <td>NaN</td>\n",
       "      <td>20,91‰</td>\n",
       "      <td>2,43</td>\n",
       "      <td>-1,10%</td>\n",
       "    </tr>\n",
       "    <tr>\n",
       "      <th>191</th>\n",
       "      <td>Zambia</td>\n",
       "      <td>2017</td>\n",
       "      <td></td>\n",
       "      <td>NaN</td>\n",
       "      <td>NaN</td>\n",
       "      <td>36,70‰</td>\n",
       "      <td>4,72</td>\n",
       "      <td>-1,99%</td>\n",
       "    </tr>\n",
       "    <tr>\n",
       "      <th>192</th>\n",
       "      <td>Zimbabue</td>\n",
       "      <td>2017</td>\n",
       "      <td></td>\n",
       "      <td>NaN</td>\n",
       "      <td>NaN</td>\n",
       "      <td>31,73‰</td>\n",
       "      <td>3,71</td>\n",
       "      <td>-2,55%</td>\n",
       "    </tr>\n",
       "  </tbody>\n",
       "</table>\n",
       "<p>193 rows × 8 columns</p>\n",
       "</div>"
      ],
      "text/plain": [
       "         country  year     born male_born female_born birth_rate  \\\n",
       "0         España  2017  393.181   202.478     190.703      8,41‰   \n",
       "1       Alemania  2017  784.901   402.517     382.384      9,50‰   \n",
       "2    Reino_Unido  2017  754.754   387.030     367.724     11,40‰   \n",
       "3        Francia  2017  770.045   394.058     375.987     11,50‰   \n",
       "4         Italia  2017  458.151   235.733     222.418      7,60‰   \n",
       "..           ...   ...      ...       ...         ...        ...   \n",
       "188        Samoa  2017                NaN         NaN     24,69‰   \n",
       "189        Yemen  2017                NaN         NaN     31,04‰   \n",
       "190    Sudáfrica  2017                NaN         NaN     20,91‰   \n",
       "191       Zambia  2017                NaN         NaN     36,70‰   \n",
       "192     Zimbabue  2017                NaN         NaN     31,73‰   \n",
       "\n",
       "    fertility_rate variation  \n",
       "0             1,31    -1,92%  \n",
       "1             1,57    -1,88%  \n",
       "2             1,74    -2,79%  \n",
       "3             1,89    -1,56%  \n",
       "4             1,32    -1,49%  \n",
       "..             ...       ...  \n",
       "188           3,93    -1,26%  \n",
       "189           3,89    -2,60%  \n",
       "190           2,43    -1,10%  \n",
       "191           4,72    -1,99%  \n",
       "192           3,71    -2,55%  \n",
       "\n",
       "[193 rows x 8 columns]"
      ]
     },
     "execution_count": 198,
     "metadata": {},
     "output_type": "execute_result"
    }
   ],
   "source": [
    "n17"
   ]
  },
  {
   "cell_type": "markdown",
   "id": "153daa7d",
   "metadata": {},
   "source": [
    "#### ¡Lo tenemos! ✨\n",
    "\n",
    "Primer DataFrame limpio y listo para ser guardado para nuestra fase de analísis. "
   ]
  },
  {
   "cell_type": "code",
   "execution_count": 138,
   "id": "30a55d14",
   "metadata": {},
   "outputs": [],
   "source": [
    "n17.to_csv('n17_def.csv')"
   ]
  },
  {
   "cell_type": "markdown",
   "id": "04e544c9",
   "metadata": {},
   "source": [
    "Ahora a por los otros 4 años de información, donde repetiremos el proceso realizado:"
   ]
  },
  {
   "cell_type": "markdown",
   "id": "fdfe8850",
   "metadata": {},
   "source": [
    "### 2018"
   ]
  },
  {
   "cell_type": "code",
   "execution_count": 216,
   "id": "e904ebaf",
   "metadata": {
    "scrolled": true
   },
   "outputs": [
    {
     "data": {
      "text/html": [
       "<div>\n",
       "<style scoped>\n",
       "    .dataframe tbody tr th:only-of-type {\n",
       "        vertical-align: middle;\n",
       "    }\n",
       "\n",
       "    .dataframe tbody tr th {\n",
       "        vertical-align: top;\n",
       "    }\n",
       "\n",
       "    .dataframe thead th {\n",
       "        text-align: right;\n",
       "    }\n",
       "</style>\n",
       "<table border=\"1\" class=\"dataframe\">\n",
       "  <thead>\n",
       "    <tr style=\"text-align: right;\">\n",
       "      <th></th>\n",
       "      <th>0</th>\n",
       "    </tr>\n",
       "  </thead>\n",
       "  <tbody>\n",
       "    <tr>\n",
       "      <th>1</th>\n",
       "      <td>España [+] 2018 372.777 191.569 181.208 7,94‰ ...</td>\n",
       "    </tr>\n",
       "    <tr>\n",
       "      <th>2</th>\n",
       "      <td>Alemania [+] 2018 787.523 404.052 383.471 9,50...</td>\n",
       "    </tr>\n",
       "    <tr>\n",
       "      <th>3</th>\n",
       "      <td>Reino Unido [+] 2018 730.918 375.379 355.539 1...</td>\n",
       "    </tr>\n",
       "    <tr>\n",
       "      <th>4</th>\n",
       "      <td>Francia [+] 2018 759.199 388.944 370.255 11,30...</td>\n",
       "    </tr>\n",
       "    <tr>\n",
       "      <th>5</th>\n",
       "      <td>Italia [+] 2018 439.747 226.217 213.530 7,30‰ ...</td>\n",
       "    </tr>\n",
       "    <tr>\n",
       "      <th>...</th>\n",
       "      <td>...</td>\n",
       "    </tr>\n",
       "    <tr>\n",
       "      <th>189</th>\n",
       "      <td>Samoa [+] 2018 24,38‰ 3,88 -1,25%</td>\n",
       "    </tr>\n",
       "    <tr>\n",
       "      <th>190</th>\n",
       "      <td>Yemen [+] 2018 30,45‰ 3,79 -2,52%</td>\n",
       "    </tr>\n",
       "    <tr>\n",
       "      <th>191</th>\n",
       "      <td>Sudáfrica [+] 2018 20,51‰ 2,41 -1,03%</td>\n",
       "    </tr>\n",
       "    <tr>\n",
       "      <th>192</th>\n",
       "      <td>Zambia [+] 2018 36,19‰ 4,63 -1,80%</td>\n",
       "    </tr>\n",
       "    <tr>\n",
       "      <th>193</th>\n",
       "      <td>Zimbabue [+] 2018 30,68‰ 3,62 -2,48%</td>\n",
       "    </tr>\n",
       "  </tbody>\n",
       "</table>\n",
       "<p>193 rows × 1 columns</p>\n",
       "</div>"
      ],
      "text/plain": [
       "                                                     0\n",
       "1    España [+] 2018 372.777 191.569 181.208 7,94‰ ...\n",
       "2    Alemania [+] 2018 787.523 404.052 383.471 9,50...\n",
       "3    Reino Unido [+] 2018 730.918 375.379 355.539 1...\n",
       "4    Francia [+] 2018 759.199 388.944 370.255 11,30...\n",
       "5    Italia [+] 2018 439.747 226.217 213.530 7,30‰ ...\n",
       "..                                                 ...\n",
       "189                  Samoa [+] 2018 24,38‰ 3,88 -1,25%\n",
       "190                  Yemen [+] 2018 30,45‰ 3,79 -2,52%\n",
       "191              Sudáfrica [+] 2018 20,51‰ 2,41 -1,03%\n",
       "192                 Zambia [+] 2018 36,19‰ 4,63 -1,80%\n",
       "193               Zimbabue [+] 2018 30,68‰ 3,62 -2,48%\n",
       "\n",
       "[193 rows x 1 columns]"
      ]
     },
     "execution_count": 216,
     "metadata": {},
     "output_type": "execute_result"
    }
   ],
   "source": [
    "df_n18"
   ]
  },
  {
   "cell_type": "code",
   "execution_count": 217,
   "id": "f316c892",
   "metadata": {
    "scrolled": false
   },
   "outputs": [
    {
     "data": {
      "text/html": [
       "<div>\n",
       "<style scoped>\n",
       "    .dataframe tbody tr th:only-of-type {\n",
       "        vertical-align: middle;\n",
       "    }\n",
       "\n",
       "    .dataframe tbody tr th {\n",
       "        vertical-align: top;\n",
       "    }\n",
       "\n",
       "    .dataframe thead th {\n",
       "        text-align: right;\n",
       "    }\n",
       "</style>\n",
       "<table border=\"1\" class=\"dataframe\">\n",
       "  <thead>\n",
       "    <tr style=\"text-align: right;\">\n",
       "      <th></th>\n",
       "      <th>0</th>\n",
       "      <th>1</th>\n",
       "    </tr>\n",
       "  </thead>\n",
       "  <tbody>\n",
       "    <tr>\n",
       "      <th>1</th>\n",
       "      <td>España</td>\n",
       "      <td>+] 2018 372.777 191.569 181.208 7,94‰ 1,26 -3,67%</td>\n",
       "    </tr>\n",
       "    <tr>\n",
       "      <th>2</th>\n",
       "      <td>Alemania</td>\n",
       "      <td>+] 2018 787.523 404.052 383.471 9,50‰ 1,57 0</td>\n",
       "    </tr>\n",
       "    <tr>\n",
       "      <th>3</th>\n",
       "      <td>Reino Unido</td>\n",
       "      <td>+] 2018 730.918 375.379 355.539 11,00‰ 1,68 -3...</td>\n",
       "    </tr>\n",
       "    <tr>\n",
       "      <th>4</th>\n",
       "      <td>Francia</td>\n",
       "      <td>+] 2018 759.199 388.944 370.255 11,30‰ 1,87 -1...</td>\n",
       "    </tr>\n",
       "    <tr>\n",
       "      <th>5</th>\n",
       "      <td>Italia</td>\n",
       "      <td>+] 2018 439.747 226.217 213.530 7,30‰ 1,29 -2,27%</td>\n",
       "    </tr>\n",
       "    <tr>\n",
       "      <th>...</th>\n",
       "      <td>...</td>\n",
       "      <td>...</td>\n",
       "    </tr>\n",
       "    <tr>\n",
       "      <th>189</th>\n",
       "      <td>Samoa</td>\n",
       "      <td>+] 2018 24,38‰ 3,88 -1,25%</td>\n",
       "    </tr>\n",
       "    <tr>\n",
       "      <th>190</th>\n",
       "      <td>Yemen</td>\n",
       "      <td>+] 2018 30,45‰ 3,79 -2,52%</td>\n",
       "    </tr>\n",
       "    <tr>\n",
       "      <th>191</th>\n",
       "      <td>Sudáfrica</td>\n",
       "      <td>+] 2018 20,51‰ 2,41 -1,03%</td>\n",
       "    </tr>\n",
       "    <tr>\n",
       "      <th>192</th>\n",
       "      <td>Zambia</td>\n",
       "      <td>+] 2018 36,19‰ 4,63 -1,80%</td>\n",
       "    </tr>\n",
       "    <tr>\n",
       "      <th>193</th>\n",
       "      <td>Zimbabue</td>\n",
       "      <td>+] 2018 30,68‰ 3,62 -2,48%</td>\n",
       "    </tr>\n",
       "  </tbody>\n",
       "</table>\n",
       "<p>193 rows × 2 columns</p>\n",
       "</div>"
      ],
      "text/plain": [
       "               0                                                  1\n",
       "1         España  +] 2018 372.777 191.569 181.208 7,94‰ 1,26 -3,67%\n",
       "2       Alemania       +] 2018 787.523 404.052 383.471 9,50‰ 1,57 0\n",
       "3    Reino Unido  +] 2018 730.918 375.379 355.539 11,00‰ 1,68 -3...\n",
       "4        Francia  +] 2018 759.199 388.944 370.255 11,30‰ 1,87 -1...\n",
       "5         Italia  +] 2018 439.747 226.217 213.530 7,30‰ 1,29 -2,27%\n",
       "..           ...                                                ...\n",
       "189        Samoa                         +] 2018 24,38‰ 3,88 -1,25%\n",
       "190        Yemen                         +] 2018 30,45‰ 3,79 -2,52%\n",
       "191    Sudáfrica                         +] 2018 20,51‰ 2,41 -1,03%\n",
       "192       Zambia                         +] 2018 36,19‰ 4,63 -1,80%\n",
       "193     Zimbabue                         +] 2018 30,68‰ 3,62 -2,48%\n",
       "\n",
       "[193 rows x 2 columns]"
      ]
     },
     "execution_count": 217,
     "metadata": {},
     "output_type": "execute_result"
    }
   ],
   "source": [
    "df_n18= df_n18[\"0\"].str.split(\"\\s\\[\", regex= True, expand=True)\n",
    "df_n18"
   ]
  },
  {
   "cell_type": "code",
   "execution_count": 222,
   "id": "db6dcadf",
   "metadata": {},
   "outputs": [],
   "source": [
    "lon18=[]\n",
    "\n",
    "for i in df_n18[1]:\n",
    "    lon18.append(len(i.split()))"
   ]
  },
  {
   "cell_type": "code",
   "execution_count": 223,
   "id": "b147fc5c",
   "metadata": {},
   "outputs": [
    {
     "name": "stdout",
     "output_type": "stream",
     "text": [
      "{8, 5, 6, 7}\n"
     ]
    }
   ],
   "source": [
    "unicos18 = set(lon18)\n",
    "\n",
    "print(unicos18)"
   ]
  },
  {
   "cell_type": "code",
   "execution_count": 224,
   "id": "39b4c866",
   "metadata": {},
   "outputs": [],
   "source": [
    "nat2018 = {\n",
    "    \"year\": [],\n",
    "    \"born\": [],\n",
    "    \"male_born\": [],\n",
    "    \"female_born\":[],\n",
    "    \"birth_rate\": [],\n",
    "    \"fertility_rate\":[],\n",
    "    \"variation\":[]\n",
    "            }\n",
    "\n",
    "data_list = df_n18[1]\n",
    "\n",
    "for data in data_list:\n",
    "    \n",
    "    a = data.split()\n",
    "    \n",
    "    if len(a)== 8:\n",
    "        nat2018[\"year\"].append(str(a[1]))\n",
    "        nat2018[\"born\"].append(str(a[2]))\n",
    "        nat2018[\"male_born\"].append(str(a[3]))\n",
    "        nat2018[\"female_born\"].append(str(a[4]))\n",
    "        nat2018[\"birth_rate\"].append(str(a[5]))\n",
    "        nat2018[\"fertility_rate\"].append(str(a[6]))\n",
    "        nat2018[\"variation\"].append(str(a[7]))\n",
    "    \n",
    "    if len(a)== 7:\n",
    "        nat2018[\"year\"].append(str(a[1]))\n",
    "        nat2018[\"born\"].append(str(a[2]))\n",
    "        nat2018[\"male_born\"].append(str(a[3]))\n",
    "        nat2018[\"female_born\"].append(str(a[4]))\n",
    "        nat2018[\"birth_rate\"].append(str(a[5]))\n",
    "        nat2018[\"fertility_rate\"].append(str(a[6]))\n",
    "        nat2018[\"variation\"].append(np.nan)    \n",
    "            \n",
    "    if len(a)== 6:\n",
    "        nat2018[\"year\"].append(str(a[1]))\n",
    "        nat2018[\"born\"].append(str(a[2]))\n",
    "        nat2018[\"male_born\"].append(np.nan)\n",
    "        nat2018[\"female_born\"].append(np.nan)\n",
    "        nat2018[\"birth_rate\"].append(str(a[3]))\n",
    "        nat2018[\"fertility_rate\"].append(str(a[4]))\n",
    "        nat2018[\"variation\"].append(str(a[5]))\n",
    "            \n",
    "    if len(a)== 5:\n",
    "        nat2018[\"year\"].append(str(a[1]))\n",
    "        nat2018[\"born\"].append(np.nan)\n",
    "        nat2018[\"male_born\"].append(np.nan)\n",
    "        nat2018[\"female_born\"].append(np.nan)\n",
    "        nat2018[\"birth_rate\"].append(str(a[2]))\n",
    "        nat2018[\"fertility_rate\"].append(str(a[3]))\n",
    "        nat2018[\"variation\"].append(str(a[4]))"
   ]
  },
  {
   "cell_type": "code",
   "execution_count": 225,
   "id": "739eba70",
   "metadata": {},
   "outputs": [
    {
     "data": {
      "text/plain": [
       "193"
      ]
     },
     "execution_count": 225,
     "metadata": {},
     "output_type": "execute_result"
    }
   ],
   "source": [
    "#control\n",
    "len(nat2018[\"year\"])"
   ]
  },
  {
   "cell_type": "code",
   "execution_count": 226,
   "id": "756f590b",
   "metadata": {},
   "outputs": [
    {
     "data": {
      "text/plain": [
       "array(['España', 'Alemania', 'Reino Unido', 'Francia', 'Italia'],\n",
       "      dtype=object)"
      ]
     },
     "execution_count": 226,
     "metadata": {},
     "output_type": "execute_result"
    }
   ],
   "source": [
    "df_n18[0] = df_n18[0].apply(lambda x: str(x).replace(\" y \",\"_\"))\n",
    "df_n18[0].unique()[:5]"
   ]
  },
  {
   "cell_type": "code",
   "execution_count": 227,
   "id": "ce7120c6",
   "metadata": {},
   "outputs": [
    {
     "data": {
      "text/plain": [
       "array(['España', 'Alemania', 'Reino_Unido', 'Francia', 'Italia'],\n",
       "      dtype=object)"
      ]
     },
     "execution_count": 227,
     "metadata": {},
     "output_type": "execute_result"
    }
   ],
   "source": [
    "df_n18[0] = df_n18[0].apply(lambda x: str(x).replace(\" \",\"_\"))\n",
    "df_n18[0].unique()[:5]"
   ]
  },
  {
   "cell_type": "code",
   "execution_count": 228,
   "id": "be3def65",
   "metadata": {},
   "outputs": [],
   "source": [
    "paises18={\n",
    "        \"country\": []\n",
    "            }\n",
    "\n",
    "for i in df_n18[0]:\n",
    "    \n",
    "    paises18[\"country\"].append(i)"
   ]
  },
  {
   "cell_type": "code",
   "execution_count": 235,
   "id": "a98520c4",
   "metadata": {},
   "outputs": [],
   "source": [
    "union18 = list(zip(paises18[\"country\"], nat2018[\"year\"], nat2018[\"born\"], nat2018[\"male_born\"], nat2018[\"female_born\"], nat2018[\"birth_rate\"], nat2018[\"fertility_rate\"] , nat2018[\"variation\"]))"
   ]
  },
  {
   "cell_type": "code",
   "execution_count": 236,
   "id": "168c2f0b",
   "metadata": {
    "scrolled": false
   },
   "outputs": [
    {
     "data": {
      "text/html": [
       "<div>\n",
       "<style scoped>\n",
       "    .dataframe tbody tr th:only-of-type {\n",
       "        vertical-align: middle;\n",
       "    }\n",
       "\n",
       "    .dataframe tbody tr th {\n",
       "        vertical-align: top;\n",
       "    }\n",
       "\n",
       "    .dataframe thead th {\n",
       "        text-align: right;\n",
       "    }\n",
       "</style>\n",
       "<table border=\"1\" class=\"dataframe\">\n",
       "  <thead>\n",
       "    <tr style=\"text-align: right;\">\n",
       "      <th></th>\n",
       "      <th>0</th>\n",
       "      <th>1</th>\n",
       "      <th>2</th>\n",
       "      <th>3</th>\n",
       "      <th>4</th>\n",
       "      <th>5</th>\n",
       "      <th>6</th>\n",
       "      <th>7</th>\n",
       "    </tr>\n",
       "  </thead>\n",
       "  <tbody>\n",
       "    <tr>\n",
       "      <th>0</th>\n",
       "      <td>España</td>\n",
       "      <td>2018</td>\n",
       "      <td>372.777</td>\n",
       "      <td>191.569</td>\n",
       "      <td>181.208</td>\n",
       "      <td>7,94‰</td>\n",
       "      <td>1,26</td>\n",
       "      <td>-3,67%</td>\n",
       "    </tr>\n",
       "    <tr>\n",
       "      <th>1</th>\n",
       "      <td>Alemania</td>\n",
       "      <td>2018</td>\n",
       "      <td>787.523</td>\n",
       "      <td>404.052</td>\n",
       "      <td>383.471</td>\n",
       "      <td>9,50‰</td>\n",
       "      <td>1,57</td>\n",
       "      <td>0</td>\n",
       "    </tr>\n",
       "    <tr>\n",
       "      <th>2</th>\n",
       "      <td>Reino_Unido</td>\n",
       "      <td>2018</td>\n",
       "      <td>730.918</td>\n",
       "      <td>375.379</td>\n",
       "      <td>355.539</td>\n",
       "      <td>11,00‰</td>\n",
       "      <td>1,68</td>\n",
       "      <td>-3,45%</td>\n",
       "    </tr>\n",
       "    <tr>\n",
       "      <th>3</th>\n",
       "      <td>Francia</td>\n",
       "      <td>2018</td>\n",
       "      <td>759.199</td>\n",
       "      <td>388.944</td>\n",
       "      <td>370.255</td>\n",
       "      <td>11,30‰</td>\n",
       "      <td>1,87</td>\n",
       "      <td>-1,06%</td>\n",
       "    </tr>\n",
       "    <tr>\n",
       "      <th>4</th>\n",
       "      <td>Italia</td>\n",
       "      <td>2018</td>\n",
       "      <td>439.747</td>\n",
       "      <td>226.217</td>\n",
       "      <td>213.530</td>\n",
       "      <td>7,30‰</td>\n",
       "      <td>1,29</td>\n",
       "      <td>-2,27%</td>\n",
       "    </tr>\n",
       "    <tr>\n",
       "      <th>...</th>\n",
       "      <td>...</td>\n",
       "      <td>...</td>\n",
       "      <td>...</td>\n",
       "      <td>...</td>\n",
       "      <td>...</td>\n",
       "      <td>...</td>\n",
       "      <td>...</td>\n",
       "      <td>...</td>\n",
       "    </tr>\n",
       "    <tr>\n",
       "      <th>188</th>\n",
       "      <td>Samoa</td>\n",
       "      <td>2018</td>\n",
       "      <td>NaN</td>\n",
       "      <td>NaN</td>\n",
       "      <td>NaN</td>\n",
       "      <td>24,38‰</td>\n",
       "      <td>3,88</td>\n",
       "      <td>-1,25%</td>\n",
       "    </tr>\n",
       "    <tr>\n",
       "      <th>189</th>\n",
       "      <td>Yemen</td>\n",
       "      <td>2018</td>\n",
       "      <td>NaN</td>\n",
       "      <td>NaN</td>\n",
       "      <td>NaN</td>\n",
       "      <td>30,45‰</td>\n",
       "      <td>3,79</td>\n",
       "      <td>-2,52%</td>\n",
       "    </tr>\n",
       "    <tr>\n",
       "      <th>190</th>\n",
       "      <td>Sudáfrica</td>\n",
       "      <td>2018</td>\n",
       "      <td>NaN</td>\n",
       "      <td>NaN</td>\n",
       "      <td>NaN</td>\n",
       "      <td>20,51‰</td>\n",
       "      <td>2,41</td>\n",
       "      <td>-1,03%</td>\n",
       "    </tr>\n",
       "    <tr>\n",
       "      <th>191</th>\n",
       "      <td>Zambia</td>\n",
       "      <td>2018</td>\n",
       "      <td>NaN</td>\n",
       "      <td>NaN</td>\n",
       "      <td>NaN</td>\n",
       "      <td>36,19‰</td>\n",
       "      <td>4,63</td>\n",
       "      <td>-1,80%</td>\n",
       "    </tr>\n",
       "    <tr>\n",
       "      <th>192</th>\n",
       "      <td>Zimbabue</td>\n",
       "      <td>2018</td>\n",
       "      <td>NaN</td>\n",
       "      <td>NaN</td>\n",
       "      <td>NaN</td>\n",
       "      <td>30,68‰</td>\n",
       "      <td>3,62</td>\n",
       "      <td>-2,48%</td>\n",
       "    </tr>\n",
       "  </tbody>\n",
       "</table>\n",
       "<p>193 rows × 8 columns</p>\n",
       "</div>"
      ],
      "text/plain": [
       "               0     1        2        3        4       5     6       7\n",
       "0         España  2018  372.777  191.569  181.208   7,94‰  1,26  -3,67%\n",
       "1       Alemania  2018  787.523  404.052  383.471   9,50‰  1,57       0\n",
       "2    Reino_Unido  2018  730.918  375.379  355.539  11,00‰  1,68  -3,45%\n",
       "3        Francia  2018  759.199  388.944  370.255  11,30‰  1,87  -1,06%\n",
       "4         Italia  2018  439.747  226.217  213.530   7,30‰  1,29  -2,27%\n",
       "..           ...   ...      ...      ...      ...     ...   ...     ...\n",
       "188        Samoa  2018      NaN      NaN      NaN  24,38‰  3,88  -1,25%\n",
       "189        Yemen  2018      NaN      NaN      NaN  30,45‰  3,79  -2,52%\n",
       "190    Sudáfrica  2018      NaN      NaN      NaN  20,51‰  2,41  -1,03%\n",
       "191       Zambia  2018      NaN      NaN      NaN  36,19‰  4,63  -1,80%\n",
       "192     Zimbabue  2018      NaN      NaN      NaN  30,68‰  3,62  -2,48%\n",
       "\n",
       "[193 rows x 8 columns]"
      ]
     },
     "execution_count": 236,
     "metadata": {},
     "output_type": "execute_result"
    }
   ],
   "source": [
    "n18= pd.DataFrame(union18)\n",
    "n18"
   ]
  },
  {
   "cell_type": "markdown",
   "id": "b49b5627",
   "metadata": {},
   "source": [
    "### 2019"
   ]
  },
  {
   "cell_type": "code",
   "execution_count": 232,
   "id": "2120c38c",
   "metadata": {
    "scrolled": false
   },
   "outputs": [
    {
     "data": {
      "text/html": [
       "<div>\n",
       "<style scoped>\n",
       "    .dataframe tbody tr th:only-of-type {\n",
       "        vertical-align: middle;\n",
       "    }\n",
       "\n",
       "    .dataframe tbody tr th {\n",
       "        vertical-align: top;\n",
       "    }\n",
       "\n",
       "    .dataframe thead th {\n",
       "        text-align: right;\n",
       "    }\n",
       "</style>\n",
       "<table border=\"1\" class=\"dataframe\">\n",
       "  <thead>\n",
       "    <tr style=\"text-align: right;\">\n",
       "      <th></th>\n",
       "      <th>0</th>\n",
       "    </tr>\n",
       "  </thead>\n",
       "  <tbody>\n",
       "    <tr>\n",
       "      <th>1</th>\n",
       "      <td>España [+] 2019 360.617 185.523 175.094 7,62‰ ...</td>\n",
       "    </tr>\n",
       "    <tr>\n",
       "      <th>2</th>\n",
       "      <td>Alemania [+] 2019 778.090 399.292 378.798 9,40...</td>\n",
       "    </tr>\n",
       "    <tr>\n",
       "      <th>3</th>\n",
       "      <td>Reino Unido [+] 2019 712.699 375.379 355.539 1...</td>\n",
       "    </tr>\n",
       "    <tr>\n",
       "      <th>4</th>\n",
       "      <td>Francia [+] 2019 754.008 385.340 368.668 11,20...</td>\n",
       "    </tr>\n",
       "    <tr>\n",
       "      <th>5</th>\n",
       "      <td>Italia [+] 2019 420.084 215.387 204.697 7,00‰ ...</td>\n",
       "    </tr>\n",
       "    <tr>\n",
       "      <th>...</th>\n",
       "      <td>...</td>\n",
       "    </tr>\n",
       "    <tr>\n",
       "      <th>189</th>\n",
       "      <td>Samoa [+] 2019 24,10‰ 3,83 -1,21%</td>\n",
       "    </tr>\n",
       "    <tr>\n",
       "      <th>190</th>\n",
       "      <td>Yemen [+] 2019 29,87‰ 3,70 -2,43%</td>\n",
       "    </tr>\n",
       "    <tr>\n",
       "      <th>191</th>\n",
       "      <td>Sudáfrica [+] 2019 20,13‰ 2,38 -1,00%</td>\n",
       "    </tr>\n",
       "    <tr>\n",
       "      <th>192</th>\n",
       "      <td>Zambia [+] 2019 35,78‰ 4,56 -1,60%</td>\n",
       "    </tr>\n",
       "    <tr>\n",
       "      <th>193</th>\n",
       "      <td>Zimbabue [+] 2019 29,75‰ 3,53 -2,32%</td>\n",
       "    </tr>\n",
       "  </tbody>\n",
       "</table>\n",
       "<p>193 rows × 1 columns</p>\n",
       "</div>"
      ],
      "text/plain": [
       "                                                     0\n",
       "1    España [+] 2019 360.617 185.523 175.094 7,62‰ ...\n",
       "2    Alemania [+] 2019 778.090 399.292 378.798 9,40...\n",
       "3    Reino Unido [+] 2019 712.699 375.379 355.539 1...\n",
       "4    Francia [+] 2019 754.008 385.340 368.668 11,20...\n",
       "5    Italia [+] 2019 420.084 215.387 204.697 7,00‰ ...\n",
       "..                                                 ...\n",
       "189                  Samoa [+] 2019 24,10‰ 3,83 -1,21%\n",
       "190                  Yemen [+] 2019 29,87‰ 3,70 -2,43%\n",
       "191              Sudáfrica [+] 2019 20,13‰ 2,38 -1,00%\n",
       "192                 Zambia [+] 2019 35,78‰ 4,56 -1,60%\n",
       "193               Zimbabue [+] 2019 29,75‰ 3,53 -2,32%\n",
       "\n",
       "[193 rows x 1 columns]"
      ]
     },
     "execution_count": 232,
     "metadata": {},
     "output_type": "execute_result"
    }
   ],
   "source": [
    "df_n19"
   ]
  },
  {
   "cell_type": "code",
   "execution_count": 233,
   "id": "e1b70860",
   "metadata": {
    "scrolled": false
   },
   "outputs": [
    {
     "data": {
      "text/html": [
       "<div>\n",
       "<style scoped>\n",
       "    .dataframe tbody tr th:only-of-type {\n",
       "        vertical-align: middle;\n",
       "    }\n",
       "\n",
       "    .dataframe tbody tr th {\n",
       "        vertical-align: top;\n",
       "    }\n",
       "\n",
       "    .dataframe thead th {\n",
       "        text-align: right;\n",
       "    }\n",
       "</style>\n",
       "<table border=\"1\" class=\"dataframe\">\n",
       "  <thead>\n",
       "    <tr style=\"text-align: right;\">\n",
       "      <th></th>\n",
       "      <th>0</th>\n",
       "      <th>1</th>\n",
       "    </tr>\n",
       "  </thead>\n",
       "  <tbody>\n",
       "    <tr>\n",
       "      <th>1</th>\n",
       "      <td>España</td>\n",
       "      <td>+] 2019 360.617 185.523 175.094 7,62‰ 1,24 -2,24%</td>\n",
       "    </tr>\n",
       "    <tr>\n",
       "      <th>2</th>\n",
       "      <td>Alemania</td>\n",
       "      <td>+] 2019 778.090 399.292 378.798 9,40‰ 1,54 -1,91%</td>\n",
       "    </tr>\n",
       "    <tr>\n",
       "      <th>3</th>\n",
       "      <td>Reino Unido</td>\n",
       "      <td>+] 2019 712.699 375.379 355.539 10,70‰ 1,63 -2...</td>\n",
       "    </tr>\n",
       "    <tr>\n",
       "      <th>4</th>\n",
       "      <td>Francia</td>\n",
       "      <td>+] 2019 754.008 385.340 368.668 11,20‰ 1,86 -0...</td>\n",
       "    </tr>\n",
       "    <tr>\n",
       "      <th>5</th>\n",
       "      <td>Italia</td>\n",
       "      <td>+] 2019 420.084 215.387 204.697 7,00‰ 1,27 -1,55%</td>\n",
       "    </tr>\n",
       "    <tr>\n",
       "      <th>...</th>\n",
       "      <td>...</td>\n",
       "      <td>...</td>\n",
       "    </tr>\n",
       "    <tr>\n",
       "      <th>189</th>\n",
       "      <td>Samoa</td>\n",
       "      <td>+] 2019 24,10‰ 3,83 -1,21%</td>\n",
       "    </tr>\n",
       "    <tr>\n",
       "      <th>190</th>\n",
       "      <td>Yemen</td>\n",
       "      <td>+] 2019 29,87‰ 3,70 -2,43%</td>\n",
       "    </tr>\n",
       "    <tr>\n",
       "      <th>191</th>\n",
       "      <td>Sudáfrica</td>\n",
       "      <td>+] 2019 20,13‰ 2,38 -1,00%</td>\n",
       "    </tr>\n",
       "    <tr>\n",
       "      <th>192</th>\n",
       "      <td>Zambia</td>\n",
       "      <td>+] 2019 35,78‰ 4,56 -1,60%</td>\n",
       "    </tr>\n",
       "    <tr>\n",
       "      <th>193</th>\n",
       "      <td>Zimbabue</td>\n",
       "      <td>+] 2019 29,75‰ 3,53 -2,32%</td>\n",
       "    </tr>\n",
       "  </tbody>\n",
       "</table>\n",
       "<p>193 rows × 2 columns</p>\n",
       "</div>"
      ],
      "text/plain": [
       "               0                                                  1\n",
       "1         España  +] 2019 360.617 185.523 175.094 7,62‰ 1,24 -2,24%\n",
       "2       Alemania  +] 2019 778.090 399.292 378.798 9,40‰ 1,54 -1,91%\n",
       "3    Reino Unido  +] 2019 712.699 375.379 355.539 10,70‰ 1,63 -2...\n",
       "4        Francia  +] 2019 754.008 385.340 368.668 11,20‰ 1,86 -0...\n",
       "5         Italia  +] 2019 420.084 215.387 204.697 7,00‰ 1,27 -1,55%\n",
       "..           ...                                                ...\n",
       "189        Samoa                         +] 2019 24,10‰ 3,83 -1,21%\n",
       "190        Yemen                         +] 2019 29,87‰ 3,70 -2,43%\n",
       "191    Sudáfrica                         +] 2019 20,13‰ 2,38 -1,00%\n",
       "192       Zambia                         +] 2019 35,78‰ 4,56 -1,60%\n",
       "193     Zimbabue                         +] 2019 29,75‰ 3,53 -2,32%\n",
       "\n",
       "[193 rows x 2 columns]"
      ]
     },
     "execution_count": 233,
     "metadata": {},
     "output_type": "execute_result"
    }
   ],
   "source": [
    "df_n19= df_n19[\"0\"].str.split(\"\\s\\[\", regex= True, expand=True)\n",
    "df_n19"
   ]
  },
  {
   "cell_type": "code",
   "execution_count": 234,
   "id": "9c1a5c1b",
   "metadata": {},
   "outputs": [],
   "source": [
    "lon19=[]\n",
    "\n",
    "for i in df_n19[1]:\n",
    "    lon19.append(len(i.split()))"
   ]
  },
  {
   "cell_type": "code",
   "execution_count": 237,
   "id": "64cd33c2",
   "metadata": {},
   "outputs": [
    {
     "name": "stdout",
     "output_type": "stream",
     "text": [
      "{8, 5, 6, 7}\n"
     ]
    }
   ],
   "source": [
    "unicos19 = set(lon19)\n",
    "\n",
    "print(unicos19)"
   ]
  },
  {
   "cell_type": "code",
   "execution_count": 238,
   "id": "816e8724",
   "metadata": {},
   "outputs": [],
   "source": [
    "nat2019 = {\n",
    "    \"year\": [],\n",
    "    \"born\": [],\n",
    "    \"male_born\": [],\n",
    "    \"female_born\":[],\n",
    "    \"birth_rate\": [],\n",
    "    \"fertility_rate\":[],\n",
    "    \"variation\":[]\n",
    "            }\n",
    "\n",
    "data_list = df_n19[1]\n",
    "\n",
    "for data in data_list:\n",
    "    \n",
    "    a = data.split()\n",
    "    \n",
    "    if len(a)== 8:\n",
    "        nat2019[\"year\"].append(str(a[1]))\n",
    "        nat2019[\"born\"].append(str(a[2]))\n",
    "        nat2019[\"male_born\"].append(str(a[3]))\n",
    "        nat2019[\"female_born\"].append(str(a[4]))\n",
    "        nat2019[\"birth_rate\"].append(str(a[5]))\n",
    "        nat2019[\"fertility_rate\"].append(str(a[6]))\n",
    "        nat2019[\"variation\"].append(str(a[7]))\n",
    "    \n",
    "    if len(a)== 7:\n",
    "        nat2019[\"year\"].append(str(a[1]))\n",
    "        nat2019[\"born\"].append(str(a[2]))\n",
    "        nat2019[\"male_born\"].append(str(a[3]))\n",
    "        nat2019[\"female_born\"].append(str(a[4]))\n",
    "        nat2019[\"birth_rate\"].append(str(a[5]))\n",
    "        nat2019[\"fertility_rate\"].append(str(a[6]))\n",
    "        nat2019[\"variation\"].append(np.nan)    \n",
    "            \n",
    "    if len(a)== 6:\n",
    "        nat2019[\"year\"].append(str(a[1]))\n",
    "        nat2019[\"born\"].append(str(a[2]))\n",
    "        nat2019[\"male_born\"].append(np.nan)\n",
    "        nat2019[\"female_born\"].append(np.nan)\n",
    "        nat2019[\"birth_rate\"].append(str(a[3]))\n",
    "        nat2019[\"fertility_rate\"].append(str(a[4]))\n",
    "        nat2019[\"variation\"].append(str(a[5]))\n",
    "            \n",
    "    if len(a)== 5:\n",
    "        nat2019[\"year\"].append(str(a[1]))\n",
    "        nat2019[\"born\"].append(np.nan)\n",
    "        nat2019[\"male_born\"].append(np.nan)\n",
    "        nat2019[\"female_born\"].append(np.nan)\n",
    "        nat2019[\"birth_rate\"].append(str(a[2]))\n",
    "        nat2019[\"fertility_rate\"].append(str(a[3]))\n",
    "        nat2019[\"variation\"].append(str(a[4]))"
   ]
  },
  {
   "cell_type": "code",
   "execution_count": 239,
   "id": "d818e92c",
   "metadata": {},
   "outputs": [
    {
     "data": {
      "text/plain": [
       "193"
      ]
     },
     "execution_count": 239,
     "metadata": {},
     "output_type": "execute_result"
    }
   ],
   "source": [
    "#control\n",
    "len(nat2019[\"year\"])"
   ]
  },
  {
   "cell_type": "code",
   "execution_count": 240,
   "id": "fdcd9547",
   "metadata": {},
   "outputs": [
    {
     "data": {
      "text/plain": [
       "array(['España', 'Alemania', 'Reino Unido', 'Francia', 'Italia'],\n",
       "      dtype=object)"
      ]
     },
     "execution_count": 240,
     "metadata": {},
     "output_type": "execute_result"
    }
   ],
   "source": [
    "df_n19[0] = df_n19[0].apply(lambda x: str(x).replace(\" y \",\"_\"))\n",
    "df_n19[0].unique()[:5]"
   ]
  },
  {
   "cell_type": "code",
   "execution_count": 241,
   "id": "ee719595",
   "metadata": {},
   "outputs": [
    {
     "data": {
      "text/plain": [
       "array(['España', 'Alemania', 'Reino_Unido', 'Francia', 'Italia'],\n",
       "      dtype=object)"
      ]
     },
     "execution_count": 241,
     "metadata": {},
     "output_type": "execute_result"
    }
   ],
   "source": [
    "df_n19[0] = df_n19[0].apply(lambda x: str(x).replace(\" \",\"_\"))\n",
    "df_n19[0].unique()[:5]"
   ]
  },
  {
   "cell_type": "code",
   "execution_count": 242,
   "id": "c47c7760",
   "metadata": {},
   "outputs": [],
   "source": [
    "paises19={\n",
    "        \"country\": []\n",
    "            }\n",
    "\n",
    "for i in df_n19[0]:\n",
    "    \n",
    "    paises19[\"country\"].append(i)"
   ]
  },
  {
   "cell_type": "code",
   "execution_count": 259,
   "id": "bdb1602c",
   "metadata": {},
   "outputs": [],
   "source": [
    "union19 = list(zip(paises19[\"country\"], nat2019[\"year\"], nat2019[\"born\"], nat2019[\"male_born\"], nat2019[\"female_born\"], nat2019[\"birth_rate\"], nat2019[\"fertility_rate\"] , nat2019[\"variation\"]))"
   ]
  },
  {
   "cell_type": "code",
   "execution_count": 260,
   "id": "973357b1",
   "metadata": {
    "scrolled": false
   },
   "outputs": [
    {
     "data": {
      "text/html": [
       "<div>\n",
       "<style scoped>\n",
       "    .dataframe tbody tr th:only-of-type {\n",
       "        vertical-align: middle;\n",
       "    }\n",
       "\n",
       "    .dataframe tbody tr th {\n",
       "        vertical-align: top;\n",
       "    }\n",
       "\n",
       "    .dataframe thead th {\n",
       "        text-align: right;\n",
       "    }\n",
       "</style>\n",
       "<table border=\"1\" class=\"dataframe\">\n",
       "  <thead>\n",
       "    <tr style=\"text-align: right;\">\n",
       "      <th></th>\n",
       "      <th>0</th>\n",
       "      <th>1</th>\n",
       "      <th>2</th>\n",
       "      <th>3</th>\n",
       "      <th>4</th>\n",
       "      <th>5</th>\n",
       "      <th>6</th>\n",
       "      <th>7</th>\n",
       "    </tr>\n",
       "  </thead>\n",
       "  <tbody>\n",
       "    <tr>\n",
       "      <th>0</th>\n",
       "      <td>España</td>\n",
       "      <td>2019</td>\n",
       "      <td>360.617</td>\n",
       "      <td>185.523</td>\n",
       "      <td>175.094</td>\n",
       "      <td>7,62‰</td>\n",
       "      <td>1,24</td>\n",
       "      <td>-2,24%</td>\n",
       "    </tr>\n",
       "    <tr>\n",
       "      <th>1</th>\n",
       "      <td>Alemania</td>\n",
       "      <td>2019</td>\n",
       "      <td>778.090</td>\n",
       "      <td>399.292</td>\n",
       "      <td>378.798</td>\n",
       "      <td>9,40‰</td>\n",
       "      <td>1,54</td>\n",
       "      <td>-1,91%</td>\n",
       "    </tr>\n",
       "    <tr>\n",
       "      <th>2</th>\n",
       "      <td>Reino_Unido</td>\n",
       "      <td>2019</td>\n",
       "      <td>712.699</td>\n",
       "      <td>375.379</td>\n",
       "      <td>355.539</td>\n",
       "      <td>10,70‰</td>\n",
       "      <td>1,63</td>\n",
       "      <td>-2,98%</td>\n",
       "    </tr>\n",
       "    <tr>\n",
       "      <th>3</th>\n",
       "      <td>Francia</td>\n",
       "      <td>2019</td>\n",
       "      <td>754.008</td>\n",
       "      <td>385.340</td>\n",
       "      <td>368.668</td>\n",
       "      <td>11,20‰</td>\n",
       "      <td>1,86</td>\n",
       "      <td>-0,53%</td>\n",
       "    </tr>\n",
       "    <tr>\n",
       "      <th>4</th>\n",
       "      <td>Italia</td>\n",
       "      <td>2019</td>\n",
       "      <td>420.084</td>\n",
       "      <td>215.387</td>\n",
       "      <td>204.697</td>\n",
       "      <td>7,00‰</td>\n",
       "      <td>1,27</td>\n",
       "      <td>-1,55%</td>\n",
       "    </tr>\n",
       "    <tr>\n",
       "      <th>...</th>\n",
       "      <td>...</td>\n",
       "      <td>...</td>\n",
       "      <td>...</td>\n",
       "      <td>...</td>\n",
       "      <td>...</td>\n",
       "      <td>...</td>\n",
       "      <td>...</td>\n",
       "      <td>...</td>\n",
       "    </tr>\n",
       "    <tr>\n",
       "      <th>188</th>\n",
       "      <td>Samoa</td>\n",
       "      <td>2019</td>\n",
       "      <td>NaN</td>\n",
       "      <td>NaN</td>\n",
       "      <td>NaN</td>\n",
       "      <td>24,10‰</td>\n",
       "      <td>3,83</td>\n",
       "      <td>-1,21%</td>\n",
       "    </tr>\n",
       "    <tr>\n",
       "      <th>189</th>\n",
       "      <td>Yemen</td>\n",
       "      <td>2019</td>\n",
       "      <td>NaN</td>\n",
       "      <td>NaN</td>\n",
       "      <td>NaN</td>\n",
       "      <td>29,87‰</td>\n",
       "      <td>3,70</td>\n",
       "      <td>-2,43%</td>\n",
       "    </tr>\n",
       "    <tr>\n",
       "      <th>190</th>\n",
       "      <td>Sudáfrica</td>\n",
       "      <td>2019</td>\n",
       "      <td>NaN</td>\n",
       "      <td>NaN</td>\n",
       "      <td>NaN</td>\n",
       "      <td>20,13‰</td>\n",
       "      <td>2,38</td>\n",
       "      <td>-1,00%</td>\n",
       "    </tr>\n",
       "    <tr>\n",
       "      <th>191</th>\n",
       "      <td>Zambia</td>\n",
       "      <td>2019</td>\n",
       "      <td>NaN</td>\n",
       "      <td>NaN</td>\n",
       "      <td>NaN</td>\n",
       "      <td>35,78‰</td>\n",
       "      <td>4,56</td>\n",
       "      <td>-1,60%</td>\n",
       "    </tr>\n",
       "    <tr>\n",
       "      <th>192</th>\n",
       "      <td>Zimbabue</td>\n",
       "      <td>2019</td>\n",
       "      <td>NaN</td>\n",
       "      <td>NaN</td>\n",
       "      <td>NaN</td>\n",
       "      <td>29,75‰</td>\n",
       "      <td>3,53</td>\n",
       "      <td>-2,32%</td>\n",
       "    </tr>\n",
       "  </tbody>\n",
       "</table>\n",
       "<p>193 rows × 8 columns</p>\n",
       "</div>"
      ],
      "text/plain": [
       "               0     1        2        3        4       5     6       7\n",
       "0         España  2019  360.617  185.523  175.094   7,62‰  1,24  -2,24%\n",
       "1       Alemania  2019  778.090  399.292  378.798   9,40‰  1,54  -1,91%\n",
       "2    Reino_Unido  2019  712.699  375.379  355.539  10,70‰  1,63  -2,98%\n",
       "3        Francia  2019  754.008  385.340  368.668  11,20‰  1,86  -0,53%\n",
       "4         Italia  2019  420.084  215.387  204.697   7,00‰  1,27  -1,55%\n",
       "..           ...   ...      ...      ...      ...     ...   ...     ...\n",
       "188        Samoa  2019      NaN      NaN      NaN  24,10‰  3,83  -1,21%\n",
       "189        Yemen  2019      NaN      NaN      NaN  29,87‰  3,70  -2,43%\n",
       "190    Sudáfrica  2019      NaN      NaN      NaN  20,13‰  2,38  -1,00%\n",
       "191       Zambia  2019      NaN      NaN      NaN  35,78‰  4,56  -1,60%\n",
       "192     Zimbabue  2019      NaN      NaN      NaN  29,75‰  3,53  -2,32%\n",
       "\n",
       "[193 rows x 8 columns]"
      ]
     },
     "execution_count": 260,
     "metadata": {},
     "output_type": "execute_result"
    }
   ],
   "source": [
    "n19= pd.DataFrame(union19)\n",
    "n19"
   ]
  },
  {
   "cell_type": "markdown",
   "id": "cd16e294",
   "metadata": {},
   "source": [
    "### 2020"
   ]
  },
  {
   "cell_type": "code",
   "execution_count": 245,
   "id": "bca0c9b9",
   "metadata": {
    "scrolled": false
   },
   "outputs": [
    {
     "data": {
      "text/html": [
       "<div>\n",
       "<style scoped>\n",
       "    .dataframe tbody tr th:only-of-type {\n",
       "        vertical-align: middle;\n",
       "    }\n",
       "\n",
       "    .dataframe tbody tr th {\n",
       "        vertical-align: top;\n",
       "    }\n",
       "\n",
       "    .dataframe thead th {\n",
       "        text-align: right;\n",
       "    }\n",
       "</style>\n",
       "<table border=\"1\" class=\"dataframe\">\n",
       "  <thead>\n",
       "    <tr style=\"text-align: right;\">\n",
       "      <th></th>\n",
       "      <th>0</th>\n",
       "    </tr>\n",
       "  </thead>\n",
       "  <tbody>\n",
       "    <tr>\n",
       "      <th>1</th>\n",
       "      <td>España [+] 2020 341.315 174.842 166.473 7,19‰ ...</td>\n",
       "    </tr>\n",
       "    <tr>\n",
       "      <th>2</th>\n",
       "      <td>Alemania [+] 2020 773.144 397.385 375.759 9,30...</td>\n",
       "    </tr>\n",
       "    <tr>\n",
       "      <th>3</th>\n",
       "      <td>Reino Unido [+] 2020 712.699 375.379 355.539 1...</td>\n",
       "    </tr>\n",
       "    <tr>\n",
       "      <th>4</th>\n",
       "      <td>Francia [+] 2020 735.775 376.187 359.588 10,90...</td>\n",
       "    </tr>\n",
       "    <tr>\n",
       "      <th>5</th>\n",
       "      <td>Italia [+] 2020 404.892 208.431 196.461 6,80‰ ...</td>\n",
       "    </tr>\n",
       "    <tr>\n",
       "      <th>...</th>\n",
       "      <td>...</td>\n",
       "    </tr>\n",
       "    <tr>\n",
       "      <th>189</th>\n",
       "      <td>Samoa [+] 2020 23,86‰ 3,79 -1,17%</td>\n",
       "    </tr>\n",
       "    <tr>\n",
       "      <th>190</th>\n",
       "      <td>Yemen [+] 2020 29,30‰ 3,61 -2,32%</td>\n",
       "    </tr>\n",
       "    <tr>\n",
       "      <th>191</th>\n",
       "      <td>Sudáfrica [+] 2020 19,77‰ 2,36 -0,97%</td>\n",
       "    </tr>\n",
       "    <tr>\n",
       "      <th>192</th>\n",
       "      <td>Zambia [+] 2020 35,44‰ 4,50 -1,38%</td>\n",
       "    </tr>\n",
       "    <tr>\n",
       "      <th>193</th>\n",
       "      <td>Zimbabue [+] 2020 28,98‰ 3,46 -2,01%</td>\n",
       "    </tr>\n",
       "  </tbody>\n",
       "</table>\n",
       "<p>193 rows × 1 columns</p>\n",
       "</div>"
      ],
      "text/plain": [
       "                                                     0\n",
       "1    España [+] 2020 341.315 174.842 166.473 7,19‰ ...\n",
       "2    Alemania [+] 2020 773.144 397.385 375.759 9,30...\n",
       "3    Reino Unido [+] 2020 712.699 375.379 355.539 1...\n",
       "4    Francia [+] 2020 735.775 376.187 359.588 10,90...\n",
       "5    Italia [+] 2020 404.892 208.431 196.461 6,80‰ ...\n",
       "..                                                 ...\n",
       "189                  Samoa [+] 2020 23,86‰ 3,79 -1,17%\n",
       "190                  Yemen [+] 2020 29,30‰ 3,61 -2,32%\n",
       "191              Sudáfrica [+] 2020 19,77‰ 2,36 -0,97%\n",
       "192                 Zambia [+] 2020 35,44‰ 4,50 -1,38%\n",
       "193               Zimbabue [+] 2020 28,98‰ 3,46 -2,01%\n",
       "\n",
       "[193 rows x 1 columns]"
      ]
     },
     "execution_count": 245,
     "metadata": {},
     "output_type": "execute_result"
    }
   ],
   "source": [
    "df_n20"
   ]
  },
  {
   "cell_type": "code",
   "execution_count": 246,
   "id": "5b2aca8e",
   "metadata": {
    "scrolled": false
   },
   "outputs": [
    {
     "data": {
      "text/html": [
       "<div>\n",
       "<style scoped>\n",
       "    .dataframe tbody tr th:only-of-type {\n",
       "        vertical-align: middle;\n",
       "    }\n",
       "\n",
       "    .dataframe tbody tr th {\n",
       "        vertical-align: top;\n",
       "    }\n",
       "\n",
       "    .dataframe thead th {\n",
       "        text-align: right;\n",
       "    }\n",
       "</style>\n",
       "<table border=\"1\" class=\"dataframe\">\n",
       "  <thead>\n",
       "    <tr style=\"text-align: right;\">\n",
       "      <th></th>\n",
       "      <th>0</th>\n",
       "      <th>1</th>\n",
       "    </tr>\n",
       "  </thead>\n",
       "  <tbody>\n",
       "    <tr>\n",
       "      <th>1</th>\n",
       "      <td>España</td>\n",
       "      <td>+] 2020 341.315 174.842 166.473 7,19‰ 1,19 -4,03%</td>\n",
       "    </tr>\n",
       "    <tr>\n",
       "      <th>2</th>\n",
       "      <td>Alemania</td>\n",
       "      <td>+] 2020 773.144 397.385 375.759 9,30‰ 1,53 -0,65%</td>\n",
       "    </tr>\n",
       "    <tr>\n",
       "      <th>3</th>\n",
       "      <td>Reino Unido</td>\n",
       "      <td>+] 2020 712.699 375.379 355.539 10,20‰ 1,56 -4...</td>\n",
       "    </tr>\n",
       "    <tr>\n",
       "      <th>4</th>\n",
       "      <td>Francia</td>\n",
       "      <td>+] 2020 735.775 376.187 359.588 10,90‰ 1,83 -1...</td>\n",
       "    </tr>\n",
       "    <tr>\n",
       "      <th>5</th>\n",
       "      <td>Italia</td>\n",
       "      <td>+] 2020 404.892 208.431 196.461 6,80‰ 1,24 -2,36%</td>\n",
       "    </tr>\n",
       "    <tr>\n",
       "      <th>...</th>\n",
       "      <td>...</td>\n",
       "      <td>...</td>\n",
       "    </tr>\n",
       "    <tr>\n",
       "      <th>189</th>\n",
       "      <td>Samoa</td>\n",
       "      <td>+] 2020 23,86‰ 3,79 -1,17%</td>\n",
       "    </tr>\n",
       "    <tr>\n",
       "      <th>190</th>\n",
       "      <td>Yemen</td>\n",
       "      <td>+] 2020 29,30‰ 3,61 -2,32%</td>\n",
       "    </tr>\n",
       "    <tr>\n",
       "      <th>191</th>\n",
       "      <td>Sudáfrica</td>\n",
       "      <td>+] 2020 19,77‰ 2,36 -0,97%</td>\n",
       "    </tr>\n",
       "    <tr>\n",
       "      <th>192</th>\n",
       "      <td>Zambia</td>\n",
       "      <td>+] 2020 35,44‰ 4,50 -1,38%</td>\n",
       "    </tr>\n",
       "    <tr>\n",
       "      <th>193</th>\n",
       "      <td>Zimbabue</td>\n",
       "      <td>+] 2020 28,98‰ 3,46 -2,01%</td>\n",
       "    </tr>\n",
       "  </tbody>\n",
       "</table>\n",
       "<p>193 rows × 2 columns</p>\n",
       "</div>"
      ],
      "text/plain": [
       "               0                                                  1\n",
       "1         España  +] 2020 341.315 174.842 166.473 7,19‰ 1,19 -4,03%\n",
       "2       Alemania  +] 2020 773.144 397.385 375.759 9,30‰ 1,53 -0,65%\n",
       "3    Reino Unido  +] 2020 712.699 375.379 355.539 10,20‰ 1,56 -4...\n",
       "4        Francia  +] 2020 735.775 376.187 359.588 10,90‰ 1,83 -1...\n",
       "5         Italia  +] 2020 404.892 208.431 196.461 6,80‰ 1,24 -2,36%\n",
       "..           ...                                                ...\n",
       "189        Samoa                         +] 2020 23,86‰ 3,79 -1,17%\n",
       "190        Yemen                         +] 2020 29,30‰ 3,61 -2,32%\n",
       "191    Sudáfrica                         +] 2020 19,77‰ 2,36 -0,97%\n",
       "192       Zambia                         +] 2020 35,44‰ 4,50 -1,38%\n",
       "193     Zimbabue                         +] 2020 28,98‰ 3,46 -2,01%\n",
       "\n",
       "[193 rows x 2 columns]"
      ]
     },
     "execution_count": 246,
     "metadata": {},
     "output_type": "execute_result"
    }
   ],
   "source": [
    "df_n20= df_n20[\"0\"].str.split(\"\\s\\[\", regex= True, expand=True)\n",
    "df_n20"
   ]
  },
  {
   "cell_type": "code",
   "execution_count": 247,
   "id": "b4051505",
   "metadata": {},
   "outputs": [],
   "source": [
    "lon20=[]\n",
    "\n",
    "for i in df_n20[1]:\n",
    "    lon20.append(len(i.split()))"
   ]
  },
  {
   "cell_type": "code",
   "execution_count": 248,
   "id": "8b7a2ccc",
   "metadata": {},
   "outputs": [
    {
     "name": "stdout",
     "output_type": "stream",
     "text": [
      "{8, 5, 6, 7}\n"
     ]
    }
   ],
   "source": [
    "unicos20 = set(lon20)\n",
    "\n",
    "print(unicos20)"
   ]
  },
  {
   "cell_type": "code",
   "execution_count": 249,
   "id": "0e3b14ac",
   "metadata": {},
   "outputs": [],
   "source": [
    "nat2020 = {\n",
    "    \"year\": [],\n",
    "    \"born\": [],\n",
    "    \"male_born\": [],\n",
    "    \"female_born\":[],\n",
    "    \"birth_rate\": [],\n",
    "    \"fertility_rate\":[],\n",
    "    \"variation\":[]\n",
    "            }\n",
    "\n",
    "data_list = df_n20[1]\n",
    "\n",
    "for data in data_list:\n",
    "    \n",
    "    a = data.split()\n",
    "    \n",
    "    if len(a)== 8:\n",
    "        nat2020[\"year\"].append(str(a[1]))\n",
    "        nat2020[\"born\"].append(str(a[2]))\n",
    "        nat2020[\"male_born\"].append(str(a[3]))\n",
    "        nat2020[\"female_born\"].append(str(a[4]))\n",
    "        nat2020[\"birth_rate\"].append(str(a[5]))\n",
    "        nat2020[\"fertility_rate\"].append(str(a[6]))\n",
    "        nat2020[\"variation\"].append(str(a[7]))\n",
    "    \n",
    "    if len(a)== 7:\n",
    "        nat2020[\"year\"].append(str(a[1]))\n",
    "        nat2020[\"born\"].append(str(a[2]))\n",
    "        nat2020[\"male_born\"].append(str(a[3]))\n",
    "        nat2020[\"female_born\"].append(str(a[4]))\n",
    "        nat2020[\"birth_rate\"].append(str(a[5]))\n",
    "        nat2020[\"fertility_rate\"].append(str(a[6]))\n",
    "        nat2020[\"variation\"].append(np.nan)    \n",
    "            \n",
    "    if len(a)== 6:\n",
    "        nat2020[\"year\"].append(str(a[1]))\n",
    "        nat2020[\"born\"].append(str(a[2]))\n",
    "        nat2020[\"male_born\"].append(np.nan)\n",
    "        nat2020[\"female_born\"].append(np.nan)\n",
    "        nat2020[\"birth_rate\"].append(str(a[3]))\n",
    "        nat2020[\"fertility_rate\"].append(str(a[4]))\n",
    "        nat2020[\"variation\"].append(str(a[5]))\n",
    "            \n",
    "    if len(a)== 5:\n",
    "        nat2020[\"year\"].append(str(a[1]))\n",
    "        nat2020[\"born\"].append(np.nan)\n",
    "        nat2020[\"male_born\"].append(np.nan)\n",
    "        nat2020[\"female_born\"].append(np.nan)\n",
    "        nat2020[\"birth_rate\"].append(str(a[2]))\n",
    "        nat2020[\"fertility_rate\"].append(str(a[3]))\n",
    "        nat2020[\"variation\"].append(str(a[4]))"
   ]
  },
  {
   "cell_type": "code",
   "execution_count": 250,
   "id": "6c098792",
   "metadata": {},
   "outputs": [
    {
     "data": {
      "text/plain": [
       "193"
      ]
     },
     "execution_count": 250,
     "metadata": {},
     "output_type": "execute_result"
    }
   ],
   "source": [
    "#control\n",
    "len(nat2020[\"year\"])"
   ]
  },
  {
   "cell_type": "code",
   "execution_count": 252,
   "id": "18144b53",
   "metadata": {
    "scrolled": true
   },
   "outputs": [
    {
     "data": {
      "text/plain": [
       "array(['España', 'Alemania', 'Reino_Unido', 'Francia', 'Italia'],\n",
       "      dtype=object)"
      ]
     },
     "execution_count": 252,
     "metadata": {},
     "output_type": "execute_result"
    }
   ],
   "source": [
    "df_n20[0] = df_n20[0].apply(lambda x: str(x).replace(\" y \",\"_\"))\n",
    "df_n20[0].unique()[:5]"
   ]
  },
  {
   "cell_type": "code",
   "execution_count": 251,
   "id": "b7bb606d",
   "metadata": {},
   "outputs": [
    {
     "data": {
      "text/plain": [
       "array(['España', 'Alemania', 'Reino_Unido', 'Francia', 'Italia'],\n",
       "      dtype=object)"
      ]
     },
     "execution_count": 251,
     "metadata": {},
     "output_type": "execute_result"
    }
   ],
   "source": [
    "df_n20[0] = df_n20[0].apply(lambda x: str(x).replace(\" \",\"_\"))\n",
    "df_n20[0].unique()[:5]"
   ]
  },
  {
   "cell_type": "code",
   "execution_count": 253,
   "id": "c08fd707",
   "metadata": {},
   "outputs": [],
   "source": [
    "paises20={\n",
    "        \"country\": []\n",
    "            }\n",
    "\n",
    "for i in df_n20[0]:\n",
    "    \n",
    "    paises20[\"country\"].append(i)"
   ]
  },
  {
   "cell_type": "code",
   "execution_count": 256,
   "id": "a08bd0ad",
   "metadata": {},
   "outputs": [],
   "source": [
    "union20 = list(zip(paises20[\"country\"], nat2020[\"year\"], nat2020[\"born\"], nat2020[\"male_born\"], nat2020[\"female_born\"], nat2020[\"birth_rate\"], nat2020[\"fertility_rate\"] , nat2020[\"variation\"]))"
   ]
  },
  {
   "cell_type": "code",
   "execution_count": 258,
   "id": "bd864dfd",
   "metadata": {
    "scrolled": true
   },
   "outputs": [
    {
     "data": {
      "text/html": [
       "<div>\n",
       "<style scoped>\n",
       "    .dataframe tbody tr th:only-of-type {\n",
       "        vertical-align: middle;\n",
       "    }\n",
       "\n",
       "    .dataframe tbody tr th {\n",
       "        vertical-align: top;\n",
       "    }\n",
       "\n",
       "    .dataframe thead th {\n",
       "        text-align: right;\n",
       "    }\n",
       "</style>\n",
       "<table border=\"1\" class=\"dataframe\">\n",
       "  <thead>\n",
       "    <tr style=\"text-align: right;\">\n",
       "      <th></th>\n",
       "      <th>0</th>\n",
       "      <th>1</th>\n",
       "      <th>2</th>\n",
       "      <th>3</th>\n",
       "      <th>4</th>\n",
       "      <th>5</th>\n",
       "      <th>6</th>\n",
       "      <th>7</th>\n",
       "    </tr>\n",
       "  </thead>\n",
       "  <tbody>\n",
       "    <tr>\n",
       "      <th>0</th>\n",
       "      <td>España</td>\n",
       "      <td>2020</td>\n",
       "      <td>341.315</td>\n",
       "      <td>174.842</td>\n",
       "      <td>166.473</td>\n",
       "      <td>7,19‰</td>\n",
       "      <td>1,19</td>\n",
       "      <td>-4,03%</td>\n",
       "    </tr>\n",
       "    <tr>\n",
       "      <th>1</th>\n",
       "      <td>Alemania</td>\n",
       "      <td>2020</td>\n",
       "      <td>773.144</td>\n",
       "      <td>397.385</td>\n",
       "      <td>375.759</td>\n",
       "      <td>9,30‰</td>\n",
       "      <td>1,53</td>\n",
       "      <td>-0,65%</td>\n",
       "    </tr>\n",
       "    <tr>\n",
       "      <th>2</th>\n",
       "      <td>Reino_Unido</td>\n",
       "      <td>2020</td>\n",
       "      <td>712.699</td>\n",
       "      <td>375.379</td>\n",
       "      <td>355.539</td>\n",
       "      <td>10,20‰</td>\n",
       "      <td>1,56</td>\n",
       "      <td>-4,29%</td>\n",
       "    </tr>\n",
       "    <tr>\n",
       "      <th>3</th>\n",
       "      <td>Francia</td>\n",
       "      <td>2020</td>\n",
       "      <td>735.775</td>\n",
       "      <td>376.187</td>\n",
       "      <td>359.588</td>\n",
       "      <td>10,90‰</td>\n",
       "      <td>1,83</td>\n",
       "      <td>-1,61%</td>\n",
       "    </tr>\n",
       "    <tr>\n",
       "      <th>4</th>\n",
       "      <td>Italia</td>\n",
       "      <td>2020</td>\n",
       "      <td>404.892</td>\n",
       "      <td>208.431</td>\n",
       "      <td>196.461</td>\n",
       "      <td>6,80‰</td>\n",
       "      <td>1,24</td>\n",
       "      <td>-2,36%</td>\n",
       "    </tr>\n",
       "    <tr>\n",
       "      <th>...</th>\n",
       "      <td>...</td>\n",
       "      <td>...</td>\n",
       "      <td>...</td>\n",
       "      <td>...</td>\n",
       "      <td>...</td>\n",
       "      <td>...</td>\n",
       "      <td>...</td>\n",
       "      <td>...</td>\n",
       "    </tr>\n",
       "    <tr>\n",
       "      <th>188</th>\n",
       "      <td>Samoa</td>\n",
       "      <td>2020</td>\n",
       "      <td>NaN</td>\n",
       "      <td>NaN</td>\n",
       "      <td>NaN</td>\n",
       "      <td>23,86‰</td>\n",
       "      <td>3,79</td>\n",
       "      <td>-1,17%</td>\n",
       "    </tr>\n",
       "    <tr>\n",
       "      <th>189</th>\n",
       "      <td>Yemen</td>\n",
       "      <td>2020</td>\n",
       "      <td>NaN</td>\n",
       "      <td>NaN</td>\n",
       "      <td>NaN</td>\n",
       "      <td>29,30‰</td>\n",
       "      <td>3,61</td>\n",
       "      <td>-2,32%</td>\n",
       "    </tr>\n",
       "    <tr>\n",
       "      <th>190</th>\n",
       "      <td>Sudáfrica</td>\n",
       "      <td>2020</td>\n",
       "      <td>NaN</td>\n",
       "      <td>NaN</td>\n",
       "      <td>NaN</td>\n",
       "      <td>19,77‰</td>\n",
       "      <td>2,36</td>\n",
       "      <td>-0,97%</td>\n",
       "    </tr>\n",
       "    <tr>\n",
       "      <th>191</th>\n",
       "      <td>Zambia</td>\n",
       "      <td>2020</td>\n",
       "      <td>NaN</td>\n",
       "      <td>NaN</td>\n",
       "      <td>NaN</td>\n",
       "      <td>35,44‰</td>\n",
       "      <td>4,50</td>\n",
       "      <td>-1,38%</td>\n",
       "    </tr>\n",
       "    <tr>\n",
       "      <th>192</th>\n",
       "      <td>Zimbabue</td>\n",
       "      <td>2020</td>\n",
       "      <td>NaN</td>\n",
       "      <td>NaN</td>\n",
       "      <td>NaN</td>\n",
       "      <td>28,98‰</td>\n",
       "      <td>3,46</td>\n",
       "      <td>-2,01%</td>\n",
       "    </tr>\n",
       "  </tbody>\n",
       "</table>\n",
       "<p>193 rows × 8 columns</p>\n",
       "</div>"
      ],
      "text/plain": [
       "               0     1        2        3        4       5     6       7\n",
       "0         España  2020  341.315  174.842  166.473   7,19‰  1,19  -4,03%\n",
       "1       Alemania  2020  773.144  397.385  375.759   9,30‰  1,53  -0,65%\n",
       "2    Reino_Unido  2020  712.699  375.379  355.539  10,20‰  1,56  -4,29%\n",
       "3        Francia  2020  735.775  376.187  359.588  10,90‰  1,83  -1,61%\n",
       "4         Italia  2020  404.892  208.431  196.461   6,80‰  1,24  -2,36%\n",
       "..           ...   ...      ...      ...      ...     ...   ...     ...\n",
       "188        Samoa  2020      NaN      NaN      NaN  23,86‰  3,79  -1,17%\n",
       "189        Yemen  2020      NaN      NaN      NaN  29,30‰  3,61  -2,32%\n",
       "190    Sudáfrica  2020      NaN      NaN      NaN  19,77‰  2,36  -0,97%\n",
       "191       Zambia  2020      NaN      NaN      NaN  35,44‰  4,50  -1,38%\n",
       "192     Zimbabue  2020      NaN      NaN      NaN  28,98‰  3,46  -2,01%\n",
       "\n",
       "[193 rows x 8 columns]"
      ]
     },
     "execution_count": 258,
     "metadata": {},
     "output_type": "execute_result"
    }
   ],
   "source": [
    "n20= pd.DataFrame(union20)\n",
    "n20"
   ]
  },
  {
   "cell_type": "markdown",
   "id": "49d23c19",
   "metadata": {},
   "source": [
    "### 2021"
   ]
  },
  {
   "cell_type": "code",
   "execution_count": 232,
   "id": "1aa201c2",
   "metadata": {
    "scrolled": false
   },
   "outputs": [
    {
     "data": {
      "text/html": [
       "<div>\n",
       "<style scoped>\n",
       "    .dataframe tbody tr th:only-of-type {\n",
       "        vertical-align: middle;\n",
       "    }\n",
       "\n",
       "    .dataframe tbody tr th {\n",
       "        vertical-align: top;\n",
       "    }\n",
       "\n",
       "    .dataframe thead th {\n",
       "        text-align: right;\n",
       "    }\n",
       "</style>\n",
       "<table border=\"1\" class=\"dataframe\">\n",
       "  <thead>\n",
       "    <tr style=\"text-align: right;\">\n",
       "      <th></th>\n",
       "      <th>0</th>\n",
       "    </tr>\n",
       "  </thead>\n",
       "  <tbody>\n",
       "    <tr>\n",
       "      <th>1</th>\n",
       "      <td>España [+] 2019 360.617 185.523 175.094 7,62‰ ...</td>\n",
       "    </tr>\n",
       "    <tr>\n",
       "      <th>2</th>\n",
       "      <td>Alemania [+] 2019 778.090 399.292 378.798 9,40...</td>\n",
       "    </tr>\n",
       "    <tr>\n",
       "      <th>3</th>\n",
       "      <td>Reino Unido [+] 2019 712.699 375.379 355.539 1...</td>\n",
       "    </tr>\n",
       "    <tr>\n",
       "      <th>4</th>\n",
       "      <td>Francia [+] 2019 754.008 385.340 368.668 11,20...</td>\n",
       "    </tr>\n",
       "    <tr>\n",
       "      <th>5</th>\n",
       "      <td>Italia [+] 2019 420.084 215.387 204.697 7,00‰ ...</td>\n",
       "    </tr>\n",
       "    <tr>\n",
       "      <th>...</th>\n",
       "      <td>...</td>\n",
       "    </tr>\n",
       "    <tr>\n",
       "      <th>189</th>\n",
       "      <td>Samoa [+] 2019 24,10‰ 3,83 -1,21%</td>\n",
       "    </tr>\n",
       "    <tr>\n",
       "      <th>190</th>\n",
       "      <td>Yemen [+] 2019 29,87‰ 3,70 -2,43%</td>\n",
       "    </tr>\n",
       "    <tr>\n",
       "      <th>191</th>\n",
       "      <td>Sudáfrica [+] 2019 20,13‰ 2,38 -1,00%</td>\n",
       "    </tr>\n",
       "    <tr>\n",
       "      <th>192</th>\n",
       "      <td>Zambia [+] 2019 35,78‰ 4,56 -1,60%</td>\n",
       "    </tr>\n",
       "    <tr>\n",
       "      <th>193</th>\n",
       "      <td>Zimbabue [+] 2019 29,75‰ 3,53 -2,32%</td>\n",
       "    </tr>\n",
       "  </tbody>\n",
       "</table>\n",
       "<p>193 rows × 1 columns</p>\n",
       "</div>"
      ],
      "text/plain": [
       "                                                     0\n",
       "1    España [+] 2019 360.617 185.523 175.094 7,62‰ ...\n",
       "2    Alemania [+] 2019 778.090 399.292 378.798 9,40...\n",
       "3    Reino Unido [+] 2019 712.699 375.379 355.539 1...\n",
       "4    Francia [+] 2019 754.008 385.340 368.668 11,20...\n",
       "5    Italia [+] 2019 420.084 215.387 204.697 7,00‰ ...\n",
       "..                                                 ...\n",
       "189                  Samoa [+] 2019 24,10‰ 3,83 -1,21%\n",
       "190                  Yemen [+] 2019 29,87‰ 3,70 -2,43%\n",
       "191              Sudáfrica [+] 2019 20,13‰ 2,38 -1,00%\n",
       "192                 Zambia [+] 2019 35,78‰ 4,56 -1,60%\n",
       "193               Zimbabue [+] 2019 29,75‰ 3,53 -2,32%\n",
       "\n",
       "[193 rows x 1 columns]"
      ]
     },
     "execution_count": 232,
     "metadata": {},
     "output_type": "execute_result"
    }
   ],
   "source": [
    "df_n21"
   ]
  },
  {
   "cell_type": "code",
   "execution_count": 261,
   "id": "285baeb2",
   "metadata": {
    "scrolled": false
   },
   "outputs": [
    {
     "data": {
      "text/html": [
       "<div>\n",
       "<style scoped>\n",
       "    .dataframe tbody tr th:only-of-type {\n",
       "        vertical-align: middle;\n",
       "    }\n",
       "\n",
       "    .dataframe tbody tr th {\n",
       "        vertical-align: top;\n",
       "    }\n",
       "\n",
       "    .dataframe thead th {\n",
       "        text-align: right;\n",
       "    }\n",
       "</style>\n",
       "<table border=\"1\" class=\"dataframe\">\n",
       "  <thead>\n",
       "    <tr style=\"text-align: right;\">\n",
       "      <th></th>\n",
       "      <th>0</th>\n",
       "      <th>1</th>\n",
       "    </tr>\n",
       "  </thead>\n",
       "  <tbody>\n",
       "    <tr>\n",
       "      <th>1</th>\n",
       "      <td>España</td>\n",
       "      <td>+] 2021 337.380 174.148 163.232 7,12‰ 1,19 0,47%</td>\n",
       "    </tr>\n",
       "    <tr>\n",
       "      <th>2</th>\n",
       "      <td>Alemania</td>\n",
       "      <td>+] 2021 795.492 397.385 375.759 9,60‰ 1,53 -0,65%</td>\n",
       "    </tr>\n",
       "    <tr>\n",
       "      <th>3</th>\n",
       "      <td>Reino Unido</td>\n",
       "      <td>+] 2020 712.699 375.379 355.539 10,20‰ 1,56 -4...</td>\n",
       "    </tr>\n",
       "    <tr>\n",
       "      <th>4</th>\n",
       "      <td>Francia</td>\n",
       "      <td>+] 2021 738.594 376.187 359.588 10,90‰ 1,83 -1...</td>\n",
       "    </tr>\n",
       "    <tr>\n",
       "      <th>5</th>\n",
       "      <td>Italia</td>\n",
       "      <td>+] 2021 399.431 208.431 196.461 6,80‰ 1,24 -2,36%</td>\n",
       "    </tr>\n",
       "    <tr>\n",
       "      <th>...</th>\n",
       "      <td>...</td>\n",
       "      <td>...</td>\n",
       "    </tr>\n",
       "    <tr>\n",
       "      <th>189</th>\n",
       "      <td>Samoa</td>\n",
       "      <td>+] 2020 23,86‰ 3,79 -1,17%</td>\n",
       "    </tr>\n",
       "    <tr>\n",
       "      <th>190</th>\n",
       "      <td>Yemen</td>\n",
       "      <td>+] 2020 29,30‰ 3,61 -2,32%</td>\n",
       "    </tr>\n",
       "    <tr>\n",
       "      <th>191</th>\n",
       "      <td>Sudáfrica</td>\n",
       "      <td>+] 2020 19,77‰ 2,36 -0,97%</td>\n",
       "    </tr>\n",
       "    <tr>\n",
       "      <th>192</th>\n",
       "      <td>Zambia</td>\n",
       "      <td>+] 2020 35,44‰ 4,50 -1,38%</td>\n",
       "    </tr>\n",
       "    <tr>\n",
       "      <th>193</th>\n",
       "      <td>Zimbabue</td>\n",
       "      <td>+] 2020 28,98‰ 3,46 -2,01%</td>\n",
       "    </tr>\n",
       "  </tbody>\n",
       "</table>\n",
       "<p>193 rows × 2 columns</p>\n",
       "</div>"
      ],
      "text/plain": [
       "               0                                                  1\n",
       "1         España   +] 2021 337.380 174.148 163.232 7,12‰ 1,19 0,47%\n",
       "2       Alemania  +] 2021 795.492 397.385 375.759 9,60‰ 1,53 -0,65%\n",
       "3    Reino Unido  +] 2020 712.699 375.379 355.539 10,20‰ 1,56 -4...\n",
       "4        Francia  +] 2021 738.594 376.187 359.588 10,90‰ 1,83 -1...\n",
       "5         Italia  +] 2021 399.431 208.431 196.461 6,80‰ 1,24 -2,36%\n",
       "..           ...                                                ...\n",
       "189        Samoa                         +] 2020 23,86‰ 3,79 -1,17%\n",
       "190        Yemen                         +] 2020 29,30‰ 3,61 -2,32%\n",
       "191    Sudáfrica                         +] 2020 19,77‰ 2,36 -0,97%\n",
       "192       Zambia                         +] 2020 35,44‰ 4,50 -1,38%\n",
       "193     Zimbabue                         +] 2020 28,98‰ 3,46 -2,01%\n",
       "\n",
       "[193 rows x 2 columns]"
      ]
     },
     "execution_count": 261,
     "metadata": {},
     "output_type": "execute_result"
    }
   ],
   "source": [
    "df_n21= df_n21[\"0\"].str.split(\"\\s\\[\", regex= True, expand=True)\n",
    "df_n21"
   ]
  },
  {
   "cell_type": "code",
   "execution_count": 262,
   "id": "bf955f28",
   "metadata": {},
   "outputs": [],
   "source": [
    "lon21=[]\n",
    "\n",
    "for i in df_n21[1]:\n",
    "    lon21.append(len(i.split()))"
   ]
  },
  {
   "cell_type": "code",
   "execution_count": 263,
   "id": "fe2839e7",
   "metadata": {},
   "outputs": [
    {
     "name": "stdout",
     "output_type": "stream",
     "text": [
      "{8, 5, 6, 7}\n"
     ]
    }
   ],
   "source": [
    "unicos21 = set(lon21)\n",
    "\n",
    "print(unicos21)"
   ]
  },
  {
   "cell_type": "code",
   "execution_count": 264,
   "id": "b6dadf42",
   "metadata": {},
   "outputs": [],
   "source": [
    "nat2021 = {\n",
    "    \"year\": [],\n",
    "    \"born\": [],\n",
    "    \"male_born\": [],\n",
    "    \"female_born\":[],\n",
    "    \"birth_rate\": [],\n",
    "    \"fertility_rate\":[],\n",
    "    \"variation\":[]\n",
    "            }\n",
    "\n",
    "data_list = df_n21[1]\n",
    "\n",
    "for data in data_list:\n",
    "    \n",
    "    a = data.split()\n",
    "    \n",
    "    if len(a)== 8:\n",
    "        nat2021[\"year\"].append(str(a[1]))\n",
    "        nat2021[\"born\"].append(str(a[2]))\n",
    "        nat2021[\"male_born\"].append(str(a[3]))\n",
    "        nat2021[\"female_born\"].append(str(a[4]))\n",
    "        nat2021[\"birth_rate\"].append(str(a[5]))\n",
    "        nat2021[\"fertility_rate\"].append(str(a[6]))\n",
    "        nat2021[\"variation\"].append(str(a[7]))\n",
    "    \n",
    "    if len(a)== 7:\n",
    "        nat2021[\"year\"].append(str(a[1]))\n",
    "        nat2021[\"born\"].append(str(a[2]))\n",
    "        nat2021[\"male_born\"].append(str(a[3]))\n",
    "        nat2021[\"female_born\"].append(str(a[4]))\n",
    "        nat2021[\"birth_rate\"].append(str(a[5]))\n",
    "        nat2021[\"fertility_rate\"].append(str(a[6]))\n",
    "        nat2021[\"variation\"].append(np.nan)    \n",
    "            \n",
    "    if len(a)== 6:\n",
    "        nat2021[\"year\"].append(str(a[1]))\n",
    "        nat2021[\"born\"].append(str(a[2]))\n",
    "        nat2021[\"male_born\"].append(np.nan)\n",
    "        nat2021[\"female_born\"].append(np.nan)\n",
    "        nat2021[\"birth_rate\"].append(str(a[3]))\n",
    "        nat2021[\"fertility_rate\"].append(str(a[4]))\n",
    "        nat2021[\"variation\"].append(str(a[5]))\n",
    "            \n",
    "    if len(a)== 5:\n",
    "        nat2021[\"year\"].append(str(a[1]))\n",
    "        nat2021[\"born\"].append(np.nan)\n",
    "        nat2021[\"male_born\"].append(np.nan)\n",
    "        nat2021[\"female_born\"].append(np.nan)\n",
    "        nat2021[\"birth_rate\"].append(str(a[2]))\n",
    "        nat2021[\"fertility_rate\"].append(str(a[3]))\n",
    "        nat2021[\"variation\"].append(str(a[4]))"
   ]
  },
  {
   "cell_type": "code",
   "execution_count": 265,
   "id": "bf1c2c6f",
   "metadata": {},
   "outputs": [
    {
     "data": {
      "text/plain": [
       "193"
      ]
     },
     "execution_count": 265,
     "metadata": {},
     "output_type": "execute_result"
    }
   ],
   "source": [
    "#control\n",
    "len(nat2021[\"year\"])"
   ]
  },
  {
   "cell_type": "code",
   "execution_count": 266,
   "id": "9318c06a",
   "metadata": {},
   "outputs": [
    {
     "data": {
      "text/plain": [
       "array(['España', 'Alemania', 'Reino Unido', 'Francia', 'Italia'],\n",
       "      dtype=object)"
      ]
     },
     "execution_count": 266,
     "metadata": {},
     "output_type": "execute_result"
    }
   ],
   "source": [
    "df_n21[0] = df_n21[0].apply(lambda x: str(x).replace(\" y \",\"_\"))\n",
    "df_n21[0].unique()[:5]"
   ]
  },
  {
   "cell_type": "code",
   "execution_count": 267,
   "id": "58b938ab",
   "metadata": {},
   "outputs": [
    {
     "data": {
      "text/plain": [
       "array(['España', 'Alemania', 'Reino_Unido', 'Francia', 'Italia'],\n",
       "      dtype=object)"
      ]
     },
     "execution_count": 267,
     "metadata": {},
     "output_type": "execute_result"
    }
   ],
   "source": [
    "df_n21[0] = df_n21[0].apply(lambda x: str(x).replace(\" \",\"_\"))\n",
    "df_n21[0].unique()[:5]"
   ]
  },
  {
   "cell_type": "code",
   "execution_count": 268,
   "id": "0ad453e5",
   "metadata": {},
   "outputs": [],
   "source": [
    "paises21={\n",
    "        \"country\": []\n",
    "            }\n",
    "\n",
    "for i in df_n21[0]:\n",
    "    \n",
    "    paises21[\"country\"].append(i)"
   ]
  },
  {
   "cell_type": "code",
   "execution_count": 269,
   "id": "7f1e9d68",
   "metadata": {},
   "outputs": [],
   "source": [
    "union21 = list(zip(paises21[\"country\"], nat2021[\"year\"], nat2021[\"born\"], nat2021[\"male_born\"], nat2021[\"female_born\"], nat2021[\"birth_rate\"], nat2021[\"fertility_rate\"] , nat2021[\"variation\"]))"
   ]
  },
  {
   "cell_type": "code",
   "execution_count": 271,
   "id": "0632088e",
   "metadata": {
    "scrolled": false
   },
   "outputs": [
    {
     "data": {
      "text/html": [
       "<div>\n",
       "<style scoped>\n",
       "    .dataframe tbody tr th:only-of-type {\n",
       "        vertical-align: middle;\n",
       "    }\n",
       "\n",
       "    .dataframe tbody tr th {\n",
       "        vertical-align: top;\n",
       "    }\n",
       "\n",
       "    .dataframe thead th {\n",
       "        text-align: right;\n",
       "    }\n",
       "</style>\n",
       "<table border=\"1\" class=\"dataframe\">\n",
       "  <thead>\n",
       "    <tr style=\"text-align: right;\">\n",
       "      <th></th>\n",
       "      <th>0</th>\n",
       "      <th>1</th>\n",
       "      <th>2</th>\n",
       "      <th>3</th>\n",
       "      <th>4</th>\n",
       "      <th>5</th>\n",
       "      <th>6</th>\n",
       "      <th>7</th>\n",
       "    </tr>\n",
       "  </thead>\n",
       "  <tbody>\n",
       "    <tr>\n",
       "      <th>0</th>\n",
       "      <td>España</td>\n",
       "      <td>2021</td>\n",
       "      <td>337.380</td>\n",
       "      <td>174.148</td>\n",
       "      <td>163.232</td>\n",
       "      <td>7,12‰</td>\n",
       "      <td>1,19</td>\n",
       "      <td>0,47%</td>\n",
       "    </tr>\n",
       "    <tr>\n",
       "      <th>1</th>\n",
       "      <td>Alemania</td>\n",
       "      <td>2021</td>\n",
       "      <td>795.492</td>\n",
       "      <td>397.385</td>\n",
       "      <td>375.759</td>\n",
       "      <td>9,60‰</td>\n",
       "      <td>1,53</td>\n",
       "      <td>-0,65%</td>\n",
       "    </tr>\n",
       "    <tr>\n",
       "      <th>2</th>\n",
       "      <td>Reino_Unido</td>\n",
       "      <td>2020</td>\n",
       "      <td>712.699</td>\n",
       "      <td>375.379</td>\n",
       "      <td>355.539</td>\n",
       "      <td>10,20‰</td>\n",
       "      <td>1,56</td>\n",
       "      <td>-4,29%</td>\n",
       "    </tr>\n",
       "    <tr>\n",
       "      <th>3</th>\n",
       "      <td>Francia</td>\n",
       "      <td>2021</td>\n",
       "      <td>738.594</td>\n",
       "      <td>376.187</td>\n",
       "      <td>359.588</td>\n",
       "      <td>10,90‰</td>\n",
       "      <td>1,83</td>\n",
       "      <td>-1,61%</td>\n",
       "    </tr>\n",
       "    <tr>\n",
       "      <th>4</th>\n",
       "      <td>Italia</td>\n",
       "      <td>2021</td>\n",
       "      <td>399.431</td>\n",
       "      <td>208.431</td>\n",
       "      <td>196.461</td>\n",
       "      <td>6,80‰</td>\n",
       "      <td>1,24</td>\n",
       "      <td>-2,36%</td>\n",
       "    </tr>\n",
       "    <tr>\n",
       "      <th>...</th>\n",
       "      <td>...</td>\n",
       "      <td>...</td>\n",
       "      <td>...</td>\n",
       "      <td>...</td>\n",
       "      <td>...</td>\n",
       "      <td>...</td>\n",
       "      <td>...</td>\n",
       "      <td>...</td>\n",
       "    </tr>\n",
       "    <tr>\n",
       "      <th>188</th>\n",
       "      <td>Samoa</td>\n",
       "      <td>2020</td>\n",
       "      <td>NaN</td>\n",
       "      <td>NaN</td>\n",
       "      <td>NaN</td>\n",
       "      <td>23,86‰</td>\n",
       "      <td>3,79</td>\n",
       "      <td>-1,17%</td>\n",
       "    </tr>\n",
       "    <tr>\n",
       "      <th>189</th>\n",
       "      <td>Yemen</td>\n",
       "      <td>2020</td>\n",
       "      <td>NaN</td>\n",
       "      <td>NaN</td>\n",
       "      <td>NaN</td>\n",
       "      <td>29,30‰</td>\n",
       "      <td>3,61</td>\n",
       "      <td>-2,32%</td>\n",
       "    </tr>\n",
       "    <tr>\n",
       "      <th>190</th>\n",
       "      <td>Sudáfrica</td>\n",
       "      <td>2020</td>\n",
       "      <td>NaN</td>\n",
       "      <td>NaN</td>\n",
       "      <td>NaN</td>\n",
       "      <td>19,77‰</td>\n",
       "      <td>2,36</td>\n",
       "      <td>-0,97%</td>\n",
       "    </tr>\n",
       "    <tr>\n",
       "      <th>191</th>\n",
       "      <td>Zambia</td>\n",
       "      <td>2020</td>\n",
       "      <td>NaN</td>\n",
       "      <td>NaN</td>\n",
       "      <td>NaN</td>\n",
       "      <td>35,44‰</td>\n",
       "      <td>4,50</td>\n",
       "      <td>-1,38%</td>\n",
       "    </tr>\n",
       "    <tr>\n",
       "      <th>192</th>\n",
       "      <td>Zimbabue</td>\n",
       "      <td>2020</td>\n",
       "      <td>NaN</td>\n",
       "      <td>NaN</td>\n",
       "      <td>NaN</td>\n",
       "      <td>28,98‰</td>\n",
       "      <td>3,46</td>\n",
       "      <td>-2,01%</td>\n",
       "    </tr>\n",
       "  </tbody>\n",
       "</table>\n",
       "<p>193 rows × 8 columns</p>\n",
       "</div>"
      ],
      "text/plain": [
       "               0     1        2        3        4       5     6       7\n",
       "0         España  2021  337.380  174.148  163.232   7,12‰  1,19   0,47%\n",
       "1       Alemania  2021  795.492  397.385  375.759   9,60‰  1,53  -0,65%\n",
       "2    Reino_Unido  2020  712.699  375.379  355.539  10,20‰  1,56  -4,29%\n",
       "3        Francia  2021  738.594  376.187  359.588  10,90‰  1,83  -1,61%\n",
       "4         Italia  2021  399.431  208.431  196.461   6,80‰  1,24  -2,36%\n",
       "..           ...   ...      ...      ...      ...     ...   ...     ...\n",
       "188        Samoa  2020      NaN      NaN      NaN  23,86‰  3,79  -1,17%\n",
       "189        Yemen  2020      NaN      NaN      NaN  29,30‰  3,61  -2,32%\n",
       "190    Sudáfrica  2020      NaN      NaN      NaN  19,77‰  2,36  -0,97%\n",
       "191       Zambia  2020      NaN      NaN      NaN  35,44‰  4,50  -1,38%\n",
       "192     Zimbabue  2020      NaN      NaN      NaN  28,98‰  3,46  -2,01%\n",
       "\n",
       "[193 rows x 8 columns]"
      ]
     },
     "execution_count": 271,
     "metadata": {},
     "output_type": "execute_result"
    }
   ],
   "source": [
    "n21= pd.DataFrame(union21)\n",
    "n21"
   ]
  },
  {
   "cell_type": "code",
   "execution_count": null,
   "id": "32e605e3",
   "metadata": {},
   "outputs": [],
   "source": []
  }
 ],
 "metadata": {
  "kernelspec": {
   "display_name": "Bootcamp",
   "language": "python",
   "name": "bootcamp"
  },
  "language_info": {
   "codemirror_mode": {
    "name": "ipython",
    "version": 3
   },
   "file_extension": ".py",
   "mimetype": "text/x-python",
   "name": "python",
   "nbconvert_exporter": "python",
   "pygments_lexer": "ipython3",
   "version": "3.9.13"
  }
 },
 "nbformat": 4,
 "nbformat_minor": 5
}
