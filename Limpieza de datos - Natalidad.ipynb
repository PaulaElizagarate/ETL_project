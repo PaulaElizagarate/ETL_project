{
 "cells": [
  {
   "cell_type": "markdown",
   "id": "91807db7",
   "metadata": {},
   "source": [
    "# Most Polluted Countries - Limpieza de Datos"
   ]
  },
  {
   "cell_type": "markdown",
   "id": "7ab3f51c",
   "metadata": {},
   "source": [
    "### · Antes de empezar... "
   ]
  },
  {
   "cell_type": "markdown",
   "id": "38ccd52a",
   "metadata": {},
   "source": [
    "1. Para gestionar los Dataframes:"
   ]
  },
  {
   "cell_type": "code",
   "execution_count": 1,
   "id": "bcf73093",
   "metadata": {},
   "outputs": [
    {
     "name": "stderr",
     "output_type": "stream",
     "text": [
      "/Users/paulaelizagarate/opt/anaconda3/envs/Bootcamp/lib/python3.9/site-packages/fuzzywuzzy/fuzz.py:11: UserWarning: Using slow pure-python SequenceMatcher. Install python-Levenshtein to remove this warning\n",
      "  warnings.warn('Using slow pure-python SequenceMatcher. Install python-Levenshtein to remove this warning')\n"
     ]
    }
   ],
   "source": [
    "#Para mi doc de Pipeline:\n",
    "import suport as sp\n",
    "\n",
    "import pandas as pd\n",
    "import numpy as np\n",
    "import matplotlib.pyplot as plt\n",
    "import seaborn as sns\n",
    "import plotly.express as px\n",
    "from collections import Counter\n",
    "from fuzzywuzzy import process, fuzz\n",
    "import pickle"
   ]
  },
  {
   "cell_type": "code",
   "execution_count": 2,
   "id": "6df9eeb5",
   "metadata": {},
   "outputs": [],
   "source": [
    "#Regex\n",
    "import re"
   ]
  },
  {
   "cell_type": "markdown",
   "id": "7f5250c0",
   "metadata": {},
   "source": [
    "###  · Carga de CSVs"
   ]
  },
  {
   "cell_type": "markdown",
   "id": "06b7b1b4",
   "metadata": {},
   "source": [
    "Empezamos cargando datos CSV procedentes de Kaggle con la información de los países y las ciudades más contaminadas desde 2017 hasta 2021. "
   ]
  },
  {
   "cell_type": "code",
   "execution_count": 3,
   "id": "c02fe811",
   "metadata": {
    "scrolled": true
   },
   "outputs": [
    {
     "data": {
      "text/html": [
       "<div>\n",
       "<style scoped>\n",
       "    .dataframe tbody tr th:only-of-type {\n",
       "        vertical-align: middle;\n",
       "    }\n",
       "\n",
       "    .dataframe tbody tr th {\n",
       "        vertical-align: top;\n",
       "    }\n",
       "\n",
       "    .dataframe thead th {\n",
       "        text-align: right;\n",
       "    }\n",
       "</style>\n",
       "<table border=\"1\" class=\"dataframe\">\n",
       "  <thead>\n",
       "    <tr style=\"text-align: right;\">\n",
       "      <th></th>\n",
       "      <th>Country/Region</th>\n",
       "      <th>2021</th>\n",
       "      <th>2020</th>\n",
       "      <th>2019</th>\n",
       "      <th>2018</th>\n",
       "      <th>Population</th>\n",
       "    </tr>\n",
       "    <tr>\n",
       "      <th>Rank</th>\n",
       "      <th></th>\n",
       "      <th></th>\n",
       "      <th></th>\n",
       "      <th></th>\n",
       "      <th></th>\n",
       "      <th></th>\n",
       "    </tr>\n",
       "  </thead>\n",
       "  <tbody>\n",
       "    <tr>\n",
       "      <th>1</th>\n",
       "      <td>Bangladesh</td>\n",
       "      <td>76.9</td>\n",
       "      <td>77.1</td>\n",
       "      <td>83.3</td>\n",
       "      <td>97.1</td>\n",
       "      <td>164,689,383</td>\n",
       "    </tr>\n",
       "    <tr>\n",
       "      <th>2</th>\n",
       "      <td>Chad</td>\n",
       "      <td>75.9</td>\n",
       "      <td>-</td>\n",
       "      <td>-</td>\n",
       "      <td>-</td>\n",
       "      <td>16,425,859</td>\n",
       "    </tr>\n",
       "  </tbody>\n",
       "</table>\n",
       "</div>"
      ],
      "text/plain": [
       "     Country/Region  2021  2020  2019  2018   Population\n",
       "Rank                                                    \n",
       "1        Bangladesh  76.9  77.1  83.3  97.1  164,689,383\n",
       "2              Chad  75.9     -     -     -   16,425,859"
      ]
     },
     "execution_count": 3,
     "metadata": {},
     "output_type": "execute_result"
    }
   ],
   "source": [
    "df_pcountries = pd.read_csv(\"datos/AIR QUALITY INDEX- top countries.csv\", index_col = 0 )\n",
    "df_pcountries.head(2)"
   ]
  },
  {
   "cell_type": "code",
   "execution_count": 228,
   "id": "65cfe8b7",
   "metadata": {
    "scrolled": false
   },
   "outputs": [
    {
     "name": "stdout",
     "output_type": "stream",
     "text": [
      "<class 'pandas.core.frame.DataFrame'>\n",
      "Int64Index: 118 entries, 1 to 118\n",
      "Data columns (total 6 columns):\n",
      " #   Column          Non-Null Count  Dtype  \n",
      "---  ------          --------------  -----  \n",
      " 0   Country/Region  118 non-null    object \n",
      " 1   2021            118 non-null    float64\n",
      " 2   2020            118 non-null    object \n",
      " 3   2019            118 non-null    object \n",
      " 4   2018            118 non-null    object \n",
      " 5   Population      118 non-null    object \n",
      "dtypes: float64(1), object(5)\n",
      "memory usage: 6.5+ KB\n"
     ]
    }
   ],
   "source": [
    "df_pcountries.info()"
   ]
  },
  {
   "cell_type": "code",
   "execution_count": 4,
   "id": "dde2ea52",
   "metadata": {
    "scrolled": false
   },
   "outputs": [],
   "source": [
    "#df_pcountries.values"
   ]
  },
  {
   "cell_type": "code",
   "execution_count": 5,
   "id": "c223e191",
   "metadata": {
    "scrolled": true
   },
   "outputs": [
    {
     "data": {
      "text/html": [
       "<div>\n",
       "<style scoped>\n",
       "    .dataframe tbody tr th:only-of-type {\n",
       "        vertical-align: middle;\n",
       "    }\n",
       "\n",
       "    .dataframe tbody tr th {\n",
       "        vertical-align: top;\n",
       "    }\n",
       "\n",
       "    .dataframe thead th {\n",
       "        text-align: right;\n",
       "    }\n",
       "</style>\n",
       "<table border=\"1\" class=\"dataframe\">\n",
       "  <thead>\n",
       "    <tr style=\"text-align: right;\">\n",
       "      <th></th>\n",
       "      <th>City</th>\n",
       "      <th>2021</th>\n",
       "      <th>JAN(2021)</th>\n",
       "      <th>FEB(2021)</th>\n",
       "      <th>MAR(2021)</th>\n",
       "      <th>APR(2021)</th>\n",
       "      <th>MAY(2021)</th>\n",
       "      <th>JUN(2021)</th>\n",
       "      <th>JUL(2021)</th>\n",
       "      <th>AUG(2021)</th>\n",
       "      <th>SEP(2021)</th>\n",
       "      <th>OCT(2021)</th>\n",
       "      <th>NOV(2021)</th>\n",
       "      <th>DEC(2021)</th>\n",
       "      <th>2020</th>\n",
       "      <th>2019</th>\n",
       "      <th>2018</th>\n",
       "      <th>2017</th>\n",
       "    </tr>\n",
       "    <tr>\n",
       "      <th>Rank</th>\n",
       "      <th></th>\n",
       "      <th></th>\n",
       "      <th></th>\n",
       "      <th></th>\n",
       "      <th></th>\n",
       "      <th></th>\n",
       "      <th></th>\n",
       "      <th></th>\n",
       "      <th></th>\n",
       "      <th></th>\n",
       "      <th></th>\n",
       "      <th></th>\n",
       "      <th></th>\n",
       "      <th></th>\n",
       "      <th></th>\n",
       "      <th></th>\n",
       "      <th></th>\n",
       "      <th></th>\n",
       "    </tr>\n",
       "  </thead>\n",
       "  <tbody>\n",
       "    <tr>\n",
       "      <th>1</th>\n",
       "      <td>Bhiwadi, India</td>\n",
       "      <td>106.2</td>\n",
       "      <td>145.8</td>\n",
       "      <td>129.8</td>\n",
       "      <td>120.2</td>\n",
       "      <td>125.7</td>\n",
       "      <td>86.5</td>\n",
       "      <td>95.9</td>\n",
       "      <td>55.6</td>\n",
       "      <td>55.4</td>\n",
       "      <td>37.1</td>\n",
       "      <td>91.1</td>\n",
       "      <td>188.6</td>\n",
       "      <td>136.6</td>\n",
       "      <td>95.5</td>\n",
       "      <td>83.4</td>\n",
       "      <td>125.4</td>\n",
       "      <td>-</td>\n",
       "    </tr>\n",
       "    <tr>\n",
       "      <th>2</th>\n",
       "      <td>Ghaziabad, India</td>\n",
       "      <td>102.0</td>\n",
       "      <td>199.9</td>\n",
       "      <td>172.2</td>\n",
       "      <td>97.8</td>\n",
       "      <td>86.3</td>\n",
       "      <td>52.9</td>\n",
       "      <td>47.2</td>\n",
       "      <td>35.3</td>\n",
       "      <td>37.6</td>\n",
       "      <td>30.8</td>\n",
       "      <td>89.7</td>\n",
       "      <td>218.3</td>\n",
       "      <td>163</td>\n",
       "      <td>106.6</td>\n",
       "      <td>110.2</td>\n",
       "      <td>135.2</td>\n",
       "      <td>144.6</td>\n",
       "    </tr>\n",
       "  </tbody>\n",
       "</table>\n",
       "</div>"
      ],
      "text/plain": [
       "                  City   2021 JAN(2021) FEB(2021) MAR(2021) APR(2021)  \\\n",
       "Rank                                                                    \n",
       "1       Bhiwadi, India  106.2     145.8     129.8     120.2     125.7   \n",
       "2     Ghaziabad, India  102.0     199.9     172.2      97.8      86.3   \n",
       "\n",
       "     MAY(2021) JUN(2021) JUL(2021) AUG(2021) SEP(2021) OCT(2021) NOV(2021)  \\\n",
       "Rank                                                                         \n",
       "1         86.5      95.9      55.6      55.4      37.1      91.1     188.6   \n",
       "2         52.9      47.2      35.3      37.6      30.8      89.7     218.3   \n",
       "\n",
       "     DEC(2021)   2020   2019   2018   2017  \n",
       "Rank                                        \n",
       "1        136.6   95.5   83.4  125.4      -  \n",
       "2          163  106.6  110.2  135.2  144.6  "
      ]
     },
     "execution_count": 5,
     "metadata": {},
     "output_type": "execute_result"
    }
   ],
   "source": [
    "df_pcities = pd.read_csv(\"datos/AIR QUALITY INDEX (by cities) - IQAir.csv\", index_col = 0 )\n",
    "df_pcities.head(2)"
   ]
  },
  {
   "cell_type": "markdown",
   "id": "20874ee3",
   "metadata": {},
   "source": [
    "A continuación, cargamos nuestros CSVs con los datos scrapeados acerca de la natalidad en el mismo periodo. "
   ]
  },
  {
   "cell_type": "code",
   "execution_count": 6,
   "id": "c905a4ed",
   "metadata": {
    "scrolled": false
   },
   "outputs": [
    {
     "data": {
      "text/html": [
       "<div>\n",
       "<style scoped>\n",
       "    .dataframe tbody tr th:only-of-type {\n",
       "        vertical-align: middle;\n",
       "    }\n",
       "\n",
       "    .dataframe tbody tr th {\n",
       "        vertical-align: top;\n",
       "    }\n",
       "\n",
       "    .dataframe thead th {\n",
       "        text-align: right;\n",
       "    }\n",
       "</style>\n",
       "<table border=\"1\" class=\"dataframe\">\n",
       "  <thead>\n",
       "    <tr style=\"text-align: right;\">\n",
       "      <th></th>\n",
       "      <th>0</th>\n",
       "    </tr>\n",
       "  </thead>\n",
       "  <tbody>\n",
       "    <tr>\n",
       "      <th>1</th>\n",
       "      <td>España [+] 2017 393.181 202.478 190.703 8,41‰ ...</td>\n",
       "    </tr>\n",
       "    <tr>\n",
       "      <th>2</th>\n",
       "      <td>Alemania [+] 2017 784.901 402.517 382.384 9,50...</td>\n",
       "    </tr>\n",
       "    <tr>\n",
       "      <th>3</th>\n",
       "      <td>Reino Unido [+] 2017 754.754 387.030 367.724 1...</td>\n",
       "    </tr>\n",
       "    <tr>\n",
       "      <th>4</th>\n",
       "      <td>Francia [+] 2017 770.045 394.058 375.987 11,50...</td>\n",
       "    </tr>\n",
       "    <tr>\n",
       "      <th>5</th>\n",
       "      <td>Italia [+] 2017 458.151 235.733 222.418 7,60‰ ...</td>\n",
       "    </tr>\n",
       "  </tbody>\n",
       "</table>\n",
       "</div>"
      ],
      "text/plain": [
       "                                                   0\n",
       "1  España [+] 2017 393.181 202.478 190.703 8,41‰ ...\n",
       "2  Alemania [+] 2017 784.901 402.517 382.384 9,50...\n",
       "3  Reino Unido [+] 2017 754.754 387.030 367.724 1...\n",
       "4  Francia [+] 2017 770.045 394.058 375.987 11,50...\n",
       "5  Italia [+] 2017 458.151 235.733 222.418 7,60‰ ..."
      ]
     },
     "execution_count": 6,
     "metadata": {},
     "output_type": "execute_result"
    }
   ],
   "source": [
    "df_n17= pd.read_csv(\"datos/natalidad/natalidad2017.csv\" ,  index_col = 0)\n",
    "df_n17.head(5)"
   ]
  },
  {
   "cell_type": "code",
   "execution_count": 7,
   "id": "c6af184d",
   "metadata": {},
   "outputs": [
    {
     "data": {
      "text/html": [
       "<div>\n",
       "<style scoped>\n",
       "    .dataframe tbody tr th:only-of-type {\n",
       "        vertical-align: middle;\n",
       "    }\n",
       "\n",
       "    .dataframe tbody tr th {\n",
       "        vertical-align: top;\n",
       "    }\n",
       "\n",
       "    .dataframe thead th {\n",
       "        text-align: right;\n",
       "    }\n",
       "</style>\n",
       "<table border=\"1\" class=\"dataframe\">\n",
       "  <thead>\n",
       "    <tr style=\"text-align: right;\">\n",
       "      <th></th>\n",
       "      <th>0</th>\n",
       "    </tr>\n",
       "  </thead>\n",
       "  <tbody>\n",
       "    <tr>\n",
       "      <th>1</th>\n",
       "      <td>España [+] 2018 372.777 191.569 181.208 7,94‰ ...</td>\n",
       "    </tr>\n",
       "    <tr>\n",
       "      <th>2</th>\n",
       "      <td>Alemania [+] 2018 787.523 404.052 383.471 9,50...</td>\n",
       "    </tr>\n",
       "    <tr>\n",
       "      <th>3</th>\n",
       "      <td>Reino Unido [+] 2018 730.918 375.379 355.539 1...</td>\n",
       "    </tr>\n",
       "    <tr>\n",
       "      <th>4</th>\n",
       "      <td>Francia [+] 2018 759.199 388.944 370.255 11,30...</td>\n",
       "    </tr>\n",
       "    <tr>\n",
       "      <th>5</th>\n",
       "      <td>Italia [+] 2018 439.747 226.217 213.530 7,30‰ ...</td>\n",
       "    </tr>\n",
       "  </tbody>\n",
       "</table>\n",
       "</div>"
      ],
      "text/plain": [
       "                                                   0\n",
       "1  España [+] 2018 372.777 191.569 181.208 7,94‰ ...\n",
       "2  Alemania [+] 2018 787.523 404.052 383.471 9,50...\n",
       "3  Reino Unido [+] 2018 730.918 375.379 355.539 1...\n",
       "4  Francia [+] 2018 759.199 388.944 370.255 11,30...\n",
       "5  Italia [+] 2018 439.747 226.217 213.530 7,30‰ ..."
      ]
     },
     "execution_count": 7,
     "metadata": {},
     "output_type": "execute_result"
    }
   ],
   "source": [
    "df_n18= pd.read_csv(\"datos/natalidad/natalidad2018.csv\" ,  index_col = 0)\n",
    "df_n18.head(5)"
   ]
  },
  {
   "cell_type": "code",
   "execution_count": 8,
   "id": "c18e212c",
   "metadata": {},
   "outputs": [
    {
     "data": {
      "text/html": [
       "<div>\n",
       "<style scoped>\n",
       "    .dataframe tbody tr th:only-of-type {\n",
       "        vertical-align: middle;\n",
       "    }\n",
       "\n",
       "    .dataframe tbody tr th {\n",
       "        vertical-align: top;\n",
       "    }\n",
       "\n",
       "    .dataframe thead th {\n",
       "        text-align: right;\n",
       "    }\n",
       "</style>\n",
       "<table border=\"1\" class=\"dataframe\">\n",
       "  <thead>\n",
       "    <tr style=\"text-align: right;\">\n",
       "      <th></th>\n",
       "      <th>0</th>\n",
       "    </tr>\n",
       "  </thead>\n",
       "  <tbody>\n",
       "    <tr>\n",
       "      <th>1</th>\n",
       "      <td>España [+] 2019 360.617 185.523 175.094 7,62‰ ...</td>\n",
       "    </tr>\n",
       "    <tr>\n",
       "      <th>2</th>\n",
       "      <td>Alemania [+] 2019 778.090 399.292 378.798 9,40...</td>\n",
       "    </tr>\n",
       "    <tr>\n",
       "      <th>3</th>\n",
       "      <td>Reino Unido [+] 2019 712.699 375.379 355.539 1...</td>\n",
       "    </tr>\n",
       "    <tr>\n",
       "      <th>4</th>\n",
       "      <td>Francia [+] 2019 754.008 385.340 368.668 11,20...</td>\n",
       "    </tr>\n",
       "    <tr>\n",
       "      <th>5</th>\n",
       "      <td>Italia [+] 2019 420.084 215.387 204.697 7,00‰ ...</td>\n",
       "    </tr>\n",
       "  </tbody>\n",
       "</table>\n",
       "</div>"
      ],
      "text/plain": [
       "                                                   0\n",
       "1  España [+] 2019 360.617 185.523 175.094 7,62‰ ...\n",
       "2  Alemania [+] 2019 778.090 399.292 378.798 9,40...\n",
       "3  Reino Unido [+] 2019 712.699 375.379 355.539 1...\n",
       "4  Francia [+] 2019 754.008 385.340 368.668 11,20...\n",
       "5  Italia [+] 2019 420.084 215.387 204.697 7,00‰ ..."
      ]
     },
     "execution_count": 8,
     "metadata": {},
     "output_type": "execute_result"
    }
   ],
   "source": [
    "df_n19= pd.read_csv(\"datos/natalidad/natalidad2019.csv\" ,  index_col = 0)\n",
    "df_n19.head(5)"
   ]
  },
  {
   "cell_type": "code",
   "execution_count": 9,
   "id": "c309ee85",
   "metadata": {},
   "outputs": [
    {
     "data": {
      "text/html": [
       "<div>\n",
       "<style scoped>\n",
       "    .dataframe tbody tr th:only-of-type {\n",
       "        vertical-align: middle;\n",
       "    }\n",
       "\n",
       "    .dataframe tbody tr th {\n",
       "        vertical-align: top;\n",
       "    }\n",
       "\n",
       "    .dataframe thead th {\n",
       "        text-align: right;\n",
       "    }\n",
       "</style>\n",
       "<table border=\"1\" class=\"dataframe\">\n",
       "  <thead>\n",
       "    <tr style=\"text-align: right;\">\n",
       "      <th></th>\n",
       "      <th>0</th>\n",
       "    </tr>\n",
       "  </thead>\n",
       "  <tbody>\n",
       "    <tr>\n",
       "      <th>1</th>\n",
       "      <td>España [+] 2020 341.315 174.842 166.473 7,19‰ ...</td>\n",
       "    </tr>\n",
       "    <tr>\n",
       "      <th>2</th>\n",
       "      <td>Alemania [+] 2020 773.144 397.385 375.759 9,30...</td>\n",
       "    </tr>\n",
       "    <tr>\n",
       "      <th>3</th>\n",
       "      <td>Reino Unido [+] 2020 712.699 375.379 355.539 1...</td>\n",
       "    </tr>\n",
       "    <tr>\n",
       "      <th>4</th>\n",
       "      <td>Francia [+] 2020 735.775 376.187 359.588 10,90...</td>\n",
       "    </tr>\n",
       "    <tr>\n",
       "      <th>5</th>\n",
       "      <td>Italia [+] 2020 404.892 208.431 196.461 6,80‰ ...</td>\n",
       "    </tr>\n",
       "  </tbody>\n",
       "</table>\n",
       "</div>"
      ],
      "text/plain": [
       "                                                   0\n",
       "1  España [+] 2020 341.315 174.842 166.473 7,19‰ ...\n",
       "2  Alemania [+] 2020 773.144 397.385 375.759 9,30...\n",
       "3  Reino Unido [+] 2020 712.699 375.379 355.539 1...\n",
       "4  Francia [+] 2020 735.775 376.187 359.588 10,90...\n",
       "5  Italia [+] 2020 404.892 208.431 196.461 6,80‰ ..."
      ]
     },
     "execution_count": 9,
     "metadata": {},
     "output_type": "execute_result"
    }
   ],
   "source": [
    "df_n20= pd.read_csv(\"datos/natalidad/natalidad2020.csv\" ,  index_col = 0)\n",
    "df_n20.head(5)"
   ]
  },
  {
   "cell_type": "code",
   "execution_count": 10,
   "id": "aafd03c3",
   "metadata": {
    "scrolled": false
   },
   "outputs": [
    {
     "data": {
      "text/html": [
       "<div>\n",
       "<style scoped>\n",
       "    .dataframe tbody tr th:only-of-type {\n",
       "        vertical-align: middle;\n",
       "    }\n",
       "\n",
       "    .dataframe tbody tr th {\n",
       "        vertical-align: top;\n",
       "    }\n",
       "\n",
       "    .dataframe thead th {\n",
       "        text-align: right;\n",
       "    }\n",
       "</style>\n",
       "<table border=\"1\" class=\"dataframe\">\n",
       "  <thead>\n",
       "    <tr style=\"text-align: right;\">\n",
       "      <th></th>\n",
       "      <th>0</th>\n",
       "    </tr>\n",
       "  </thead>\n",
       "  <tbody>\n",
       "    <tr>\n",
       "      <th>1</th>\n",
       "      <td>España [+] 2021 337.380 174.148 163.232 7,12‰ ...</td>\n",
       "    </tr>\n",
       "    <tr>\n",
       "      <th>2</th>\n",
       "      <td>Alemania [+] 2021 795.492 397.385 375.759 9,60...</td>\n",
       "    </tr>\n",
       "    <tr>\n",
       "      <th>3</th>\n",
       "      <td>Reino Unido [+] 2020 712.699 375.379 355.539 1...</td>\n",
       "    </tr>\n",
       "    <tr>\n",
       "      <th>4</th>\n",
       "      <td>Francia [+] 2021 738.594 376.187 359.588 10,90...</td>\n",
       "    </tr>\n",
       "    <tr>\n",
       "      <th>5</th>\n",
       "      <td>Italia [+] 2021 399.431 208.431 196.461 6,80‰ ...</td>\n",
       "    </tr>\n",
       "  </tbody>\n",
       "</table>\n",
       "</div>"
      ],
      "text/plain": [
       "                                                   0\n",
       "1  España [+] 2021 337.380 174.148 163.232 7,12‰ ...\n",
       "2  Alemania [+] 2021 795.492 397.385 375.759 9,60...\n",
       "3  Reino Unido [+] 2020 712.699 375.379 355.539 1...\n",
       "4  Francia [+] 2021 738.594 376.187 359.588 10,90...\n",
       "5  Italia [+] 2021 399.431 208.431 196.461 6,80‰ ..."
      ]
     },
     "execution_count": 10,
     "metadata": {},
     "output_type": "execute_result"
    }
   ],
   "source": [
    "df_n21= pd.read_csv(\"datos/natalidad/natalidad2021.csv\" ,  index_col = 0)\n",
    "df_n21.head(5)"
   ]
  },
  {
   "cell_type": "markdown",
   "id": "30955019",
   "metadata": {},
   "source": [
    "### · Limpieza Datos Scrapeados "
   ]
  },
  {
   "cell_type": "code",
   "execution_count": 11,
   "id": "4c9f5f25",
   "metadata": {
    "scrolled": false
   },
   "outputs": [
    {
     "data": {
      "text/html": [
       "<div>\n",
       "<style scoped>\n",
       "    .dataframe tbody tr th:only-of-type {\n",
       "        vertical-align: middle;\n",
       "    }\n",
       "\n",
       "    .dataframe tbody tr th {\n",
       "        vertical-align: top;\n",
       "    }\n",
       "\n",
       "    .dataframe thead th {\n",
       "        text-align: right;\n",
       "    }\n",
       "</style>\n",
       "<table border=\"1\" class=\"dataframe\">\n",
       "  <thead>\n",
       "    <tr style=\"text-align: right;\">\n",
       "      <th></th>\n",
       "      <th>0</th>\n",
       "    </tr>\n",
       "  </thead>\n",
       "  <tbody>\n",
       "    <tr>\n",
       "      <th>1</th>\n",
       "      <td>España [+] 2017 393.181 202.478 190.703 8,41‰ ...</td>\n",
       "    </tr>\n",
       "    <tr>\n",
       "      <th>2</th>\n",
       "      <td>Alemania [+] 2017 784.901 402.517 382.384 9,50...</td>\n",
       "    </tr>\n",
       "    <tr>\n",
       "      <th>3</th>\n",
       "      <td>Reino Unido [+] 2017 754.754 387.030 367.724 1...</td>\n",
       "    </tr>\n",
       "    <tr>\n",
       "      <th>4</th>\n",
       "      <td>Francia [+] 2017 770.045 394.058 375.987 11,50...</td>\n",
       "    </tr>\n",
       "    <tr>\n",
       "      <th>5</th>\n",
       "      <td>Italia [+] 2017 458.151 235.733 222.418 7,60‰ ...</td>\n",
       "    </tr>\n",
       "    <tr>\n",
       "      <th>...</th>\n",
       "      <td>...</td>\n",
       "    </tr>\n",
       "    <tr>\n",
       "      <th>189</th>\n",
       "      <td>Samoa [+] 2017 24,69‰ 3,93 -1,26%</td>\n",
       "    </tr>\n",
       "    <tr>\n",
       "      <th>190</th>\n",
       "      <td>Yemen [+] 2017 31,04‰ 3,89 -2,60%</td>\n",
       "    </tr>\n",
       "    <tr>\n",
       "      <th>191</th>\n",
       "      <td>Sudáfrica [+] 2017 20,91‰ 2,43 -1,10%</td>\n",
       "    </tr>\n",
       "    <tr>\n",
       "      <th>192</th>\n",
       "      <td>Zambia [+] 2017 36,70‰ 4,72 -1,99%</td>\n",
       "    </tr>\n",
       "    <tr>\n",
       "      <th>193</th>\n",
       "      <td>Zimbabue [+] 2017 31,73‰ 3,71 -2,55%</td>\n",
       "    </tr>\n",
       "  </tbody>\n",
       "</table>\n",
       "<p>193 rows × 1 columns</p>\n",
       "</div>"
      ],
      "text/plain": [
       "                                                     0\n",
       "1    España [+] 2017 393.181 202.478 190.703 8,41‰ ...\n",
       "2    Alemania [+] 2017 784.901 402.517 382.384 9,50...\n",
       "3    Reino Unido [+] 2017 754.754 387.030 367.724 1...\n",
       "4    Francia [+] 2017 770.045 394.058 375.987 11,50...\n",
       "5    Italia [+] 2017 458.151 235.733 222.418 7,60‰ ...\n",
       "..                                                 ...\n",
       "189                  Samoa [+] 2017 24,69‰ 3,93 -1,26%\n",
       "190                  Yemen [+] 2017 31,04‰ 3,89 -2,60%\n",
       "191              Sudáfrica [+] 2017 20,91‰ 2,43 -1,10%\n",
       "192                 Zambia [+] 2017 36,70‰ 4,72 -1,99%\n",
       "193               Zimbabue [+] 2017 31,73‰ 3,71 -2,55%\n",
       "\n",
       "[193 rows x 1 columns]"
      ]
     },
     "execution_count": 11,
     "metadata": {},
     "output_type": "execute_result"
    }
   ],
   "source": [
    "df_n17"
   ]
  },
  {
   "cell_type": "markdown",
   "id": "92333d03",
   "metadata": {},
   "source": [
    "Empezaremos por limpiar el grueso de nuestros datos, discriminando los países. La decisión de hacerlo de esta manera es porque el split de la mayoría de información lo haremos por espacios y en los países no es válido ya que muchos tienen nombre compuesto."
   ]
  },
  {
   "cell_type": "code",
   "execution_count": 12,
   "id": "c22a4ed8",
   "metadata": {
    "scrolled": false
   },
   "outputs": [],
   "source": [
    "df_n17= df_n17[\"0\"].str.split(\"\\s\\[\", regex= True, expand=True)\n",
    "#df_n17"
   ]
  },
  {
   "cell_type": "markdown",
   "id": "811fbc0a",
   "metadata": {},
   "source": [
    "Para hacer la división del grueso de datos, crearemos un diccionario. Aprovecharemos que la estructura de los datos extraídos es fija para realizar el almacenamiento en el mismo. Lo primero es conocer la longitud de los diferentes paquetes de información, para crear los condicionales de los que dependerá este almacenamiento. En aquellos datos que no estén informados, con el objetivo de mantener la estructura, introduciremos un valor nulo. Este diccionario será nuestro puente para los DataFrames finales. "
   ]
  },
  {
   "cell_type": "code",
   "execution_count": 13,
   "id": "dc09890f",
   "metadata": {},
   "outputs": [],
   "source": [
    "lon=[]\n",
    "\n",
    "for i in df_n17[1]:\n",
    "    lon.append(len(i.split()))"
   ]
  },
  {
   "cell_type": "code",
   "execution_count": 14,
   "id": "3e19fd72",
   "metadata": {
    "scrolled": true
   },
   "outputs": [
    {
     "data": {
      "text/plain": [
       "[8, 8, 8, 8, 8]"
      ]
     },
     "execution_count": 14,
     "metadata": {},
     "output_type": "execute_result"
    }
   ],
   "source": [
    "lon[:5]"
   ]
  },
  {
   "cell_type": "code",
   "execution_count": 15,
   "id": "fe7e5ad3",
   "metadata": {
    "scrolled": true
   },
   "outputs": [
    {
     "name": "stdout",
     "output_type": "stream",
     "text": [
      "{8, 5, 6, 7}\n"
     ]
    }
   ],
   "source": [
    "numeros_unicos = set(lon)\n",
    "\n",
    "print(numeros_unicos)"
   ]
  },
  {
   "cell_type": "code",
   "execution_count": 16,
   "id": "72d1d010",
   "metadata": {
    "scrolled": false
   },
   "outputs": [],
   "source": [
    "#lon.index(7)"
   ]
  },
  {
   "cell_type": "markdown",
   "id": "ee8dde17",
   "metadata": {},
   "source": [
    "Una vez sabemos la longitud de nuestros distintos paquetes de datos, empezamos con la creación del diccionario:"
   ]
  },
  {
   "cell_type": "code",
   "execution_count": 17,
   "id": "4348f539",
   "metadata": {
    "scrolled": false
   },
   "outputs": [],
   "source": [
    "nat2017 = {\n",
    "    \"year\": [],\n",
    "    \"born\": [],\n",
    "    \"male_born\": [],\n",
    "    \"female_born\":[],\n",
    "    \"birth_rate\": [],\n",
    "    \"fertility_rate\":[],\n",
    "    \"variation\":[]\n",
    "            }\n",
    "\n",
    "data_list = df_n17[1]\n",
    "\n",
    "for data in data_list:\n",
    "    \n",
    "    a = data.split()\n",
    "    \n",
    "    if len(a)== 8:\n",
    "        nat2017[\"year\"].append(str(a[1]))\n",
    "        nat2017[\"born\"].append(str(a[2]))\n",
    "        nat2017[\"male_born\"].append(str(a[3]))\n",
    "        nat2017[\"female_born\"].append(str(a[4]))\n",
    "        nat2017[\"birth_rate\"].append(str(a[5]))\n",
    "        nat2017[\"fertility_rate\"].append(str(a[6]))\n",
    "        nat2017[\"variation\"].append(str(a[7]))\n",
    "    \n",
    "    if len(a)== 7:\n",
    "        nat2017[\"year\"].append(str(a[1]))\n",
    "        nat2017[\"born\"].append(str(a[2]))\n",
    "        nat2017[\"male_born\"].append(str(a[3]))\n",
    "        nat2017[\"female_born\"].append(str(a[4]))\n",
    "        nat2017[\"birth_rate\"].append(str(a[5]))\n",
    "        nat2017[\"fertility_rate\"].append(str(a[6]))\n",
    "        nat2017[\"variation\"].append(np.nan)    \n",
    "            \n",
    "    if len(a)== 6:\n",
    "        nat2017[\"year\"].append(str(a[1]))\n",
    "        nat2017[\"born\"].append(str(a[2]))\n",
    "        nat2017[\"male_born\"].append(np.nan)\n",
    "        nat2017[\"female_born\"].append(np.nan)\n",
    "        nat2017[\"birth_rate\"].append(str(a[3]))\n",
    "        nat2017[\"fertility_rate\"].append(str(a[4]))\n",
    "        nat2017[\"variation\"].append(str(a[5]))\n",
    "            \n",
    "    if len(a)== 5:\n",
    "        nat2017[\"year\"].append(str(a[1]))\n",
    "        nat2017[\"born\"].append(np.nan)\n",
    "        nat2017[\"male_born\"].append(np.nan)\n",
    "        nat2017[\"female_born\"].append(np.nan)\n",
    "        nat2017[\"birth_rate\"].append(str(a[2]))\n",
    "        nat2017[\"fertility_rate\"].append(str(a[3]))\n",
    "        nat2017[\"variation\"].append(str(a[4]))\n",
    "            "
   ]
  },
  {
   "cell_type": "code",
   "execution_count": 18,
   "id": "34c05ee0",
   "metadata": {
    "scrolled": true
   },
   "outputs": [
    {
     "data": {
      "text/plain": [
       "193"
      ]
     },
     "execution_count": 18,
     "metadata": {},
     "output_type": "execute_result"
    }
   ],
   "source": [
    "#control\n",
    "len(nat2017[\"year\"])"
   ]
  },
  {
   "cell_type": "markdown",
   "id": "0881a960",
   "metadata": {},
   "source": [
    "Una vez finalizado nuestro diccionario con el grueso de datos, debemos hacer la limpieza de la columna países. La limpieza se basará en eliminar espacios o \"y\" en los nombres, en su lugar pondremos \"_\": "
   ]
  },
  {
   "cell_type": "code",
   "execution_count": 19,
   "id": "d6a79227",
   "metadata": {
    "scrolled": true
   },
   "outputs": [
    {
     "data": {
      "text/plain": [
       "array(['España', 'Alemania', 'Reino Unido', 'Francia', 'Italia'],\n",
       "      dtype=object)"
      ]
     },
     "execution_count": 19,
     "metadata": {},
     "output_type": "execute_result"
    }
   ],
   "source": [
    "df_n17[0].unique()[:5]"
   ]
  },
  {
   "cell_type": "code",
   "execution_count": 20,
   "id": "6d44372c",
   "metadata": {
    "scrolled": false
   },
   "outputs": [
    {
     "data": {
      "text/plain": [
       "array(['España', 'Alemania', 'Reino Unido', 'Francia', 'Italia'],\n",
       "      dtype=object)"
      ]
     },
     "execution_count": 20,
     "metadata": {},
     "output_type": "execute_result"
    }
   ],
   "source": [
    "df_n17[0] = df_n17[0].apply(lambda x: str(x).replace(\" y \",\"_\"))\n",
    "df_n17[0].unique()[:5]"
   ]
  },
  {
   "cell_type": "code",
   "execution_count": 21,
   "id": "b17e9fe8",
   "metadata": {
    "scrolled": false
   },
   "outputs": [
    {
     "data": {
      "text/plain": [
       "array(['España', 'Alemania', 'Reino_Unido', 'Francia', 'Italia'],\n",
       "      dtype=object)"
      ]
     },
     "execution_count": 21,
     "metadata": {},
     "output_type": "execute_result"
    }
   ],
   "source": [
    "df_n17[0] = df_n17[0].apply(lambda x: str(x).replace(\" \",\"_\"))\n",
    "df_n17[0].unique()[:5]"
   ]
  },
  {
   "cell_type": "markdown",
   "id": "226afc2b",
   "metadata": {},
   "source": [
    "Ya disponemos de los países limpios por lo que están listos para ser unidos al resto del diccionario. Esto nos formará uno de nuestros cinco DataFrames finales. Haremos un diccionario con los países limpios, que después zipearemos con la información de nuestro anterior diccionario:"
   ]
  },
  {
   "cell_type": "code",
   "execution_count": 22,
   "id": "ee382417",
   "metadata": {},
   "outputs": [],
   "source": [
    "paises17={\n",
    "        \"country\": []\n",
    "            }\n",
    "\n",
    "for i in df_n17[0]:\n",
    "    \n",
    "    paises17[\"country\"].append(i)"
   ]
  },
  {
   "cell_type": "code",
   "execution_count": 23,
   "id": "e68707f5",
   "metadata": {
    "scrolled": true
   },
   "outputs": [],
   "source": [
    "#paises17"
   ]
  },
  {
   "cell_type": "code",
   "execution_count": 24,
   "id": "bbdfa0bf",
   "metadata": {
    "scrolled": false
   },
   "outputs": [],
   "source": [
    "union17 = list(zip(paises17[\"country\"], nat2017[\"year\"], nat2017[\"born\"], nat2017[\"male_born\"], nat2017[\"female_born\"], nat2017[\"birth_rate\"], nat2017[\"fertility_rate\"] , nat2017[\"variation\"]))"
   ]
  },
  {
   "cell_type": "markdown",
   "id": "7d81c87a",
   "metadata": {},
   "source": [
    "###### *PUNTO DE CONTROL* 📍\n",
    "Necesario para reseteo DataFrame"
   ]
  },
  {
   "cell_type": "code",
   "execution_count": 25,
   "id": "91cdcc5a",
   "metadata": {
    "scrolled": true
   },
   "outputs": [],
   "source": [
    "n17= pd.DataFrame(union17)\n",
    "#n17"
   ]
  },
  {
   "cell_type": "code",
   "execution_count": 26,
   "id": "fbcb6a74",
   "metadata": {
    "scrolled": true
   },
   "outputs": [],
   "source": [
    "#control\n",
    "#n17.info()\n",
    "#n17.isnull().sum()"
   ]
  },
  {
   "cell_type": "markdown",
   "id": "2aaf0bfe",
   "metadata": {},
   "source": [
    "Nuestro siguiente paso será dar nombre a las columnas:"
   ]
  },
  {
   "cell_type": "code",
   "execution_count": 27,
   "id": "48a93e09",
   "metadata": {
    "scrolled": false
   },
   "outputs": [
    {
     "data": {
      "text/plain": [
       "RangeIndex(start=0, stop=8, step=1)"
      ]
     },
     "execution_count": 27,
     "metadata": {},
     "output_type": "execute_result"
    }
   ],
   "source": [
    "n17.columns"
   ]
  },
  {
   "cell_type": "code",
   "execution_count": 28,
   "id": "7543e9f5",
   "metadata": {
    "scrolled": true
   },
   "outputs": [
    {
     "name": "stderr",
     "output_type": "stream",
     "text": [
      "/var/folders/8l/zm2f15815wb7zxjgwnj0zkjh0000gn/T/ipykernel_1166/526978396.py:1: FutureWarning: DataFrame.set_axis 'inplace' keyword is deprecated and will be removed in a future version. Use `obj = obj.set_axis(..., copy=False)` instead\n",
      "  n17.set_axis([\"country\", \"year\", \"born\", \"male_born\", \"female_born\", \"birth_rate\", \"fertility_rate\", \"variation\"], axis=1, inplace=True)\n"
     ]
    }
   ],
   "source": [
    "n17.set_axis([\"country\", \"year\", \"born\", \"male_born\", \"female_born\", \"birth_rate\", \"fertility_rate\", \"variation\"], axis=1, inplace=True)"
   ]
  },
  {
   "cell_type": "markdown",
   "id": "cc2bee4b",
   "metadata": {},
   "source": [
    "El siguiente paso será gestionar los tipos de datos que tenemos. Nos interesa tener la mayor cantidad de datos numéricos posibles:"
   ]
  },
  {
   "cell_type": "code",
   "execution_count": 29,
   "id": "3c29895d",
   "metadata": {
    "scrolled": true
   },
   "outputs": [],
   "source": [
    "n17[\"year\"]= n17[\"year\"].astype(\"int\")"
   ]
  },
  {
   "cell_type": "code",
   "execution_count": 30,
   "id": "aeaca66d",
   "metadata": {
    "scrolled": true
   },
   "outputs": [
    {
     "name": "stderr",
     "output_type": "stream",
     "text": [
      "/var/folders/8l/zm2f15815wb7zxjgwnj0zkjh0000gn/T/ipykernel_1166/2687544233.py:1: FutureWarning: The default value of regex will change from True to False in a future version. In addition, single character regular expressions will *not* be treated as literal strings when regex=True.\n",
      "  n17[\"born\"] = n17[\"born\"].str.replace(\".\", \"\")\n"
     ]
    }
   ],
   "source": [
    "n17[\"born\"] = n17[\"born\"].str.replace(\".\", \"\")"
   ]
  },
  {
   "cell_type": "code",
   "execution_count": 31,
   "id": "0aa030ec",
   "metadata": {},
   "outputs": [],
   "source": [
    "n17[\"born\"] = pd.to_numeric(n17[\"born\"])"
   ]
  },
  {
   "cell_type": "code",
   "execution_count": 32,
   "id": "668acc64",
   "metadata": {
    "scrolled": true
   },
   "outputs": [
    {
     "name": "stderr",
     "output_type": "stream",
     "text": [
      "/var/folders/8l/zm2f15815wb7zxjgwnj0zkjh0000gn/T/ipykernel_1166/2191722072.py:1: FutureWarning: The default value of regex will change from True to False in a future version. In addition, single character regular expressions will *not* be treated as literal strings when regex=True.\n",
      "  n17[\"male_born\"] = n17[\"male_born\"].str.replace(\".\",\"\")\n"
     ]
    }
   ],
   "source": [
    "n17[\"male_born\"] = n17[\"male_born\"].str.replace(\".\",\"\")"
   ]
  },
  {
   "cell_type": "code",
   "execution_count": 33,
   "id": "e2a2af7f",
   "metadata": {
    "scrolled": true
   },
   "outputs": [],
   "source": [
    "n17[\"male_born\"] = pd.to_numeric(n17[\"male_born\"])"
   ]
  },
  {
   "cell_type": "code",
   "execution_count": 34,
   "id": "c782e2b4",
   "metadata": {
    "scrolled": true
   },
   "outputs": [
    {
     "name": "stderr",
     "output_type": "stream",
     "text": [
      "/var/folders/8l/zm2f15815wb7zxjgwnj0zkjh0000gn/T/ipykernel_1166/3584901649.py:1: FutureWarning: The default value of regex will change from True to False in a future version. In addition, single character regular expressions will *not* be treated as literal strings when regex=True.\n",
      "  n17[\"female_born\"] = n17[\"female_born\"].str.replace(\".\",\"\")\n"
     ]
    }
   ],
   "source": [
    "n17[\"female_born\"] = n17[\"female_born\"].str.replace(\".\",\"\")"
   ]
  },
  {
   "cell_type": "code",
   "execution_count": 35,
   "id": "68ac2f33",
   "metadata": {
    "scrolled": true
   },
   "outputs": [],
   "source": [
    "n17[\"female_born\"] = pd.to_numeric(n17[\"female_born\"])"
   ]
  },
  {
   "cell_type": "markdown",
   "id": "d2ec6f05",
   "metadata": {},
   "source": [
    "##### Gestión de porcentaje  "
   ]
  },
  {
   "cell_type": "markdown",
   "id": "1c2c8dbd",
   "metadata": {},
   "source": [
    "La gestión a realizar del porcentaje es su eliminación para evitar que sean objetos los números. Primero lo que haremos es sustituir las comas, por puntos, así nos permitirá tener un `float`. Acto seguido eliminados finalmente el porcentaje.  "
   ]
  },
  {
   "cell_type": "code",
   "execution_count": 36,
   "id": "810d4bd0",
   "metadata": {
    "scrolled": true
   },
   "outputs": [],
   "source": [
    "n17[\"birth_rate\"]= n17[\"birth_rate\"].str.replace(\"‰\",\"\")"
   ]
  },
  {
   "cell_type": "code",
   "execution_count": 37,
   "id": "2f91dd81",
   "metadata": {},
   "outputs": [],
   "source": [
    "n17[\"birth_rate\"]= n17[\"birth_rate\"].str.replace(\",\",\"\")"
   ]
  },
  {
   "cell_type": "code",
   "execution_count": 38,
   "id": "7b49ad4a",
   "metadata": {},
   "outputs": [],
   "source": [
    "n17[\"birth_rate\"] = pd.to_numeric(n17[\"birth_rate\"])"
   ]
  },
  {
   "cell_type": "code",
   "execution_count": 39,
   "id": "68209dc1",
   "metadata": {},
   "outputs": [],
   "source": [
    "n17[\"fertility_rate\"] = n17[\"fertility_rate\"].str.replace(\"%\",\"\")"
   ]
  },
  {
   "cell_type": "code",
   "execution_count": 40,
   "id": "46dfbd37",
   "metadata": {},
   "outputs": [],
   "source": [
    "n17[\"fertility_rate\"] = n17[\"fertility_rate\"].str.replace(\",\",\".\")"
   ]
  },
  {
   "cell_type": "code",
   "execution_count": 41,
   "id": "1a643236",
   "metadata": {},
   "outputs": [],
   "source": [
    "n17[\"fertility_rate\"]= pd.to_numeric(n17[\"fertility_rate\"])"
   ]
  },
  {
   "cell_type": "code",
   "execution_count": 42,
   "id": "06ca3926",
   "metadata": {},
   "outputs": [],
   "source": [
    "n17[\"variation\"] = n17[\"variation\"].str.replace(\"%\",\"\")"
   ]
  },
  {
   "cell_type": "code",
   "execution_count": 43,
   "id": "18ee7a30",
   "metadata": {},
   "outputs": [],
   "source": [
    "n17[\"variation\"]= n17[\"variation\"].str.replace(\"‰\",\"\")"
   ]
  },
  {
   "cell_type": "code",
   "execution_count": 44,
   "id": "6c050979",
   "metadata": {},
   "outputs": [],
   "source": [
    "n17[\"variation\"] = n17[\"variation\"].str.replace(\",\",\".\")"
   ]
  },
  {
   "cell_type": "code",
   "execution_count": 45,
   "id": "546996a8",
   "metadata": {},
   "outputs": [],
   "source": [
    "n17[\"variation\"]= pd.to_numeric(n17[\"variation\"])"
   ]
  },
  {
   "cell_type": "code",
   "execution_count": 46,
   "id": "a907d4ba",
   "metadata": {
    "scrolled": false
   },
   "outputs": [],
   "source": [
    "#n17"
   ]
  },
  {
   "cell_type": "code",
   "execution_count": 47,
   "id": "0c5b5942",
   "metadata": {
    "scrolled": true
   },
   "outputs": [],
   "source": [
    "#control para saber como va mi transformación de datos\n",
    "#n17.info()"
   ]
  },
  {
   "cell_type": "markdown",
   "id": "153daa7d",
   "metadata": {},
   "source": [
    "#### ¡Lo tenemos! ✨\n",
    "\n",
    "Primer DataFrame limpio y listo para ser guardado para nuestra fase de analísis. "
   ]
  },
  {
   "cell_type": "code",
   "execution_count": 48,
   "id": "30a55d14",
   "metadata": {},
   "outputs": [],
   "source": [
    "n17.to_csv('n17_def.csv')"
   ]
  },
  {
   "cell_type": "markdown",
   "id": "04e544c9",
   "metadata": {},
   "source": [
    "Ahora a por los otros 4 años de información, donde repetiremos el proceso realizado. Para agilizar el proceso, crearemos funciones de limpieza que iremos aplicando a nuestra información:"
   ]
  },
  {
   "cell_type": "markdown",
   "id": "fdfe8850",
   "metadata": {},
   "source": [
    "### 2018"
   ]
  },
  {
   "cell_type": "code",
   "execution_count": 49,
   "id": "e904ebaf",
   "metadata": {
    "scrolled": true
   },
   "outputs": [
    {
     "data": {
      "text/html": [
       "<div>\n",
       "<style scoped>\n",
       "    .dataframe tbody tr th:only-of-type {\n",
       "        vertical-align: middle;\n",
       "    }\n",
       "\n",
       "    .dataframe tbody tr th {\n",
       "        vertical-align: top;\n",
       "    }\n",
       "\n",
       "    .dataframe thead th {\n",
       "        text-align: right;\n",
       "    }\n",
       "</style>\n",
       "<table border=\"1\" class=\"dataframe\">\n",
       "  <thead>\n",
       "    <tr style=\"text-align: right;\">\n",
       "      <th></th>\n",
       "      <th>0</th>\n",
       "    </tr>\n",
       "  </thead>\n",
       "  <tbody>\n",
       "    <tr>\n",
       "      <th>1</th>\n",
       "      <td>España [+] 2018 372.777 191.569 181.208 7,94‰ ...</td>\n",
       "    </tr>\n",
       "    <tr>\n",
       "      <th>2</th>\n",
       "      <td>Alemania [+] 2018 787.523 404.052 383.471 9,50...</td>\n",
       "    </tr>\n",
       "    <tr>\n",
       "      <th>3</th>\n",
       "      <td>Reino Unido [+] 2018 730.918 375.379 355.539 1...</td>\n",
       "    </tr>\n",
       "    <tr>\n",
       "      <th>4</th>\n",
       "      <td>Francia [+] 2018 759.199 388.944 370.255 11,30...</td>\n",
       "    </tr>\n",
       "    <tr>\n",
       "      <th>5</th>\n",
       "      <td>Italia [+] 2018 439.747 226.217 213.530 7,30‰ ...</td>\n",
       "    </tr>\n",
       "    <tr>\n",
       "      <th>...</th>\n",
       "      <td>...</td>\n",
       "    </tr>\n",
       "    <tr>\n",
       "      <th>189</th>\n",
       "      <td>Samoa [+] 2018 24,38‰ 3,88 -1,25%</td>\n",
       "    </tr>\n",
       "    <tr>\n",
       "      <th>190</th>\n",
       "      <td>Yemen [+] 2018 30,45‰ 3,79 -2,52%</td>\n",
       "    </tr>\n",
       "    <tr>\n",
       "      <th>191</th>\n",
       "      <td>Sudáfrica [+] 2018 20,51‰ 2,41 -1,03%</td>\n",
       "    </tr>\n",
       "    <tr>\n",
       "      <th>192</th>\n",
       "      <td>Zambia [+] 2018 36,19‰ 4,63 -1,80%</td>\n",
       "    </tr>\n",
       "    <tr>\n",
       "      <th>193</th>\n",
       "      <td>Zimbabue [+] 2018 30,68‰ 3,62 -2,48%</td>\n",
       "    </tr>\n",
       "  </tbody>\n",
       "</table>\n",
       "<p>193 rows × 1 columns</p>\n",
       "</div>"
      ],
      "text/plain": [
       "                                                     0\n",
       "1    España [+] 2018 372.777 191.569 181.208 7,94‰ ...\n",
       "2    Alemania [+] 2018 787.523 404.052 383.471 9,50...\n",
       "3    Reino Unido [+] 2018 730.918 375.379 355.539 1...\n",
       "4    Francia [+] 2018 759.199 388.944 370.255 11,30...\n",
       "5    Italia [+] 2018 439.747 226.217 213.530 7,30‰ ...\n",
       "..                                                 ...\n",
       "189                  Samoa [+] 2018 24,38‰ 3,88 -1,25%\n",
       "190                  Yemen [+] 2018 30,45‰ 3,79 -2,52%\n",
       "191              Sudáfrica [+] 2018 20,51‰ 2,41 -1,03%\n",
       "192                 Zambia [+] 2018 36,19‰ 4,63 -1,80%\n",
       "193               Zimbabue [+] 2018 30,68‰ 3,62 -2,48%\n",
       "\n",
       "[193 rows x 1 columns]"
      ]
     },
     "execution_count": 49,
     "metadata": {},
     "output_type": "execute_result"
    }
   ],
   "source": [
    "df_n18"
   ]
  },
  {
   "cell_type": "code",
   "execution_count": 50,
   "id": "f316c892",
   "metadata": {
    "scrolled": false
   },
   "outputs": [],
   "source": [
    "df_n18= df_n18[\"0\"].str.split(\"\\s\\[\", regex= True, expand=True)\n",
    "#df_n18"
   ]
  },
  {
   "cell_type": "code",
   "execution_count": 51,
   "id": "db6dcadf",
   "metadata": {},
   "outputs": [],
   "source": [
    "lon18=[]\n",
    "\n",
    "for i in df_n18[1]:\n",
    "    lon18.append(len(i.split()))"
   ]
  },
  {
   "cell_type": "code",
   "execution_count": 52,
   "id": "b147fc5c",
   "metadata": {},
   "outputs": [
    {
     "name": "stdout",
     "output_type": "stream",
     "text": [
      "{8, 5, 6, 7}\n"
     ]
    }
   ],
   "source": [
    "unicos18 = set(lon18)\n",
    "\n",
    "print(unicos18)"
   ]
  },
  {
   "cell_type": "code",
   "execution_count": 53,
   "id": "39b4c866",
   "metadata": {},
   "outputs": [],
   "source": [
    "nat2018 = {\n",
    "    \"year\": [],\n",
    "    \"born\": [],\n",
    "    \"male_born\": [],\n",
    "    \"female_born\":[],\n",
    "    \"birth_rate\": [],\n",
    "    \"fertility_rate\":[],\n",
    "    \"variation\":[]\n",
    "            }\n",
    "\n",
    "data_list = df_n18[1]\n",
    "\n",
    "for data in data_list:\n",
    "    \n",
    "    a = data.split()\n",
    "    \n",
    "    if len(a)== 8:\n",
    "        nat2018[\"year\"].append(str(a[1]))\n",
    "        nat2018[\"born\"].append(str(a[2]))\n",
    "        nat2018[\"male_born\"].append(str(a[3]))\n",
    "        nat2018[\"female_born\"].append(str(a[4]))\n",
    "        nat2018[\"birth_rate\"].append(str(a[5]))\n",
    "        nat2018[\"fertility_rate\"].append(str(a[6]))\n",
    "        nat2018[\"variation\"].append(str(a[7]))\n",
    "    \n",
    "    if len(a)== 7:\n",
    "        nat2018[\"year\"].append(str(a[1]))\n",
    "        nat2018[\"born\"].append(str(a[2]))\n",
    "        nat2018[\"male_born\"].append(str(a[3]))\n",
    "        nat2018[\"female_born\"].append(str(a[4]))\n",
    "        nat2018[\"birth_rate\"].append(str(a[5]))\n",
    "        nat2018[\"fertility_rate\"].append(str(a[6]))\n",
    "        nat2018[\"variation\"].append(np.nan)    \n",
    "            \n",
    "    if len(a)== 6:\n",
    "        nat2018[\"year\"].append(str(a[1]))\n",
    "        nat2018[\"born\"].append(str(a[2]))\n",
    "        nat2018[\"male_born\"].append(np.nan)\n",
    "        nat2018[\"female_born\"].append(np.nan)\n",
    "        nat2018[\"birth_rate\"].append(str(a[3]))\n",
    "        nat2018[\"fertility_rate\"].append(str(a[4]))\n",
    "        nat2018[\"variation\"].append(str(a[5]))\n",
    "            \n",
    "    if len(a)== 5:\n",
    "        nat2018[\"year\"].append(str(a[1]))\n",
    "        nat2018[\"born\"].append(np.nan)\n",
    "        nat2018[\"male_born\"].append(np.nan)\n",
    "        nat2018[\"female_born\"].append(np.nan)\n",
    "        nat2018[\"birth_rate\"].append(str(a[2]))\n",
    "        nat2018[\"fertility_rate\"].append(str(a[3]))\n",
    "        nat2018[\"variation\"].append(str(a[4]))"
   ]
  },
  {
   "cell_type": "code",
   "execution_count": 54,
   "id": "739eba70",
   "metadata": {},
   "outputs": [
    {
     "data": {
      "text/plain": [
       "193"
      ]
     },
     "execution_count": 54,
     "metadata": {},
     "output_type": "execute_result"
    }
   ],
   "source": [
    "#control\n",
    "len(nat2018[\"year\"])"
   ]
  },
  {
   "cell_type": "code",
   "execution_count": 55,
   "id": "756f590b",
   "metadata": {},
   "outputs": [
    {
     "data": {
      "text/plain": [
       "array(['España', 'Alemania', 'Reino Unido', 'Francia', 'Italia'],\n",
       "      dtype=object)"
      ]
     },
     "execution_count": 55,
     "metadata": {},
     "output_type": "execute_result"
    }
   ],
   "source": [
    "df_n18[0] = df_n18[0].apply(lambda x: str(x).replace(\" y \",\"_\"))\n",
    "df_n18[0].unique()[:5]"
   ]
  },
  {
   "cell_type": "code",
   "execution_count": 56,
   "id": "ce7120c6",
   "metadata": {},
   "outputs": [
    {
     "data": {
      "text/plain": [
       "array(['España', 'Alemania', 'Reino_Unido', 'Francia', 'Italia'],\n",
       "      dtype=object)"
      ]
     },
     "execution_count": 56,
     "metadata": {},
     "output_type": "execute_result"
    }
   ],
   "source": [
    "df_n18[0] = df_n18[0].apply(lambda x: str(x).replace(\" \",\"_\"))\n",
    "df_n18[0].unique()[:5]"
   ]
  },
  {
   "cell_type": "code",
   "execution_count": 57,
   "id": "be3def65",
   "metadata": {},
   "outputs": [],
   "source": [
    "paises18={\n",
    "        \"country\": []\n",
    "            }\n",
    "\n",
    "for i in df_n18[0]:\n",
    "    \n",
    "    paises18[\"country\"].append(i)"
   ]
  },
  {
   "cell_type": "code",
   "execution_count": 58,
   "id": "a98520c4",
   "metadata": {},
   "outputs": [],
   "source": [
    "union18 = list(zip(paises18[\"country\"], nat2018[\"year\"], nat2018[\"born\"], nat2018[\"male_born\"], nat2018[\"female_born\"], nat2018[\"birth_rate\"], nat2018[\"fertility_rate\"] , nat2018[\"variation\"]))"
   ]
  },
  {
   "cell_type": "markdown",
   "id": "7e248044",
   "metadata": {},
   "source": [
    "#### *PUNTO DE CONTROL* 📍\n",
    "Necesario para reseteo DataFrame"
   ]
  },
  {
   "cell_type": "code",
   "execution_count": 59,
   "id": "168c2f0b",
   "metadata": {
    "scrolled": true
   },
   "outputs": [],
   "source": [
    "n18= pd.DataFrame(union18)\n",
    "#n18"
   ]
  },
  {
   "cell_type": "markdown",
   "id": "70731dd9",
   "metadata": {},
   "source": [
    "###### Limpieza datos\n",
    "Nuestra primera función definida será para establecer las cabeceras de nuestras columnas:"
   ]
  },
  {
   "cell_type": "code",
   "execution_count": 60,
   "id": "8ff3ab50",
   "metadata": {
    "scrolled": false
   },
   "outputs": [],
   "source": [
    "def titulos_col(x):\n",
    "    x.set_axis([\"country\", \"year\", \"born\", \"male_born\", \"female_born\", \"birth_rate\", \"fertility_rate\", \"variation\"], axis=1, inplace=True)"
   ]
  },
  {
   "cell_type": "code",
   "execution_count": 61,
   "id": "2f1cf50f",
   "metadata": {
    "scrolled": true
   },
   "outputs": [
    {
     "name": "stderr",
     "output_type": "stream",
     "text": [
      "/var/folders/8l/zm2f15815wb7zxjgwnj0zkjh0000gn/T/ipykernel_1166/2230106971.py:2: FutureWarning: DataFrame.set_axis 'inplace' keyword is deprecated and will be removed in a future version. Use `obj = obj.set_axis(..., copy=False)` instead\n",
      "  x.set_axis([\"country\", \"year\", \"born\", \"male_born\", \"female_born\", \"birth_rate\", \"fertility_rate\", \"variation\"], axis=1, inplace=True)\n"
     ]
    }
   ],
   "source": [
    "titulos_col(n18)"
   ]
  },
  {
   "cell_type": "markdown",
   "id": "0a029a2b",
   "metadata": {},
   "source": [
    "Nuestras siguientes funciones a definir serán las que nos ayudaran a convertir nuestros objetos en números:"
   ]
  },
  {
   "cell_type": "code",
   "execution_count": 62,
   "id": "f545bd67",
   "metadata": {},
   "outputs": [],
   "source": [
    "n18[\"year\"]= n18[\"year\"].astype(\"int\")"
   ]
  },
  {
   "cell_type": "code",
   "execution_count": 63,
   "id": "667b6476",
   "metadata": {},
   "outputs": [],
   "source": [
    "def numeros(x):\n",
    "    x = x.str.replace(\".\",\"\")\n",
    "    x = pd.to_numeric(x)\n",
    "    return(x)"
   ]
  },
  {
   "cell_type": "code",
   "execution_count": 64,
   "id": "29da5629",
   "metadata": {},
   "outputs": [
    {
     "name": "stderr",
     "output_type": "stream",
     "text": [
      "/Users/paulaelizagarate/Bootcamp/ETL_project/suport.py:10: FutureWarning: The default value of regex will change from True to False in a future version. In addition, single character regular expressions will *not* be treated as literal strings when regex=True.\n",
      "  x = x.str.replace(\".\",\"\")\n"
     ]
    },
    {
     "data": {
      "text/plain": [
       "0      372777.0\n",
       "1      787523.0\n",
       "2      730918.0\n",
       "3      759199.0\n",
       "4      439747.0\n",
       "         ...   \n",
       "188         NaN\n",
       "189         NaN\n",
       "190         NaN\n",
       "191         NaN\n",
       "192         NaN\n",
       "Name: born, Length: 193, dtype: float64"
      ]
     },
     "execution_count": 64,
     "metadata": {},
     "output_type": "execute_result"
    }
   ],
   "source": [
    "sp.numeros(n18[\"born\"])"
   ]
  },
  {
   "cell_type": "code",
   "execution_count": 65,
   "id": "3311405e",
   "metadata": {
    "scrolled": false
   },
   "outputs": [
    {
     "name": "stderr",
     "output_type": "stream",
     "text": [
      "/var/folders/8l/zm2f15815wb7zxjgwnj0zkjh0000gn/T/ipykernel_1166/3039227266.py:2: FutureWarning: The default value of regex will change from True to False in a future version. In addition, single character regular expressions will *not* be treated as literal strings when regex=True.\n",
      "  x = x.str.replace(\".\",\"\")\n"
     ]
    }
   ],
   "source": [
    "n18[\"born\"] = numeros(n18[\"born\"])"
   ]
  },
  {
   "cell_type": "code",
   "execution_count": 66,
   "id": "70b424a8",
   "metadata": {
    "scrolled": true
   },
   "outputs": [
    {
     "name": "stderr",
     "output_type": "stream",
     "text": [
      "/var/folders/8l/zm2f15815wb7zxjgwnj0zkjh0000gn/T/ipykernel_1166/3039227266.py:2: FutureWarning: The default value of regex will change from True to False in a future version. In addition, single character regular expressions will *not* be treated as literal strings when regex=True.\n",
      "  x = x.str.replace(\".\",\"\")\n"
     ]
    }
   ],
   "source": [
    "n18[\"male_born\"]= numeros(n18[\"male_born\"])"
   ]
  },
  {
   "cell_type": "code",
   "execution_count": 67,
   "id": "92d7596a",
   "metadata": {
    "scrolled": false
   },
   "outputs": [
    {
     "name": "stderr",
     "output_type": "stream",
     "text": [
      "/var/folders/8l/zm2f15815wb7zxjgwnj0zkjh0000gn/T/ipykernel_1166/3039227266.py:2: FutureWarning: The default value of regex will change from True to False in a future version. In addition, single character regular expressions will *not* be treated as literal strings when regex=True.\n",
      "  x = x.str.replace(\".\",\"\")\n"
     ]
    }
   ],
   "source": [
    "n18[\"female_born\"]= numeros(n18[\"female_born\"])"
   ]
  },
  {
   "cell_type": "markdown",
   "id": "9447f0ae",
   "metadata": {},
   "source": [
    "Por último haremos una función que limpie nuestros porcentajes, buscando de nuevo que queden en formato número para poder manejarlos:"
   ]
  },
  {
   "cell_type": "code",
   "execution_count": 68,
   "id": "d074775c",
   "metadata": {},
   "outputs": [],
   "source": [
    "def porcentajes (x):\n",
    "    x = x.str.replace(\"‰\",\"\")\n",
    "    x = x.str.replace(\"%\",\"\")\n",
    "    x = x.str.replace(\",\",\".\")\n",
    "    x = pd.to_numeric(x)\n",
    "    return(x)"
   ]
  },
  {
   "cell_type": "code",
   "execution_count": 69,
   "id": "28485819",
   "metadata": {},
   "outputs": [],
   "source": [
    "n18[\"birth_rate\"]= porcentajes(n18[\"birth_rate\"])"
   ]
  },
  {
   "cell_type": "code",
   "execution_count": 70,
   "id": "17da8e6f",
   "metadata": {},
   "outputs": [],
   "source": [
    "n18[\"fertility_rate\"]= porcentajes(n18[\"fertility_rate\"])"
   ]
  },
  {
   "cell_type": "code",
   "execution_count": 71,
   "id": "f137625d",
   "metadata": {},
   "outputs": [],
   "source": [
    "n18[\"variation\"]= porcentajes(n18[\"variation\"])"
   ]
  },
  {
   "cell_type": "code",
   "execution_count": 72,
   "id": "4cee4d85",
   "metadata": {
    "scrolled": true
   },
   "outputs": [],
   "source": [
    "#n18"
   ]
  },
  {
   "cell_type": "code",
   "execution_count": 73,
   "id": "1cc37c7a",
   "metadata": {
    "scrolled": false
   },
   "outputs": [],
   "source": [
    "#control para saber como va la transformación de datos\n",
    "#n18.info()"
   ]
  },
  {
   "cell_type": "markdown",
   "id": "5808e757",
   "metadata": {},
   "source": [
    "Ahora solo tendríamos que seguir aplicando nuestras funciones a nuestros DataFrames para terminar esta limpieza 🧽🪣  "
   ]
  },
  {
   "cell_type": "markdown",
   "id": "b49b5627",
   "metadata": {},
   "source": [
    "### 2019"
   ]
  },
  {
   "cell_type": "code",
   "execution_count": 74,
   "id": "2120c38c",
   "metadata": {
    "scrolled": true
   },
   "outputs": [
    {
     "data": {
      "text/html": [
       "<div>\n",
       "<style scoped>\n",
       "    .dataframe tbody tr th:only-of-type {\n",
       "        vertical-align: middle;\n",
       "    }\n",
       "\n",
       "    .dataframe tbody tr th {\n",
       "        vertical-align: top;\n",
       "    }\n",
       "\n",
       "    .dataframe thead th {\n",
       "        text-align: right;\n",
       "    }\n",
       "</style>\n",
       "<table border=\"1\" class=\"dataframe\">\n",
       "  <thead>\n",
       "    <tr style=\"text-align: right;\">\n",
       "      <th></th>\n",
       "      <th>0</th>\n",
       "    </tr>\n",
       "  </thead>\n",
       "  <tbody>\n",
       "    <tr>\n",
       "      <th>1</th>\n",
       "      <td>España [+] 2019 360.617 185.523 175.094 7,62‰ ...</td>\n",
       "    </tr>\n",
       "    <tr>\n",
       "      <th>2</th>\n",
       "      <td>Alemania [+] 2019 778.090 399.292 378.798 9,40...</td>\n",
       "    </tr>\n",
       "    <tr>\n",
       "      <th>3</th>\n",
       "      <td>Reino Unido [+] 2019 712.699 375.379 355.539 1...</td>\n",
       "    </tr>\n",
       "    <tr>\n",
       "      <th>4</th>\n",
       "      <td>Francia [+] 2019 754.008 385.340 368.668 11,20...</td>\n",
       "    </tr>\n",
       "    <tr>\n",
       "      <th>5</th>\n",
       "      <td>Italia [+] 2019 420.084 215.387 204.697 7,00‰ ...</td>\n",
       "    </tr>\n",
       "    <tr>\n",
       "      <th>...</th>\n",
       "      <td>...</td>\n",
       "    </tr>\n",
       "    <tr>\n",
       "      <th>189</th>\n",
       "      <td>Samoa [+] 2019 24,10‰ 3,83 -1,21%</td>\n",
       "    </tr>\n",
       "    <tr>\n",
       "      <th>190</th>\n",
       "      <td>Yemen [+] 2019 29,87‰ 3,70 -2,43%</td>\n",
       "    </tr>\n",
       "    <tr>\n",
       "      <th>191</th>\n",
       "      <td>Sudáfrica [+] 2019 20,13‰ 2,38 -1,00%</td>\n",
       "    </tr>\n",
       "    <tr>\n",
       "      <th>192</th>\n",
       "      <td>Zambia [+] 2019 35,78‰ 4,56 -1,60%</td>\n",
       "    </tr>\n",
       "    <tr>\n",
       "      <th>193</th>\n",
       "      <td>Zimbabue [+] 2019 29,75‰ 3,53 -2,32%</td>\n",
       "    </tr>\n",
       "  </tbody>\n",
       "</table>\n",
       "<p>193 rows × 1 columns</p>\n",
       "</div>"
      ],
      "text/plain": [
       "                                                     0\n",
       "1    España [+] 2019 360.617 185.523 175.094 7,62‰ ...\n",
       "2    Alemania [+] 2019 778.090 399.292 378.798 9,40...\n",
       "3    Reino Unido [+] 2019 712.699 375.379 355.539 1...\n",
       "4    Francia [+] 2019 754.008 385.340 368.668 11,20...\n",
       "5    Italia [+] 2019 420.084 215.387 204.697 7,00‰ ...\n",
       "..                                                 ...\n",
       "189                  Samoa [+] 2019 24,10‰ 3,83 -1,21%\n",
       "190                  Yemen [+] 2019 29,87‰ 3,70 -2,43%\n",
       "191              Sudáfrica [+] 2019 20,13‰ 2,38 -1,00%\n",
       "192                 Zambia [+] 2019 35,78‰ 4,56 -1,60%\n",
       "193               Zimbabue [+] 2019 29,75‰ 3,53 -2,32%\n",
       "\n",
       "[193 rows x 1 columns]"
      ]
     },
     "execution_count": 74,
     "metadata": {},
     "output_type": "execute_result"
    }
   ],
   "source": [
    "df_n19"
   ]
  },
  {
   "cell_type": "code",
   "execution_count": 75,
   "id": "e1b70860",
   "metadata": {
    "scrolled": false
   },
   "outputs": [],
   "source": [
    "df_n19= df_n19[\"0\"].str.split(\"\\s\\[\", regex= True, expand=True)\n",
    "#df_n19"
   ]
  },
  {
   "cell_type": "code",
   "execution_count": 76,
   "id": "9c1a5c1b",
   "metadata": {},
   "outputs": [],
   "source": [
    "lon19=[]\n",
    "\n",
    "for i in df_n19[1]:\n",
    "    lon19.append(len(i.split()))"
   ]
  },
  {
   "cell_type": "code",
   "execution_count": 77,
   "id": "64cd33c2",
   "metadata": {},
   "outputs": [
    {
     "name": "stdout",
     "output_type": "stream",
     "text": [
      "{8, 5, 6, 7}\n"
     ]
    }
   ],
   "source": [
    "unicos19 = set(lon19)\n",
    "\n",
    "print(unicos19)"
   ]
  },
  {
   "cell_type": "code",
   "execution_count": 78,
   "id": "816e8724",
   "metadata": {},
   "outputs": [],
   "source": [
    "nat2019 = {\n",
    "    \"year\": [],\n",
    "    \"born\": [],\n",
    "    \"male_born\": [],\n",
    "    \"female_born\":[],\n",
    "    \"birth_rate\": [],\n",
    "    \"fertility_rate\":[],\n",
    "    \"variation\":[]\n",
    "            }\n",
    "\n",
    "data_list = df_n19[1]\n",
    "\n",
    "for data in data_list:\n",
    "    \n",
    "    a = data.split()\n",
    "    \n",
    "    if len(a)== 8:\n",
    "        nat2019[\"year\"].append(str(a[1]))\n",
    "        nat2019[\"born\"].append(str(a[2]))\n",
    "        nat2019[\"male_born\"].append(str(a[3]))\n",
    "        nat2019[\"female_born\"].append(str(a[4]))\n",
    "        nat2019[\"birth_rate\"].append(str(a[5]))\n",
    "        nat2019[\"fertility_rate\"].append(str(a[6]))\n",
    "        nat2019[\"variation\"].append(str(a[7]))\n",
    "    \n",
    "    if len(a)== 7:\n",
    "        nat2019[\"year\"].append(str(a[1]))\n",
    "        nat2019[\"born\"].append(str(a[2]))\n",
    "        nat2019[\"male_born\"].append(str(a[3]))\n",
    "        nat2019[\"female_born\"].append(str(a[4]))\n",
    "        nat2019[\"birth_rate\"].append(str(a[5]))\n",
    "        nat2019[\"fertility_rate\"].append(str(a[6]))\n",
    "        nat2019[\"variation\"].append(np.nan)    \n",
    "            \n",
    "    if len(a)== 6:\n",
    "        nat2019[\"year\"].append(str(a[1]))\n",
    "        nat2019[\"born\"].append(str(a[2]))\n",
    "        nat2019[\"male_born\"].append(np.nan)\n",
    "        nat2019[\"female_born\"].append(np.nan)\n",
    "        nat2019[\"birth_rate\"].append(str(a[3]))\n",
    "        nat2019[\"fertility_rate\"].append(str(a[4]))\n",
    "        nat2019[\"variation\"].append(str(a[5]))\n",
    "            \n",
    "    if len(a)== 5:\n",
    "        nat2019[\"year\"].append(str(a[1]))\n",
    "        nat2019[\"born\"].append(np.nan)\n",
    "        nat2019[\"male_born\"].append(np.nan)\n",
    "        nat2019[\"female_born\"].append(np.nan)\n",
    "        nat2019[\"birth_rate\"].append(str(a[2]))\n",
    "        nat2019[\"fertility_rate\"].append(str(a[3]))\n",
    "        nat2019[\"variation\"].append(str(a[4]))"
   ]
  },
  {
   "cell_type": "code",
   "execution_count": 79,
   "id": "d818e92c",
   "metadata": {},
   "outputs": [
    {
     "data": {
      "text/plain": [
       "193"
      ]
     },
     "execution_count": 79,
     "metadata": {},
     "output_type": "execute_result"
    }
   ],
   "source": [
    "#control\n",
    "len(nat2019[\"year\"])"
   ]
  },
  {
   "cell_type": "code",
   "execution_count": 80,
   "id": "fdcd9547",
   "metadata": {},
   "outputs": [
    {
     "data": {
      "text/plain": [
       "array(['España', 'Alemania', 'Reino Unido', 'Francia', 'Italia'],\n",
       "      dtype=object)"
      ]
     },
     "execution_count": 80,
     "metadata": {},
     "output_type": "execute_result"
    }
   ],
   "source": [
    "df_n19[0] = df_n19[0].apply(lambda x: str(x).replace(\" y \",\"_\"))\n",
    "df_n19[0].unique()[:5]"
   ]
  },
  {
   "cell_type": "code",
   "execution_count": 81,
   "id": "ee719595",
   "metadata": {},
   "outputs": [
    {
     "data": {
      "text/plain": [
       "array(['España', 'Alemania', 'Reino_Unido', 'Francia', 'Italia'],\n",
       "      dtype=object)"
      ]
     },
     "execution_count": 81,
     "metadata": {},
     "output_type": "execute_result"
    }
   ],
   "source": [
    "df_n19[0] = df_n19[0].apply(lambda x: str(x).replace(\" \",\"_\"))\n",
    "df_n19[0].unique()[:5]"
   ]
  },
  {
   "cell_type": "code",
   "execution_count": 82,
   "id": "c47c7760",
   "metadata": {},
   "outputs": [],
   "source": [
    "paises19={\n",
    "        \"country\": []\n",
    "            }\n",
    "\n",
    "for i in df_n19[0]:\n",
    "    \n",
    "    paises19[\"country\"].append(i)"
   ]
  },
  {
   "cell_type": "code",
   "execution_count": 83,
   "id": "bdb1602c",
   "metadata": {},
   "outputs": [],
   "source": [
    "union19 = list(zip(paises19[\"country\"], nat2019[\"year\"], nat2019[\"born\"], nat2019[\"male_born\"], nat2019[\"female_born\"], nat2019[\"birth_rate\"], nat2019[\"fertility_rate\"] , nat2019[\"variation\"]))"
   ]
  },
  {
   "cell_type": "code",
   "execution_count": 84,
   "id": "973357b1",
   "metadata": {
    "scrolled": false
   },
   "outputs": [],
   "source": [
    "n19= pd.DataFrame(union19)\n",
    "#n19"
   ]
  },
  {
   "cell_type": "markdown",
   "id": "1f50c19e",
   "metadata": {},
   "source": [
    "##### Limpiamos Datos "
   ]
  },
  {
   "cell_type": "code",
   "execution_count": 85,
   "id": "cdca2a05",
   "metadata": {
    "scrolled": false
   },
   "outputs": [
    {
     "name": "stderr",
     "output_type": "stream",
     "text": [
      "/var/folders/8l/zm2f15815wb7zxjgwnj0zkjh0000gn/T/ipykernel_1166/2230106971.py:2: FutureWarning: DataFrame.set_axis 'inplace' keyword is deprecated and will be removed in a future version. Use `obj = obj.set_axis(..., copy=False)` instead\n",
      "  x.set_axis([\"country\", \"year\", \"born\", \"male_born\", \"female_born\", \"birth_rate\", \"fertility_rate\", \"variation\"], axis=1, inplace=True)\n"
     ]
    }
   ],
   "source": [
    "titulos_col(n19)"
   ]
  },
  {
   "cell_type": "code",
   "execution_count": 86,
   "id": "e336d212",
   "metadata": {},
   "outputs": [],
   "source": [
    "n19[\"year\"]= n19[\"year\"].astype(\"int\")"
   ]
  },
  {
   "cell_type": "code",
   "execution_count": 87,
   "id": "adac10ad",
   "metadata": {
    "scrolled": true
   },
   "outputs": [
    {
     "name": "stderr",
     "output_type": "stream",
     "text": [
      "/var/folders/8l/zm2f15815wb7zxjgwnj0zkjh0000gn/T/ipykernel_1166/3039227266.py:2: FutureWarning: The default value of regex will change from True to False in a future version. In addition, single character regular expressions will *not* be treated as literal strings when regex=True.\n",
      "  x = x.str.replace(\".\",\"\")\n"
     ]
    }
   ],
   "source": [
    "n19[\"born\"]= numeros(n19[\"born\"])"
   ]
  },
  {
   "cell_type": "code",
   "execution_count": 88,
   "id": "711a3a29",
   "metadata": {},
   "outputs": [
    {
     "name": "stderr",
     "output_type": "stream",
     "text": [
      "/var/folders/8l/zm2f15815wb7zxjgwnj0zkjh0000gn/T/ipykernel_1166/3039227266.py:2: FutureWarning: The default value of regex will change from True to False in a future version. In addition, single character regular expressions will *not* be treated as literal strings when regex=True.\n",
      "  x = x.str.replace(\".\",\"\")\n"
     ]
    }
   ],
   "source": [
    "n19[\"male_born\"]= numeros(n19[\"male_born\"])"
   ]
  },
  {
   "cell_type": "code",
   "execution_count": 89,
   "id": "482a974f",
   "metadata": {},
   "outputs": [
    {
     "name": "stderr",
     "output_type": "stream",
     "text": [
      "/var/folders/8l/zm2f15815wb7zxjgwnj0zkjh0000gn/T/ipykernel_1166/3039227266.py:2: FutureWarning: The default value of regex will change from True to False in a future version. In addition, single character regular expressions will *not* be treated as literal strings when regex=True.\n",
      "  x = x.str.replace(\".\",\"\")\n"
     ]
    }
   ],
   "source": [
    "n19[\"female_born\"]= numeros(n19[\"female_born\"])"
   ]
  },
  {
   "cell_type": "code",
   "execution_count": 90,
   "id": "dc265215",
   "metadata": {},
   "outputs": [],
   "source": [
    "n19[\"birth_rate\"] = porcentajes(n19[\"birth_rate\"])"
   ]
  },
  {
   "cell_type": "code",
   "execution_count": 91,
   "id": "c3729ff0",
   "metadata": {},
   "outputs": [],
   "source": [
    "n19[\"fertility_rate\"] = porcentajes(n19[\"fertility_rate\"])"
   ]
  },
  {
   "cell_type": "code",
   "execution_count": 92,
   "id": "d6641df7",
   "metadata": {},
   "outputs": [],
   "source": [
    "n19[\"variation\"] = porcentajes(n19[\"variation\"])"
   ]
  },
  {
   "cell_type": "code",
   "execution_count": 93,
   "id": "439b1294",
   "metadata": {
    "scrolled": false
   },
   "outputs": [
    {
     "data": {
      "text/html": [
       "<div>\n",
       "<style scoped>\n",
       "    .dataframe tbody tr th:only-of-type {\n",
       "        vertical-align: middle;\n",
       "    }\n",
       "\n",
       "    .dataframe tbody tr th {\n",
       "        vertical-align: top;\n",
       "    }\n",
       "\n",
       "    .dataframe thead th {\n",
       "        text-align: right;\n",
       "    }\n",
       "</style>\n",
       "<table border=\"1\" class=\"dataframe\">\n",
       "  <thead>\n",
       "    <tr style=\"text-align: right;\">\n",
       "      <th></th>\n",
       "      <th>country</th>\n",
       "      <th>year</th>\n",
       "      <th>born</th>\n",
       "      <th>male_born</th>\n",
       "      <th>female_born</th>\n",
       "      <th>birth_rate</th>\n",
       "      <th>fertility_rate</th>\n",
       "      <th>variation</th>\n",
       "    </tr>\n",
       "  </thead>\n",
       "  <tbody>\n",
       "    <tr>\n",
       "      <th>0</th>\n",
       "      <td>España</td>\n",
       "      <td>2019</td>\n",
       "      <td>360617.0</td>\n",
       "      <td>185523.0</td>\n",
       "      <td>175094.0</td>\n",
       "      <td>7.62</td>\n",
       "      <td>1.24</td>\n",
       "      <td>-2.24</td>\n",
       "    </tr>\n",
       "    <tr>\n",
       "      <th>1</th>\n",
       "      <td>Alemania</td>\n",
       "      <td>2019</td>\n",
       "      <td>778090.0</td>\n",
       "      <td>399292.0</td>\n",
       "      <td>378798.0</td>\n",
       "      <td>9.40</td>\n",
       "      <td>1.54</td>\n",
       "      <td>-1.91</td>\n",
       "    </tr>\n",
       "    <tr>\n",
       "      <th>2</th>\n",
       "      <td>Reino_Unido</td>\n",
       "      <td>2019</td>\n",
       "      <td>712699.0</td>\n",
       "      <td>375379.0</td>\n",
       "      <td>355539.0</td>\n",
       "      <td>10.70</td>\n",
       "      <td>1.63</td>\n",
       "      <td>-2.98</td>\n",
       "    </tr>\n",
       "    <tr>\n",
       "      <th>3</th>\n",
       "      <td>Francia</td>\n",
       "      <td>2019</td>\n",
       "      <td>754008.0</td>\n",
       "      <td>385340.0</td>\n",
       "      <td>368668.0</td>\n",
       "      <td>11.20</td>\n",
       "      <td>1.86</td>\n",
       "      <td>-0.53</td>\n",
       "    </tr>\n",
       "    <tr>\n",
       "      <th>4</th>\n",
       "      <td>Italia</td>\n",
       "      <td>2019</td>\n",
       "      <td>420084.0</td>\n",
       "      <td>215387.0</td>\n",
       "      <td>204697.0</td>\n",
       "      <td>7.00</td>\n",
       "      <td>1.27</td>\n",
       "      <td>-1.55</td>\n",
       "    </tr>\n",
       "    <tr>\n",
       "      <th>...</th>\n",
       "      <td>...</td>\n",
       "      <td>...</td>\n",
       "      <td>...</td>\n",
       "      <td>...</td>\n",
       "      <td>...</td>\n",
       "      <td>...</td>\n",
       "      <td>...</td>\n",
       "      <td>...</td>\n",
       "    </tr>\n",
       "    <tr>\n",
       "      <th>188</th>\n",
       "      <td>Samoa</td>\n",
       "      <td>2019</td>\n",
       "      <td>NaN</td>\n",
       "      <td>NaN</td>\n",
       "      <td>NaN</td>\n",
       "      <td>24.10</td>\n",
       "      <td>3.83</td>\n",
       "      <td>-1.21</td>\n",
       "    </tr>\n",
       "    <tr>\n",
       "      <th>189</th>\n",
       "      <td>Yemen</td>\n",
       "      <td>2019</td>\n",
       "      <td>NaN</td>\n",
       "      <td>NaN</td>\n",
       "      <td>NaN</td>\n",
       "      <td>29.87</td>\n",
       "      <td>3.70</td>\n",
       "      <td>-2.43</td>\n",
       "    </tr>\n",
       "    <tr>\n",
       "      <th>190</th>\n",
       "      <td>Sudáfrica</td>\n",
       "      <td>2019</td>\n",
       "      <td>NaN</td>\n",
       "      <td>NaN</td>\n",
       "      <td>NaN</td>\n",
       "      <td>20.13</td>\n",
       "      <td>2.38</td>\n",
       "      <td>-1.00</td>\n",
       "    </tr>\n",
       "    <tr>\n",
       "      <th>191</th>\n",
       "      <td>Zambia</td>\n",
       "      <td>2019</td>\n",
       "      <td>NaN</td>\n",
       "      <td>NaN</td>\n",
       "      <td>NaN</td>\n",
       "      <td>35.78</td>\n",
       "      <td>4.56</td>\n",
       "      <td>-1.60</td>\n",
       "    </tr>\n",
       "    <tr>\n",
       "      <th>192</th>\n",
       "      <td>Zimbabue</td>\n",
       "      <td>2019</td>\n",
       "      <td>NaN</td>\n",
       "      <td>NaN</td>\n",
       "      <td>NaN</td>\n",
       "      <td>29.75</td>\n",
       "      <td>3.53</td>\n",
       "      <td>-2.32</td>\n",
       "    </tr>\n",
       "  </tbody>\n",
       "</table>\n",
       "<p>193 rows × 8 columns</p>\n",
       "</div>"
      ],
      "text/plain": [
       "         country  year      born  male_born  female_born  birth_rate  \\\n",
       "0         España  2019  360617.0   185523.0     175094.0        7.62   \n",
       "1       Alemania  2019  778090.0   399292.0     378798.0        9.40   \n",
       "2    Reino_Unido  2019  712699.0   375379.0     355539.0       10.70   \n",
       "3        Francia  2019  754008.0   385340.0     368668.0       11.20   \n",
       "4         Italia  2019  420084.0   215387.0     204697.0        7.00   \n",
       "..           ...   ...       ...        ...          ...         ...   \n",
       "188        Samoa  2019       NaN        NaN          NaN       24.10   \n",
       "189        Yemen  2019       NaN        NaN          NaN       29.87   \n",
       "190    Sudáfrica  2019       NaN        NaN          NaN       20.13   \n",
       "191       Zambia  2019       NaN        NaN          NaN       35.78   \n",
       "192     Zimbabue  2019       NaN        NaN          NaN       29.75   \n",
       "\n",
       "     fertility_rate  variation  \n",
       "0              1.24      -2.24  \n",
       "1              1.54      -1.91  \n",
       "2              1.63      -2.98  \n",
       "3              1.86      -0.53  \n",
       "4              1.27      -1.55  \n",
       "..              ...        ...  \n",
       "188            3.83      -1.21  \n",
       "189            3.70      -2.43  \n",
       "190            2.38      -1.00  \n",
       "191            4.56      -1.60  \n",
       "192            3.53      -2.32  \n",
       "\n",
       "[193 rows x 8 columns]"
      ]
     },
     "execution_count": 93,
     "metadata": {},
     "output_type": "execute_result"
    }
   ],
   "source": [
    "n19"
   ]
  },
  {
   "cell_type": "code",
   "execution_count": 94,
   "id": "dbe0e5be",
   "metadata": {
    "scrolled": true
   },
   "outputs": [],
   "source": [
    "#control de como va mi transformación de datos:\n",
    "#n19.info()"
   ]
  },
  {
   "cell_type": "markdown",
   "id": "cd16e294",
   "metadata": {},
   "source": [
    "### 2020"
   ]
  },
  {
   "cell_type": "code",
   "execution_count": 95,
   "id": "bca0c9b9",
   "metadata": {
    "scrolled": true
   },
   "outputs": [
    {
     "data": {
      "text/html": [
       "<div>\n",
       "<style scoped>\n",
       "    .dataframe tbody tr th:only-of-type {\n",
       "        vertical-align: middle;\n",
       "    }\n",
       "\n",
       "    .dataframe tbody tr th {\n",
       "        vertical-align: top;\n",
       "    }\n",
       "\n",
       "    .dataframe thead th {\n",
       "        text-align: right;\n",
       "    }\n",
       "</style>\n",
       "<table border=\"1\" class=\"dataframe\">\n",
       "  <thead>\n",
       "    <tr style=\"text-align: right;\">\n",
       "      <th></th>\n",
       "      <th>0</th>\n",
       "    </tr>\n",
       "  </thead>\n",
       "  <tbody>\n",
       "    <tr>\n",
       "      <th>1</th>\n",
       "      <td>España [+] 2020 341.315 174.842 166.473 7,19‰ ...</td>\n",
       "    </tr>\n",
       "    <tr>\n",
       "      <th>2</th>\n",
       "      <td>Alemania [+] 2020 773.144 397.385 375.759 9,30...</td>\n",
       "    </tr>\n",
       "    <tr>\n",
       "      <th>3</th>\n",
       "      <td>Reino Unido [+] 2020 712.699 375.379 355.539 1...</td>\n",
       "    </tr>\n",
       "    <tr>\n",
       "      <th>4</th>\n",
       "      <td>Francia [+] 2020 735.775 376.187 359.588 10,90...</td>\n",
       "    </tr>\n",
       "    <tr>\n",
       "      <th>5</th>\n",
       "      <td>Italia [+] 2020 404.892 208.431 196.461 6,80‰ ...</td>\n",
       "    </tr>\n",
       "    <tr>\n",
       "      <th>...</th>\n",
       "      <td>...</td>\n",
       "    </tr>\n",
       "    <tr>\n",
       "      <th>189</th>\n",
       "      <td>Samoa [+] 2020 23,86‰ 3,79 -1,17%</td>\n",
       "    </tr>\n",
       "    <tr>\n",
       "      <th>190</th>\n",
       "      <td>Yemen [+] 2020 29,30‰ 3,61 -2,32%</td>\n",
       "    </tr>\n",
       "    <tr>\n",
       "      <th>191</th>\n",
       "      <td>Sudáfrica [+] 2020 19,77‰ 2,36 -0,97%</td>\n",
       "    </tr>\n",
       "    <tr>\n",
       "      <th>192</th>\n",
       "      <td>Zambia [+] 2020 35,44‰ 4,50 -1,38%</td>\n",
       "    </tr>\n",
       "    <tr>\n",
       "      <th>193</th>\n",
       "      <td>Zimbabue [+] 2020 28,98‰ 3,46 -2,01%</td>\n",
       "    </tr>\n",
       "  </tbody>\n",
       "</table>\n",
       "<p>193 rows × 1 columns</p>\n",
       "</div>"
      ],
      "text/plain": [
       "                                                     0\n",
       "1    España [+] 2020 341.315 174.842 166.473 7,19‰ ...\n",
       "2    Alemania [+] 2020 773.144 397.385 375.759 9,30...\n",
       "3    Reino Unido [+] 2020 712.699 375.379 355.539 1...\n",
       "4    Francia [+] 2020 735.775 376.187 359.588 10,90...\n",
       "5    Italia [+] 2020 404.892 208.431 196.461 6,80‰ ...\n",
       "..                                                 ...\n",
       "189                  Samoa [+] 2020 23,86‰ 3,79 -1,17%\n",
       "190                  Yemen [+] 2020 29,30‰ 3,61 -2,32%\n",
       "191              Sudáfrica [+] 2020 19,77‰ 2,36 -0,97%\n",
       "192                 Zambia [+] 2020 35,44‰ 4,50 -1,38%\n",
       "193               Zimbabue [+] 2020 28,98‰ 3,46 -2,01%\n",
       "\n",
       "[193 rows x 1 columns]"
      ]
     },
     "execution_count": 95,
     "metadata": {},
     "output_type": "execute_result"
    }
   ],
   "source": [
    "df_n20"
   ]
  },
  {
   "cell_type": "code",
   "execution_count": 96,
   "id": "5b2aca8e",
   "metadata": {
    "scrolled": false
   },
   "outputs": [
    {
     "data": {
      "text/html": [
       "<div>\n",
       "<style scoped>\n",
       "    .dataframe tbody tr th:only-of-type {\n",
       "        vertical-align: middle;\n",
       "    }\n",
       "\n",
       "    .dataframe tbody tr th {\n",
       "        vertical-align: top;\n",
       "    }\n",
       "\n",
       "    .dataframe thead th {\n",
       "        text-align: right;\n",
       "    }\n",
       "</style>\n",
       "<table border=\"1\" class=\"dataframe\">\n",
       "  <thead>\n",
       "    <tr style=\"text-align: right;\">\n",
       "      <th></th>\n",
       "      <th>0</th>\n",
       "      <th>1</th>\n",
       "    </tr>\n",
       "  </thead>\n",
       "  <tbody>\n",
       "    <tr>\n",
       "      <th>1</th>\n",
       "      <td>España</td>\n",
       "      <td>+] 2020 341.315 174.842 166.473 7,19‰ 1,19 -4,03%</td>\n",
       "    </tr>\n",
       "    <tr>\n",
       "      <th>2</th>\n",
       "      <td>Alemania</td>\n",
       "      <td>+] 2020 773.144 397.385 375.759 9,30‰ 1,53 -0,65%</td>\n",
       "    </tr>\n",
       "    <tr>\n",
       "      <th>3</th>\n",
       "      <td>Reino Unido</td>\n",
       "      <td>+] 2020 712.699 375.379 355.539 10,20‰ 1,56 -4...</td>\n",
       "    </tr>\n",
       "    <tr>\n",
       "      <th>4</th>\n",
       "      <td>Francia</td>\n",
       "      <td>+] 2020 735.775 376.187 359.588 10,90‰ 1,83 -1...</td>\n",
       "    </tr>\n",
       "    <tr>\n",
       "      <th>5</th>\n",
       "      <td>Italia</td>\n",
       "      <td>+] 2020 404.892 208.431 196.461 6,80‰ 1,24 -2,36%</td>\n",
       "    </tr>\n",
       "    <tr>\n",
       "      <th>...</th>\n",
       "      <td>...</td>\n",
       "      <td>...</td>\n",
       "    </tr>\n",
       "    <tr>\n",
       "      <th>189</th>\n",
       "      <td>Samoa</td>\n",
       "      <td>+] 2020 23,86‰ 3,79 -1,17%</td>\n",
       "    </tr>\n",
       "    <tr>\n",
       "      <th>190</th>\n",
       "      <td>Yemen</td>\n",
       "      <td>+] 2020 29,30‰ 3,61 -2,32%</td>\n",
       "    </tr>\n",
       "    <tr>\n",
       "      <th>191</th>\n",
       "      <td>Sudáfrica</td>\n",
       "      <td>+] 2020 19,77‰ 2,36 -0,97%</td>\n",
       "    </tr>\n",
       "    <tr>\n",
       "      <th>192</th>\n",
       "      <td>Zambia</td>\n",
       "      <td>+] 2020 35,44‰ 4,50 -1,38%</td>\n",
       "    </tr>\n",
       "    <tr>\n",
       "      <th>193</th>\n",
       "      <td>Zimbabue</td>\n",
       "      <td>+] 2020 28,98‰ 3,46 -2,01%</td>\n",
       "    </tr>\n",
       "  </tbody>\n",
       "</table>\n",
       "<p>193 rows × 2 columns</p>\n",
       "</div>"
      ],
      "text/plain": [
       "               0                                                  1\n",
       "1         España  +] 2020 341.315 174.842 166.473 7,19‰ 1,19 -4,03%\n",
       "2       Alemania  +] 2020 773.144 397.385 375.759 9,30‰ 1,53 -0,65%\n",
       "3    Reino Unido  +] 2020 712.699 375.379 355.539 10,20‰ 1,56 -4...\n",
       "4        Francia  +] 2020 735.775 376.187 359.588 10,90‰ 1,83 -1...\n",
       "5         Italia  +] 2020 404.892 208.431 196.461 6,80‰ 1,24 -2,36%\n",
       "..           ...                                                ...\n",
       "189        Samoa                         +] 2020 23,86‰ 3,79 -1,17%\n",
       "190        Yemen                         +] 2020 29,30‰ 3,61 -2,32%\n",
       "191    Sudáfrica                         +] 2020 19,77‰ 2,36 -0,97%\n",
       "192       Zambia                         +] 2020 35,44‰ 4,50 -1,38%\n",
       "193     Zimbabue                         +] 2020 28,98‰ 3,46 -2,01%\n",
       "\n",
       "[193 rows x 2 columns]"
      ]
     },
     "execution_count": 96,
     "metadata": {},
     "output_type": "execute_result"
    }
   ],
   "source": [
    "df_n20= df_n20[\"0\"].str.split(\"\\s\\[\", regex= True, expand=True)\n",
    "df_n20"
   ]
  },
  {
   "cell_type": "code",
   "execution_count": 97,
   "id": "b4051505",
   "metadata": {},
   "outputs": [],
   "source": [
    "lon20=[]\n",
    "\n",
    "for i in df_n20[1]:\n",
    "    lon20.append(len(i.split()))"
   ]
  },
  {
   "cell_type": "code",
   "execution_count": 98,
   "id": "8b7a2ccc",
   "metadata": {},
   "outputs": [
    {
     "name": "stdout",
     "output_type": "stream",
     "text": [
      "{8, 5, 6, 7}\n"
     ]
    }
   ],
   "source": [
    "unicos20 = set(lon20)\n",
    "\n",
    "print(unicos20)"
   ]
  },
  {
   "cell_type": "code",
   "execution_count": 99,
   "id": "0e3b14ac",
   "metadata": {},
   "outputs": [],
   "source": [
    "nat2020 = {\n",
    "    \"year\": [],\n",
    "    \"born\": [],\n",
    "    \"male_born\": [],\n",
    "    \"female_born\":[],\n",
    "    \"birth_rate\": [],\n",
    "    \"fertility_rate\":[],\n",
    "    \"variation\":[]\n",
    "            }\n",
    "\n",
    "data_list = df_n20[1]\n",
    "\n",
    "for data in data_list:\n",
    "    \n",
    "    a = data.split()\n",
    "    \n",
    "    if len(a)== 8:\n",
    "        nat2020[\"year\"].append(str(a[1]))\n",
    "        nat2020[\"born\"].append(str(a[2]))\n",
    "        nat2020[\"male_born\"].append(str(a[3]))\n",
    "        nat2020[\"female_born\"].append(str(a[4]))\n",
    "        nat2020[\"birth_rate\"].append(str(a[5]))\n",
    "        nat2020[\"fertility_rate\"].append(str(a[6]))\n",
    "        nat2020[\"variation\"].append(str(a[7]))\n",
    "    \n",
    "    if len(a)== 7:\n",
    "        nat2020[\"year\"].append(str(a[1]))\n",
    "        nat2020[\"born\"].append(str(a[2]))\n",
    "        nat2020[\"male_born\"].append(str(a[3]))\n",
    "        nat2020[\"female_born\"].append(str(a[4]))\n",
    "        nat2020[\"birth_rate\"].append(str(a[5]))\n",
    "        nat2020[\"fertility_rate\"].append(str(a[6]))\n",
    "        nat2020[\"variation\"].append(np.nan)    \n",
    "            \n",
    "    if len(a)== 6:\n",
    "        nat2020[\"year\"].append(str(a[1]))\n",
    "        nat2020[\"born\"].append(str(a[2]))\n",
    "        nat2020[\"male_born\"].append(np.nan)\n",
    "        nat2020[\"female_born\"].append(np.nan)\n",
    "        nat2020[\"birth_rate\"].append(str(a[3]))\n",
    "        nat2020[\"fertility_rate\"].append(str(a[4]))\n",
    "        nat2020[\"variation\"].append(str(a[5]))\n",
    "            \n",
    "    if len(a)== 5:\n",
    "        nat2020[\"year\"].append(str(a[1]))\n",
    "        nat2020[\"born\"].append(np.nan)\n",
    "        nat2020[\"male_born\"].append(np.nan)\n",
    "        nat2020[\"female_born\"].append(np.nan)\n",
    "        nat2020[\"birth_rate\"].append(str(a[2]))\n",
    "        nat2020[\"fertility_rate\"].append(str(a[3]))\n",
    "        nat2020[\"variation\"].append(str(a[4]))"
   ]
  },
  {
   "cell_type": "code",
   "execution_count": 100,
   "id": "6c098792",
   "metadata": {},
   "outputs": [
    {
     "data": {
      "text/plain": [
       "193"
      ]
     },
     "execution_count": 100,
     "metadata": {},
     "output_type": "execute_result"
    }
   ],
   "source": [
    "#control\n",
    "len(nat2020[\"year\"])"
   ]
  },
  {
   "cell_type": "code",
   "execution_count": 101,
   "id": "18144b53",
   "metadata": {
    "scrolled": true
   },
   "outputs": [
    {
     "data": {
      "text/plain": [
       "array(['España', 'Alemania', 'Reino Unido', 'Francia', 'Italia'],\n",
       "      dtype=object)"
      ]
     },
     "execution_count": 101,
     "metadata": {},
     "output_type": "execute_result"
    }
   ],
   "source": [
    "df_n20[0] = df_n20[0].apply(lambda x: str(x).replace(\" y \",\"_\"))\n",
    "df_n20[0].unique()[:5]"
   ]
  },
  {
   "cell_type": "code",
   "execution_count": 102,
   "id": "b7bb606d",
   "metadata": {},
   "outputs": [
    {
     "data": {
      "text/plain": [
       "array(['España', 'Alemania', 'Reino_Unido', 'Francia', 'Italia'],\n",
       "      dtype=object)"
      ]
     },
     "execution_count": 102,
     "metadata": {},
     "output_type": "execute_result"
    }
   ],
   "source": [
    "df_n20[0] = df_n20[0].apply(lambda x: str(x).replace(\" \",\"_\"))\n",
    "df_n20[0].unique()[:5]"
   ]
  },
  {
   "cell_type": "code",
   "execution_count": 103,
   "id": "c08fd707",
   "metadata": {},
   "outputs": [],
   "source": [
    "paises20={\n",
    "        \"country\": []\n",
    "            }\n",
    "\n",
    "for i in df_n20[0]:\n",
    "    \n",
    "    paises20[\"country\"].append(i)"
   ]
  },
  {
   "cell_type": "code",
   "execution_count": 104,
   "id": "a08bd0ad",
   "metadata": {},
   "outputs": [],
   "source": [
    "union20 = list(zip(paises20[\"country\"], nat2020[\"year\"], nat2020[\"born\"], nat2020[\"male_born\"], nat2020[\"female_born\"], nat2020[\"birth_rate\"], nat2020[\"fertility_rate\"] , nat2020[\"variation\"]))"
   ]
  },
  {
   "cell_type": "code",
   "execution_count": 105,
   "id": "bd864dfd",
   "metadata": {
    "scrolled": true
   },
   "outputs": [
    {
     "data": {
      "text/html": [
       "<div>\n",
       "<style scoped>\n",
       "    .dataframe tbody tr th:only-of-type {\n",
       "        vertical-align: middle;\n",
       "    }\n",
       "\n",
       "    .dataframe tbody tr th {\n",
       "        vertical-align: top;\n",
       "    }\n",
       "\n",
       "    .dataframe thead th {\n",
       "        text-align: right;\n",
       "    }\n",
       "</style>\n",
       "<table border=\"1\" class=\"dataframe\">\n",
       "  <thead>\n",
       "    <tr style=\"text-align: right;\">\n",
       "      <th></th>\n",
       "      <th>0</th>\n",
       "      <th>1</th>\n",
       "      <th>2</th>\n",
       "      <th>3</th>\n",
       "      <th>4</th>\n",
       "      <th>5</th>\n",
       "      <th>6</th>\n",
       "      <th>7</th>\n",
       "    </tr>\n",
       "  </thead>\n",
       "  <tbody>\n",
       "    <tr>\n",
       "      <th>0</th>\n",
       "      <td>España</td>\n",
       "      <td>2020</td>\n",
       "      <td>341.315</td>\n",
       "      <td>174.842</td>\n",
       "      <td>166.473</td>\n",
       "      <td>7,19‰</td>\n",
       "      <td>1,19</td>\n",
       "      <td>-4,03%</td>\n",
       "    </tr>\n",
       "    <tr>\n",
       "      <th>1</th>\n",
       "      <td>Alemania</td>\n",
       "      <td>2020</td>\n",
       "      <td>773.144</td>\n",
       "      <td>397.385</td>\n",
       "      <td>375.759</td>\n",
       "      <td>9,30‰</td>\n",
       "      <td>1,53</td>\n",
       "      <td>-0,65%</td>\n",
       "    </tr>\n",
       "    <tr>\n",
       "      <th>2</th>\n",
       "      <td>Reino_Unido</td>\n",
       "      <td>2020</td>\n",
       "      <td>712.699</td>\n",
       "      <td>375.379</td>\n",
       "      <td>355.539</td>\n",
       "      <td>10,20‰</td>\n",
       "      <td>1,56</td>\n",
       "      <td>-4,29%</td>\n",
       "    </tr>\n",
       "    <tr>\n",
       "      <th>3</th>\n",
       "      <td>Francia</td>\n",
       "      <td>2020</td>\n",
       "      <td>735.775</td>\n",
       "      <td>376.187</td>\n",
       "      <td>359.588</td>\n",
       "      <td>10,90‰</td>\n",
       "      <td>1,83</td>\n",
       "      <td>-1,61%</td>\n",
       "    </tr>\n",
       "    <tr>\n",
       "      <th>4</th>\n",
       "      <td>Italia</td>\n",
       "      <td>2020</td>\n",
       "      <td>404.892</td>\n",
       "      <td>208.431</td>\n",
       "      <td>196.461</td>\n",
       "      <td>6,80‰</td>\n",
       "      <td>1,24</td>\n",
       "      <td>-2,36%</td>\n",
       "    </tr>\n",
       "    <tr>\n",
       "      <th>...</th>\n",
       "      <td>...</td>\n",
       "      <td>...</td>\n",
       "      <td>...</td>\n",
       "      <td>...</td>\n",
       "      <td>...</td>\n",
       "      <td>...</td>\n",
       "      <td>...</td>\n",
       "      <td>...</td>\n",
       "    </tr>\n",
       "    <tr>\n",
       "      <th>188</th>\n",
       "      <td>Samoa</td>\n",
       "      <td>2020</td>\n",
       "      <td>NaN</td>\n",
       "      <td>NaN</td>\n",
       "      <td>NaN</td>\n",
       "      <td>23,86‰</td>\n",
       "      <td>3,79</td>\n",
       "      <td>-1,17%</td>\n",
       "    </tr>\n",
       "    <tr>\n",
       "      <th>189</th>\n",
       "      <td>Yemen</td>\n",
       "      <td>2020</td>\n",
       "      <td>NaN</td>\n",
       "      <td>NaN</td>\n",
       "      <td>NaN</td>\n",
       "      <td>29,30‰</td>\n",
       "      <td>3,61</td>\n",
       "      <td>-2,32%</td>\n",
       "    </tr>\n",
       "    <tr>\n",
       "      <th>190</th>\n",
       "      <td>Sudáfrica</td>\n",
       "      <td>2020</td>\n",
       "      <td>NaN</td>\n",
       "      <td>NaN</td>\n",
       "      <td>NaN</td>\n",
       "      <td>19,77‰</td>\n",
       "      <td>2,36</td>\n",
       "      <td>-0,97%</td>\n",
       "    </tr>\n",
       "    <tr>\n",
       "      <th>191</th>\n",
       "      <td>Zambia</td>\n",
       "      <td>2020</td>\n",
       "      <td>NaN</td>\n",
       "      <td>NaN</td>\n",
       "      <td>NaN</td>\n",
       "      <td>35,44‰</td>\n",
       "      <td>4,50</td>\n",
       "      <td>-1,38%</td>\n",
       "    </tr>\n",
       "    <tr>\n",
       "      <th>192</th>\n",
       "      <td>Zimbabue</td>\n",
       "      <td>2020</td>\n",
       "      <td>NaN</td>\n",
       "      <td>NaN</td>\n",
       "      <td>NaN</td>\n",
       "      <td>28,98‰</td>\n",
       "      <td>3,46</td>\n",
       "      <td>-2,01%</td>\n",
       "    </tr>\n",
       "  </tbody>\n",
       "</table>\n",
       "<p>193 rows × 8 columns</p>\n",
       "</div>"
      ],
      "text/plain": [
       "               0     1        2        3        4       5     6       7\n",
       "0         España  2020  341.315  174.842  166.473   7,19‰  1,19  -4,03%\n",
       "1       Alemania  2020  773.144  397.385  375.759   9,30‰  1,53  -0,65%\n",
       "2    Reino_Unido  2020  712.699  375.379  355.539  10,20‰  1,56  -4,29%\n",
       "3        Francia  2020  735.775  376.187  359.588  10,90‰  1,83  -1,61%\n",
       "4         Italia  2020  404.892  208.431  196.461   6,80‰  1,24  -2,36%\n",
       "..           ...   ...      ...      ...      ...     ...   ...     ...\n",
       "188        Samoa  2020      NaN      NaN      NaN  23,86‰  3,79  -1,17%\n",
       "189        Yemen  2020      NaN      NaN      NaN  29,30‰  3,61  -2,32%\n",
       "190    Sudáfrica  2020      NaN      NaN      NaN  19,77‰  2,36  -0,97%\n",
       "191       Zambia  2020      NaN      NaN      NaN  35,44‰  4,50  -1,38%\n",
       "192     Zimbabue  2020      NaN      NaN      NaN  28,98‰  3,46  -2,01%\n",
       "\n",
       "[193 rows x 8 columns]"
      ]
     },
     "execution_count": 105,
     "metadata": {},
     "output_type": "execute_result"
    }
   ],
   "source": [
    "n20= pd.DataFrame(union20)\n",
    "n20"
   ]
  },
  {
   "cell_type": "markdown",
   "id": "dca1fe53",
   "metadata": {},
   "source": [
    "##### *Limpiamos Datos* "
   ]
  },
  {
   "cell_type": "code",
   "execution_count": 106,
   "id": "96665bd4",
   "metadata": {
    "scrolled": false
   },
   "outputs": [
    {
     "name": "stderr",
     "output_type": "stream",
     "text": [
      "/var/folders/8l/zm2f15815wb7zxjgwnj0zkjh0000gn/T/ipykernel_1166/2230106971.py:2: FutureWarning: DataFrame.set_axis 'inplace' keyword is deprecated and will be removed in a future version. Use `obj = obj.set_axis(..., copy=False)` instead\n",
      "  x.set_axis([\"country\", \"year\", \"born\", \"male_born\", \"female_born\", \"birth_rate\", \"fertility_rate\", \"variation\"], axis=1, inplace=True)\n"
     ]
    }
   ],
   "source": [
    "titulos_col(n20)"
   ]
  },
  {
   "cell_type": "code",
   "execution_count": 107,
   "id": "92a7134c",
   "metadata": {},
   "outputs": [],
   "source": [
    "n20[\"year\"]= n20[\"year\"].astype(\"int\")"
   ]
  },
  {
   "cell_type": "code",
   "execution_count": 108,
   "id": "f3445d35",
   "metadata": {
    "scrolled": true
   },
   "outputs": [
    {
     "name": "stderr",
     "output_type": "stream",
     "text": [
      "/var/folders/8l/zm2f15815wb7zxjgwnj0zkjh0000gn/T/ipykernel_1166/3039227266.py:2: FutureWarning: The default value of regex will change from True to False in a future version. In addition, single character regular expressions will *not* be treated as literal strings when regex=True.\n",
      "  x = x.str.replace(\".\",\"\")\n"
     ]
    }
   ],
   "source": [
    "n20[\"born\"] = numeros(n20[\"born\"])"
   ]
  },
  {
   "cell_type": "code",
   "execution_count": 109,
   "id": "6a5fdadc",
   "metadata": {},
   "outputs": [
    {
     "name": "stderr",
     "output_type": "stream",
     "text": [
      "/var/folders/8l/zm2f15815wb7zxjgwnj0zkjh0000gn/T/ipykernel_1166/3039227266.py:2: FutureWarning: The default value of regex will change from True to False in a future version. In addition, single character regular expressions will *not* be treated as literal strings when regex=True.\n",
      "  x = x.str.replace(\".\",\"\")\n"
     ]
    }
   ],
   "source": [
    "n20[\"male_born\"]= numeros(n20[\"male_born\"])"
   ]
  },
  {
   "cell_type": "code",
   "execution_count": 110,
   "id": "9f2aa81d",
   "metadata": {},
   "outputs": [
    {
     "name": "stderr",
     "output_type": "stream",
     "text": [
      "/var/folders/8l/zm2f15815wb7zxjgwnj0zkjh0000gn/T/ipykernel_1166/3039227266.py:2: FutureWarning: The default value of regex will change from True to False in a future version. In addition, single character regular expressions will *not* be treated as literal strings when regex=True.\n",
      "  x = x.str.replace(\".\",\"\")\n"
     ]
    }
   ],
   "source": [
    "n20[\"female_born\"]= numeros(n20[\"female_born\"])"
   ]
  },
  {
   "cell_type": "code",
   "execution_count": 111,
   "id": "0d662a08",
   "metadata": {},
   "outputs": [],
   "source": [
    "n20[\"birth_rate\"]= porcentajes(n20[\"birth_rate\"])"
   ]
  },
  {
   "cell_type": "code",
   "execution_count": 112,
   "id": "74f44db9",
   "metadata": {},
   "outputs": [],
   "source": [
    "n20[\"fertility_rate\"]= porcentajes(n20[\"fertility_rate\"])"
   ]
  },
  {
   "cell_type": "code",
   "execution_count": 113,
   "id": "c7221b47",
   "metadata": {},
   "outputs": [],
   "source": [
    "n20[\"variation\"]= porcentajes(n20[\"variation\"])"
   ]
  },
  {
   "cell_type": "code",
   "execution_count": 139,
   "id": "cbde6da8",
   "metadata": {
    "scrolled": true
   },
   "outputs": [],
   "source": [
    "#n20"
   ]
  },
  {
   "cell_type": "code",
   "execution_count": 115,
   "id": "fa343850",
   "metadata": {
    "scrolled": false
   },
   "outputs": [],
   "source": [
    "#control transformación datos\n",
    "#n20.info()"
   ]
  },
  {
   "cell_type": "markdown",
   "id": "49d23c19",
   "metadata": {},
   "source": [
    "### 2021"
   ]
  },
  {
   "cell_type": "code",
   "execution_count": 116,
   "id": "1aa201c2",
   "metadata": {
    "scrolled": false
   },
   "outputs": [
    {
     "data": {
      "text/html": [
       "<div>\n",
       "<style scoped>\n",
       "    .dataframe tbody tr th:only-of-type {\n",
       "        vertical-align: middle;\n",
       "    }\n",
       "\n",
       "    .dataframe tbody tr th {\n",
       "        vertical-align: top;\n",
       "    }\n",
       "\n",
       "    .dataframe thead th {\n",
       "        text-align: right;\n",
       "    }\n",
       "</style>\n",
       "<table border=\"1\" class=\"dataframe\">\n",
       "  <thead>\n",
       "    <tr style=\"text-align: right;\">\n",
       "      <th></th>\n",
       "      <th>0</th>\n",
       "    </tr>\n",
       "  </thead>\n",
       "  <tbody>\n",
       "    <tr>\n",
       "      <th>1</th>\n",
       "      <td>España [+] 2021 337.380 174.148 163.232 7,12‰ ...</td>\n",
       "    </tr>\n",
       "    <tr>\n",
       "      <th>2</th>\n",
       "      <td>Alemania [+] 2021 795.492 397.385 375.759 9,60...</td>\n",
       "    </tr>\n",
       "    <tr>\n",
       "      <th>3</th>\n",
       "      <td>Reino Unido [+] 2020 712.699 375.379 355.539 1...</td>\n",
       "    </tr>\n",
       "    <tr>\n",
       "      <th>4</th>\n",
       "      <td>Francia [+] 2021 738.594 376.187 359.588 10,90...</td>\n",
       "    </tr>\n",
       "    <tr>\n",
       "      <th>5</th>\n",
       "      <td>Italia [+] 2021 399.431 208.431 196.461 6,80‰ ...</td>\n",
       "    </tr>\n",
       "    <tr>\n",
       "      <th>...</th>\n",
       "      <td>...</td>\n",
       "    </tr>\n",
       "    <tr>\n",
       "      <th>189</th>\n",
       "      <td>Samoa [+] 2020 23,86‰ 3,79 -1,17%</td>\n",
       "    </tr>\n",
       "    <tr>\n",
       "      <th>190</th>\n",
       "      <td>Yemen [+] 2020 29,30‰ 3,61 -2,32%</td>\n",
       "    </tr>\n",
       "    <tr>\n",
       "      <th>191</th>\n",
       "      <td>Sudáfrica [+] 2020 19,77‰ 2,36 -0,97%</td>\n",
       "    </tr>\n",
       "    <tr>\n",
       "      <th>192</th>\n",
       "      <td>Zambia [+] 2020 35,44‰ 4,50 -1,38%</td>\n",
       "    </tr>\n",
       "    <tr>\n",
       "      <th>193</th>\n",
       "      <td>Zimbabue [+] 2020 28,98‰ 3,46 -2,01%</td>\n",
       "    </tr>\n",
       "  </tbody>\n",
       "</table>\n",
       "<p>193 rows × 1 columns</p>\n",
       "</div>"
      ],
      "text/plain": [
       "                                                     0\n",
       "1    España [+] 2021 337.380 174.148 163.232 7,12‰ ...\n",
       "2    Alemania [+] 2021 795.492 397.385 375.759 9,60...\n",
       "3    Reino Unido [+] 2020 712.699 375.379 355.539 1...\n",
       "4    Francia [+] 2021 738.594 376.187 359.588 10,90...\n",
       "5    Italia [+] 2021 399.431 208.431 196.461 6,80‰ ...\n",
       "..                                                 ...\n",
       "189                  Samoa [+] 2020 23,86‰ 3,79 -1,17%\n",
       "190                  Yemen [+] 2020 29,30‰ 3,61 -2,32%\n",
       "191              Sudáfrica [+] 2020 19,77‰ 2,36 -0,97%\n",
       "192                 Zambia [+] 2020 35,44‰ 4,50 -1,38%\n",
       "193               Zimbabue [+] 2020 28,98‰ 3,46 -2,01%\n",
       "\n",
       "[193 rows x 1 columns]"
      ]
     },
     "execution_count": 116,
     "metadata": {},
     "output_type": "execute_result"
    }
   ],
   "source": [
    "df_n21"
   ]
  },
  {
   "cell_type": "code",
   "execution_count": 117,
   "id": "285baeb2",
   "metadata": {
    "scrolled": true
   },
   "outputs": [],
   "source": [
    "df_n21= df_n21[\"0\"].str.split(\"\\s\\[\", regex= True, expand=True)\n",
    "#df_n21"
   ]
  },
  {
   "cell_type": "code",
   "execution_count": 118,
   "id": "bf955f28",
   "metadata": {},
   "outputs": [],
   "source": [
    "lon21=[]\n",
    "\n",
    "for i in df_n21[1]:\n",
    "    lon21.append(len(i.split()))"
   ]
  },
  {
   "cell_type": "code",
   "execution_count": 119,
   "id": "fe2839e7",
   "metadata": {},
   "outputs": [
    {
     "name": "stdout",
     "output_type": "stream",
     "text": [
      "{8, 5, 6, 7}\n"
     ]
    }
   ],
   "source": [
    "unicos21 = set(lon21)\n",
    "\n",
    "print(unicos21)"
   ]
  },
  {
   "cell_type": "code",
   "execution_count": 120,
   "id": "b6dadf42",
   "metadata": {},
   "outputs": [],
   "source": [
    "nat2021 = {\n",
    "    \"year\": [],\n",
    "    \"born\": [],\n",
    "    \"male_born\": [],\n",
    "    \"female_born\":[],\n",
    "    \"birth_rate\": [],\n",
    "    \"fertility_rate\":[],\n",
    "    \"variation\":[]\n",
    "            }\n",
    "\n",
    "data_list = df_n21[1]\n",
    "\n",
    "for data in data_list:\n",
    "    \n",
    "    a = data.split()\n",
    "    \n",
    "    if len(a)== 8:\n",
    "        nat2021[\"year\"].append(str(a[1]))\n",
    "        nat2021[\"born\"].append(str(a[2]))\n",
    "        nat2021[\"male_born\"].append(str(a[3]))\n",
    "        nat2021[\"female_born\"].append(str(a[4]))\n",
    "        nat2021[\"birth_rate\"].append(str(a[5]))\n",
    "        nat2021[\"fertility_rate\"].append(str(a[6]))\n",
    "        nat2021[\"variation\"].append(str(a[7]))\n",
    "    \n",
    "    if len(a)== 7:\n",
    "        nat2021[\"year\"].append(str(a[1]))\n",
    "        nat2021[\"born\"].append(str(a[2]))\n",
    "        nat2021[\"male_born\"].append(str(a[3]))\n",
    "        nat2021[\"female_born\"].append(str(a[4]))\n",
    "        nat2021[\"birth_rate\"].append(str(a[5]))\n",
    "        nat2021[\"fertility_rate\"].append(str(a[6]))\n",
    "        nat2021[\"variation\"].append(np.nan)    \n",
    "            \n",
    "    if len(a)== 6:\n",
    "        nat2021[\"year\"].append(str(a[1]))\n",
    "        nat2021[\"born\"].append(str(a[2]))\n",
    "        nat2021[\"male_born\"].append(np.nan)\n",
    "        nat2021[\"female_born\"].append(np.nan)\n",
    "        nat2021[\"birth_rate\"].append(str(a[3]))\n",
    "        nat2021[\"fertility_rate\"].append(str(a[4]))\n",
    "        nat2021[\"variation\"].append(str(a[5]))\n",
    "            \n",
    "    if len(a)== 5:\n",
    "        nat2021[\"year\"].append(str(a[1]))\n",
    "        nat2021[\"born\"].append(np.nan)\n",
    "        nat2021[\"male_born\"].append(np.nan)\n",
    "        nat2021[\"female_born\"].append(np.nan)\n",
    "        nat2021[\"birth_rate\"].append(str(a[2]))\n",
    "        nat2021[\"fertility_rate\"].append(str(a[3]))\n",
    "        nat2021[\"variation\"].append(str(a[4]))"
   ]
  },
  {
   "cell_type": "code",
   "execution_count": 121,
   "id": "bf1c2c6f",
   "metadata": {},
   "outputs": [
    {
     "data": {
      "text/plain": [
       "193"
      ]
     },
     "execution_count": 121,
     "metadata": {},
     "output_type": "execute_result"
    }
   ],
   "source": [
    "#control\n",
    "len(nat2021[\"year\"])"
   ]
  },
  {
   "cell_type": "code",
   "execution_count": 122,
   "id": "9318c06a",
   "metadata": {},
   "outputs": [
    {
     "data": {
      "text/plain": [
       "array(['España', 'Alemania', 'Reino Unido', 'Francia', 'Italia'],\n",
       "      dtype=object)"
      ]
     },
     "execution_count": 122,
     "metadata": {},
     "output_type": "execute_result"
    }
   ],
   "source": [
    "df_n21[0] = df_n21[0].apply(lambda x: str(x).replace(\" y \",\"_\"))\n",
    "df_n21[0].unique()[:5]"
   ]
  },
  {
   "cell_type": "code",
   "execution_count": 123,
   "id": "58b938ab",
   "metadata": {},
   "outputs": [
    {
     "data": {
      "text/plain": [
       "array(['España', 'Alemania', 'Reino_Unido', 'Francia', 'Italia'],\n",
       "      dtype=object)"
      ]
     },
     "execution_count": 123,
     "metadata": {},
     "output_type": "execute_result"
    }
   ],
   "source": [
    "df_n21[0] = df_n21[0].apply(lambda x: str(x).replace(\" \",\"_\"))\n",
    "df_n21[0].unique()[:5]"
   ]
  },
  {
   "cell_type": "code",
   "execution_count": 124,
   "id": "0ad453e5",
   "metadata": {},
   "outputs": [],
   "source": [
    "paises21={\n",
    "        \"country\": []\n",
    "            }\n",
    "\n",
    "for i in df_n21[0]:\n",
    "    \n",
    "    paises21[\"country\"].append(i)"
   ]
  },
  {
   "cell_type": "code",
   "execution_count": 125,
   "id": "7f1e9d68",
   "metadata": {},
   "outputs": [],
   "source": [
    "union21 = list(zip(paises21[\"country\"], nat2021[\"year\"], nat2021[\"born\"], nat2021[\"male_born\"], nat2021[\"female_born\"], nat2021[\"birth_rate\"], nat2021[\"fertility_rate\"] , nat2021[\"variation\"]))"
   ]
  },
  {
   "cell_type": "code",
   "execution_count": 126,
   "id": "0632088e",
   "metadata": {
    "scrolled": true
   },
   "outputs": [],
   "source": [
    "n21= pd.DataFrame(union21)\n",
    "#n21"
   ]
  },
  {
   "cell_type": "markdown",
   "id": "86c7a5b9",
   "metadata": {},
   "source": [
    "##### Limpiamos Datos "
   ]
  },
  {
   "cell_type": "code",
   "execution_count": 127,
   "id": "32e605e3",
   "metadata": {},
   "outputs": [
    {
     "name": "stderr",
     "output_type": "stream",
     "text": [
      "/var/folders/8l/zm2f15815wb7zxjgwnj0zkjh0000gn/T/ipykernel_1166/2230106971.py:2: FutureWarning: DataFrame.set_axis 'inplace' keyword is deprecated and will be removed in a future version. Use `obj = obj.set_axis(..., copy=False)` instead\n",
      "  x.set_axis([\"country\", \"year\", \"born\", \"male_born\", \"female_born\", \"birth_rate\", \"fertility_rate\", \"variation\"], axis=1, inplace=True)\n"
     ]
    }
   ],
   "source": [
    "titulos_col(n21)"
   ]
  },
  {
   "cell_type": "code",
   "execution_count": 128,
   "id": "4ab30725",
   "metadata": {},
   "outputs": [],
   "source": [
    "n21[\"year\"]= n21[\"year\"].astype(\"int\")"
   ]
  },
  {
   "cell_type": "code",
   "execution_count": 129,
   "id": "a1d8170b",
   "metadata": {},
   "outputs": [
    {
     "name": "stderr",
     "output_type": "stream",
     "text": [
      "/var/folders/8l/zm2f15815wb7zxjgwnj0zkjh0000gn/T/ipykernel_1166/3039227266.py:2: FutureWarning: The default value of regex will change from True to False in a future version. In addition, single character regular expressions will *not* be treated as literal strings when regex=True.\n",
      "  x = x.str.replace(\".\",\"\")\n"
     ]
    }
   ],
   "source": [
    "n21[\"born\"] = numeros(n21[\"born\"])"
   ]
  },
  {
   "cell_type": "code",
   "execution_count": 130,
   "id": "e0d9755b",
   "metadata": {},
   "outputs": [
    {
     "name": "stderr",
     "output_type": "stream",
     "text": [
      "/var/folders/8l/zm2f15815wb7zxjgwnj0zkjh0000gn/T/ipykernel_1166/3039227266.py:2: FutureWarning: The default value of regex will change from True to False in a future version. In addition, single character regular expressions will *not* be treated as literal strings when regex=True.\n",
      "  x = x.str.replace(\".\",\"\")\n"
     ]
    }
   ],
   "source": [
    "n21[\"male_born\"]= numeros(n21[\"male_born\"])"
   ]
  },
  {
   "cell_type": "code",
   "execution_count": 131,
   "id": "dbc6567c",
   "metadata": {},
   "outputs": [
    {
     "name": "stderr",
     "output_type": "stream",
     "text": [
      "/var/folders/8l/zm2f15815wb7zxjgwnj0zkjh0000gn/T/ipykernel_1166/3039227266.py:2: FutureWarning: The default value of regex will change from True to False in a future version. In addition, single character regular expressions will *not* be treated as literal strings when regex=True.\n",
      "  x = x.str.replace(\".\",\"\")\n"
     ]
    }
   ],
   "source": [
    "n21[\"female_born\"]= numeros(n21[\"female_born\"])"
   ]
  },
  {
   "cell_type": "code",
   "execution_count": 132,
   "id": "a69c30c8",
   "metadata": {},
   "outputs": [],
   "source": [
    "n21[\"birth_rate\"]= porcentajes(n21[\"birth_rate\"])"
   ]
  },
  {
   "cell_type": "code",
   "execution_count": 133,
   "id": "242baf0a",
   "metadata": {},
   "outputs": [],
   "source": [
    "n21[\"fertility_rate\"]= porcentajes(n21[\"fertility_rate\"])"
   ]
  },
  {
   "cell_type": "code",
   "execution_count": 134,
   "id": "e5f97e16",
   "metadata": {},
   "outputs": [],
   "source": [
    "n21[\"variation\"]= porcentajes(n21[\"variation\"])"
   ]
  },
  {
   "cell_type": "code",
   "execution_count": 143,
   "id": "b13fd6dd",
   "metadata": {
    "scrolled": true
   },
   "outputs": [],
   "source": [
    "#n21"
   ]
  },
  {
   "cell_type": "code",
   "execution_count": 136,
   "id": "7c7be364",
   "metadata": {
    "scrolled": false
   },
   "outputs": [],
   "source": [
    "#control para saber como llevo la transformación de datos\n",
    "#n21.info()"
   ]
  },
  {
   "cell_type": "markdown",
   "id": "33002a2c",
   "metadata": {},
   "source": [
    "### Concatenación Tablas Natalidad "
   ]
  },
  {
   "cell_type": "markdown",
   "id": "cf674b24",
   "metadata": {},
   "source": [
    "Como punto final, concatenaremos las cinco tablas que hemos limpiado para formar una única tabla con los datos de natalidad comprendidos entre 2017/2021:"
   ]
  },
  {
   "cell_type": "code",
   "execution_count": 140,
   "id": "eefe961b",
   "metadata": {},
   "outputs": [],
   "source": [
    "natalidad_total= pd.concat([n17, n18, n19, n20, n21], axis=0, ignore_index = True)"
   ]
  },
  {
   "cell_type": "code",
   "execution_count": 224,
   "id": "c683e631",
   "metadata": {
    "scrolled": false
   },
   "outputs": [
    {
     "data": {
      "text/html": [
       "<div>\n",
       "<style scoped>\n",
       "    .dataframe tbody tr th:only-of-type {\n",
       "        vertical-align: middle;\n",
       "    }\n",
       "\n",
       "    .dataframe tbody tr th {\n",
       "        vertical-align: top;\n",
       "    }\n",
       "\n",
       "    .dataframe thead th {\n",
       "        text-align: right;\n",
       "    }\n",
       "</style>\n",
       "<table border=\"1\" class=\"dataframe\">\n",
       "  <thead>\n",
       "    <tr style=\"text-align: right;\">\n",
       "      <th></th>\n",
       "      <th>country</th>\n",
       "      <th>year</th>\n",
       "      <th>born</th>\n",
       "      <th>male_born</th>\n",
       "      <th>female_born</th>\n",
       "      <th>birth_rate</th>\n",
       "      <th>fertility_rate</th>\n",
       "      <th>variation</th>\n",
       "    </tr>\n",
       "  </thead>\n",
       "  <tbody>\n",
       "    <tr>\n",
       "      <th>0</th>\n",
       "      <td>spain</td>\n",
       "      <td>2017</td>\n",
       "      <td>393181.0</td>\n",
       "      <td>202478.0</td>\n",
       "      <td>190703.0</td>\n",
       "      <td>841.00</td>\n",
       "      <td>1.31</td>\n",
       "      <td>-1.92</td>\n",
       "    </tr>\n",
       "    <tr>\n",
       "      <th>1</th>\n",
       "      <td>germany</td>\n",
       "      <td>2017</td>\n",
       "      <td>784901.0</td>\n",
       "      <td>402517.0</td>\n",
       "      <td>382384.0</td>\n",
       "      <td>950.00</td>\n",
       "      <td>1.57</td>\n",
       "      <td>-1.88</td>\n",
       "    </tr>\n",
       "    <tr>\n",
       "      <th>2</th>\n",
       "      <td>united_kingdom</td>\n",
       "      <td>2017</td>\n",
       "      <td>754754.0</td>\n",
       "      <td>387030.0</td>\n",
       "      <td>367724.0</td>\n",
       "      <td>1140.00</td>\n",
       "      <td>1.74</td>\n",
       "      <td>-2.79</td>\n",
       "    </tr>\n",
       "    <tr>\n",
       "      <th>3</th>\n",
       "      <td>france</td>\n",
       "      <td>2017</td>\n",
       "      <td>770045.0</td>\n",
       "      <td>394058.0</td>\n",
       "      <td>375987.0</td>\n",
       "      <td>1150.00</td>\n",
       "      <td>1.89</td>\n",
       "      <td>-1.56</td>\n",
       "    </tr>\n",
       "    <tr>\n",
       "      <th>4</th>\n",
       "      <td>italy</td>\n",
       "      <td>2017</td>\n",
       "      <td>458151.0</td>\n",
       "      <td>235733.0</td>\n",
       "      <td>222418.0</td>\n",
       "      <td>760.00</td>\n",
       "      <td>1.32</td>\n",
       "      <td>-1.49</td>\n",
       "    </tr>\n",
       "    <tr>\n",
       "      <th>...</th>\n",
       "      <td>...</td>\n",
       "      <td>...</td>\n",
       "      <td>...</td>\n",
       "      <td>...</td>\n",
       "      <td>...</td>\n",
       "      <td>...</td>\n",
       "      <td>...</td>\n",
       "      <td>...</td>\n",
       "    </tr>\n",
       "    <tr>\n",
       "      <th>960</th>\n",
       "      <td>samoa</td>\n",
       "      <td>2020</td>\n",
       "      <td>NaN</td>\n",
       "      <td>NaN</td>\n",
       "      <td>NaN</td>\n",
       "      <td>23.86</td>\n",
       "      <td>3.79</td>\n",
       "      <td>-1.17</td>\n",
       "    </tr>\n",
       "    <tr>\n",
       "      <th>961</th>\n",
       "      <td>yemen</td>\n",
       "      <td>2020</td>\n",
       "      <td>NaN</td>\n",
       "      <td>NaN</td>\n",
       "      <td>NaN</td>\n",
       "      <td>29.30</td>\n",
       "      <td>3.61</td>\n",
       "      <td>-2.32</td>\n",
       "    </tr>\n",
       "    <tr>\n",
       "      <th>962</th>\n",
       "      <td>south_africa</td>\n",
       "      <td>2020</td>\n",
       "      <td>NaN</td>\n",
       "      <td>NaN</td>\n",
       "      <td>NaN</td>\n",
       "      <td>19.77</td>\n",
       "      <td>2.36</td>\n",
       "      <td>-0.97</td>\n",
       "    </tr>\n",
       "    <tr>\n",
       "      <th>963</th>\n",
       "      <td>zambia</td>\n",
       "      <td>2020</td>\n",
       "      <td>NaN</td>\n",
       "      <td>NaN</td>\n",
       "      <td>NaN</td>\n",
       "      <td>35.44</td>\n",
       "      <td>4.50</td>\n",
       "      <td>-1.38</td>\n",
       "    </tr>\n",
       "    <tr>\n",
       "      <th>964</th>\n",
       "      <td>zimbabwe</td>\n",
       "      <td>2020</td>\n",
       "      <td>NaN</td>\n",
       "      <td>NaN</td>\n",
       "      <td>NaN</td>\n",
       "      <td>28.98</td>\n",
       "      <td>3.46</td>\n",
       "      <td>-2.01</td>\n",
       "    </tr>\n",
       "  </tbody>\n",
       "</table>\n",
       "<p>965 rows × 8 columns</p>\n",
       "</div>"
      ],
      "text/plain": [
       "            country  year      born  male_born  female_born  birth_rate  \\\n",
       "0             spain  2017  393181.0   202478.0     190703.0      841.00   \n",
       "1           germany  2017  784901.0   402517.0     382384.0      950.00   \n",
       "2    united_kingdom  2017  754754.0   387030.0     367724.0     1140.00   \n",
       "3            france  2017  770045.0   394058.0     375987.0     1150.00   \n",
       "4             italy  2017  458151.0   235733.0     222418.0      760.00   \n",
       "..              ...   ...       ...        ...          ...         ...   \n",
       "960           samoa  2020       NaN        NaN          NaN       23.86   \n",
       "961           yemen  2020       NaN        NaN          NaN       29.30   \n",
       "962    south_africa  2020       NaN        NaN          NaN       19.77   \n",
       "963          zambia  2020       NaN        NaN          NaN       35.44   \n",
       "964        zimbabwe  2020       NaN        NaN          NaN       28.98   \n",
       "\n",
       "     fertility_rate  variation  \n",
       "0              1.31      -1.92  \n",
       "1              1.57      -1.88  \n",
       "2              1.74      -2.79  \n",
       "3              1.89      -1.56  \n",
       "4              1.32      -1.49  \n",
       "..              ...        ...  \n",
       "960            3.79      -1.17  \n",
       "961            3.61      -2.32  \n",
       "962            2.36      -0.97  \n",
       "963            4.50      -1.38  \n",
       "964            3.46      -2.01  \n",
       "\n",
       "[965 rows x 8 columns]"
      ]
     },
     "execution_count": 224,
     "metadata": {},
     "output_type": "execute_result"
    }
   ],
   "source": [
    "natalidad_total"
   ]
  },
  {
   "cell_type": "code",
   "execution_count": 144,
   "id": "5c9dd302",
   "metadata": {},
   "outputs": [
    {
     "data": {
      "text/plain": [
       "965"
      ]
     },
     "execution_count": 144,
     "metadata": {},
     "output_type": "execute_result"
    }
   ],
   "source": [
    "#control todos los registros en tabla final\n",
    "lentotal= len(n21) + len(n20) + len(n19) + len(n18) + len(n17)\n",
    "lentotal"
   ]
  },
  {
   "cell_type": "markdown",
   "id": "8311cec4",
   "metadata": {},
   "source": [
    "### Traducción Países DataFrame"
   ]
  },
  {
   "cell_type": "code",
   "execution_count": 195,
   "id": "b684853b",
   "metadata": {},
   "outputs": [
    {
     "name": "stdout",
     "output_type": "stream",
     "text": [
      "Collecting deep_translator\n",
      "  Downloading deep_translator-1.9.2-py3-none-any.whl (30 kB)\n",
      "Requirement already satisfied: requests<3.0.0,>=2.23.0 in /Users/paulaelizagarate/opt/anaconda3/envs/Bootcamp/lib/python3.9/site-packages (from deep_translator) (2.28.1)\n",
      "Requirement already satisfied: beautifulsoup4<5.0.0,>=4.9.1 in /Users/paulaelizagarate/opt/anaconda3/envs/Bootcamp/lib/python3.9/site-packages (from deep_translator) (4.11.1)\n",
      "Requirement already satisfied: soupsieve>1.2 in /Users/paulaelizagarate/opt/anaconda3/envs/Bootcamp/lib/python3.9/site-packages (from beautifulsoup4<5.0.0,>=4.9.1->deep_translator) (2.3.2.post1)\n",
      "Requirement already satisfied: urllib3<1.27,>=1.21.1 in /Users/paulaelizagarate/opt/anaconda3/envs/Bootcamp/lib/python3.9/site-packages (from requests<3.0.0,>=2.23.0->deep_translator) (1.26.13)\n",
      "Requirement already satisfied: idna<4,>=2.5 in /Users/paulaelizagarate/opt/anaconda3/envs/Bootcamp/lib/python3.9/site-packages (from requests<3.0.0,>=2.23.0->deep_translator) (2.10)\n",
      "Requirement already satisfied: charset-normalizer<3,>=2 in /Users/paulaelizagarate/opt/anaconda3/envs/Bootcamp/lib/python3.9/site-packages (from requests<3.0.0,>=2.23.0->deep_translator) (2.1.1)\n",
      "Requirement already satisfied: certifi>=2017.4.17 in /Users/paulaelizagarate/opt/anaconda3/envs/Bootcamp/lib/python3.9/site-packages (from requests<3.0.0,>=2.23.0->deep_translator) (2022.9.24)\n",
      "Installing collected packages: deep_translator\n",
      "Successfully installed deep_translator-1.9.2\n",
      "Note: you may need to restart the kernel to use updated packages.\n"
     ]
    }
   ],
   "source": [
    "pip install deep_translator"
   ]
  },
  {
   "cell_type": "code",
   "execution_count": 196,
   "id": "1313da5e",
   "metadata": {
    "scrolled": false
   },
   "outputs": [],
   "source": [
    "from deep_translator import GoogleTranslator"
   ]
  },
  {
   "cell_type": "code",
   "execution_count": 197,
   "id": "970dfab6",
   "metadata": {},
   "outputs": [],
   "source": [
    "traductor= GoogleTranslator(source='es', target='en')"
   ]
  },
  {
   "cell_type": "code",
   "execution_count": 206,
   "id": "00e37826",
   "metadata": {},
   "outputs": [],
   "source": [
    "country= list(natalidad_total[\"country\"])"
   ]
  },
  {
   "cell_type": "code",
   "execution_count": 210,
   "id": "e40520b5",
   "metadata": {},
   "outputs": [],
   "source": [
    "resultado = traductor.translate_batch(country)"
   ]
  },
  {
   "cell_type": "code",
   "execution_count": 214,
   "id": "d74a8167",
   "metadata": {},
   "outputs": [],
   "source": [
    "natalidad_total[\"country\"]= resultado"
   ]
  },
  {
   "cell_type": "markdown",
   "id": "33961453",
   "metadata": {},
   "source": [
    "Volvemos a trabajar el formato de la columna países ya que al traducir lo hemos perdido.  "
   ]
  },
  {
   "cell_type": "code",
   "execution_count": 216,
   "id": "c63e986c",
   "metadata": {},
   "outputs": [],
   "source": [
    "natalidad_total[\"country\"]= natalidad_total[\"country\"].apply(lambda x: str(x).replace(\" \",\"_\"))"
   ]
  },
  {
   "cell_type": "code",
   "execution_count": 219,
   "id": "672ab50a",
   "metadata": {
    "scrolled": true
   },
   "outputs": [
    {
     "data": {
      "text/plain": [
       "array(['Spain', 'Germany', 'United_Kingdom', 'France', 'Italy',\n",
       "       'Portugal', 'USA', 'Japan', 'China', 'Andorra',\n",
       "       'United_Arab_Emirates', 'Afghanistan', 'Antigua_Barbuda',\n",
       "       'Albanian', 'Armenia', 'Angola', 'Argentina', 'Austria',\n",
       "       'Australia', 'Azerbaijan', 'Bosnia_Herzegovina', 'barbados',\n",
       "       'Bangladesh', 'Belgium', 'Burkina_Faso', 'Bulgaria', 'bahrain',\n",
       "       'Burundi', 'Benin', 'Brunei', 'bolivian', 'Brazil', 'Bahamas',\n",
       "       'bhutan', 'botswana', 'belarus', 'belize', 'Canada',\n",
       "       'Democratic_Republic_of_Congo', 'Central_African_Republic',\n",
       "       'Republic_of_Congo', 'Swiss', 'Ivory_Coast', 'Chili', 'Cameroon',\n",
       "       'Colombia', 'Costa_Rica', 'Cuba', 'Cape_Verde', 'Cyprus',\n",
       "       'czech_republic', 'djibouti', 'Denmark', 'Dominica',\n",
       "       'Dominican_Republic', 'Algeria', 'Ecuador', 'Estonia', 'Egypt',\n",
       "       'eritrea', 'Ethiopia', 'Finland', 'fiji',\n",
       "       'Federated_States_of_Micronesia', 'Gabon', 'Grenade', 'Georgia',\n",
       "       'Ghana', 'Gambia', 'Guinea', 'Equatorial_Guinea', 'Greece',\n",
       "       'Guatemala', 'Guinea-Bissau', 'guyana', 'Hong_Kong', 'Honduras',\n",
       "       'Croatia', 'Haiti', 'Hungary', 'Indonesia', 'Ireland', 'Israel',\n",
       "       'India', 'Iraq', 'Iran', 'Iceland', 'Jamaica', 'Jordan', 'Kenya',\n",
       "       'Kyrgyzstan', 'Cambodia', 'Kiribati', 'comoros',\n",
       "       'Saint_Kitts_Nevis', 'North_Korea', 'South_Korea', 'Kuwait',\n",
       "       'Kazakhstan', 'Laos', 'Lebanon', 'St._Lucia', 'liechtenstein',\n",
       "       'sri_lanka', 'Liberia', 'Lesotho', 'Lithuania', 'Luxembourg',\n",
       "       'Latvia', 'Libya', 'Morocco', 'Monaco', 'moldova', 'Montenegro',\n",
       "       'Madagascar', 'Marshall_Islands', 'North_Macedonia', 'Mali',\n",
       "       'Myanmar', 'Mongolia', 'Mauritania', 'malt', 'Mauricio',\n",
       "       'Maldives', 'Malawi', 'Mexico', 'Malaysia', 'Mozambique',\n",
       "       'Namibia', 'Niger', 'Nigeria', 'Nicaragua', 'Netherlands',\n",
       "       'Norway', 'Nepal', 'New_Zealand', 'Oman', 'Panama', 'Peru',\n",
       "       'Papua_New_Guinea', 'Philippines', 'Pakistan', 'Poland',\n",
       "       'State_of_Palestine', 'Palau', 'Paraguayan', 'Taste', 'Romania',\n",
       "       'Serbian', 'Russia', 'Rwanda', 'Saudi_Arabia', 'Solomon_Islands',\n",
       "       'seychelles', 'Sudan', 'Sweden', 'Singapore', 'Slovenia',\n",
       "       'Slovakia', 'Sierra_Leone', 'San_Marino', 'Senegal', 'Somalia',\n",
       "       'Surinam', 'South_Sudan', 'Sao_Tome_Principe', 'The_Savior',\n",
       "       'Syria', 'swatini', 'Chad', 'Togo', 'thailand', 'Tajikistan',\n",
       "       'East_Timor', 'Turkmenistan', 'Tunisia', 'Tonga', 'Turkiye',\n",
       "       'Trinidad_Tobago', 'Tanzania', 'Ukraine', 'Uganda', 'Uruguay',\n",
       "       'uzbekistan', 'Saint_Vincent_the_Grenadines', 'Venezuela',\n",
       "       'Vietnam', 'Vanuatu', 'samoa', 'Yemen', 'South_Africa', 'Zambia',\n",
       "       'Zimbabwe'], dtype=object)"
      ]
     },
     "execution_count": 219,
     "metadata": {},
     "output_type": "execute_result"
    }
   ],
   "source": [
    "natalidad_total[\"country\"].unique()"
   ]
  },
  {
   "cell_type": "code",
   "execution_count": 220,
   "id": "4ece234e",
   "metadata": {},
   "outputs": [],
   "source": [
    "def minusculas (x):\n",
    "    x= [i.lower() for i in x]\n",
    "    return(x)"
   ]
  },
  {
   "cell_type": "code",
   "execution_count": 223,
   "id": "56d4e96b",
   "metadata": {},
   "outputs": [],
   "source": [
    "natalidad_total[\"country\"]= minusculas(natalidad_total[\"country\"])"
   ]
  },
  {
   "cell_type": "markdown",
   "id": "2450eabd",
   "metadata": {},
   "source": [
    "Ahora si que si, tenemos nuestros datos de natalidad listos para ser utilizados. Los guardaremos para utilizarlos más adelante.  "
   ]
  },
  {
   "cell_type": "code",
   "execution_count": 225,
   "id": "5af77ae4",
   "metadata": {},
   "outputs": [],
   "source": [
    "natalidad_total.to_csv('natalidad_total.csv')"
   ]
  }
 ],
 "metadata": {
  "kernelspec": {
   "display_name": "Bootcamp",
   "language": "python",
   "name": "bootcamp"
  },
  "language_info": {
   "codemirror_mode": {
    "name": "ipython",
    "version": 3
   },
   "file_extension": ".py",
   "mimetype": "text/x-python",
   "name": "python",
   "nbconvert_exporter": "python",
   "pygments_lexer": "ipython3",
   "version": "3.9.13"
  }
 },
 "nbformat": 4,
 "nbformat_minor": 5
}
