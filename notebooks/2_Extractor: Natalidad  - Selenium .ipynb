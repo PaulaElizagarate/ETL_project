{
 "cells": [
  {
   "cell_type": "markdown",
   "id": "eb6b0c8d",
   "metadata": {},
   "source": [
    "# Most Polluted Countries - Web Scraping "
   ]
  },
  {
   "cell_type": "markdown",
   "id": "7ab3f51c",
   "metadata": {},
   "source": [
    "### · Antes de empezar... "
   ]
  },
  {
   "cell_type": "markdown",
   "id": "38ccd52a",
   "metadata": {},
   "source": [
    "1. Para gestionar los Dataframes:"
   ]
  },
  {
   "cell_type": "code",
   "execution_count": 1,
   "id": "02c156b0",
   "metadata": {
    "scrolled": true
   },
   "outputs": [
    {
     "name": "stdout",
     "output_type": "stream",
     "text": [
      "Requirement already satisfied: plotly.express in /Users/paulaelizagarate/opt/anaconda3/lib/python3.8/site-packages (0.4.1)\n",
      "Requirement already satisfied: statsmodels>=0.9.0 in /Users/paulaelizagarate/opt/anaconda3/lib/python3.8/site-packages (from plotly.express) (0.12.2)\n",
      "Requirement already satisfied: numpy>=1.11 in /Users/paulaelizagarate/opt/anaconda3/lib/python3.8/site-packages (from plotly.express) (1.20.1)\n",
      "Requirement already satisfied: scipy>=0.18 in /Users/paulaelizagarate/opt/anaconda3/lib/python3.8/site-packages (from plotly.express) (1.6.2)\n",
      "Requirement already satisfied: pandas>=0.20.0 in /Users/paulaelizagarate/opt/anaconda3/lib/python3.8/site-packages (from plotly.express) (1.2.4)\n",
      "Requirement already satisfied: patsy>=0.5 in /Users/paulaelizagarate/opt/anaconda3/lib/python3.8/site-packages (from plotly.express) (0.5.1)\n",
      "Requirement already satisfied: plotly>=4.1.0 in /Users/paulaelizagarate/opt/anaconda3/lib/python3.8/site-packages (from plotly.express) (5.11.0)\n",
      "Requirement already satisfied: python-dateutil>=2.7.3 in /Users/paulaelizagarate/opt/anaconda3/lib/python3.8/site-packages (from pandas>=0.20.0->plotly.express) (2.8.1)\n",
      "Requirement already satisfied: pytz>=2017.3 in /Users/paulaelizagarate/opt/anaconda3/lib/python3.8/site-packages (from pandas>=0.20.0->plotly.express) (2021.1)\n",
      "Requirement already satisfied: six in /Users/paulaelizagarate/opt/anaconda3/lib/python3.8/site-packages (from patsy>=0.5->plotly.express) (1.15.0)\n",
      "Requirement already satisfied: tenacity>=6.2.0 in /Users/paulaelizagarate/opt/anaconda3/lib/python3.8/site-packages (from plotly>=4.1.0->plotly.express) (8.1.0)\n",
      "Note: you may need to restart the kernel to use updated packages.\n"
     ]
    }
   ],
   "source": [
    "pip install plotly.express"
   ]
  },
  {
   "cell_type": "code",
   "execution_count": 2,
   "id": "277526cc",
   "metadata": {
    "scrolled": false
   },
   "outputs": [
    {
     "name": "stderr",
     "output_type": "stream",
     "text": [
      "/Users/paulaelizagarate/opt/anaconda3/lib/python3.8/site-packages/fuzzywuzzy/fuzz.py:11: UserWarning: Using slow pure-python SequenceMatcher. Install python-Levenshtein to remove this warning\n",
      "  warnings.warn('Using slow pure-python SequenceMatcher. Install python-Levenshtein to remove this warning')\n"
     ]
    }
   ],
   "source": [
    "import pandas as pd\n",
    "import numpy as np"
   ]
  },
  {
   "cell_type": "markdown",
   "id": "989aa747",
   "metadata": {},
   "source": [
    "2. Para hacer web scraping con Selenium "
   ]
  },
  {
   "cell_type": "code",
   "execution_count": 4,
   "id": "3718f799",
   "metadata": {
    "scrolled": true
   },
   "outputs": [
    {
     "name": "stdout",
     "output_type": "stream",
     "text": [
      "Requirement already satisfied: selenium in /Users/paulaelizagarate/opt/anaconda3/lib/python3.8/site-packages (4.7.2)\n",
      "Requirement already satisfied: certifi>=2021.10.8 in /Users/paulaelizagarate/opt/anaconda3/lib/python3.8/site-packages (from selenium) (2022.12.7)\n",
      "Requirement already satisfied: trio~=0.17 in /Users/paulaelizagarate/opt/anaconda3/lib/python3.8/site-packages (from selenium) (0.22.0)\n",
      "Requirement already satisfied: urllib3[socks]~=1.26 in /Users/paulaelizagarate/opt/anaconda3/lib/python3.8/site-packages (from selenium) (1.26.4)\n",
      "Requirement already satisfied: trio-websocket~=0.9 in /Users/paulaelizagarate/opt/anaconda3/lib/python3.8/site-packages (from selenium) (0.9.2)\n",
      "Requirement already satisfied: exceptiongroup>=1.0.0rc9 in /Users/paulaelizagarate/opt/anaconda3/lib/python3.8/site-packages (from trio~=0.17->selenium) (1.1.0)\n",
      "Requirement already satisfied: attrs>=19.2.0 in /Users/paulaelizagarate/opt/anaconda3/lib/python3.8/site-packages (from trio~=0.17->selenium) (20.3.0)\n",
      "Requirement already satisfied: sniffio in /Users/paulaelizagarate/opt/anaconda3/lib/python3.8/site-packages (from trio~=0.17->selenium) (1.2.0)\n",
      "Requirement already satisfied: outcome in /Users/paulaelizagarate/opt/anaconda3/lib/python3.8/site-packages (from trio~=0.17->selenium) (1.2.0)\n",
      "Requirement already satisfied: async-generator>=1.9 in /Users/paulaelizagarate/opt/anaconda3/lib/python3.8/site-packages (from trio~=0.17->selenium) (1.10)\n",
      "Requirement already satisfied: sortedcontainers in /Users/paulaelizagarate/opt/anaconda3/lib/python3.8/site-packages (from trio~=0.17->selenium) (2.3.0)\n",
      "Requirement already satisfied: idna in /Users/paulaelizagarate/opt/anaconda3/lib/python3.8/site-packages (from trio~=0.17->selenium) (2.10)\n",
      "Requirement already satisfied: wsproto>=0.14 in /Users/paulaelizagarate/opt/anaconda3/lib/python3.8/site-packages (from trio-websocket~=0.9->selenium) (1.2.0)\n",
      "Requirement already satisfied: PySocks!=1.5.7,<2.0,>=1.5.6 in /Users/paulaelizagarate/opt/anaconda3/lib/python3.8/site-packages (from urllib3[socks]~=1.26->selenium) (1.7.1)\n",
      "Requirement already satisfied: h11<1,>=0.9.0 in /Users/paulaelizagarate/opt/anaconda3/lib/python3.8/site-packages (from wsproto>=0.14->trio-websocket~=0.9->selenium) (0.14.0)\n",
      "Note: you may need to restart the kernel to use updated packages.\n"
     ]
    }
   ],
   "source": [
    "pip install selenium"
   ]
  },
  {
   "cell_type": "code",
   "execution_count": 5,
   "id": "6878dd3a",
   "metadata": {},
   "outputs": [
    {
     "name": "stdout",
     "output_type": "stream",
     "text": [
      "Requirement already satisfied: webdriver-manager in /Users/paulaelizagarate/opt/anaconda3/lib/python3.8/site-packages (3.8.5)\n",
      "Requirement already satisfied: packaging in /Users/paulaelizagarate/opt/anaconda3/lib/python3.8/site-packages (from webdriver-manager) (20.9)\n",
      "Requirement already satisfied: tqdm in /Users/paulaelizagarate/opt/anaconda3/lib/python3.8/site-packages (from webdriver-manager) (4.59.0)\n",
      "Requirement already satisfied: requests in /Users/paulaelizagarate/opt/anaconda3/lib/python3.8/site-packages (from webdriver-manager) (2.25.1)\n",
      "Requirement already satisfied: python-dotenv in /Users/paulaelizagarate/opt/anaconda3/lib/python3.8/site-packages (from webdriver-manager) (0.21.0)\n",
      "Requirement already satisfied: pyparsing>=2.0.2 in /Users/paulaelizagarate/opt/anaconda3/lib/python3.8/site-packages (from packaging->webdriver-manager) (2.4.7)\n",
      "Requirement already satisfied: idna<3,>=2.5 in /Users/paulaelizagarate/opt/anaconda3/lib/python3.8/site-packages (from requests->webdriver-manager) (2.10)\n",
      "Requirement already satisfied: certifi>=2017.4.17 in /Users/paulaelizagarate/opt/anaconda3/lib/python3.8/site-packages (from requests->webdriver-manager) (2022.12.7)\n",
      "Requirement already satisfied: urllib3<1.27,>=1.21.1 in /Users/paulaelizagarate/opt/anaconda3/lib/python3.8/site-packages (from requests->webdriver-manager) (1.26.4)\n",
      "Requirement already satisfied: chardet<5,>=3.0.2 in /Users/paulaelizagarate/opt/anaconda3/lib/python3.8/site-packages (from requests->webdriver-manager) (4.0.0)\n",
      "Note: you may need to restart the kernel to use updated packages.\n"
     ]
    }
   ],
   "source": [
    "pip install webdriver-manager"
   ]
  },
  {
   "cell_type": "code",
   "execution_count": 4,
   "id": "f58953af",
   "metadata": {
    "scrolled": true
   },
   "outputs": [],
   "source": [
    "from selenium import webdriver\n",
    "from webdriver_manager.chrome import ChromeDriverManager\n",
    "from selenium.webdriver.common.keys import Keys\n",
    "from selenium.webdriver.chrome.options import Options\n",
    "from time import sleep"
   ]
  },
  {
   "cell_type": "code",
   "execution_count": 5,
   "id": "71f52673",
   "metadata": {},
   "outputs": [],
   "source": [
    "import warnings\n",
    "warnings.filterwarnings('ignore')"
   ]
  },
  {
   "cell_type": "code",
   "execution_count": 6,
   "id": "ab19b56d",
   "metadata": {},
   "outputs": [],
   "source": [
    "from tqdm import tqdm"
   ]
  },
  {
   "cell_type": "markdown",
   "id": "73d11a8d",
   "metadata": {},
   "source": [
    "De cara a trabajar con Selenium"
   ]
  },
  {
   "cell_type": "code",
   "execution_count": 9,
   "id": "78d87204",
   "metadata": {},
   "outputs": [],
   "source": [
    "opciones= Options()\n",
    "opciones.add_experimental_option('excludeSwitches', ['enable-automation'])\n",
    "\n",
    "opciones.add_experimental_option('useAutomationExtension', False)\n",
    "opciones.add_argument('--start-maximized') #empezar maximizado\n",
    "opciones.add_argument('user.data-dir=selenium') #guarda las cookies\n",
    "opciones.add_argument('--incognito')#incognito window"
   ]
  },
  {
   "cell_type": "code",
   "execution_count": 10,
   "id": "4775f484",
   "metadata": {},
   "outputs": [
    {
     "name": "stderr",
     "output_type": "stream",
     "text": [
      "[WDM] - Downloading:  99%|█████████▊| 8.60M/8.72M [00:03<00:00, 2.90MB/s]"
     ]
    }
   ],
   "source": [
    "driver = webdriver.Chrome(ChromeDriverManager().install())"
   ]
  },
  {
   "cell_type": "markdown",
   "id": "7f5250c0",
   "metadata": {},
   "source": [
    "###  · Carga de CSVs"
   ]
  },
  {
   "cell_type": "markdown",
   "id": "06b7b1b4",
   "metadata": {},
   "source": [
    "Empezamos cargando datos CSV procedentes de Kaggle con la información de los países y las ciudades más contaminadas desde 2017 hasta 2021. "
   ]
  },
  {
   "cell_type": "code",
   "execution_count": 11,
   "id": "c02fe811",
   "metadata": {
    "scrolled": true
   },
   "outputs": [
    {
     "data": {
      "text/html": [
       "<div>\n",
       "<style scoped>\n",
       "    .dataframe tbody tr th:only-of-type {\n",
       "        vertical-align: middle;\n",
       "    }\n",
       "\n",
       "    .dataframe tbody tr th {\n",
       "        vertical-align: top;\n",
       "    }\n",
       "\n",
       "    .dataframe thead th {\n",
       "        text-align: right;\n",
       "    }\n",
       "</style>\n",
       "<table border=\"1\" class=\"dataframe\">\n",
       "  <thead>\n",
       "    <tr style=\"text-align: right;\">\n",
       "      <th></th>\n",
       "      <th>Country/Region</th>\n",
       "      <th>2021</th>\n",
       "      <th>2020</th>\n",
       "      <th>2019</th>\n",
       "      <th>2018</th>\n",
       "      <th>Population</th>\n",
       "    </tr>\n",
       "    <tr>\n",
       "      <th>Rank</th>\n",
       "      <th></th>\n",
       "      <th></th>\n",
       "      <th></th>\n",
       "      <th></th>\n",
       "      <th></th>\n",
       "      <th></th>\n",
       "    </tr>\n",
       "  </thead>\n",
       "  <tbody>\n",
       "    <tr>\n",
       "      <th>1</th>\n",
       "      <td>Bangladesh</td>\n",
       "      <td>76.9</td>\n",
       "      <td>77.1</td>\n",
       "      <td>83.3</td>\n",
       "      <td>97.1</td>\n",
       "      <td>164,689,383</td>\n",
       "    </tr>\n",
       "    <tr>\n",
       "      <th>2</th>\n",
       "      <td>Chad</td>\n",
       "      <td>75.9</td>\n",
       "      <td>-</td>\n",
       "      <td>-</td>\n",
       "      <td>-</td>\n",
       "      <td>16,425,859</td>\n",
       "    </tr>\n",
       "  </tbody>\n",
       "</table>\n",
       "</div>"
      ],
      "text/plain": [
       "     Country/Region  2021  2020  2019  2018   Population\n",
       "Rank                                                    \n",
       "1        Bangladesh  76.9  77.1  83.3  97.1  164,689,383\n",
       "2              Chad  75.9     -     -     -   16,425,859"
      ]
     },
     "execution_count": 11,
     "metadata": {},
     "output_type": "execute_result"
    }
   ],
   "source": [
    "df_pcountries = pd.read_csv(\"datos/AIR QUALITY INDEX- top countries.csv\", index_col = 0 )\n",
    "df_pcountries.head(2)"
   ]
  },
  {
   "cell_type": "code",
   "execution_count": 12,
   "id": "c223e191",
   "metadata": {
    "scrolled": false
   },
   "outputs": [
    {
     "data": {
      "text/html": [
       "<div>\n",
       "<style scoped>\n",
       "    .dataframe tbody tr th:only-of-type {\n",
       "        vertical-align: middle;\n",
       "    }\n",
       "\n",
       "    .dataframe tbody tr th {\n",
       "        vertical-align: top;\n",
       "    }\n",
       "\n",
       "    .dataframe thead th {\n",
       "        text-align: right;\n",
       "    }\n",
       "</style>\n",
       "<table border=\"1\" class=\"dataframe\">\n",
       "  <thead>\n",
       "    <tr style=\"text-align: right;\">\n",
       "      <th></th>\n",
       "      <th>City</th>\n",
       "      <th>2021</th>\n",
       "      <th>JAN(2021)</th>\n",
       "      <th>FEB(2021)</th>\n",
       "      <th>MAR(2021)</th>\n",
       "      <th>APR(2021)</th>\n",
       "      <th>MAY(2021)</th>\n",
       "      <th>JUN(2021)</th>\n",
       "      <th>JUL(2021)</th>\n",
       "      <th>AUG(2021)</th>\n",
       "      <th>SEP(2021)</th>\n",
       "      <th>OCT(2021)</th>\n",
       "      <th>NOV(2021)</th>\n",
       "      <th>DEC(2021)</th>\n",
       "      <th>2020</th>\n",
       "      <th>2019</th>\n",
       "      <th>2018</th>\n",
       "      <th>2017</th>\n",
       "    </tr>\n",
       "    <tr>\n",
       "      <th>Rank</th>\n",
       "      <th></th>\n",
       "      <th></th>\n",
       "      <th></th>\n",
       "      <th></th>\n",
       "      <th></th>\n",
       "      <th></th>\n",
       "      <th></th>\n",
       "      <th></th>\n",
       "      <th></th>\n",
       "      <th></th>\n",
       "      <th></th>\n",
       "      <th></th>\n",
       "      <th></th>\n",
       "      <th></th>\n",
       "      <th></th>\n",
       "      <th></th>\n",
       "      <th></th>\n",
       "      <th></th>\n",
       "    </tr>\n",
       "  </thead>\n",
       "  <tbody>\n",
       "    <tr>\n",
       "      <th>1</th>\n",
       "      <td>Bhiwadi, India</td>\n",
       "      <td>106.2</td>\n",
       "      <td>145.8</td>\n",
       "      <td>129.8</td>\n",
       "      <td>120.2</td>\n",
       "      <td>125.7</td>\n",
       "      <td>86.5</td>\n",
       "      <td>95.9</td>\n",
       "      <td>55.6</td>\n",
       "      <td>55.4</td>\n",
       "      <td>37.1</td>\n",
       "      <td>91.1</td>\n",
       "      <td>188.6</td>\n",
       "      <td>136.6</td>\n",
       "      <td>95.5</td>\n",
       "      <td>83.4</td>\n",
       "      <td>125.4</td>\n",
       "      <td>-</td>\n",
       "    </tr>\n",
       "    <tr>\n",
       "      <th>2</th>\n",
       "      <td>Ghaziabad, India</td>\n",
       "      <td>102.0</td>\n",
       "      <td>199.9</td>\n",
       "      <td>172.2</td>\n",
       "      <td>97.8</td>\n",
       "      <td>86.3</td>\n",
       "      <td>52.9</td>\n",
       "      <td>47.2</td>\n",
       "      <td>35.3</td>\n",
       "      <td>37.6</td>\n",
       "      <td>30.8</td>\n",
       "      <td>89.7</td>\n",
       "      <td>218.3</td>\n",
       "      <td>163</td>\n",
       "      <td>106.6</td>\n",
       "      <td>110.2</td>\n",
       "      <td>135.2</td>\n",
       "      <td>144.6</td>\n",
       "    </tr>\n",
       "  </tbody>\n",
       "</table>\n",
       "</div>"
      ],
      "text/plain": [
       "                  City   2021 JAN(2021) FEB(2021) MAR(2021) APR(2021)  \\\n",
       "Rank                                                                    \n",
       "1       Bhiwadi, India  106.2     145.8     129.8     120.2     125.7   \n",
       "2     Ghaziabad, India  102.0     199.9     172.2      97.8      86.3   \n",
       "\n",
       "     MAY(2021) JUN(2021) JUL(2021) AUG(2021) SEP(2021) OCT(2021) NOV(2021)  \\\n",
       "Rank                                                                         \n",
       "1         86.5      95.9      55.6      55.4      37.1      91.1     188.6   \n",
       "2         52.9      47.2      35.3      37.6      30.8      89.7     218.3   \n",
       "\n",
       "     DEC(2021)   2020   2019   2018   2017  \n",
       "Rank                                        \n",
       "1        136.6   95.5   83.4  125.4      -  \n",
       "2          163  106.6  110.2  135.2  144.6  "
      ]
     },
     "execution_count": 12,
     "metadata": {},
     "output_type": "execute_result"
    },
    {
     "name": "stderr",
     "output_type": "stream",
     "text": [
      "\r",
      "[WDM] - Downloading: 100%|██████████| 8.72M/8.72M [00:20<00:00, 2.90MB/s]"
     ]
    }
   ],
   "source": [
    "df_pcities = pd.read_csv(\"datos/AIR QUALITY INDEX (by cities) - IQAir.csv\", index_col = 0 )\n",
    "df_pcities.head(2)"
   ]
  },
  {
   "cell_type": "markdown",
   "id": "1355726a",
   "metadata": {},
   "source": [
    "### · Web Scraping Selenium "
   ]
  },
  {
   "cell_type": "markdown",
   "id": "5a4134b8",
   "metadata": {},
   "source": [
    "Nuestro objetivo es scrapear los datos de natalidad de distintos años/países del Expansión, para ello utilizaremos Selenium. Iniciamos estructurando como haríamos la extracción de uno de los años. En este caso el más inmediato, 2021:"
   ]
  },
  {
   "cell_type": "code",
   "execution_count": 48,
   "id": "9d01ca0c",
   "metadata": {
    "scrolled": true
   },
   "outputs": [],
   "source": [
    "# iniciamos el driver\n",
    "driver = webdriver.Chrome(ChromeDriverManager().install())\n",
    "\n",
    "## accedemos a la pagina web\n",
    "driver.get(\"https://datosmacro.expansion.com/demografia/natalidad?anio=2021\")\n",
    "driver.implicitly_wait(10)\n",
    "\n",
    "### aceptamos las cookies\n",
    "driver.find_element(\"css selector\", \"#didomi-notice-agree-button\").click()\n",
    "\n",
    "driver.implicitly_wait(5)\n",
    "\n",
    "natalidad= driver.find_element(\"css selector\", \"#tb1\").text\n"
   ]
  },
  {
   "cell_type": "markdown",
   "id": "619dfcc1",
   "metadata": {},
   "source": [
    "Una vez realizado el código para extraer los datos de natalidad de un año, podremos automatizar el proceso en el resto de años. Para ello, primero, tendremos que generar las diferentes URLs correspondientes a los diferentes años de los que queremos información y almacenarlas en una lista. Una vez tengamos la lista, iteraremos por ella, entrando así en cada enlace y aplicando el código genérico creado. Para evitar que tengamos un error que nos detenga el proceso, tendremos en cuenta que no en todas las URLs nos solicitarán que aceptemos cookies y que, de manera excepcional, saltá un pop up que tendremos que cerrar:"
   ]
  },
  {
   "cell_type": "code",
   "execution_count": 14,
   "id": "0df301f2",
   "metadata": {},
   "outputs": [],
   "source": [
    "url_list = []\n",
    "\n",
    "for year in range(2017, 2022):\n",
    "        url_list.append(f\"https://datosmacro.expansion.com/demografia/natalidad?anio={year}\")"
   ]
  },
  {
   "cell_type": "code",
   "execution_count": 15,
   "id": "690f0b34",
   "metadata": {
    "scrolled": false
   },
   "outputs": [
    {
     "data": {
      "text/plain": [
       "['https://datosmacro.expansion.com/demografia/natalidad?anio=2017',\n",
       " 'https://datosmacro.expansion.com/demografia/natalidad?anio=2018',\n",
       " 'https://datosmacro.expansion.com/demografia/natalidad?anio=2019',\n",
       " 'https://datosmacro.expansion.com/demografia/natalidad?anio=2020',\n",
       " 'https://datosmacro.expansion.com/demografia/natalidad?anio=2021']"
      ]
     },
     "execution_count": 15,
     "metadata": {},
     "output_type": "execute_result"
    }
   ],
   "source": [
    "url_list"
   ]
  },
  {
   "cell_type": "code",
   "execution_count": 16,
   "id": "1c442aff",
   "metadata": {
    "scrolled": true
   },
   "outputs": [
    {
     "name": "stderr",
     "output_type": "stream",
     "text": [
      "\n",
      "  0%|          | 0/5 [00:00<?, ?it/s]\u001b[A\n",
      " 20%|██        | 1/5 [00:54<03:37, 54.44s/it]\u001b[A\n",
      " 40%|████      | 2/5 [01:44<02:36, 52.02s/it]\u001b[A\n",
      " 60%|██████    | 3/5 [02:45<01:52, 56.20s/it]\u001b[A\n",
      " 80%|████████  | 4/5 [03:28<00:50, 50.84s/it]\u001b[A\n",
      "100%|██████████| 5/5 [04:08<00:00, 49.68s/it]\u001b[A\n"
     ]
    }
   ],
   "source": [
    "driver = webdriver.Chrome(ChromeDriverManager().install())\n",
    "result_list = []\n",
    "\n",
    "for i in tqdm(url_list[:5]): \n",
    "    driver.get(i)\n",
    "    try:\n",
    "        sleep(5)\n",
    "        driver.find_element(\"css selector\", \"#didomi-notice-agree-button\").click()\n",
    "        sleep(5)\n",
    "        natalidad= driver.find_element(\"css selector\", \"#tb1\").text\n",
    "        result_list.append(natalidad)\n",
    "    except:\n",
    "        try:\n",
    "            sleep(5)\n",
    "            driver.find_element(\"xpath\", '//*[@id=\"socModal\"]/div[2]/div/div[1]/button/span').click()\n",
    "            sleep(5)\n",
    "            natalidad= driver.find_element(\"css selector\", \"#tb1\").text\n",
    "            result_list.append(natalidad)\n",
    "        except:\n",
    "            sleep(5)\n",
    "            natalidad= driver.find_element(\"css selector\", \"#tb1\").text\n",
    "            result_list.append(natalidad)\n",
    "driver.quit()"
   ]
  },
  {
   "cell_type": "code",
   "execution_count": 34,
   "id": "e39f014d",
   "metadata": {
    "scrolled": true
   },
   "outputs": [],
   "source": [
    "#result_list"
   ]
  },
  {
   "cell_type": "markdown",
   "id": "3efdf700",
   "metadata": {},
   "source": [
    "### · Creación de Dataframe"
   ]
  },
  {
   "cell_type": "markdown",
   "id": "d5488079",
   "metadata": {},
   "source": [
    "Una vez obtenidos los datos, nuestro siguiente objetivo será la transformación de la lista a dataframe. Haremos una división de la información por año y almacenada en distintos DataFrames que más tarde uniremos. De este último paso tendremos como resultado los siguientes CSVs: `natalidad2017`, `natalidad2018`, `natalidad2019`, `natalidad2020` y `natalidad2021`."
   ]
  },
  {
   "cell_type": "code",
   "execution_count": 18,
   "id": "72bf7607",
   "metadata": {
    "scrolled": true
   },
   "outputs": [
    {
     "data": {
      "text/html": [
       "<div>\n",
       "<style scoped>\n",
       "    .dataframe tbody tr th:only-of-type {\n",
       "        vertical-align: middle;\n",
       "    }\n",
       "\n",
       "    .dataframe tbody tr th {\n",
       "        vertical-align: top;\n",
       "    }\n",
       "\n",
       "    .dataframe thead th {\n",
       "        text-align: right;\n",
       "    }\n",
       "</style>\n",
       "<table border=\"1\" class=\"dataframe\">\n",
       "  <thead>\n",
       "    <tr style=\"text-align: right;\">\n",
       "      <th></th>\n",
       "      <th>0</th>\n",
       "    </tr>\n",
       "  </thead>\n",
       "  <tbody>\n",
       "    <tr>\n",
       "      <th>0</th>\n",
       "      <td>Países Fecha Nacidos Nacidos Hombres Nacidos M...</td>\n",
       "    </tr>\n",
       "    <tr>\n",
       "      <th>1</th>\n",
       "      <td>Países Fecha Nacidos Nacidos Hombres Nacidos M...</td>\n",
       "    </tr>\n",
       "    <tr>\n",
       "      <th>2</th>\n",
       "      <td>Países Fecha Nacidos Nacidos Hombres Nacidos M...</td>\n",
       "    </tr>\n",
       "    <tr>\n",
       "      <th>3</th>\n",
       "      <td>Países Fecha Nacidos Nacidos Hombres Nacidos M...</td>\n",
       "    </tr>\n",
       "    <tr>\n",
       "      <th>4</th>\n",
       "      <td>Países Fecha Nacidos Nacidos Hombres Nacidos M...</td>\n",
       "    </tr>\n",
       "  </tbody>\n",
       "</table>\n",
       "</div>"
      ],
      "text/plain": [
       "                                                   0\n",
       "0  Países Fecha Nacidos Nacidos Hombres Nacidos M...\n",
       "1  Países Fecha Nacidos Nacidos Hombres Nacidos M...\n",
       "2  Países Fecha Nacidos Nacidos Hombres Nacidos M...\n",
       "3  Países Fecha Nacidos Nacidos Hombres Nacidos M...\n",
       "4  Países Fecha Nacidos Nacidos Hombres Nacidos M..."
      ]
     },
     "execution_count": 18,
     "metadata": {},
     "output_type": "execute_result"
    }
   ],
   "source": [
    "df = pd.DataFrame(result_list)\n",
    "df"
   ]
  },
  {
   "cell_type": "code",
   "execution_count": 19,
   "id": "09cb6f4c",
   "metadata": {},
   "outputs": [
    {
     "data": {
      "text/plain": [
       "(5, 1)"
      ]
     },
     "execution_count": 19,
     "metadata": {},
     "output_type": "execute_result"
    }
   ],
   "source": [
    "df.shape"
   ]
  },
  {
   "cell_type": "markdown",
   "id": "74d73038",
   "metadata": {},
   "source": [
    "#### 2017"
   ]
  },
  {
   "cell_type": "code",
   "execution_count": 50,
   "id": "bc104f59",
   "metadata": {
    "scrolled": true
   },
   "outputs": [
    {
     "data": {
      "text/plain": [
       "['Países Fecha Nacidos Nacidos Hombres Nacidos Mujeres Tasa Natalidad Índice de Fecund. Var.',\n",
       " 'España [+] 2017 393.181 202.478 190.703 8,41‰ 1,31 -1,92%',\n",
       " 'Alemania [+] 2017 784.901 402.517 382.384 9,50‰ 1,57 -1,88%',\n",
       " 'Reino Unido [+] 2017 754.754 387.030 367.724 11,40‰ 1,74 -2,79%',\n",
       " 'Francia [+] 2017 770.045 394.058 375.987 11,50‰ 1,89 -1,56%']"
      ]
     },
     "execution_count": 50,
     "metadata": {},
     "output_type": "execute_result"
    }
   ],
   "source": [
    "a = df.iloc[0][0].split(\"\\n\")\n",
    "a[:5]"
   ]
  },
  {
   "cell_type": "code",
   "execution_count": 21,
   "id": "3ff57510",
   "metadata": {
    "scrolled": true
   },
   "outputs": [
    {
     "data": {
      "text/html": [
       "<div>\n",
       "<style scoped>\n",
       "    .dataframe tbody tr th:only-of-type {\n",
       "        vertical-align: middle;\n",
       "    }\n",
       "\n",
       "    .dataframe tbody tr th {\n",
       "        vertical-align: top;\n",
       "    }\n",
       "\n",
       "    .dataframe thead th {\n",
       "        text-align: right;\n",
       "    }\n",
       "</style>\n",
       "<table border=\"1\" class=\"dataframe\">\n",
       "  <thead>\n",
       "    <tr style=\"text-align: right;\">\n",
       "      <th></th>\n",
       "      <th>0</th>\n",
       "    </tr>\n",
       "  </thead>\n",
       "  <tbody>\n",
       "    <tr>\n",
       "      <th>0</th>\n",
       "      <td>Países Fecha Nacidos Nacidos Hombres Nacidos M...</td>\n",
       "    </tr>\n",
       "    <tr>\n",
       "      <th>1</th>\n",
       "      <td>España [+] 2017 393.181 202.478 190.703 8,41‰ ...</td>\n",
       "    </tr>\n",
       "    <tr>\n",
       "      <th>2</th>\n",
       "      <td>Alemania [+] 2017 784.901 402.517 382.384 9,50...</td>\n",
       "    </tr>\n",
       "    <tr>\n",
       "      <th>3</th>\n",
       "      <td>Reino Unido [+] 2017 754.754 387.030 367.724 1...</td>\n",
       "    </tr>\n",
       "    <tr>\n",
       "      <th>4</th>\n",
       "      <td>Francia [+] 2017 770.045 394.058 375.987 11,50...</td>\n",
       "    </tr>\n",
       "    <tr>\n",
       "      <th>...</th>\n",
       "      <td>...</td>\n",
       "    </tr>\n",
       "    <tr>\n",
       "      <th>189</th>\n",
       "      <td>Samoa [+] 2017 24,69‰ 3,93 -1,26%</td>\n",
       "    </tr>\n",
       "    <tr>\n",
       "      <th>190</th>\n",
       "      <td>Yemen [+] 2017 31,04‰ 3,89 -2,60%</td>\n",
       "    </tr>\n",
       "    <tr>\n",
       "      <th>191</th>\n",
       "      <td>Sudáfrica [+] 2017 20,91‰ 2,43 -1,10%</td>\n",
       "    </tr>\n",
       "    <tr>\n",
       "      <th>192</th>\n",
       "      <td>Zambia [+] 2017 36,70‰ 4,72 -1,99%</td>\n",
       "    </tr>\n",
       "    <tr>\n",
       "      <th>193</th>\n",
       "      <td>Zimbabue [+] 2017 31,73‰ 3,71 -2,55%</td>\n",
       "    </tr>\n",
       "  </tbody>\n",
       "</table>\n",
       "<p>194 rows × 1 columns</p>\n",
       "</div>"
      ],
      "text/plain": [
       "                                                     0\n",
       "0    Países Fecha Nacidos Nacidos Hombres Nacidos M...\n",
       "1    España [+] 2017 393.181 202.478 190.703 8,41‰ ...\n",
       "2    Alemania [+] 2017 784.901 402.517 382.384 9,50...\n",
       "3    Reino Unido [+] 2017 754.754 387.030 367.724 1...\n",
       "4    Francia [+] 2017 770.045 394.058 375.987 11,50...\n",
       "..                                                 ...\n",
       "189                  Samoa [+] 2017 24,69‰ 3,93 -1,26%\n",
       "190                  Yemen [+] 2017 31,04‰ 3,89 -2,60%\n",
       "191              Sudáfrica [+] 2017 20,91‰ 2,43 -1,10%\n",
       "192                 Zambia [+] 2017 36,70‰ 4,72 -1,99%\n",
       "193               Zimbabue [+] 2017 31,73‰ 3,71 -2,55%\n",
       "\n",
       "[194 rows x 1 columns]"
      ]
     },
     "execution_count": 21,
     "metadata": {},
     "output_type": "execute_result"
    }
   ],
   "source": [
    "nat2017= pd.DataFrame(a)\n",
    "nat2017"
   ]
  },
  {
   "cell_type": "code",
   "execution_count": 22,
   "id": "46c91a2c",
   "metadata": {
    "scrolled": true
   },
   "outputs": [
    {
     "data": {
      "text/html": [
       "<div>\n",
       "<style scoped>\n",
       "    .dataframe tbody tr th:only-of-type {\n",
       "        vertical-align: middle;\n",
       "    }\n",
       "\n",
       "    .dataframe tbody tr th {\n",
       "        vertical-align: top;\n",
       "    }\n",
       "\n",
       "    .dataframe thead th {\n",
       "        text-align: right;\n",
       "    }\n",
       "</style>\n",
       "<table border=\"1\" class=\"dataframe\">\n",
       "  <thead>\n",
       "    <tr style=\"text-align: right;\">\n",
       "      <th></th>\n",
       "      <th>0</th>\n",
       "    </tr>\n",
       "  </thead>\n",
       "  <tbody>\n",
       "    <tr>\n",
       "      <th>1</th>\n",
       "      <td>España [+] 2017 393.181 202.478 190.703 8,41‰ ...</td>\n",
       "    </tr>\n",
       "    <tr>\n",
       "      <th>2</th>\n",
       "      <td>Alemania [+] 2017 784.901 402.517 382.384 9,50...</td>\n",
       "    </tr>\n",
       "    <tr>\n",
       "      <th>3</th>\n",
       "      <td>Reino Unido [+] 2017 754.754 387.030 367.724 1...</td>\n",
       "    </tr>\n",
       "    <tr>\n",
       "      <th>4</th>\n",
       "      <td>Francia [+] 2017 770.045 394.058 375.987 11,50...</td>\n",
       "    </tr>\n",
       "    <tr>\n",
       "      <th>5</th>\n",
       "      <td>Italia [+] 2017 458.151 235.733 222.418 7,60‰ ...</td>\n",
       "    </tr>\n",
       "    <tr>\n",
       "      <th>...</th>\n",
       "      <td>...</td>\n",
       "    </tr>\n",
       "    <tr>\n",
       "      <th>189</th>\n",
       "      <td>Samoa [+] 2017 24,69‰ 3,93 -1,26%</td>\n",
       "    </tr>\n",
       "    <tr>\n",
       "      <th>190</th>\n",
       "      <td>Yemen [+] 2017 31,04‰ 3,89 -2,60%</td>\n",
       "    </tr>\n",
       "    <tr>\n",
       "      <th>191</th>\n",
       "      <td>Sudáfrica [+] 2017 20,91‰ 2,43 -1,10%</td>\n",
       "    </tr>\n",
       "    <tr>\n",
       "      <th>192</th>\n",
       "      <td>Zambia [+] 2017 36,70‰ 4,72 -1,99%</td>\n",
       "    </tr>\n",
       "    <tr>\n",
       "      <th>193</th>\n",
       "      <td>Zimbabue [+] 2017 31,73‰ 3,71 -2,55%</td>\n",
       "    </tr>\n",
       "  </tbody>\n",
       "</table>\n",
       "<p>193 rows × 1 columns</p>\n",
       "</div>"
      ],
      "text/plain": [
       "                                                     0\n",
       "1    España [+] 2017 393.181 202.478 190.703 8,41‰ ...\n",
       "2    Alemania [+] 2017 784.901 402.517 382.384 9,50...\n",
       "3    Reino Unido [+] 2017 754.754 387.030 367.724 1...\n",
       "4    Francia [+] 2017 770.045 394.058 375.987 11,50...\n",
       "5    Italia [+] 2017 458.151 235.733 222.418 7,60‰ ...\n",
       "..                                                 ...\n",
       "189                  Samoa [+] 2017 24,69‰ 3,93 -1,26%\n",
       "190                  Yemen [+] 2017 31,04‰ 3,89 -2,60%\n",
       "191              Sudáfrica [+] 2017 20,91‰ 2,43 -1,10%\n",
       "192                 Zambia [+] 2017 36,70‰ 4,72 -1,99%\n",
       "193               Zimbabue [+] 2017 31,73‰ 3,71 -2,55%\n",
       "\n",
       "[193 rows x 1 columns]"
      ]
     },
     "execution_count": 22,
     "metadata": {},
     "output_type": "execute_result"
    }
   ],
   "source": [
    "dfn17=nat2017[1:]\n",
    "dfn17"
   ]
  },
  {
   "cell_type": "code",
   "execution_count": 54,
   "id": "246c1647",
   "metadata": {},
   "outputs": [],
   "source": [
    "dfn17.to_csv('natalidad2017.csv')"
   ]
  },
  {
   "cell_type": "code",
   "execution_count": 51,
   "id": "85eeda89",
   "metadata": {
    "scrolled": true
   },
   "outputs": [
    {
     "data": {
      "text/html": [
       "<div>\n",
       "<style scoped>\n",
       "    .dataframe tbody tr th:only-of-type {\n",
       "        vertical-align: middle;\n",
       "    }\n",
       "\n",
       "    .dataframe tbody tr th {\n",
       "        vertical-align: top;\n",
       "    }\n",
       "\n",
       "    .dataframe thead th {\n",
       "        text-align: right;\n",
       "    }\n",
       "</style>\n",
       "<table border=\"1\" class=\"dataframe\">\n",
       "  <thead>\n",
       "    <tr style=\"text-align: right;\">\n",
       "      <th></th>\n",
       "      <th>0</th>\n",
       "      <th>1</th>\n",
       "    </tr>\n",
       "  </thead>\n",
       "  <tbody>\n",
       "    <tr>\n",
       "      <th>1</th>\n",
       "      <td>España [+</td>\n",
       "      <td>2017 393.181 202.478 190.703 8,41‰ 1,31 -1,92%</td>\n",
       "    </tr>\n",
       "    <tr>\n",
       "      <th>2</th>\n",
       "      <td>Alemania [+</td>\n",
       "      <td>2017 784.901 402.517 382.384 9,50‰ 1,57 -1,88%</td>\n",
       "    </tr>\n",
       "    <tr>\n",
       "      <th>3</th>\n",
       "      <td>Reino Unido [+</td>\n",
       "      <td>2017 754.754 387.030 367.724 11,40‰ 1,74 -2,79%</td>\n",
       "    </tr>\n",
       "    <tr>\n",
       "      <th>4</th>\n",
       "      <td>Francia [+</td>\n",
       "      <td>2017 770.045 394.058 375.987 11,50‰ 1,89 -1,56%</td>\n",
       "    </tr>\n",
       "    <tr>\n",
       "      <th>5</th>\n",
       "      <td>Italia [+</td>\n",
       "      <td>2017 458.151 235.733 222.418 7,60‰ 1,32 -1,49%</td>\n",
       "    </tr>\n",
       "    <tr>\n",
       "      <th>...</th>\n",
       "      <td>...</td>\n",
       "      <td>...</td>\n",
       "    </tr>\n",
       "    <tr>\n",
       "      <th>189</th>\n",
       "      <td>Samoa [+</td>\n",
       "      <td>2017 24,69‰ 3,93 -1,26%</td>\n",
       "    </tr>\n",
       "    <tr>\n",
       "      <th>190</th>\n",
       "      <td>Yemen [+</td>\n",
       "      <td>2017 31,04‰ 3,89 -2,60%</td>\n",
       "    </tr>\n",
       "    <tr>\n",
       "      <th>191</th>\n",
       "      <td>Sudáfrica [+</td>\n",
       "      <td>2017 20,91‰ 2,43 -1,10%</td>\n",
       "    </tr>\n",
       "    <tr>\n",
       "      <th>192</th>\n",
       "      <td>Zambia [+</td>\n",
       "      <td>2017 36,70‰ 4,72 -1,99%</td>\n",
       "    </tr>\n",
       "    <tr>\n",
       "      <th>193</th>\n",
       "      <td>Zimbabue [+</td>\n",
       "      <td>2017 31,73‰ 3,71 -2,55%</td>\n",
       "    </tr>\n",
       "  </tbody>\n",
       "</table>\n",
       "<p>193 rows × 2 columns</p>\n",
       "</div>"
      ],
      "text/plain": [
       "                  0                                                 1\n",
       "1         España [+    2017 393.181 202.478 190.703 8,41‰ 1,31 -1,92%\n",
       "2       Alemania [+    2017 784.901 402.517 382.384 9,50‰ 1,57 -1,88%\n",
       "3    Reino Unido [+   2017 754.754 387.030 367.724 11,40‰ 1,74 -2,79%\n",
       "4        Francia [+   2017 770.045 394.058 375.987 11,50‰ 1,89 -1,56%\n",
       "5         Italia [+    2017 458.151 235.733 222.418 7,60‰ 1,32 -1,49%\n",
       "..              ...                                               ...\n",
       "189        Samoa [+                           2017 24,69‰ 3,93 -1,26%\n",
       "190        Yemen [+                           2017 31,04‰ 3,89 -2,60%\n",
       "191    Sudáfrica [+                           2017 20,91‰ 2,43 -1,10%\n",
       "192       Zambia [+                           2017 36,70‰ 4,72 -1,99%\n",
       "193     Zimbabue [+                           2017 31,73‰ 3,71 -2,55%\n",
       "\n",
       "[193 rows x 2 columns]"
      ]
     },
     "execution_count": 51,
     "metadata": {},
     "output_type": "execute_result"
    }
   ],
   "source": [
    "n17= dfn17[0].str.split(\"\", expand=True)\n",
    "n17"
   ]
  },
  {
   "cell_type": "code",
   "execution_count": 24,
   "id": "88c8d0c1",
   "metadata": {
    "scrolled": true
   },
   "outputs": [],
   "source": [
    "#columnas= [nat2017[0][0]]\n",
    "#nat2017.columns= columnas"
   ]
  },
  {
   "cell_type": "code",
   "execution_count": 25,
   "id": "6a70dfc2",
   "metadata": {
    "scrolled": false
   },
   "outputs": [
    {
     "data": {
      "text/plain": [
       "['países fecha nacidos nacidos hombres nacidos mujeres tasa natalidad índice de fecund. var.']"
      ]
     },
     "execution_count": 25,
     "metadata": {},
     "output_type": "execute_result"
    }
   ],
   "source": [
    "#columnas=[i.lower() for i in columnas]\n",
    "#columnas"
   ]
  },
  {
   "cell_type": "markdown",
   "id": "4e295282",
   "metadata": {},
   "source": [
    "#### 2018 "
   ]
  },
  {
   "cell_type": "code",
   "execution_count": 26,
   "id": "d042068b",
   "metadata": {
    "scrolled": false
   },
   "outputs": [
    {
     "data": {
      "text/plain": [
       "['Países Fecha Nacidos Nacidos Hombres Nacidos Mujeres Tasa Natalidad Índice de Fecund. Var.',\n",
       " 'España [+] 2018 372.777 191.569 181.208 7,94‰ 1,26 -3,67%',\n",
       " 'Alemania [+] 2018 787.523 404.052 383.471 9,50‰ 1,57 0',\n",
       " 'Reino Unido [+] 2018 730.918 375.379 355.539 11,00‰ 1,68 -3,45%',\n",
       " 'Francia [+] 2018 759.199 388.944 370.255 11,30‰ 1,87 -1,06%']"
      ]
     },
     "execution_count": 26,
     "metadata": {},
     "output_type": "execute_result"
    }
   ],
   "source": [
    "b = df.iloc[1][0].split(\"\\n\")\n",
    "b[:5]"
   ]
  },
  {
   "cell_type": "code",
   "execution_count": 27,
   "id": "071f23d6",
   "metadata": {
    "scrolled": true
   },
   "outputs": [
    {
     "data": {
      "text/html": [
       "<div>\n",
       "<style scoped>\n",
       "    .dataframe tbody tr th:only-of-type {\n",
       "        vertical-align: middle;\n",
       "    }\n",
       "\n",
       "    .dataframe tbody tr th {\n",
       "        vertical-align: top;\n",
       "    }\n",
       "\n",
       "    .dataframe thead th {\n",
       "        text-align: right;\n",
       "    }\n",
       "</style>\n",
       "<table border=\"1\" class=\"dataframe\">\n",
       "  <thead>\n",
       "    <tr style=\"text-align: right;\">\n",
       "      <th></th>\n",
       "      <th>0</th>\n",
       "    </tr>\n",
       "  </thead>\n",
       "  <tbody>\n",
       "    <tr>\n",
       "      <th>0</th>\n",
       "      <td>Países Fecha Nacidos Nacidos Hombres Nacidos M...</td>\n",
       "    </tr>\n",
       "    <tr>\n",
       "      <th>1</th>\n",
       "      <td>España [+] 2018 372.777 191.569 181.208 7,94‰ ...</td>\n",
       "    </tr>\n",
       "    <tr>\n",
       "      <th>2</th>\n",
       "      <td>Alemania [+] 2018 787.523 404.052 383.471 9,50...</td>\n",
       "    </tr>\n",
       "    <tr>\n",
       "      <th>3</th>\n",
       "      <td>Reino Unido [+] 2018 730.918 375.379 355.539 1...</td>\n",
       "    </tr>\n",
       "    <tr>\n",
       "      <th>4</th>\n",
       "      <td>Francia [+] 2018 759.199 388.944 370.255 11,30...</td>\n",
       "    </tr>\n",
       "    <tr>\n",
       "      <th>...</th>\n",
       "      <td>...</td>\n",
       "    </tr>\n",
       "    <tr>\n",
       "      <th>189</th>\n",
       "      <td>Samoa [+] 2018 24,38‰ 3,88 -1,25%</td>\n",
       "    </tr>\n",
       "    <tr>\n",
       "      <th>190</th>\n",
       "      <td>Yemen [+] 2018 30,45‰ 3,79 -2,52%</td>\n",
       "    </tr>\n",
       "    <tr>\n",
       "      <th>191</th>\n",
       "      <td>Sudáfrica [+] 2018 20,51‰ 2,41 -1,03%</td>\n",
       "    </tr>\n",
       "    <tr>\n",
       "      <th>192</th>\n",
       "      <td>Zambia [+] 2018 36,19‰ 4,63 -1,80%</td>\n",
       "    </tr>\n",
       "    <tr>\n",
       "      <th>193</th>\n",
       "      <td>Zimbabue [+] 2018 30,68‰ 3,62 -2,48%</td>\n",
       "    </tr>\n",
       "  </tbody>\n",
       "</table>\n",
       "<p>194 rows × 1 columns</p>\n",
       "</div>"
      ],
      "text/plain": [
       "                                                     0\n",
       "0    Países Fecha Nacidos Nacidos Hombres Nacidos M...\n",
       "1    España [+] 2018 372.777 191.569 181.208 7,94‰ ...\n",
       "2    Alemania [+] 2018 787.523 404.052 383.471 9,50...\n",
       "3    Reino Unido [+] 2018 730.918 375.379 355.539 1...\n",
       "4    Francia [+] 2018 759.199 388.944 370.255 11,30...\n",
       "..                                                 ...\n",
       "189                  Samoa [+] 2018 24,38‰ 3,88 -1,25%\n",
       "190                  Yemen [+] 2018 30,45‰ 3,79 -2,52%\n",
       "191              Sudáfrica [+] 2018 20,51‰ 2,41 -1,03%\n",
       "192                 Zambia [+] 2018 36,19‰ 4,63 -1,80%\n",
       "193               Zimbabue [+] 2018 30,68‰ 3,62 -2,48%\n",
       "\n",
       "[194 rows x 1 columns]"
      ]
     },
     "execution_count": 27,
     "metadata": {},
     "output_type": "execute_result"
    }
   ],
   "source": [
    "nat2018= pd.DataFrame(b)\n",
    "nat2018"
   ]
  },
  {
   "cell_type": "code",
   "execution_count": 28,
   "id": "d753676c",
   "metadata": {
    "scrolled": true
   },
   "outputs": [
    {
     "data": {
      "text/html": [
       "<div>\n",
       "<style scoped>\n",
       "    .dataframe tbody tr th:only-of-type {\n",
       "        vertical-align: middle;\n",
       "    }\n",
       "\n",
       "    .dataframe tbody tr th {\n",
       "        vertical-align: top;\n",
       "    }\n",
       "\n",
       "    .dataframe thead th {\n",
       "        text-align: right;\n",
       "    }\n",
       "</style>\n",
       "<table border=\"1\" class=\"dataframe\">\n",
       "  <thead>\n",
       "    <tr style=\"text-align: right;\">\n",
       "      <th></th>\n",
       "      <th>0</th>\n",
       "    </tr>\n",
       "  </thead>\n",
       "  <tbody>\n",
       "    <tr>\n",
       "      <th>1</th>\n",
       "      <td>España [+] 2018 372.777 191.569 181.208 7,94‰ ...</td>\n",
       "    </tr>\n",
       "    <tr>\n",
       "      <th>2</th>\n",
       "      <td>Alemania [+] 2018 787.523 404.052 383.471 9,50...</td>\n",
       "    </tr>\n",
       "    <tr>\n",
       "      <th>3</th>\n",
       "      <td>Reino Unido [+] 2018 730.918 375.379 355.539 1...</td>\n",
       "    </tr>\n",
       "    <tr>\n",
       "      <th>4</th>\n",
       "      <td>Francia [+] 2018 759.199 388.944 370.255 11,30...</td>\n",
       "    </tr>\n",
       "    <tr>\n",
       "      <th>5</th>\n",
       "      <td>Italia [+] 2018 439.747 226.217 213.530 7,30‰ ...</td>\n",
       "    </tr>\n",
       "    <tr>\n",
       "      <th>...</th>\n",
       "      <td>...</td>\n",
       "    </tr>\n",
       "    <tr>\n",
       "      <th>189</th>\n",
       "      <td>Samoa [+] 2018 24,38‰ 3,88 -1,25%</td>\n",
       "    </tr>\n",
       "    <tr>\n",
       "      <th>190</th>\n",
       "      <td>Yemen [+] 2018 30,45‰ 3,79 -2,52%</td>\n",
       "    </tr>\n",
       "    <tr>\n",
       "      <th>191</th>\n",
       "      <td>Sudáfrica [+] 2018 20,51‰ 2,41 -1,03%</td>\n",
       "    </tr>\n",
       "    <tr>\n",
       "      <th>192</th>\n",
       "      <td>Zambia [+] 2018 36,19‰ 4,63 -1,80%</td>\n",
       "    </tr>\n",
       "    <tr>\n",
       "      <th>193</th>\n",
       "      <td>Zimbabue [+] 2018 30,68‰ 3,62 -2,48%</td>\n",
       "    </tr>\n",
       "  </tbody>\n",
       "</table>\n",
       "<p>193 rows × 1 columns</p>\n",
       "</div>"
      ],
      "text/plain": [
       "                                                     0\n",
       "1    España [+] 2018 372.777 191.569 181.208 7,94‰ ...\n",
       "2    Alemania [+] 2018 787.523 404.052 383.471 9,50...\n",
       "3    Reino Unido [+] 2018 730.918 375.379 355.539 1...\n",
       "4    Francia [+] 2018 759.199 388.944 370.255 11,30...\n",
       "5    Italia [+] 2018 439.747 226.217 213.530 7,30‰ ...\n",
       "..                                                 ...\n",
       "189                  Samoa [+] 2018 24,38‰ 3,88 -1,25%\n",
       "190                  Yemen [+] 2018 30,45‰ 3,79 -2,52%\n",
       "191              Sudáfrica [+] 2018 20,51‰ 2,41 -1,03%\n",
       "192                 Zambia [+] 2018 36,19‰ 4,63 -1,80%\n",
       "193               Zimbabue [+] 2018 30,68‰ 3,62 -2,48%\n",
       "\n",
       "[193 rows x 1 columns]"
      ]
     },
     "execution_count": 28,
     "metadata": {},
     "output_type": "execute_result"
    }
   ],
   "source": [
    "dfn18= nat2018[1:]\n",
    "dfn18"
   ]
  },
  {
   "cell_type": "code",
   "execution_count": 55,
   "id": "524c43c8",
   "metadata": {},
   "outputs": [],
   "source": [
    "dfn18.to_csv('natalidad2018.csv')"
   ]
  },
  {
   "cell_type": "markdown",
   "id": "02ed9d1a",
   "metadata": {},
   "source": [
    "#### 2019"
   ]
  },
  {
   "cell_type": "code",
   "execution_count": 30,
   "id": "5f373d3a",
   "metadata": {},
   "outputs": [
    {
     "data": {
      "text/plain": [
       "['Países Fecha Nacidos Nacidos Hombres Nacidos Mujeres Tasa Natalidad Índice de Fecund. Var.',\n",
       " 'España [+] 2019 360.617 185.523 175.094 7,62‰ 1,24 -2,24%',\n",
       " 'Alemania [+] 2019 778.090 399.292 378.798 9,40‰ 1,54 -1,91%',\n",
       " 'Reino Unido [+] 2019 712.699 375.379 355.539 10,70‰ 1,63 -2,98%',\n",
       " 'Francia [+] 2019 754.008 385.340 368.668 11,20‰ 1,86 -0,53%']"
      ]
     },
     "execution_count": 30,
     "metadata": {},
     "output_type": "execute_result"
    }
   ],
   "source": [
    "c = df.iloc[2][0].split(\"\\n\")\n",
    "c[:5]"
   ]
  },
  {
   "cell_type": "code",
   "execution_count": 31,
   "id": "5ff543a4",
   "metadata": {},
   "outputs": [
    {
     "data": {
      "text/html": [
       "<div>\n",
       "<style scoped>\n",
       "    .dataframe tbody tr th:only-of-type {\n",
       "        vertical-align: middle;\n",
       "    }\n",
       "\n",
       "    .dataframe tbody tr th {\n",
       "        vertical-align: top;\n",
       "    }\n",
       "\n",
       "    .dataframe thead th {\n",
       "        text-align: right;\n",
       "    }\n",
       "</style>\n",
       "<table border=\"1\" class=\"dataframe\">\n",
       "  <thead>\n",
       "    <tr style=\"text-align: right;\">\n",
       "      <th></th>\n",
       "      <th>0</th>\n",
       "    </tr>\n",
       "  </thead>\n",
       "  <tbody>\n",
       "    <tr>\n",
       "      <th>0</th>\n",
       "      <td>Países Fecha Nacidos Nacidos Hombres Nacidos M...</td>\n",
       "    </tr>\n",
       "    <tr>\n",
       "      <th>1</th>\n",
       "      <td>España [+] 2019 360.617 185.523 175.094 7,62‰ ...</td>\n",
       "    </tr>\n",
       "    <tr>\n",
       "      <th>2</th>\n",
       "      <td>Alemania [+] 2019 778.090 399.292 378.798 9,40...</td>\n",
       "    </tr>\n",
       "    <tr>\n",
       "      <th>3</th>\n",
       "      <td>Reino Unido [+] 2019 712.699 375.379 355.539 1...</td>\n",
       "    </tr>\n",
       "    <tr>\n",
       "      <th>4</th>\n",
       "      <td>Francia [+] 2019 754.008 385.340 368.668 11,20...</td>\n",
       "    </tr>\n",
       "    <tr>\n",
       "      <th>...</th>\n",
       "      <td>...</td>\n",
       "    </tr>\n",
       "    <tr>\n",
       "      <th>189</th>\n",
       "      <td>Samoa [+] 2019 24,10‰ 3,83 -1,21%</td>\n",
       "    </tr>\n",
       "    <tr>\n",
       "      <th>190</th>\n",
       "      <td>Yemen [+] 2019 29,87‰ 3,70 -2,43%</td>\n",
       "    </tr>\n",
       "    <tr>\n",
       "      <th>191</th>\n",
       "      <td>Sudáfrica [+] 2019 20,13‰ 2,38 -1,00%</td>\n",
       "    </tr>\n",
       "    <tr>\n",
       "      <th>192</th>\n",
       "      <td>Zambia [+] 2019 35,78‰ 4,56 -1,60%</td>\n",
       "    </tr>\n",
       "    <tr>\n",
       "      <th>193</th>\n",
       "      <td>Zimbabue [+] 2019 29,75‰ 3,53 -2,32%</td>\n",
       "    </tr>\n",
       "  </tbody>\n",
       "</table>\n",
       "<p>194 rows × 1 columns</p>\n",
       "</div>"
      ],
      "text/plain": [
       "                                                     0\n",
       "0    Países Fecha Nacidos Nacidos Hombres Nacidos M...\n",
       "1    España [+] 2019 360.617 185.523 175.094 7,62‰ ...\n",
       "2    Alemania [+] 2019 778.090 399.292 378.798 9,40...\n",
       "3    Reino Unido [+] 2019 712.699 375.379 355.539 1...\n",
       "4    Francia [+] 2019 754.008 385.340 368.668 11,20...\n",
       "..                                                 ...\n",
       "189                  Samoa [+] 2019 24,10‰ 3,83 -1,21%\n",
       "190                  Yemen [+] 2019 29,87‰ 3,70 -2,43%\n",
       "191              Sudáfrica [+] 2019 20,13‰ 2,38 -1,00%\n",
       "192                 Zambia [+] 2019 35,78‰ 4,56 -1,60%\n",
       "193               Zimbabue [+] 2019 29,75‰ 3,53 -2,32%\n",
       "\n",
       "[194 rows x 1 columns]"
      ]
     },
     "execution_count": 31,
     "metadata": {},
     "output_type": "execute_result"
    }
   ],
   "source": [
    "nat2019= pd.DataFrame(c)\n",
    "nat2019"
   ]
  },
  {
   "cell_type": "code",
   "execution_count": 32,
   "id": "cc58e781",
   "metadata": {
    "scrolled": true
   },
   "outputs": [
    {
     "data": {
      "text/html": [
       "<div>\n",
       "<style scoped>\n",
       "    .dataframe tbody tr th:only-of-type {\n",
       "        vertical-align: middle;\n",
       "    }\n",
       "\n",
       "    .dataframe tbody tr th {\n",
       "        vertical-align: top;\n",
       "    }\n",
       "\n",
       "    .dataframe thead th {\n",
       "        text-align: right;\n",
       "    }\n",
       "</style>\n",
       "<table border=\"1\" class=\"dataframe\">\n",
       "  <thead>\n",
       "    <tr style=\"text-align: right;\">\n",
       "      <th></th>\n",
       "      <th>0</th>\n",
       "    </tr>\n",
       "  </thead>\n",
       "  <tbody>\n",
       "    <tr>\n",
       "      <th>1</th>\n",
       "      <td>España [+] 2019 360.617 185.523 175.094 7,62‰ ...</td>\n",
       "    </tr>\n",
       "    <tr>\n",
       "      <th>2</th>\n",
       "      <td>Alemania [+] 2019 778.090 399.292 378.798 9,40...</td>\n",
       "    </tr>\n",
       "    <tr>\n",
       "      <th>3</th>\n",
       "      <td>Reino Unido [+] 2019 712.699 375.379 355.539 1...</td>\n",
       "    </tr>\n",
       "    <tr>\n",
       "      <th>4</th>\n",
       "      <td>Francia [+] 2019 754.008 385.340 368.668 11,20...</td>\n",
       "    </tr>\n",
       "    <tr>\n",
       "      <th>5</th>\n",
       "      <td>Italia [+] 2019 420.084 215.387 204.697 7,00‰ ...</td>\n",
       "    </tr>\n",
       "    <tr>\n",
       "      <th>...</th>\n",
       "      <td>...</td>\n",
       "    </tr>\n",
       "    <tr>\n",
       "      <th>189</th>\n",
       "      <td>Samoa [+] 2019 24,10‰ 3,83 -1,21%</td>\n",
       "    </tr>\n",
       "    <tr>\n",
       "      <th>190</th>\n",
       "      <td>Yemen [+] 2019 29,87‰ 3,70 -2,43%</td>\n",
       "    </tr>\n",
       "    <tr>\n",
       "      <th>191</th>\n",
       "      <td>Sudáfrica [+] 2019 20,13‰ 2,38 -1,00%</td>\n",
       "    </tr>\n",
       "    <tr>\n",
       "      <th>192</th>\n",
       "      <td>Zambia [+] 2019 35,78‰ 4,56 -1,60%</td>\n",
       "    </tr>\n",
       "    <tr>\n",
       "      <th>193</th>\n",
       "      <td>Zimbabue [+] 2019 29,75‰ 3,53 -2,32%</td>\n",
       "    </tr>\n",
       "  </tbody>\n",
       "</table>\n",
       "<p>193 rows × 1 columns</p>\n",
       "</div>"
      ],
      "text/plain": [
       "                                                     0\n",
       "1    España [+] 2019 360.617 185.523 175.094 7,62‰ ...\n",
       "2    Alemania [+] 2019 778.090 399.292 378.798 9,40...\n",
       "3    Reino Unido [+] 2019 712.699 375.379 355.539 1...\n",
       "4    Francia [+] 2019 754.008 385.340 368.668 11,20...\n",
       "5    Italia [+] 2019 420.084 215.387 204.697 7,00‰ ...\n",
       "..                                                 ...\n",
       "189                  Samoa [+] 2019 24,10‰ 3,83 -1,21%\n",
       "190                  Yemen [+] 2019 29,87‰ 3,70 -2,43%\n",
       "191              Sudáfrica [+] 2019 20,13‰ 2,38 -1,00%\n",
       "192                 Zambia [+] 2019 35,78‰ 4,56 -1,60%\n",
       "193               Zimbabue [+] 2019 29,75‰ 3,53 -2,32%\n",
       "\n",
       "[193 rows x 1 columns]"
      ]
     },
     "execution_count": 32,
     "metadata": {},
     "output_type": "execute_result"
    }
   ],
   "source": [
    "dfn19= nat2019[1:]\n",
    "dfn19"
   ]
  },
  {
   "cell_type": "code",
   "execution_count": 56,
   "id": "b63392e6",
   "metadata": {},
   "outputs": [],
   "source": [
    "dfn19.to_csv('natalidad2019.csv')"
   ]
  },
  {
   "cell_type": "markdown",
   "id": "606b916b",
   "metadata": {},
   "source": [
    "#### 2020"
   ]
  },
  {
   "cell_type": "code",
   "execution_count": 34,
   "id": "46f1fde4",
   "metadata": {},
   "outputs": [
    {
     "data": {
      "text/plain": [
       "['Países Fecha Nacidos Nacidos Hombres Nacidos Mujeres Tasa Natalidad Índice de Fecund. Var.',\n",
       " 'España [+] 2020 341.315 174.842 166.473 7,19‰ 1,19 -4,03%',\n",
       " 'Alemania [+] 2020 773.144 397.385 375.759 9,30‰ 1,53 -0,65%',\n",
       " 'Reino Unido [+] 2020 712.699 375.379 355.539 10,20‰ 1,56 -4,29%',\n",
       " 'Francia [+] 2020 735.775 376.187 359.588 10,90‰ 1,83 -1,61%']"
      ]
     },
     "execution_count": 34,
     "metadata": {},
     "output_type": "execute_result"
    }
   ],
   "source": [
    "d = df.iloc[3][0].split(\"\\n\")\n",
    "d[:5]"
   ]
  },
  {
   "cell_type": "code",
   "execution_count": 35,
   "id": "b2e73863",
   "metadata": {},
   "outputs": [
    {
     "data": {
      "text/html": [
       "<div>\n",
       "<style scoped>\n",
       "    .dataframe tbody tr th:only-of-type {\n",
       "        vertical-align: middle;\n",
       "    }\n",
       "\n",
       "    .dataframe tbody tr th {\n",
       "        vertical-align: top;\n",
       "    }\n",
       "\n",
       "    .dataframe thead th {\n",
       "        text-align: right;\n",
       "    }\n",
       "</style>\n",
       "<table border=\"1\" class=\"dataframe\">\n",
       "  <thead>\n",
       "    <tr style=\"text-align: right;\">\n",
       "      <th></th>\n",
       "      <th>0</th>\n",
       "    </tr>\n",
       "  </thead>\n",
       "  <tbody>\n",
       "    <tr>\n",
       "      <th>0</th>\n",
       "      <td>Países Fecha Nacidos Nacidos Hombres Nacidos M...</td>\n",
       "    </tr>\n",
       "    <tr>\n",
       "      <th>1</th>\n",
       "      <td>España [+] 2020 341.315 174.842 166.473 7,19‰ ...</td>\n",
       "    </tr>\n",
       "    <tr>\n",
       "      <th>2</th>\n",
       "      <td>Alemania [+] 2020 773.144 397.385 375.759 9,30...</td>\n",
       "    </tr>\n",
       "    <tr>\n",
       "      <th>3</th>\n",
       "      <td>Reino Unido [+] 2020 712.699 375.379 355.539 1...</td>\n",
       "    </tr>\n",
       "    <tr>\n",
       "      <th>4</th>\n",
       "      <td>Francia [+] 2020 735.775 376.187 359.588 10,90...</td>\n",
       "    </tr>\n",
       "    <tr>\n",
       "      <th>...</th>\n",
       "      <td>...</td>\n",
       "    </tr>\n",
       "    <tr>\n",
       "      <th>189</th>\n",
       "      <td>Samoa [+] 2020 23,86‰ 3,79 -1,17%</td>\n",
       "    </tr>\n",
       "    <tr>\n",
       "      <th>190</th>\n",
       "      <td>Yemen [+] 2020 29,30‰ 3,61 -2,32%</td>\n",
       "    </tr>\n",
       "    <tr>\n",
       "      <th>191</th>\n",
       "      <td>Sudáfrica [+] 2020 19,77‰ 2,36 -0,97%</td>\n",
       "    </tr>\n",
       "    <tr>\n",
       "      <th>192</th>\n",
       "      <td>Zambia [+] 2020 35,44‰ 4,50 -1,38%</td>\n",
       "    </tr>\n",
       "    <tr>\n",
       "      <th>193</th>\n",
       "      <td>Zimbabue [+] 2020 28,98‰ 3,46 -2,01%</td>\n",
       "    </tr>\n",
       "  </tbody>\n",
       "</table>\n",
       "<p>194 rows × 1 columns</p>\n",
       "</div>"
      ],
      "text/plain": [
       "                                                     0\n",
       "0    Países Fecha Nacidos Nacidos Hombres Nacidos M...\n",
       "1    España [+] 2020 341.315 174.842 166.473 7,19‰ ...\n",
       "2    Alemania [+] 2020 773.144 397.385 375.759 9,30...\n",
       "3    Reino Unido [+] 2020 712.699 375.379 355.539 1...\n",
       "4    Francia [+] 2020 735.775 376.187 359.588 10,90...\n",
       "..                                                 ...\n",
       "189                  Samoa [+] 2020 23,86‰ 3,79 -1,17%\n",
       "190                  Yemen [+] 2020 29,30‰ 3,61 -2,32%\n",
       "191              Sudáfrica [+] 2020 19,77‰ 2,36 -0,97%\n",
       "192                 Zambia [+] 2020 35,44‰ 4,50 -1,38%\n",
       "193               Zimbabue [+] 2020 28,98‰ 3,46 -2,01%\n",
       "\n",
       "[194 rows x 1 columns]"
      ]
     },
     "execution_count": 35,
     "metadata": {},
     "output_type": "execute_result"
    }
   ],
   "source": [
    "nat2020= pd.DataFrame(d)\n",
    "nat2020"
   ]
  },
  {
   "cell_type": "code",
   "execution_count": 36,
   "id": "1d43e401",
   "metadata": {
    "scrolled": true
   },
   "outputs": [
    {
     "data": {
      "text/html": [
       "<div>\n",
       "<style scoped>\n",
       "    .dataframe tbody tr th:only-of-type {\n",
       "        vertical-align: middle;\n",
       "    }\n",
       "\n",
       "    .dataframe tbody tr th {\n",
       "        vertical-align: top;\n",
       "    }\n",
       "\n",
       "    .dataframe thead th {\n",
       "        text-align: right;\n",
       "    }\n",
       "</style>\n",
       "<table border=\"1\" class=\"dataframe\">\n",
       "  <thead>\n",
       "    <tr style=\"text-align: right;\">\n",
       "      <th></th>\n",
       "      <th>0</th>\n",
       "    </tr>\n",
       "  </thead>\n",
       "  <tbody>\n",
       "    <tr>\n",
       "      <th>1</th>\n",
       "      <td>España [+] 2020 341.315 174.842 166.473 7,19‰ ...</td>\n",
       "    </tr>\n",
       "    <tr>\n",
       "      <th>2</th>\n",
       "      <td>Alemania [+] 2020 773.144 397.385 375.759 9,30...</td>\n",
       "    </tr>\n",
       "    <tr>\n",
       "      <th>3</th>\n",
       "      <td>Reino Unido [+] 2020 712.699 375.379 355.539 1...</td>\n",
       "    </tr>\n",
       "    <tr>\n",
       "      <th>4</th>\n",
       "      <td>Francia [+] 2020 735.775 376.187 359.588 10,90...</td>\n",
       "    </tr>\n",
       "    <tr>\n",
       "      <th>5</th>\n",
       "      <td>Italia [+] 2020 404.892 208.431 196.461 6,80‰ ...</td>\n",
       "    </tr>\n",
       "    <tr>\n",
       "      <th>...</th>\n",
       "      <td>...</td>\n",
       "    </tr>\n",
       "    <tr>\n",
       "      <th>189</th>\n",
       "      <td>Samoa [+] 2020 23,86‰ 3,79 -1,17%</td>\n",
       "    </tr>\n",
       "    <tr>\n",
       "      <th>190</th>\n",
       "      <td>Yemen [+] 2020 29,30‰ 3,61 -2,32%</td>\n",
       "    </tr>\n",
       "    <tr>\n",
       "      <th>191</th>\n",
       "      <td>Sudáfrica [+] 2020 19,77‰ 2,36 -0,97%</td>\n",
       "    </tr>\n",
       "    <tr>\n",
       "      <th>192</th>\n",
       "      <td>Zambia [+] 2020 35,44‰ 4,50 -1,38%</td>\n",
       "    </tr>\n",
       "    <tr>\n",
       "      <th>193</th>\n",
       "      <td>Zimbabue [+] 2020 28,98‰ 3,46 -2,01%</td>\n",
       "    </tr>\n",
       "  </tbody>\n",
       "</table>\n",
       "<p>193 rows × 1 columns</p>\n",
       "</div>"
      ],
      "text/plain": [
       "                                                     0\n",
       "1    España [+] 2020 341.315 174.842 166.473 7,19‰ ...\n",
       "2    Alemania [+] 2020 773.144 397.385 375.759 9,30...\n",
       "3    Reino Unido [+] 2020 712.699 375.379 355.539 1...\n",
       "4    Francia [+] 2020 735.775 376.187 359.588 10,90...\n",
       "5    Italia [+] 2020 404.892 208.431 196.461 6,80‰ ...\n",
       "..                                                 ...\n",
       "189                  Samoa [+] 2020 23,86‰ 3,79 -1,17%\n",
       "190                  Yemen [+] 2020 29,30‰ 3,61 -2,32%\n",
       "191              Sudáfrica [+] 2020 19,77‰ 2,36 -0,97%\n",
       "192                 Zambia [+] 2020 35,44‰ 4,50 -1,38%\n",
       "193               Zimbabue [+] 2020 28,98‰ 3,46 -2,01%\n",
       "\n",
       "[193 rows x 1 columns]"
      ]
     },
     "execution_count": 36,
     "metadata": {},
     "output_type": "execute_result"
    }
   ],
   "source": [
    "dfn20= nat2020[1:]\n",
    "dfn20"
   ]
  },
  {
   "cell_type": "code",
   "execution_count": 57,
   "id": "9eac4063",
   "metadata": {},
   "outputs": [],
   "source": [
    "dfn20.to_csv('natalidad2020.csv')"
   ]
  },
  {
   "cell_type": "markdown",
   "id": "5f1008ec",
   "metadata": {},
   "source": [
    "#### 2021"
   ]
  },
  {
   "cell_type": "code",
   "execution_count": 38,
   "id": "148261f7",
   "metadata": {
    "scrolled": true
   },
   "outputs": [
    {
     "data": {
      "text/plain": [
       "['Países Fecha Nacidos Nacidos Hombres Nacidos Mujeres Tasa Natalidad Índice de Fecund. Var.',\n",
       " 'España [+] 2021 337.380 174.148 163.232 7,12‰ 1,19 0,47%',\n",
       " 'Alemania [+] 2021 795.492 397.385 375.759 9,60‰ 1,53 -0,65%',\n",
       " 'Reino Unido [+] 2020 712.699 375.379 355.539 10,20‰ 1,56 -4,29%',\n",
       " 'Francia [+] 2021 738.594 376.187 359.588 10,90‰ 1,83 -1,61%']"
      ]
     },
     "execution_count": 38,
     "metadata": {},
     "output_type": "execute_result"
    }
   ],
   "source": [
    "f = df.iloc[4][0].split(\"\\n\")\n",
    "f[:5]"
   ]
  },
  {
   "cell_type": "code",
   "execution_count": 39,
   "id": "5a205742",
   "metadata": {
    "scrolled": true
   },
   "outputs": [
    {
     "data": {
      "text/html": [
       "<div>\n",
       "<style scoped>\n",
       "    .dataframe tbody tr th:only-of-type {\n",
       "        vertical-align: middle;\n",
       "    }\n",
       "\n",
       "    .dataframe tbody tr th {\n",
       "        vertical-align: top;\n",
       "    }\n",
       "\n",
       "    .dataframe thead th {\n",
       "        text-align: right;\n",
       "    }\n",
       "</style>\n",
       "<table border=\"1\" class=\"dataframe\">\n",
       "  <thead>\n",
       "    <tr style=\"text-align: right;\">\n",
       "      <th></th>\n",
       "      <th>0</th>\n",
       "    </tr>\n",
       "  </thead>\n",
       "  <tbody>\n",
       "    <tr>\n",
       "      <th>0</th>\n",
       "      <td>Países Fecha Nacidos Nacidos Hombres Nacidos M...</td>\n",
       "    </tr>\n",
       "    <tr>\n",
       "      <th>1</th>\n",
       "      <td>España [+] 2021 337.380 174.148 163.232 7,12‰ ...</td>\n",
       "    </tr>\n",
       "    <tr>\n",
       "      <th>2</th>\n",
       "      <td>Alemania [+] 2021 795.492 397.385 375.759 9,60...</td>\n",
       "    </tr>\n",
       "    <tr>\n",
       "      <th>3</th>\n",
       "      <td>Reino Unido [+] 2020 712.699 375.379 355.539 1...</td>\n",
       "    </tr>\n",
       "    <tr>\n",
       "      <th>4</th>\n",
       "      <td>Francia [+] 2021 738.594 376.187 359.588 10,90...</td>\n",
       "    </tr>\n",
       "    <tr>\n",
       "      <th>...</th>\n",
       "      <td>...</td>\n",
       "    </tr>\n",
       "    <tr>\n",
       "      <th>189</th>\n",
       "      <td>Samoa [+] 2020 23,86‰ 3,79 -1,17%</td>\n",
       "    </tr>\n",
       "    <tr>\n",
       "      <th>190</th>\n",
       "      <td>Yemen [+] 2020 29,30‰ 3,61 -2,32%</td>\n",
       "    </tr>\n",
       "    <tr>\n",
       "      <th>191</th>\n",
       "      <td>Sudáfrica [+] 2020 19,77‰ 2,36 -0,97%</td>\n",
       "    </tr>\n",
       "    <tr>\n",
       "      <th>192</th>\n",
       "      <td>Zambia [+] 2020 35,44‰ 4,50 -1,38%</td>\n",
       "    </tr>\n",
       "    <tr>\n",
       "      <th>193</th>\n",
       "      <td>Zimbabue [+] 2020 28,98‰ 3,46 -2,01%</td>\n",
       "    </tr>\n",
       "  </tbody>\n",
       "</table>\n",
       "<p>194 rows × 1 columns</p>\n",
       "</div>"
      ],
      "text/plain": [
       "                                                     0\n",
       "0    Países Fecha Nacidos Nacidos Hombres Nacidos M...\n",
       "1    España [+] 2021 337.380 174.148 163.232 7,12‰ ...\n",
       "2    Alemania [+] 2021 795.492 397.385 375.759 9,60...\n",
       "3    Reino Unido [+] 2020 712.699 375.379 355.539 1...\n",
       "4    Francia [+] 2021 738.594 376.187 359.588 10,90...\n",
       "..                                                 ...\n",
       "189                  Samoa [+] 2020 23,86‰ 3,79 -1,17%\n",
       "190                  Yemen [+] 2020 29,30‰ 3,61 -2,32%\n",
       "191              Sudáfrica [+] 2020 19,77‰ 2,36 -0,97%\n",
       "192                 Zambia [+] 2020 35,44‰ 4,50 -1,38%\n",
       "193               Zimbabue [+] 2020 28,98‰ 3,46 -2,01%\n",
       "\n",
       "[194 rows x 1 columns]"
      ]
     },
     "execution_count": 39,
     "metadata": {},
     "output_type": "execute_result"
    }
   ],
   "source": [
    "nat2021= pd.DataFrame(f)\n",
    "nat2021"
   ]
  },
  {
   "cell_type": "code",
   "execution_count": 40,
   "id": "7e46bb6e",
   "metadata": {},
   "outputs": [
    {
     "data": {
      "text/html": [
       "<div>\n",
       "<style scoped>\n",
       "    .dataframe tbody tr th:only-of-type {\n",
       "        vertical-align: middle;\n",
       "    }\n",
       "\n",
       "    .dataframe tbody tr th {\n",
       "        vertical-align: top;\n",
       "    }\n",
       "\n",
       "    .dataframe thead th {\n",
       "        text-align: right;\n",
       "    }\n",
       "</style>\n",
       "<table border=\"1\" class=\"dataframe\">\n",
       "  <thead>\n",
       "    <tr style=\"text-align: right;\">\n",
       "      <th></th>\n",
       "      <th>0</th>\n",
       "    </tr>\n",
       "  </thead>\n",
       "  <tbody>\n",
       "    <tr>\n",
       "      <th>1</th>\n",
       "      <td>España [+] 2021 337.380 174.148 163.232 7,12‰ ...</td>\n",
       "    </tr>\n",
       "    <tr>\n",
       "      <th>2</th>\n",
       "      <td>Alemania [+] 2021 795.492 397.385 375.759 9,60...</td>\n",
       "    </tr>\n",
       "    <tr>\n",
       "      <th>3</th>\n",
       "      <td>Reino Unido [+] 2020 712.699 375.379 355.539 1...</td>\n",
       "    </tr>\n",
       "    <tr>\n",
       "      <th>4</th>\n",
       "      <td>Francia [+] 2021 738.594 376.187 359.588 10,90...</td>\n",
       "    </tr>\n",
       "    <tr>\n",
       "      <th>5</th>\n",
       "      <td>Italia [+] 2021 399.431 208.431 196.461 6,80‰ ...</td>\n",
       "    </tr>\n",
       "    <tr>\n",
       "      <th>...</th>\n",
       "      <td>...</td>\n",
       "    </tr>\n",
       "    <tr>\n",
       "      <th>189</th>\n",
       "      <td>Samoa [+] 2020 23,86‰ 3,79 -1,17%</td>\n",
       "    </tr>\n",
       "    <tr>\n",
       "      <th>190</th>\n",
       "      <td>Yemen [+] 2020 29,30‰ 3,61 -2,32%</td>\n",
       "    </tr>\n",
       "    <tr>\n",
       "      <th>191</th>\n",
       "      <td>Sudáfrica [+] 2020 19,77‰ 2,36 -0,97%</td>\n",
       "    </tr>\n",
       "    <tr>\n",
       "      <th>192</th>\n",
       "      <td>Zambia [+] 2020 35,44‰ 4,50 -1,38%</td>\n",
       "    </tr>\n",
       "    <tr>\n",
       "      <th>193</th>\n",
       "      <td>Zimbabue [+] 2020 28,98‰ 3,46 -2,01%</td>\n",
       "    </tr>\n",
       "  </tbody>\n",
       "</table>\n",
       "<p>193 rows × 1 columns</p>\n",
       "</div>"
      ],
      "text/plain": [
       "                                                     0\n",
       "1    España [+] 2021 337.380 174.148 163.232 7,12‰ ...\n",
       "2    Alemania [+] 2021 795.492 397.385 375.759 9,60...\n",
       "3    Reino Unido [+] 2020 712.699 375.379 355.539 1...\n",
       "4    Francia [+] 2021 738.594 376.187 359.588 10,90...\n",
       "5    Italia [+] 2021 399.431 208.431 196.461 6,80‰ ...\n",
       "..                                                 ...\n",
       "189                  Samoa [+] 2020 23,86‰ 3,79 -1,17%\n",
       "190                  Yemen [+] 2020 29,30‰ 3,61 -2,32%\n",
       "191              Sudáfrica [+] 2020 19,77‰ 2,36 -0,97%\n",
       "192                 Zambia [+] 2020 35,44‰ 4,50 -1,38%\n",
       "193               Zimbabue [+] 2020 28,98‰ 3,46 -2,01%\n",
       "\n",
       "[193 rows x 1 columns]"
      ]
     },
     "execution_count": 40,
     "metadata": {},
     "output_type": "execute_result"
    }
   ],
   "source": [
    "dfn21= nat2021[1:]\n",
    "dfn21"
   ]
  },
  {
   "cell_type": "code",
   "execution_count": 58,
   "id": "a28dc57d",
   "metadata": {},
   "outputs": [],
   "source": [
    "dfn21.to_csv('natalidad2021.csv')"
   ]
  }
 ],
 "metadata": {
  "kernelspec": {
   "display_name": "Bootcamp",
   "language": "python",
   "name": "bootcamp"
  },
  "language_info": {
   "codemirror_mode": {
    "name": "ipython",
    "version": 3
   },
   "file_extension": ".py",
   "mimetype": "text/x-python",
   "name": "python",
   "nbconvert_exporter": "python",
   "pygments_lexer": "ipython3",
   "version": "3.9.13"
  }
 },
 "nbformat": 4,
 "nbformat_minor": 5
}
