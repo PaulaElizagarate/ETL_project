{
 "cells": [
  {
   "cell_type": "markdown",
   "id": "91807db7",
   "metadata": {},
   "source": [
    "# Most Polluted Countries - Limpieza de Datos"
   ]
  },
  {
   "cell_type": "markdown",
   "id": "7ab3f51c",
   "metadata": {},
   "source": [
    "### · Antes de empezar... "
   ]
  },
  {
   "cell_type": "markdown",
   "id": "38ccd52a",
   "metadata": {},
   "source": [
    "1. Para gestionar los Dataframes:"
   ]
  },
  {
   "cell_type": "code",
   "execution_count": 1,
   "id": "6cfeebf6",
   "metadata": {},
   "outputs": [],
   "source": [
    "#Para mi doc de Pipeline:\n",
    "\n",
    "import sys \n",
    "sys.path.append(\"../SRC\") \n",
    "import support as sp \n"
   ]
  },
  {
   "cell_type": "code",
   "execution_count": 23,
   "id": "2ce64274",
   "metadata": {},
   "outputs": [],
   "source": [
    "#Para mi doc de Pipeline:\n",
    "import suport as sp\n",
    "\n",
    "import pandas as pd\n",
    "import numpy as np\n",
    "import matplotlib.pyplot as plt\n",
    "import seaborn as sns\n",
    "import plotly.express as px\n",
    "from collections import Counter\n",
    "from fuzzywuzzy import process, fuzz\n",
    "import pickle\n"
   ]
  },
  {
   "cell_type": "markdown",
   "id": "7f5250c0",
   "metadata": {},
   "source": [
    "###  · Carga de CSVs"
   ]
  },
  {
   "cell_type": "markdown",
   "id": "06b7b1b4",
   "metadata": {},
   "source": [
    "Empezamos cargando datos CSV procedentes de Kaggle con la información de los países y las ciudades más contaminadas desde 2017 hasta 2021. En ambos los números están almacenados como objects, por lo que será la limpieza que hagamos a continuación. Empezaremos con el CSV de los países más contaminados:"
   ]
  },
  {
   "cell_type": "code",
   "execution_count": 177,
   "id": "a8bcb198",
   "metadata": {
    "scrolled": false
   },
   "outputs": [
    {
     "data": {
      "text/html": [
       "<div>\n",
       "<style scoped>\n",
       "    .dataframe tbody tr th:only-of-type {\n",
       "        vertical-align: middle;\n",
       "    }\n",
       "\n",
       "    .dataframe tbody tr th {\n",
       "        vertical-align: top;\n",
       "    }\n",
       "\n",
       "    .dataframe thead th {\n",
       "        text-align: right;\n",
       "    }\n",
       "</style>\n",
       "<table border=\"1\" class=\"dataframe\">\n",
       "  <thead>\n",
       "    <tr style=\"text-align: right;\">\n",
       "      <th></th>\n",
       "      <th>Country/Region</th>\n",
       "      <th>2021</th>\n",
       "      <th>2020</th>\n",
       "      <th>2019</th>\n",
       "      <th>2018</th>\n",
       "      <th>Population</th>\n",
       "    </tr>\n",
       "    <tr>\n",
       "      <th>Rank</th>\n",
       "      <th></th>\n",
       "      <th></th>\n",
       "      <th></th>\n",
       "      <th></th>\n",
       "      <th></th>\n",
       "      <th></th>\n",
       "    </tr>\n",
       "  </thead>\n",
       "  <tbody>\n",
       "    <tr>\n",
       "      <th>1</th>\n",
       "      <td>Bangladesh</td>\n",
       "      <td>76.9</td>\n",
       "      <td>77.1</td>\n",
       "      <td>83.3</td>\n",
       "      <td>97.1</td>\n",
       "      <td>164,689,383</td>\n",
       "    </tr>\n",
       "    <tr>\n",
       "      <th>2</th>\n",
       "      <td>Chad</td>\n",
       "      <td>75.9</td>\n",
       "      <td>-</td>\n",
       "      <td>-</td>\n",
       "      <td>-</td>\n",
       "      <td>16,425,859</td>\n",
       "    </tr>\n",
       "  </tbody>\n",
       "</table>\n",
       "</div>"
      ],
      "text/plain": [
       "     Country/Region  2021  2020  2019  2018   Population\n",
       "Rank                                                    \n",
       "1        Bangladesh  76.9  77.1  83.3  97.1  164,689,383\n",
       "2              Chad  75.9     -     -     -   16,425,859"
      ]
     },
     "execution_count": 177,
     "metadata": {},
     "output_type": "execute_result"
    }
   ],
   "source": [
    "df_pcountries = pd.read_csv(\"datos/AIR QUALITY INDEX- top countries.csv\", index_col = 0 )\n",
    "df_pcountries.head(2)"
   ]
  },
  {
   "cell_type": "code",
   "execution_count": 178,
   "id": "953500fe",
   "metadata": {},
   "outputs": [],
   "source": [
    "def tipo_numero(x):\n",
    "    x.replace(\"-\", \"0\", inplace= True)\n",
    "    x= pd.to_numeric(x)\n",
    "    return(x)"
   ]
  },
  {
   "cell_type": "code",
   "execution_count": 179,
   "id": "0178d9f4",
   "metadata": {},
   "outputs": [],
   "source": [
    "df_pcountries[\"2020\"]= tipo_numero(df_pcountries[\"2020\"])"
   ]
  },
  {
   "cell_type": "code",
   "execution_count": 180,
   "id": "b8f5cc3e",
   "metadata": {
    "scrolled": true
   },
   "outputs": [],
   "source": [
    "df_pcountries[\"2019\"]= tipo_numero(df_pcountries[\"2019\"])"
   ]
  },
  {
   "cell_type": "code",
   "execution_count": 181,
   "id": "8ebd8323",
   "metadata": {
    "scrolled": true
   },
   "outputs": [],
   "source": [
    "df_pcountries[\"2018\"]= tipo_numero(df_pcountries[\"2018\"])"
   ]
  },
  {
   "cell_type": "code",
   "execution_count": 182,
   "id": "3b3ebb81",
   "metadata": {
    "scrolled": false
   },
   "outputs": [],
   "source": [
    "df_pcountries[\"Population\"]= df_pcountries[\"Population\"].str.replace(\",\" , \"\")"
   ]
  },
  {
   "cell_type": "code",
   "execution_count": 183,
   "id": "9068ef77",
   "metadata": {},
   "outputs": [],
   "source": [
    "df_pcountries[\"Population\"]= pd.to_numeric(df_pcountries[\"Population\"])"
   ]
  },
  {
   "cell_type": "code",
   "execution_count": 184,
   "id": "b5dd5332",
   "metadata": {
    "scrolled": false
   },
   "outputs": [
    {
     "data": {
      "text/html": [
       "<div>\n",
       "<style scoped>\n",
       "    .dataframe tbody tr th:only-of-type {\n",
       "        vertical-align: middle;\n",
       "    }\n",
       "\n",
       "    .dataframe tbody tr th {\n",
       "        vertical-align: top;\n",
       "    }\n",
       "\n",
       "    .dataframe thead th {\n",
       "        text-align: right;\n",
       "    }\n",
       "</style>\n",
       "<table border=\"1\" class=\"dataframe\">\n",
       "  <thead>\n",
       "    <tr style=\"text-align: right;\">\n",
       "      <th></th>\n",
       "      <th>Country/Region</th>\n",
       "      <th>2021</th>\n",
       "      <th>2020</th>\n",
       "      <th>2019</th>\n",
       "      <th>2018</th>\n",
       "      <th>Population</th>\n",
       "    </tr>\n",
       "    <tr>\n",
       "      <th>Rank</th>\n",
       "      <th></th>\n",
       "      <th></th>\n",
       "      <th></th>\n",
       "      <th></th>\n",
       "      <th></th>\n",
       "      <th></th>\n",
       "    </tr>\n",
       "  </thead>\n",
       "  <tbody>\n",
       "    <tr>\n",
       "      <th>1</th>\n",
       "      <td>Bangladesh</td>\n",
       "      <td>76.9</td>\n",
       "      <td>77.1</td>\n",
       "      <td>83.3</td>\n",
       "      <td>97.1</td>\n",
       "      <td>164689383</td>\n",
       "    </tr>\n",
       "    <tr>\n",
       "      <th>2</th>\n",
       "      <td>Chad</td>\n",
       "      <td>75.9</td>\n",
       "      <td>0.0</td>\n",
       "      <td>0.0</td>\n",
       "      <td>0.0</td>\n",
       "      <td>16425859</td>\n",
       "    </tr>\n",
       "  </tbody>\n",
       "</table>\n",
       "</div>"
      ],
      "text/plain": [
       "     Country/Region  2021  2020  2019  2018  Population\n",
       "Rank                                                   \n",
       "1        Bangladesh  76.9  77.1  83.3  97.1   164689383\n",
       "2              Chad  75.9   0.0   0.0   0.0    16425859"
      ]
     },
     "execution_count": 184,
     "metadata": {},
     "output_type": "execute_result"
    }
   ],
   "source": [
    "df_pcountries.head(2)"
   ]
  },
  {
   "cell_type": "code",
   "execution_count": 185,
   "id": "43cf86b0",
   "metadata": {
    "scrolled": true
   },
   "outputs": [
    {
     "name": "stdout",
     "output_type": "stream",
     "text": [
      "<class 'pandas.core.frame.DataFrame'>\n",
      "Int64Index: 118 entries, 1 to 118\n",
      "Data columns (total 6 columns):\n",
      " #   Column          Non-Null Count  Dtype  \n",
      "---  ------          --------------  -----  \n",
      " 0   Country/Region  118 non-null    object \n",
      " 1   2021            118 non-null    float64\n",
      " 2   2020            118 non-null    float64\n",
      " 3   2019            118 non-null    float64\n",
      " 4   2018            118 non-null    float64\n",
      " 5   Population      118 non-null    int64  \n",
      "dtypes: float64(4), int64(1), object(1)\n",
      "memory usage: 6.5+ KB\n"
     ]
    }
   ],
   "source": [
    "df_pcountries.info()"
   ]
  },
  {
   "cell_type": "code",
   "execution_count": 129,
   "id": "70698e38",
   "metadata": {
    "scrolled": true
   },
   "outputs": [],
   "source": [
    "df_pcountries.to_csv('polluted_countries.csv')"
   ]
  },
  {
   "cell_type": "markdown",
   "id": "08f24d84",
   "metadata": {},
   "source": [
    "A continuación, haremos la limpieza de las ciudades más contaminadas. En primer lugar dividiremos la ciudad, del país:"
   ]
  },
  {
   "cell_type": "code",
   "execution_count": 211,
   "id": "4e2ec08e",
   "metadata": {
    "scrolled": true
   },
   "outputs": [
    {
     "data": {
      "text/html": [
       "<div>\n",
       "<style scoped>\n",
       "    .dataframe tbody tr th:only-of-type {\n",
       "        vertical-align: middle;\n",
       "    }\n",
       "\n",
       "    .dataframe tbody tr th {\n",
       "        vertical-align: top;\n",
       "    }\n",
       "\n",
       "    .dataframe thead th {\n",
       "        text-align: right;\n",
       "    }\n",
       "</style>\n",
       "<table border=\"1\" class=\"dataframe\">\n",
       "  <thead>\n",
       "    <tr style=\"text-align: right;\">\n",
       "      <th></th>\n",
       "      <th>City</th>\n",
       "      <th>2021</th>\n",
       "      <th>JAN(2021)</th>\n",
       "      <th>FEB(2021)</th>\n",
       "      <th>MAR(2021)</th>\n",
       "      <th>APR(2021)</th>\n",
       "      <th>MAY(2021)</th>\n",
       "      <th>JUN(2021)</th>\n",
       "      <th>JUL(2021)</th>\n",
       "      <th>AUG(2021)</th>\n",
       "      <th>SEP(2021)</th>\n",
       "      <th>OCT(2021)</th>\n",
       "      <th>NOV(2021)</th>\n",
       "      <th>DEC(2021)</th>\n",
       "      <th>2020</th>\n",
       "      <th>2019</th>\n",
       "      <th>2018</th>\n",
       "      <th>2017</th>\n",
       "    </tr>\n",
       "    <tr>\n",
       "      <th>Rank</th>\n",
       "      <th></th>\n",
       "      <th></th>\n",
       "      <th></th>\n",
       "      <th></th>\n",
       "      <th></th>\n",
       "      <th></th>\n",
       "      <th></th>\n",
       "      <th></th>\n",
       "      <th></th>\n",
       "      <th></th>\n",
       "      <th></th>\n",
       "      <th></th>\n",
       "      <th></th>\n",
       "      <th></th>\n",
       "      <th></th>\n",
       "      <th></th>\n",
       "      <th></th>\n",
       "      <th></th>\n",
       "    </tr>\n",
       "  </thead>\n",
       "  <tbody>\n",
       "    <tr>\n",
       "      <th>1</th>\n",
       "      <td>Bhiwadi, India</td>\n",
       "      <td>106.2</td>\n",
       "      <td>145.8</td>\n",
       "      <td>129.8</td>\n",
       "      <td>120.2</td>\n",
       "      <td>125.7</td>\n",
       "      <td>86.5</td>\n",
       "      <td>95.9</td>\n",
       "      <td>55.6</td>\n",
       "      <td>55.4</td>\n",
       "      <td>37.1</td>\n",
       "      <td>91.1</td>\n",
       "      <td>188.6</td>\n",
       "      <td>136.6</td>\n",
       "      <td>95.5</td>\n",
       "      <td>83.4</td>\n",
       "      <td>125.4</td>\n",
       "      <td>-</td>\n",
       "    </tr>\n",
       "    <tr>\n",
       "      <th>2</th>\n",
       "      <td>Ghaziabad, India</td>\n",
       "      <td>102.0</td>\n",
       "      <td>199.9</td>\n",
       "      <td>172.2</td>\n",
       "      <td>97.8</td>\n",
       "      <td>86.3</td>\n",
       "      <td>52.9</td>\n",
       "      <td>47.2</td>\n",
       "      <td>35.3</td>\n",
       "      <td>37.6</td>\n",
       "      <td>30.8</td>\n",
       "      <td>89.7</td>\n",
       "      <td>218.3</td>\n",
       "      <td>163</td>\n",
       "      <td>106.6</td>\n",
       "      <td>110.2</td>\n",
       "      <td>135.2</td>\n",
       "      <td>144.6</td>\n",
       "    </tr>\n",
       "  </tbody>\n",
       "</table>\n",
       "</div>"
      ],
      "text/plain": [
       "                  City   2021 JAN(2021) FEB(2021) MAR(2021) APR(2021)  \\\n",
       "Rank                                                                    \n",
       "1       Bhiwadi, India  106.2     145.8     129.8     120.2     125.7   \n",
       "2     Ghaziabad, India  102.0     199.9     172.2      97.8      86.3   \n",
       "\n",
       "     MAY(2021) JUN(2021) JUL(2021) AUG(2021) SEP(2021) OCT(2021) NOV(2021)  \\\n",
       "Rank                                                                         \n",
       "1         86.5      95.9      55.6      55.4      37.1      91.1     188.6   \n",
       "2         52.9      47.2      35.3      37.6      30.8      89.7     218.3   \n",
       "\n",
       "     DEC(2021)   2020   2019   2018   2017  \n",
       "Rank                                        \n",
       "1        136.6   95.5   83.4  125.4      -  \n",
       "2          163  106.6  110.2  135.2  144.6  "
      ]
     },
     "execution_count": 211,
     "metadata": {},
     "output_type": "execute_result"
    }
   ],
   "source": [
    "df_pcities = pd.read_csv(\"datos/AIR QUALITY INDEX (by cities) - IQAir.csv\", index_col = 0 )\n",
    "df_pcities.head(2)"
   ]
  },
  {
   "cell_type": "code",
   "execution_count": 212,
   "id": "813aa09b",
   "metadata": {},
   "outputs": [],
   "source": [
    "pc= {\n",
    "    \"city\": [],\n",
    "    \"country\": [],\n",
    "    }\n",
    "\n",
    "for data in df_pcities[\"City\"]:\n",
    "    \n",
    "    a= data.split(\",\")\n",
    "    \n",
    "    pc[\"city\"].append(str(a[0]))\n",
    "    pc[\"country\"].append(str(a[1]))"
   ]
  },
  {
   "cell_type": "code",
   "execution_count": 213,
   "id": "cc154e49",
   "metadata": {
    "scrolled": true
   },
   "outputs": [],
   "source": [
    "df_pcities[\"City\"]= pc[\"city\"]"
   ]
  },
  {
   "cell_type": "code",
   "execution_count": 214,
   "id": "9a3b5549",
   "metadata": {},
   "outputs": [],
   "source": [
    "df_pcities[\"country\"]= pc[\"country\"]"
   ]
  },
  {
   "cell_type": "code",
   "execution_count": 215,
   "id": "9a631f5c",
   "metadata": {
    "scrolled": true
   },
   "outputs": [
    {
     "data": {
      "text/html": [
       "<div>\n",
       "<style scoped>\n",
       "    .dataframe tbody tr th:only-of-type {\n",
       "        vertical-align: middle;\n",
       "    }\n",
       "\n",
       "    .dataframe tbody tr th {\n",
       "        vertical-align: top;\n",
       "    }\n",
       "\n",
       "    .dataframe thead th {\n",
       "        text-align: right;\n",
       "    }\n",
       "</style>\n",
       "<table border=\"1\" class=\"dataframe\">\n",
       "  <thead>\n",
       "    <tr style=\"text-align: right;\">\n",
       "      <th></th>\n",
       "      <th>City</th>\n",
       "      <th>2021</th>\n",
       "      <th>JAN(2021)</th>\n",
       "      <th>FEB(2021)</th>\n",
       "      <th>MAR(2021)</th>\n",
       "      <th>APR(2021)</th>\n",
       "      <th>MAY(2021)</th>\n",
       "      <th>JUN(2021)</th>\n",
       "      <th>JUL(2021)</th>\n",
       "      <th>AUG(2021)</th>\n",
       "      <th>SEP(2021)</th>\n",
       "      <th>OCT(2021)</th>\n",
       "      <th>NOV(2021)</th>\n",
       "      <th>DEC(2021)</th>\n",
       "      <th>2020</th>\n",
       "      <th>2019</th>\n",
       "      <th>2018</th>\n",
       "      <th>2017</th>\n",
       "      <th>country</th>\n",
       "    </tr>\n",
       "    <tr>\n",
       "      <th>Rank</th>\n",
       "      <th></th>\n",
       "      <th></th>\n",
       "      <th></th>\n",
       "      <th></th>\n",
       "      <th></th>\n",
       "      <th></th>\n",
       "      <th></th>\n",
       "      <th></th>\n",
       "      <th></th>\n",
       "      <th></th>\n",
       "      <th></th>\n",
       "      <th></th>\n",
       "      <th></th>\n",
       "      <th></th>\n",
       "      <th></th>\n",
       "      <th></th>\n",
       "      <th></th>\n",
       "      <th></th>\n",
       "      <th></th>\n",
       "    </tr>\n",
       "  </thead>\n",
       "  <tbody>\n",
       "    <tr>\n",
       "      <th>1</th>\n",
       "      <td>Bhiwadi</td>\n",
       "      <td>106.2</td>\n",
       "      <td>145.8</td>\n",
       "      <td>129.8</td>\n",
       "      <td>120.2</td>\n",
       "      <td>125.7</td>\n",
       "      <td>86.5</td>\n",
       "      <td>95.9</td>\n",
       "      <td>55.6</td>\n",
       "      <td>55.4</td>\n",
       "      <td>37.1</td>\n",
       "      <td>91.1</td>\n",
       "      <td>188.6</td>\n",
       "      <td>136.6</td>\n",
       "      <td>95.5</td>\n",
       "      <td>83.4</td>\n",
       "      <td>125.4</td>\n",
       "      <td>-</td>\n",
       "      <td>India</td>\n",
       "    </tr>\n",
       "    <tr>\n",
       "      <th>2</th>\n",
       "      <td>Ghaziabad</td>\n",
       "      <td>102.0</td>\n",
       "      <td>199.9</td>\n",
       "      <td>172.2</td>\n",
       "      <td>97.8</td>\n",
       "      <td>86.3</td>\n",
       "      <td>52.9</td>\n",
       "      <td>47.2</td>\n",
       "      <td>35.3</td>\n",
       "      <td>37.6</td>\n",
       "      <td>30.8</td>\n",
       "      <td>89.7</td>\n",
       "      <td>218.3</td>\n",
       "      <td>163</td>\n",
       "      <td>106.6</td>\n",
       "      <td>110.2</td>\n",
       "      <td>135.2</td>\n",
       "      <td>144.6</td>\n",
       "      <td>India</td>\n",
       "    </tr>\n",
       "  </tbody>\n",
       "</table>\n",
       "</div>"
      ],
      "text/plain": [
       "           City   2021 JAN(2021) FEB(2021) MAR(2021) APR(2021) MAY(2021)  \\\n",
       "Rank                                                                       \n",
       "1       Bhiwadi  106.2     145.8     129.8     120.2     125.7      86.5   \n",
       "2     Ghaziabad  102.0     199.9     172.2      97.8      86.3      52.9   \n",
       "\n",
       "     JUN(2021) JUL(2021) AUG(2021) SEP(2021) OCT(2021) NOV(2021) DEC(2021)  \\\n",
       "Rank                                                                         \n",
       "1         95.9      55.6      55.4      37.1      91.1     188.6     136.6   \n",
       "2         47.2      35.3      37.6      30.8      89.7     218.3       163   \n",
       "\n",
       "       2020   2019   2018   2017 country  \n",
       "Rank                                      \n",
       "1      95.5   83.4  125.4      -   India  \n",
       "2     106.6  110.2  135.2  144.6   India  "
      ]
     },
     "execution_count": 215,
     "metadata": {},
     "output_type": "execute_result"
    }
   ],
   "source": [
    "#df_pcities.head(2)"
   ]
  },
  {
   "cell_type": "code",
   "execution_count": 216,
   "id": "7e957bf9",
   "metadata": {},
   "outputs": [],
   "source": [
    "def minusculas (x):\n",
    "    x= [i.lower() for i in x]\n",
    "    return(x)"
   ]
  },
  {
   "cell_type": "code",
   "execution_count": 217,
   "id": "1aaff5b1",
   "metadata": {
    "scrolled": true
   },
   "outputs": [],
   "source": [
    "df_pcities[\"City\"]= minusculas(df_pcities[\"City\"])"
   ]
  },
  {
   "cell_type": "code",
   "execution_count": 218,
   "id": "d8837fb3",
   "metadata": {},
   "outputs": [],
   "source": [
    "df_pcities[\"country\"]= minusculas(df_pcities[\"country\"])"
   ]
  },
  {
   "cell_type": "markdown",
   "id": "04daff09",
   "metadata": {},
   "source": [
    "A continuación los objects a floats:"
   ]
  },
  {
   "cell_type": "code",
   "execution_count": 222,
   "id": "c2cc115c",
   "metadata": {},
   "outputs": [],
   "source": [
    "df_pcities[\"JAN(2021)\"]= tipo_numero(df_pcities[\"JAN(2021)\"])"
   ]
  },
  {
   "cell_type": "code",
   "execution_count": 220,
   "id": "7a8094e6",
   "metadata": {
    "scrolled": true
   },
   "outputs": [],
   "source": [
    "df_pcities[\"FEB(2021)\"]= tipo_numero(df_pcities[\"FEB(2021)\"])"
   ]
  },
  {
   "cell_type": "code",
   "execution_count": 223,
   "id": "b5fa0f9f",
   "metadata": {},
   "outputs": [],
   "source": [
    "df_pcities[\"MAR(2021)\"]= tipo_numero(df_pcities[\"MAR(2021)\"])"
   ]
  },
  {
   "cell_type": "code",
   "execution_count": 224,
   "id": "0dad82fc",
   "metadata": {},
   "outputs": [],
   "source": [
    "df_pcities[\"APR(2021)\"]= tipo_numero(df_pcities[\"APR(2021)\"])"
   ]
  },
  {
   "cell_type": "code",
   "execution_count": 225,
   "id": "989a9827",
   "metadata": {},
   "outputs": [],
   "source": [
    "df_pcities[\"MAY(2021)\"]= tipo_numero(df_pcities[\"MAY(2021)\"])"
   ]
  },
  {
   "cell_type": "code",
   "execution_count": 226,
   "id": "b3245be6",
   "metadata": {},
   "outputs": [],
   "source": [
    "df_pcities[\"JUN(2021)\"]= tipo_numero(df_pcities[\"JUN(2021)\"])"
   ]
  },
  {
   "cell_type": "code",
   "execution_count": 227,
   "id": "40a1df03",
   "metadata": {},
   "outputs": [],
   "source": [
    "df_pcities[\"JUL(2021)\"]= tipo_numero(df_pcities[\"JUL(2021)\"])"
   ]
  },
  {
   "cell_type": "code",
   "execution_count": 228,
   "id": "d0657a65",
   "metadata": {},
   "outputs": [],
   "source": [
    "df_pcities[\"AUG(2021)\"]= tipo_numero(df_pcities[\"AUG(2021)\"])"
   ]
  },
  {
   "cell_type": "code",
   "execution_count": 229,
   "id": "22cc5e4c",
   "metadata": {},
   "outputs": [],
   "source": [
    "df_pcities[\"SEP(2021)\"]= tipo_numero(df_pcities[\"SEP(2021)\"])"
   ]
  },
  {
   "cell_type": "code",
   "execution_count": 231,
   "id": "395803d8",
   "metadata": {},
   "outputs": [],
   "source": [
    "df_pcities[\"OCT(2021)\"]= tipo_numero(df_pcities[\"OCT(2021)\"])"
   ]
  },
  {
   "cell_type": "code",
   "execution_count": 232,
   "id": "b379ecbe",
   "metadata": {},
   "outputs": [],
   "source": [
    "df_pcities[\"NOV(2021)\"]= tipo_numero(df_pcities[\"NOV(2021)\"])"
   ]
  },
  {
   "cell_type": "code",
   "execution_count": 234,
   "id": "0fd6bfe0",
   "metadata": {
    "scrolled": true
   },
   "outputs": [],
   "source": [
    "df_pcities[\"DEC(2021)\"]= tipo_numero(df_pcities[\"DEC(2021)\"])"
   ]
  },
  {
   "cell_type": "code",
   "execution_count": 235,
   "id": "81c2c2ca",
   "metadata": {},
   "outputs": [],
   "source": [
    "df_pcities[\"2020\"]= tipo_numero(df_pcities[\"2020\"])"
   ]
  },
  {
   "cell_type": "code",
   "execution_count": 236,
   "id": "bc7c716a",
   "metadata": {},
   "outputs": [],
   "source": [
    "df_pcities[\"2019\"]= tipo_numero(df_pcities[\"2019\"])"
   ]
  },
  {
   "cell_type": "code",
   "execution_count": 237,
   "id": "26fb49cc",
   "metadata": {},
   "outputs": [],
   "source": [
    "df_pcities[\"2018\"]= tipo_numero(df_pcities[\"2018\"])"
   ]
  },
  {
   "cell_type": "code",
   "execution_count": 238,
   "id": "77dd6ed9",
   "metadata": {},
   "outputs": [],
   "source": [
    "df_pcities[\"2017\"]= tipo_numero(df_pcities[\"2017\"])"
   ]
  },
  {
   "cell_type": "code",
   "execution_count": 239,
   "id": "ae7c45d7",
   "metadata": {
    "scrolled": true
   },
   "outputs": [
    {
     "name": "stdout",
     "output_type": "stream",
     "text": [
      "<class 'pandas.core.frame.DataFrame'>\n",
      "Int64Index: 6475 entries, 1 to 6475\n",
      "Data columns (total 19 columns):\n",
      " #   Column     Non-Null Count  Dtype  \n",
      "---  ------     --------------  -----  \n",
      " 0   City       6475 non-null   object \n",
      " 1   2021       6475 non-null   float64\n",
      " 2   JAN(2021)  6475 non-null   float64\n",
      " 3   FEB(2021)  6475 non-null   float64\n",
      " 4   MAR(2021)  6475 non-null   float64\n",
      " 5   APR(2021)  6475 non-null   float64\n",
      " 6   MAY(2021)  6475 non-null   float64\n",
      " 7   JUN(2021)  6475 non-null   float64\n",
      " 8   JUL(2021)  6475 non-null   float64\n",
      " 9   AUG(2021)  6475 non-null   float64\n",
      " 10  SEP(2021)  6475 non-null   float64\n",
      " 11  OCT(2021)  6475 non-null   float64\n",
      " 12  NOV(2021)  6475 non-null   float64\n",
      " 13  DEC(2021)  6475 non-null   float64\n",
      " 14  2020       6475 non-null   float64\n",
      " 15  2019       6475 non-null   float64\n",
      " 16  2018       6475 non-null   float64\n",
      " 17  2017       6475 non-null   float64\n",
      " 18  country    6475 non-null   object \n",
      "dtypes: float64(17), object(2)\n",
      "memory usage: 1011.7+ KB\n"
     ]
    }
   ],
   "source": [
    "df_pcities.info()"
   ]
  },
  {
   "cell_type": "code",
   "execution_count": 240,
   "id": "c33dcce4",
   "metadata": {
    "scrolled": true
   },
   "outputs": [
    {
     "data": {
      "text/html": [
       "<div>\n",
       "<style scoped>\n",
       "    .dataframe tbody tr th:only-of-type {\n",
       "        vertical-align: middle;\n",
       "    }\n",
       "\n",
       "    .dataframe tbody tr th {\n",
       "        vertical-align: top;\n",
       "    }\n",
       "\n",
       "    .dataframe thead th {\n",
       "        text-align: right;\n",
       "    }\n",
       "</style>\n",
       "<table border=\"1\" class=\"dataframe\">\n",
       "  <thead>\n",
       "    <tr style=\"text-align: right;\">\n",
       "      <th></th>\n",
       "      <th>City</th>\n",
       "      <th>2021</th>\n",
       "      <th>JAN(2021)</th>\n",
       "      <th>FEB(2021)</th>\n",
       "      <th>MAR(2021)</th>\n",
       "      <th>APR(2021)</th>\n",
       "      <th>MAY(2021)</th>\n",
       "      <th>JUN(2021)</th>\n",
       "      <th>JUL(2021)</th>\n",
       "      <th>AUG(2021)</th>\n",
       "      <th>SEP(2021)</th>\n",
       "      <th>OCT(2021)</th>\n",
       "      <th>NOV(2021)</th>\n",
       "      <th>DEC(2021)</th>\n",
       "      <th>2020</th>\n",
       "      <th>2019</th>\n",
       "      <th>2018</th>\n",
       "      <th>2017</th>\n",
       "      <th>country</th>\n",
       "    </tr>\n",
       "    <tr>\n",
       "      <th>Rank</th>\n",
       "      <th></th>\n",
       "      <th></th>\n",
       "      <th></th>\n",
       "      <th></th>\n",
       "      <th></th>\n",
       "      <th></th>\n",
       "      <th></th>\n",
       "      <th></th>\n",
       "      <th></th>\n",
       "      <th></th>\n",
       "      <th></th>\n",
       "      <th></th>\n",
       "      <th></th>\n",
       "      <th></th>\n",
       "      <th></th>\n",
       "      <th></th>\n",
       "      <th></th>\n",
       "      <th></th>\n",
       "      <th></th>\n",
       "    </tr>\n",
       "  </thead>\n",
       "  <tbody>\n",
       "    <tr>\n",
       "      <th>1</th>\n",
       "      <td>bhiwadi</td>\n",
       "      <td>106.2</td>\n",
       "      <td>145.8</td>\n",
       "      <td>129.8</td>\n",
       "      <td>120.2</td>\n",
       "      <td>125.7</td>\n",
       "      <td>86.5</td>\n",
       "      <td>95.9</td>\n",
       "      <td>55.6</td>\n",
       "      <td>55.4</td>\n",
       "      <td>37.1</td>\n",
       "      <td>91.1</td>\n",
       "      <td>188.6</td>\n",
       "      <td>136.6</td>\n",
       "      <td>95.5</td>\n",
       "      <td>83.4</td>\n",
       "      <td>125.4</td>\n",
       "      <td>0.0</td>\n",
       "      <td>india</td>\n",
       "    </tr>\n",
       "    <tr>\n",
       "      <th>2</th>\n",
       "      <td>ghaziabad</td>\n",
       "      <td>102.0</td>\n",
       "      <td>199.9</td>\n",
       "      <td>172.2</td>\n",
       "      <td>97.8</td>\n",
       "      <td>86.3</td>\n",
       "      <td>52.9</td>\n",
       "      <td>47.2</td>\n",
       "      <td>35.3</td>\n",
       "      <td>37.6</td>\n",
       "      <td>30.8</td>\n",
       "      <td>89.7</td>\n",
       "      <td>218.3</td>\n",
       "      <td>163.0</td>\n",
       "      <td>106.6</td>\n",
       "      <td>110.2</td>\n",
       "      <td>135.2</td>\n",
       "      <td>144.6</td>\n",
       "      <td>india</td>\n",
       "    </tr>\n",
       "  </tbody>\n",
       "</table>\n",
       "</div>"
      ],
      "text/plain": [
       "           City   2021  JAN(2021)  FEB(2021)  MAR(2021)  APR(2021)  MAY(2021)  \\\n",
       "Rank                                                                            \n",
       "1       bhiwadi  106.2      145.8      129.8      120.2      125.7       86.5   \n",
       "2     ghaziabad  102.0      199.9      172.2       97.8       86.3       52.9   \n",
       "\n",
       "      JUN(2021)  JUL(2021)  AUG(2021)  SEP(2021)  OCT(2021)  NOV(2021)  \\\n",
       "Rank                                                                     \n",
       "1          95.9       55.6       55.4       37.1       91.1      188.6   \n",
       "2          47.2       35.3       37.6       30.8       89.7      218.3   \n",
       "\n",
       "      DEC(2021)   2020   2019   2018   2017 country  \n",
       "Rank                                                 \n",
       "1         136.6   95.5   83.4  125.4    0.0   india  \n",
       "2         163.0  106.6  110.2  135.2  144.6   india  "
      ]
     },
     "execution_count": 240,
     "metadata": {},
     "output_type": "execute_result"
    }
   ],
   "source": [
    "df_pcities.head(2)"
   ]
  },
  {
   "cell_type": "code",
   "execution_count": 241,
   "id": "03b1f17d",
   "metadata": {},
   "outputs": [],
   "source": [
    "df_pcities.to_csv('polluted_cities.csv')"
   ]
  }
 ],
 "metadata": {
  "kernelspec": {
   "display_name": "Bootcamp",
   "language": "python",
   "name": "bootcamp"
  },
  "language_info": {
   "codemirror_mode": {
    "name": "ipython",
    "version": 3
   },
   "file_extension": ".py",
   "mimetype": "text/x-python",
   "name": "python",
   "nbconvert_exporter": "python",
   "pygments_lexer": "ipython3",
   "version": "3.9.13"
  }
 },
 "nbformat": 4,
 "nbformat_minor": 5
}
