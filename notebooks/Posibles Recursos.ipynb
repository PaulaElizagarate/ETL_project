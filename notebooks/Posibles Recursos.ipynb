{
 "cells": [
  {
   "cell_type": "markdown",
   "id": "1c7a23c7",
   "metadata": {},
   "source": [
    "# Posibles Recursos"
   ]
  },
  {
   "cell_type": "code",
   "execution_count": null,
   "id": "0cb217f3",
   "metadata": {},
   "outputs": [],
   "source": [
    "def limpiar(col):\n",
    "\n",
    "    datos = {\"country\":[],\n",
    "            \"year\": [], \n",
    "            \"born\": [],\n",
    "            \"male_born\": [],\n",
    "            \"female_born\":[],\n",
    "            \"birth_rate\": [],\n",
    "            \"fertility_rate\":[],\n",
    "            \"variation\":[]}\n",
    "    \n",
    "    col= df_n17[0][0].split\n",
    "    \n",
    "    if len(col) == 9: \n",
    "        \n",
    "        datos[\"year\"].append(int(col[0]))\n",
    "        datos[\"born\"].append(int(col[2]))\n",
    "        datos[\"male_born\"].append(int(col[3]))\n",
    "        datos[\"female_born\"].append(int(col[4]))\n",
    "        datos[\"birth_rate\"].append(int(col[5]))\n",
    "        datos[\"fertility_rate\"].append(int(col[6]))\n",
    "        datos[\"fertility_rate\"].append(int(col[7]))\n",
    "    \n",
    "    elif len(col) ==8:\n",
    "        \n",
    "        datos[\"year\"].append(int(col[0]))\n",
    "        datos[\"born\"].append(int(col[2]))\n",
    "        datos[\"male_born\"].append(np.nan)\n",
    "        datos[\"female_born\"].append(np.nan)\n",
    "        datos[\"birth_rate\"].append(int(col[5]))\n",
    "        datos[\"fertility_rate\"].append(int(col[6]))\n",
    "        datos[\"fertility_rate\"].append(int(col[7]))   \n",
    "\n",
    "    elif len(col) ==7:\n",
    "        \n",
    "        datos[\"year\"].append(int(col[0]))\n",
    "        datos[\"born\"].append(np.nan)\n",
    "        datos[\"male_born\"].append(np.nan)\n",
    "        datos[\"female_born\"].append(np.nan)\n",
    "        datos[\"birth_rate\"].append(int(col[5]))\n",
    "        datos[\"fertility_rate\"].append(int(col[6]))\n",
    "        datos[\"fertility_rate\"].append(int(col[7]))\n",
    "    \n",
    "    return datos\n"
   ]
  },
  {
   "cell_type": "code",
   "execution_count": null,
   "id": "9931a389",
   "metadata": {},
   "outputs": [],
   "source": [
    "df[\"colcon%\"] = df[\"colcon%\"].str.replace(\"%\", \"\")"
   ]
  },
  {
   "cell_type": "code",
   "execution_count": null,
   "id": "7024ff3c",
   "metadata": {},
   "outputs": [],
   "source": [
    "#re-index para reorganizar columnas"
   ]
  },
  {
   "cell_type": "code",
   "execution_count": 24,
   "id": "88c8d0c1",
   "metadata": {
    "scrolled": true
   },
   "outputs": [],
   "source": [
    "#columnas= [nat2017[0][0]]\n",
    "#nat2017.columns= columnas"
   ]
  },
  {
   "cell_type": "code",
   "execution_count": 25,
   "id": "6a70dfc2",
   "metadata": {
    "scrolled": false
   },
   "outputs": [
    {
     "data": {
      "text/plain": [
       "['países fecha nacidos nacidos hombres nacidos mujeres tasa natalidad índice de fecund. var.']"
      ]
     },
     "execution_count": 25,
     "metadata": {},
     "output_type": "execute_result"
    }
   ],
   "source": [
    "#columnas=[i.lower() for i in columnas]\n",
    "#columnas"
   ]
  }
 ],
 "metadata": {
  "kernelspec": {
   "display_name": "Python 3",
   "language": "python",
   "name": "python3"
  },
  "language_info": {
   "codemirror_mode": {
    "name": "ipython",
    "version": 3
   },
   "file_extension": ".py",
   "mimetype": "text/x-python",
   "name": "python",
   "nbconvert_exporter": "python",
   "pygments_lexer": "ipython3",
   "version": "3.8.8"
  }
 },
 "nbformat": 4,
 "nbformat_minor": 5
}
