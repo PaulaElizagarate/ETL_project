{
 "cells": [
  {
   "cell_type": "markdown",
   "id": "d2eb1ad3",
   "metadata": {},
   "source": [
    "### *Cost of Living*  - Scrapeo  BeautifulSoup"
   ]
  },
  {
   "cell_type": "markdown",
   "id": "bab773ef",
   "metadata": {},
   "source": [
    "A continuación, vamos a scrapearnos con BeautifulSoup los datos de coste de vida del periodo comprendido entre 2017/2021: "
   ]
  },
  {
   "cell_type": "code",
   "execution_count": 2,
   "id": "12ff4a35",
   "metadata": {},
   "outputs": [],
   "source": [
    "import requests\n",
    "import re\n",
    "import pandas as pd\n",
    "import numpy as np\n",
    "from bs4 import BeautifulSoup"
   ]
  },
  {
   "cell_type": "markdown",
   "id": "ab220c0e",
   "metadata": {},
   "source": [
    "#### Año 2017 "
   ]
  },
  {
   "cell_type": "markdown",
   "id": "8026f9e8",
   "metadata": {},
   "source": [
    "Crearemos un diccionario donde iremos almacenando la información que screapeamos. Ya que los únicos datos que nos importa quedarnos son los del coste de vida genérico de cada país, a la hora de introducir la información en el diccionario, meteremos un `start stop step`. Esto podemos hacerlo gracias a que la información sigue una estructura fija. "
   ]
  },
  {
   "cell_type": "code",
   "execution_count": 94,
   "id": "5a6374dc",
   "metadata": {},
   "outputs": [],
   "source": [
    "cost_living_2017= {\"countries\":[], \n",
    "                   \"cost_living_index\": [], \n",
    "                        }"
   ]
  },
  {
   "cell_type": "code",
   "execution_count": 4,
   "id": "ce140ea1",
   "metadata": {},
   "outputs": [],
   "source": [
    "url17= \"https://www.numbeo.com/cost-of-living/rankings_by_country.jsp?title=2017\""
   ]
  },
  {
   "cell_type": "code",
   "execution_count": 5,
   "id": "26e3a7e5",
   "metadata": {},
   "outputs": [],
   "source": [
    "res17= requests.get(url17)"
   ]
  },
  {
   "cell_type": "code",
   "execution_count": 7,
   "id": "320f373e",
   "metadata": {
    "scrolled": false
   },
   "outputs": [],
   "source": [
    "sopa17 = BeautifulSoup(res17.content, 'html.parser') \n",
    "#sopa17"
   ]
  },
  {
   "cell_type": "code",
   "execution_count": 100,
   "id": "eab37013",
   "metadata": {},
   "outputs": [],
   "source": [
    "country17 = sopa17.find_all(\"td\", {\"class\": \"cityOrCountryInIndicesTable\"})\n",
    "#country17"
   ]
  },
  {
   "cell_type": "code",
   "execution_count": 101,
   "id": "1e80820c",
   "metadata": {},
   "outputs": [],
   "source": [
    "for i in country17: \n",
    "    cost_living_2017[\"countries\"].append(i.getText())"
   ]
  },
  {
   "cell_type": "code",
   "execution_count": 103,
   "id": "ae593b98",
   "metadata": {},
   "outputs": [],
   "source": [
    "#cost_living_2017[\"countries\"]"
   ]
  },
  {
   "cell_type": "code",
   "execution_count": 106,
   "id": "710c35aa",
   "metadata": {
    "scrolled": true
   },
   "outputs": [],
   "source": [
    "cli17 = sopa17.find_all(\"td\", {\"style\":\"text-align: right\"})\n",
    "#cli17"
   ]
  },
  {
   "cell_type": "code",
   "execution_count": 107,
   "id": "54a1f560",
   "metadata": {
    "scrolled": true
   },
   "outputs": [
    {
     "data": {
      "text/plain": [
       "726"
      ]
     },
     "execution_count": 107,
     "metadata": {},
     "output_type": "execute_result"
    }
   ],
   "source": [
    "len(cli17)"
   ]
  },
  {
   "cell_type": "code",
   "execution_count": 108,
   "id": "d9b78408",
   "metadata": {},
   "outputs": [],
   "source": [
    "for i in cli17[:726:6]: \n",
    "    cost_living_2017[\"cost_living_index\"].append(i.getText())"
   ]
  },
  {
   "cell_type": "code",
   "execution_count": 109,
   "id": "08ecc878",
   "metadata": {},
   "outputs": [
    {
     "data": {
      "text/html": [
       "<div>\n",
       "<style scoped>\n",
       "    .dataframe tbody tr th:only-of-type {\n",
       "        vertical-align: middle;\n",
       "    }\n",
       "\n",
       "    .dataframe tbody tr th {\n",
       "        vertical-align: top;\n",
       "    }\n",
       "\n",
       "    .dataframe thead th {\n",
       "        text-align: right;\n",
       "    }\n",
       "</style>\n",
       "<table border=\"1\" class=\"dataframe\">\n",
       "  <thead>\n",
       "    <tr style=\"text-align: right;\">\n",
       "      <th></th>\n",
       "      <th>countries</th>\n",
       "      <th>cost_living_index</th>\n",
       "    </tr>\n",
       "  </thead>\n",
       "  <tbody>\n",
       "    <tr>\n",
       "      <th>0</th>\n",
       "      <td>Bermuda</td>\n",
       "      <td>146.2</td>\n",
       "    </tr>\n",
       "    <tr>\n",
       "      <th>1</th>\n",
       "      <td>Switzerland</td>\n",
       "      <td>122.1</td>\n",
       "    </tr>\n",
       "    <tr>\n",
       "      <th>2</th>\n",
       "      <td>Iceland</td>\n",
       "      <td>111.7</td>\n",
       "    </tr>\n",
       "    <tr>\n",
       "      <th>3</th>\n",
       "      <td>Norway</td>\n",
       "      <td>106.3</td>\n",
       "    </tr>\n",
       "    <tr>\n",
       "      <th>4</th>\n",
       "      <td>Bahamas</td>\n",
       "      <td>104.0</td>\n",
       "    </tr>\n",
       "    <tr>\n",
       "      <th>...</th>\n",
       "      <td>...</td>\n",
       "      <td>...</td>\n",
       "    </tr>\n",
       "    <tr>\n",
       "      <th>116</th>\n",
       "      <td>Georgia</td>\n",
       "      <td>27.4</td>\n",
       "    </tr>\n",
       "    <tr>\n",
       "      <th>117</th>\n",
       "      <td>Pakistan</td>\n",
       "      <td>27.2</td>\n",
       "    </tr>\n",
       "    <tr>\n",
       "      <th>118</th>\n",
       "      <td>Ukraine</td>\n",
       "      <td>26.2</td>\n",
       "    </tr>\n",
       "    <tr>\n",
       "      <th>119</th>\n",
       "      <td>India</td>\n",
       "      <td>25.1</td>\n",
       "    </tr>\n",
       "    <tr>\n",
       "      <th>120</th>\n",
       "      <td>Egypt</td>\n",
       "      <td>22.4</td>\n",
       "    </tr>\n",
       "  </tbody>\n",
       "</table>\n",
       "<p>121 rows × 2 columns</p>\n",
       "</div>"
      ],
      "text/plain": [
       "       countries cost_living_index\n",
       "0        Bermuda             146.2\n",
       "1    Switzerland             122.1\n",
       "2        Iceland             111.7\n",
       "3         Norway             106.3\n",
       "4        Bahamas             104.0\n",
       "..           ...               ...\n",
       "116      Georgia              27.4\n",
       "117     Pakistan              27.2\n",
       "118      Ukraine              26.2\n",
       "119        India              25.1\n",
       "120        Egypt              22.4\n",
       "\n",
       "[121 rows x 2 columns]"
      ]
     },
     "execution_count": 109,
     "metadata": {},
     "output_type": "execute_result"
    }
   ],
   "source": [
    "costliving_2017= pd.DataFrame(cost_living_2017)\n",
    "costliving_2017"
   ]
  },
  {
   "cell_type": "code",
   "execution_count": 44,
   "id": "b73095ad",
   "metadata": {},
   "outputs": [],
   "source": [
    "costliving_2017.to_csv('costliving_2017.csv')"
   ]
  },
  {
   "cell_type": "markdown",
   "id": "bf6355c9",
   "metadata": {},
   "source": [
    "#### Año 2018 "
   ]
  },
  {
   "cell_type": "code",
   "execution_count": 111,
   "id": "a94094b4",
   "metadata": {},
   "outputs": [],
   "source": [
    "cost_living_2018= {\"countries\":[], \n",
    "                   \"cost_living_index\": [], \n",
    "                        }"
   ]
  },
  {
   "cell_type": "code",
   "execution_count": 112,
   "id": "8058bd22",
   "metadata": {},
   "outputs": [],
   "source": [
    "url18= \"https://www.numbeo.com/cost-of-living/rankings_by_country.jsp?title=2018\""
   ]
  },
  {
   "cell_type": "code",
   "execution_count": 113,
   "id": "7d0fb33c",
   "metadata": {},
   "outputs": [],
   "source": [
    "res18= requests.get(url18)"
   ]
  },
  {
   "cell_type": "code",
   "execution_count": 114,
   "id": "fca0106e",
   "metadata": {
    "scrolled": true
   },
   "outputs": [],
   "source": [
    "sopa18 = BeautifulSoup(res18.content, 'html.parser') \n",
    "#sopa18"
   ]
  },
  {
   "cell_type": "code",
   "execution_count": 117,
   "id": "c30c6ad8",
   "metadata": {},
   "outputs": [],
   "source": [
    "country18 = sopa18.find_all(\"td\", {\"class\": \"cityOrCountryInIndicesTable\"})\n",
    "#country18"
   ]
  },
  {
   "cell_type": "code",
   "execution_count": 118,
   "id": "6aac979d",
   "metadata": {},
   "outputs": [],
   "source": [
    "for i in country18: \n",
    "    cost_living_2018[\"countries\"].append(i.getText())"
   ]
  },
  {
   "cell_type": "code",
   "execution_count": 120,
   "id": "d3de917f",
   "metadata": {},
   "outputs": [],
   "source": [
    "#cost_living_2018[\"countries\"]"
   ]
  },
  {
   "cell_type": "code",
   "execution_count": 122,
   "id": "3f7ecc96",
   "metadata": {
    "scrolled": true
   },
   "outputs": [],
   "source": [
    "cli18 = sopa18.find_all(\"td\", {\"style\":\"text-align: right\"})\n",
    "#cli18"
   ]
  },
  {
   "cell_type": "code",
   "execution_count": 123,
   "id": "01843de3",
   "metadata": {
    "scrolled": false
   },
   "outputs": [
    {
     "data": {
      "text/plain": [
       "690"
      ]
     },
     "execution_count": 123,
     "metadata": {},
     "output_type": "execute_result"
    }
   ],
   "source": [
    "len(cli18)"
   ]
  },
  {
   "cell_type": "code",
   "execution_count": 124,
   "id": "c4dadd83",
   "metadata": {},
   "outputs": [],
   "source": [
    "for i in cli18[:690:6]: \n",
    "    cost_living_2018[\"cost_living_index\"].append(i.getText())"
   ]
  },
  {
   "cell_type": "code",
   "execution_count": 125,
   "id": "380f12d8",
   "metadata": {},
   "outputs": [
    {
     "data": {
      "text/html": [
       "<div>\n",
       "<style scoped>\n",
       "    .dataframe tbody tr th:only-of-type {\n",
       "        vertical-align: middle;\n",
       "    }\n",
       "\n",
       "    .dataframe tbody tr th {\n",
       "        vertical-align: top;\n",
       "    }\n",
       "\n",
       "    .dataframe thead th {\n",
       "        text-align: right;\n",
       "    }\n",
       "</style>\n",
       "<table border=\"1\" class=\"dataframe\">\n",
       "  <thead>\n",
       "    <tr style=\"text-align: right;\">\n",
       "      <th></th>\n",
       "      <th>countries</th>\n",
       "      <th>cost_living_index</th>\n",
       "    </tr>\n",
       "  </thead>\n",
       "  <tbody>\n",
       "    <tr>\n",
       "      <th>0</th>\n",
       "      <td>Bermuda</td>\n",
       "      <td>144.9</td>\n",
       "    </tr>\n",
       "    <tr>\n",
       "      <th>1</th>\n",
       "      <td>Switzerland</td>\n",
       "      <td>131.4</td>\n",
       "    </tr>\n",
       "    <tr>\n",
       "      <th>2</th>\n",
       "      <td>Iceland</td>\n",
       "      <td>124.0</td>\n",
       "    </tr>\n",
       "    <tr>\n",
       "      <th>3</th>\n",
       "      <td>Norway</td>\n",
       "      <td>113.7</td>\n",
       "    </tr>\n",
       "    <tr>\n",
       "      <th>4</th>\n",
       "      <td>Bahamas</td>\n",
       "      <td>100.7</td>\n",
       "    </tr>\n",
       "    <tr>\n",
       "      <th>...</th>\n",
       "      <td>...</td>\n",
       "      <td>...</td>\n",
       "    </tr>\n",
       "    <tr>\n",
       "      <th>110</th>\n",
       "      <td>Tunisia</td>\n",
       "      <td>27.7</td>\n",
       "    </tr>\n",
       "    <tr>\n",
       "      <th>111</th>\n",
       "      <td>India</td>\n",
       "      <td>26.9</td>\n",
       "    </tr>\n",
       "    <tr>\n",
       "      <th>112</th>\n",
       "      <td>Ukraine</td>\n",
       "      <td>26.0</td>\n",
       "    </tr>\n",
       "    <tr>\n",
       "      <th>113</th>\n",
       "      <td>Egypt</td>\n",
       "      <td>25.7</td>\n",
       "    </tr>\n",
       "    <tr>\n",
       "      <th>114</th>\n",
       "      <td>Pakistan</td>\n",
       "      <td>25.1</td>\n",
       "    </tr>\n",
       "  </tbody>\n",
       "</table>\n",
       "<p>115 rows × 2 columns</p>\n",
       "</div>"
      ],
      "text/plain": [
       "       countries cost_living_index\n",
       "0        Bermuda             144.9\n",
       "1    Switzerland             131.4\n",
       "2        Iceland             124.0\n",
       "3         Norway             113.7\n",
       "4        Bahamas             100.7\n",
       "..           ...               ...\n",
       "110      Tunisia              27.7\n",
       "111        India              26.9\n",
       "112      Ukraine              26.0\n",
       "113        Egypt              25.7\n",
       "114     Pakistan              25.1\n",
       "\n",
       "[115 rows x 2 columns]"
      ]
     },
     "execution_count": 125,
     "metadata": {},
     "output_type": "execute_result"
    }
   ],
   "source": [
    "costliving_2018= pd.DataFrame(cost_living_2018)\n",
    "costliving_2018"
   ]
  },
  {
   "cell_type": "code",
   "execution_count": 126,
   "id": "c206740b",
   "metadata": {},
   "outputs": [],
   "source": [
    "costliving_2018.to_csv('costliving_2018.csv')"
   ]
  },
  {
   "cell_type": "markdown",
   "id": "966ced22",
   "metadata": {},
   "source": [
    "#### Año 2019"
   ]
  },
  {
   "cell_type": "code",
   "execution_count": 127,
   "id": "7649baa5",
   "metadata": {},
   "outputs": [],
   "source": [
    "cost_living_2019= {\"countries\":[], \n",
    "                   \"cost_living_index\": [], \n",
    "                        }"
   ]
  },
  {
   "cell_type": "code",
   "execution_count": 128,
   "id": "2c45169e",
   "metadata": {},
   "outputs": [],
   "source": [
    "url19= \"https://www.numbeo.com/cost-of-living/rankings_by_country.jsp?title=2019\""
   ]
  },
  {
   "cell_type": "code",
   "execution_count": 129,
   "id": "083ffda1",
   "metadata": {},
   "outputs": [],
   "source": [
    "res19= requests.get(url19)"
   ]
  },
  {
   "cell_type": "code",
   "execution_count": 130,
   "id": "c02973e6",
   "metadata": {
    "scrolled": true
   },
   "outputs": [],
   "source": [
    "sopa19 = BeautifulSoup(res19.content, 'html.parser') \n",
    "#sopa19"
   ]
  },
  {
   "cell_type": "code",
   "execution_count": 133,
   "id": "29de989e",
   "metadata": {},
   "outputs": [],
   "source": [
    "country19 = sopa19.find_all(\"td\", {\"class\": \"cityOrCountryInIndicesTable\"})\n",
    "#country19"
   ]
  },
  {
   "cell_type": "code",
   "execution_count": 134,
   "id": "5c1a9c3f",
   "metadata": {},
   "outputs": [],
   "source": [
    "for i in country19: \n",
    "    cost_living_2019[\"countries\"].append(i.getText())"
   ]
  },
  {
   "cell_type": "code",
   "execution_count": 136,
   "id": "23e7395e",
   "metadata": {},
   "outputs": [],
   "source": [
    "#cost_living_2019[\"countries\"]"
   ]
  },
  {
   "cell_type": "code",
   "execution_count": 138,
   "id": "963edf75",
   "metadata": {
    "scrolled": true
   },
   "outputs": [],
   "source": [
    "cli19 = sopa19.find_all(\"td\", {\"style\":\"text-align: right\"})\n",
    "#cli19"
   ]
  },
  {
   "cell_type": "code",
   "execution_count": 139,
   "id": "34a29574",
   "metadata": {
    "scrolled": false
   },
   "outputs": [
    {
     "data": {
      "text/plain": [
       "714"
      ]
     },
     "execution_count": 139,
     "metadata": {},
     "output_type": "execute_result"
    }
   ],
   "source": [
    "len(cli19)"
   ]
  },
  {
   "cell_type": "code",
   "execution_count": 140,
   "id": "ca5caf74",
   "metadata": {},
   "outputs": [],
   "source": [
    "for i in cli19[:714:6]: \n",
    "    cost_living_2019[\"cost_living_index\"].append(i.getText())"
   ]
  },
  {
   "cell_type": "code",
   "execution_count": 141,
   "id": "8d536b30",
   "metadata": {},
   "outputs": [
    {
     "data": {
      "text/html": [
       "<div>\n",
       "<style scoped>\n",
       "    .dataframe tbody tr th:only-of-type {\n",
       "        vertical-align: middle;\n",
       "    }\n",
       "\n",
       "    .dataframe tbody tr th {\n",
       "        vertical-align: top;\n",
       "    }\n",
       "\n",
       "    .dataframe thead th {\n",
       "        text-align: right;\n",
       "    }\n",
       "</style>\n",
       "<table border=\"1\" class=\"dataframe\">\n",
       "  <thead>\n",
       "    <tr style=\"text-align: right;\">\n",
       "      <th></th>\n",
       "      <th>countries</th>\n",
       "      <th>cost_living_index</th>\n",
       "    </tr>\n",
       "  </thead>\n",
       "  <tbody>\n",
       "    <tr>\n",
       "      <th>0</th>\n",
       "      <td>Switzerland</td>\n",
       "      <td>121.2</td>\n",
       "    </tr>\n",
       "    <tr>\n",
       "      <th>1</th>\n",
       "      <td>Iceland</td>\n",
       "      <td>101.9</td>\n",
       "    </tr>\n",
       "    <tr>\n",
       "      <th>2</th>\n",
       "      <td>Norway</td>\n",
       "      <td>101.0</td>\n",
       "    </tr>\n",
       "    <tr>\n",
       "      <th>3</th>\n",
       "      <td>Bahamas</td>\n",
       "      <td>92.4</td>\n",
       "    </tr>\n",
       "    <tr>\n",
       "      <th>4</th>\n",
       "      <td>Luxembourg</td>\n",
       "      <td>86.1</td>\n",
       "    </tr>\n",
       "    <tr>\n",
       "      <th>...</th>\n",
       "      <td>...</td>\n",
       "      <td>...</td>\n",
       "    </tr>\n",
       "    <tr>\n",
       "      <th>114</th>\n",
       "      <td>Kosovo (Disputed Territory)</td>\n",
       "      <td>26.2</td>\n",
       "    </tr>\n",
       "    <tr>\n",
       "      <th>115</th>\n",
       "      <td>Venezuela</td>\n",
       "      <td>25.7</td>\n",
       "    </tr>\n",
       "    <tr>\n",
       "      <th>116</th>\n",
       "      <td>India</td>\n",
       "      <td>24.2</td>\n",
       "    </tr>\n",
       "    <tr>\n",
       "      <th>117</th>\n",
       "      <td>Tunisia</td>\n",
       "      <td>23.7</td>\n",
       "    </tr>\n",
       "    <tr>\n",
       "      <th>118</th>\n",
       "      <td>Pakistan</td>\n",
       "      <td>20.4</td>\n",
       "    </tr>\n",
       "  </tbody>\n",
       "</table>\n",
       "<p>119 rows × 2 columns</p>\n",
       "</div>"
      ],
      "text/plain": [
       "                       countries cost_living_index\n",
       "0                    Switzerland             121.2\n",
       "1                        Iceland             101.9\n",
       "2                         Norway             101.0\n",
       "3                        Bahamas              92.4\n",
       "4                     Luxembourg              86.1\n",
       "..                           ...               ...\n",
       "114  Kosovo (Disputed Territory)              26.2\n",
       "115                    Venezuela              25.7\n",
       "116                        India              24.2\n",
       "117                      Tunisia              23.7\n",
       "118                     Pakistan              20.4\n",
       "\n",
       "[119 rows x 2 columns]"
      ]
     },
     "execution_count": 141,
     "metadata": {},
     "output_type": "execute_result"
    }
   ],
   "source": [
    "costliving_2019= pd.DataFrame(cost_living_2019)\n",
    "costliving_2019"
   ]
  },
  {
   "cell_type": "code",
   "execution_count": 142,
   "id": "76172aa7",
   "metadata": {},
   "outputs": [],
   "source": [
    "costliving_2019.to_csv('costliving_2019.csv')"
   ]
  },
  {
   "cell_type": "markdown",
   "id": "ab411989",
   "metadata": {},
   "source": [
    "#### Año 2020"
   ]
  },
  {
   "cell_type": "code",
   "execution_count": 2,
   "id": "cf5bb553",
   "metadata": {},
   "outputs": [],
   "source": [
    "cost_living_2020= {\"countries\":[], \n",
    "                   \"cost_living_index\": [], \n",
    "                        }"
   ]
  },
  {
   "cell_type": "code",
   "execution_count": 3,
   "id": "00e57df7",
   "metadata": {},
   "outputs": [],
   "source": [
    "url20= \"https://www.numbeo.com/cost-of-living/rankings_by_country.jsp?title=2020\""
   ]
  },
  {
   "cell_type": "code",
   "execution_count": 6,
   "id": "4c1768fe",
   "metadata": {
    "scrolled": true
   },
   "outputs": [],
   "source": [
    "res20= requests.get(url20)"
   ]
  },
  {
   "cell_type": "code",
   "execution_count": null,
   "id": "d4a5d84e",
   "metadata": {},
   "outputs": [],
   "source": [
    "sopa20 = BeautifulSoup(res20.content, 'html.parser') \n",
    "#sopa20"
   ]
  },
  {
   "cell_type": "code",
   "execution_count": null,
   "id": "6e2b901f",
   "metadata": {},
   "outputs": [],
   "source": [
    "country20 = sopa20.find_all(\"td\", {\"class\": \"cityOrCountryInIndicesTable\"})\n",
    "#country20"
   ]
  },
  {
   "cell_type": "code",
   "execution_count": null,
   "id": "985e8e11",
   "metadata": {},
   "outputs": [],
   "source": [
    "for i in country20: \n",
    "    cost_living_2020[\"countries\"].append(i.getText())"
   ]
  },
  {
   "cell_type": "code",
   "execution_count": null,
   "id": "809a4fd1",
   "metadata": {},
   "outputs": [],
   "source": [
    "#cost_living_2020[\"countries\"]"
   ]
  },
  {
   "cell_type": "code",
   "execution_count": null,
   "id": "49a687ea",
   "metadata": {},
   "outputs": [],
   "source": [
    "cli20 = sopa20.find_all(\"td\", {\"style\":\"text-align: right\"})\n",
    "#cli20"
   ]
  },
  {
   "cell_type": "code",
   "execution_count": null,
   "id": "71bf2201",
   "metadata": {},
   "outputs": [],
   "source": [
    "len(cli20)"
   ]
  },
  {
   "cell_type": "code",
   "execution_count": null,
   "id": "ccb4c412",
   "metadata": {},
   "outputs": [],
   "source": [
    "for i in cli20[:792:6]: \n",
    "    cost_living_2020[\"cost_living_index\"].append(i.getText())"
   ]
  },
  {
   "cell_type": "code",
   "execution_count": null,
   "id": "14f2b544",
   "metadata": {},
   "outputs": [],
   "source": [
    "costliving_2020= pd.DataFrame(cost_living_2020)\n",
    "costliving_2020"
   ]
  },
  {
   "cell_type": "markdown",
   "id": "fc50911c",
   "metadata": {},
   "source": [
    "#### Año 2021 "
   ]
  },
  {
   "cell_type": "code",
   "execution_count": 7,
   "id": "35f6ece1",
   "metadata": {},
   "outputs": [],
   "source": [
    "cost_living_2021= {\"countries\":[], \n",
    "                   \"cost_living_index\": [], \n",
    "                        }"
   ]
  },
  {
   "cell_type": "code",
   "execution_count": 8,
   "id": "3aef67aa",
   "metadata": {},
   "outputs": [],
   "source": [
    "url21= \"https://www.numbeo.com/cost-of-living/rankings_by_country.jsp?title=2021\""
   ]
  },
  {
   "cell_type": "code",
   "execution_count": 9,
   "id": "74ae4442",
   "metadata": {},
   "outputs": [],
   "source": [
    "res21= requests.get(url21)"
   ]
  },
  {
   "cell_type": "code",
   "execution_count": 10,
   "id": "e65f65ac",
   "metadata": {},
   "outputs": [],
   "source": [
    "sopa21 = BeautifulSoup(res21.content, 'html.parser') \n",
    "#sopa21"
   ]
  },
  {
   "cell_type": "code",
   "execution_count": null,
   "id": "4f76213d",
   "metadata": {},
   "outputs": [],
   "source": [
    "country21 = sopa21.find_all(\"td\", {\"class\": \"cityOrCountryInIndicesTable\"})\n",
    "#country21"
   ]
  },
  {
   "cell_type": "code",
   "execution_count": null,
   "id": "09cf209a",
   "metadata": {},
   "outputs": [],
   "source": [
    "for i in country21: \n",
    "    cost_living_2021[\"countries\"].append(i.getText())"
   ]
  },
  {
   "cell_type": "code",
   "execution_count": null,
   "id": "bd5afdf9",
   "metadata": {},
   "outputs": [],
   "source": [
    "costliving_2021= pd.DataFrame(cost_living_2020)\n",
    "costliving_2021"
   ]
  }
 ],
 "metadata": {
  "kernelspec": {
   "display_name": "Python 3",
   "language": "python",
   "name": "python3"
  },
  "language_info": {
   "codemirror_mode": {
    "name": "ipython",
    "version": 3
   },
   "file_extension": ".py",
   "mimetype": "text/x-python",
   "name": "python",
   "nbconvert_exporter": "python",
   "pygments_lexer": "ipython3",
   "version": "3.8.8"
  }
 },
 "nbformat": 4,
 "nbformat_minor": 5
}
